{
 "cells": [
  {
   "cell_type": "markdown",
   "metadata": {},
   "source": [
    "- environment setup"
   ]
  },
  {
   "cell_type": "code",
   "execution_count": 1,
   "metadata": {},
   "outputs": [],
   "source": [
    "# ignore warnings\n",
    "import warnings\n",
    "warnings.filterwarnings(\"ignore\")\n",
    "# Wrangling\n",
    "import pandas as pd\n",
    "import numpy as np\n",
    "import sklearn\n",
    "from sklearn.model_selection import train_test_split\n",
    "from sklearn.preprocessing import StandardScaler, MinMaxScaler\n",
    "# Statistical Tests\n",
    "import scipy.stats as stats\n",
    "from scipy.stats import norm\n",
    "# Visualizing\n",
    "import matplotlib.pyplot as plt\n",
    "from matplotlib import cm\n",
    "import matplotlib.dates as dates\n",
    "import seaborn as sns\n",
    "from sklearn.model_selection import learning_curve\n",
    "import datetime\n",
    "pd.options.display.float_format = '{:20,.2f}'.format"
   ]
  },
  {
   "cell_type": "markdown",
   "metadata": {},
   "source": [
    "# Acquisition"
   ]
  },
  {
   "cell_type": "code",
   "execution_count": 2,
   "metadata": {},
   "outputs": [],
   "source": [
    "df = pd.read_csv('allservicecalls.csv')"
   ]
  },
  {
   "cell_type": "code",
   "execution_count": 3,
   "metadata": {},
   "outputs": [
    {
     "data": {
      "text/html": [
       "<div>\n",
       "<style scoped>\n",
       "    .dataframe tbody tr th:only-of-type {\n",
       "        vertical-align: middle;\n",
       "    }\n",
       "\n",
       "    .dataframe tbody tr th {\n",
       "        vertical-align: top;\n",
       "    }\n",
       "\n",
       "    .dataframe thead th {\n",
       "        text-align: right;\n",
       "    }\n",
       "</style>\n",
       "<table border=\"1\" class=\"dataframe\">\n",
       "  <thead>\n",
       "    <tr style=\"text-align: right;\">\n",
       "      <th></th>\n",
       "      <th>Category</th>\n",
       "      <th>CASEID</th>\n",
       "      <th>OPENEDDATETIME</th>\n",
       "      <th>SLA_Date</th>\n",
       "      <th>CLOSEDDATETIME</th>\n",
       "      <th>Late (Yes/No)</th>\n",
       "      <th>Dept</th>\n",
       "      <th>REASONNAME</th>\n",
       "      <th>TYPENAME</th>\n",
       "      <th>CaseStatus</th>\n",
       "      <th>SourceID</th>\n",
       "      <th>OBJECTDESC</th>\n",
       "      <th>Council District</th>\n",
       "      <th>XCOORD</th>\n",
       "      <th>YCOORD</th>\n",
       "      <th>Report Starting Date</th>\n",
       "      <th>Report Ending Date</th>\n",
       "    </tr>\n",
       "  </thead>\n",
       "  <tbody>\n",
       "    <tr>\n",
       "      <th>0</th>\n",
       "      <td>Graffiti</td>\n",
       "      <td>1010444245</td>\n",
       "      <td>2012-08-15T00:00:00</td>\n",
       "      <td>2012-08-30T00:00:00</td>\n",
       "      <td>NaN</td>\n",
       "      <td>YES</td>\n",
       "      <td>Code Enforcement Services</td>\n",
       "      <td>Graffiti</td>\n",
       "      <td>Graffiti Public Property</td>\n",
       "      <td>Open</td>\n",
       "      <td>Web Portal</td>\n",
       "      <td>600  NOGALITOS ST, San Antonio, 78204</td>\n",
       "      <td>5</td>\n",
       "      <td>2,125,683.00</td>\n",
       "      <td>13,695,548.00</td>\n",
       "      <td>2020-05-15T00:00:00</td>\n",
       "      <td>2021-05-15T00:00:00</td>\n",
       "    </tr>\n",
       "    <tr>\n",
       "      <th>1</th>\n",
       "      <td>Property Maintenance</td>\n",
       "      <td>1010888252</td>\n",
       "      <td>2013-06-06T00:00:00</td>\n",
       "      <td>2013-08-09T00:00:00</td>\n",
       "      <td>NaN</td>\n",
       "      <td>YES</td>\n",
       "      <td>Code Enforcement Services</td>\n",
       "      <td>Code Enforcement (IntExp)</td>\n",
       "      <td>Alley-Way Maintenance</td>\n",
       "      <td>Open</td>\n",
       "      <td>Web Portal</td>\n",
       "      <td>6043  CASTLE QUEEN, San Antonio, 78218</td>\n",
       "      <td>2</td>\n",
       "      <td>2,169,702.00</td>\n",
       "      <td>13,725,769.00</td>\n",
       "      <td>2020-05-15T00:00:00</td>\n",
       "      <td>2021-05-15T00:00:00</td>\n",
       "    </tr>\n",
       "    <tr>\n",
       "      <th>2</th>\n",
       "      <td>Property Maintenance</td>\n",
       "      <td>1010966128</td>\n",
       "      <td>2013-07-19T00:00:00</td>\n",
       "      <td>2013-09-23T00:00:00</td>\n",
       "      <td>NaN</td>\n",
       "      <td>YES</td>\n",
       "      <td>Code Enforcement Services</td>\n",
       "      <td>Code Enforcement (IntExp)</td>\n",
       "      <td>Junk Vehicle On Private Property</td>\n",
       "      <td>Open</td>\n",
       "      <td>Web Portal</td>\n",
       "      <td>842  KIRK PL, San Antonio, 78226</td>\n",
       "      <td>5</td>\n",
       "      <td>2,116,192.00</td>\n",
       "      <td>13,692,260.00</td>\n",
       "      <td>2020-05-15T00:00:00</td>\n",
       "      <td>2021-05-15T00:00:00</td>\n",
       "    </tr>\n",
       "    <tr>\n",
       "      <th>3</th>\n",
       "      <td>Property Maintenance</td>\n",
       "      <td>1011052825</td>\n",
       "      <td>2013-09-16T00:00:00</td>\n",
       "      <td>2013-09-30T00:00:00</td>\n",
       "      <td>NaN</td>\n",
       "      <td>YES</td>\n",
       "      <td>Code Enforcement Services</td>\n",
       "      <td>Code Enforcement</td>\n",
       "      <td>Right Of Way/Sidewalk Obstruction</td>\n",
       "      <td>Open</td>\n",
       "      <td>Internal Services Requests</td>\n",
       "      <td>54  KENROCK RIDGE, San Antonio, 78254</td>\n",
       "      <td>7</td>\n",
       "      <td>2,082,242.00</td>\n",
       "      <td>13,737,817.00</td>\n",
       "      <td>2020-05-15T00:00:00</td>\n",
       "      <td>2021-05-15T00:00:00</td>\n",
       "    </tr>\n",
       "    <tr>\n",
       "      <th>4</th>\n",
       "      <td>Property Maintenance</td>\n",
       "      <td>1011052826</td>\n",
       "      <td>2013-09-16T00:00:00</td>\n",
       "      <td>2013-09-30T00:00:00</td>\n",
       "      <td>NaN</td>\n",
       "      <td>YES</td>\n",
       "      <td>Code Enforcement Services</td>\n",
       "      <td>Code Enforcement</td>\n",
       "      <td>Right Of Way/Sidewalk Obstruction</td>\n",
       "      <td>Open</td>\n",
       "      <td>Internal Services Requests</td>\n",
       "      <td>74  KENROCK RIDGE, San Antonio, 78254</td>\n",
       "      <td>7</td>\n",
       "      <td>2,082,389.00</td>\n",
       "      <td>13,737,877.00</td>\n",
       "      <td>2020-05-15T00:00:00</td>\n",
       "      <td>2021-05-15T00:00:00</td>\n",
       "    </tr>\n",
       "  </tbody>\n",
       "</table>\n",
       "</div>"
      ],
      "text/plain": [
       "               Category      CASEID       OPENEDDATETIME             SLA_Date  \\\n",
       "0              Graffiti  1010444245  2012-08-15T00:00:00  2012-08-30T00:00:00   \n",
       "1  Property Maintenance  1010888252  2013-06-06T00:00:00  2013-08-09T00:00:00   \n",
       "2  Property Maintenance  1010966128  2013-07-19T00:00:00  2013-09-23T00:00:00   \n",
       "3  Property Maintenance  1011052825  2013-09-16T00:00:00  2013-09-30T00:00:00   \n",
       "4  Property Maintenance  1011052826  2013-09-16T00:00:00  2013-09-30T00:00:00   \n",
       "\n",
       "  CLOSEDDATETIME Late (Yes/No)                       Dept  \\\n",
       "0            NaN           YES  Code Enforcement Services   \n",
       "1            NaN           YES  Code Enforcement Services   \n",
       "2            NaN           YES  Code Enforcement Services   \n",
       "3            NaN           YES  Code Enforcement Services   \n",
       "4            NaN           YES  Code Enforcement Services   \n",
       "\n",
       "                  REASONNAME                           TYPENAME CaseStatus  \\\n",
       "0                   Graffiti           Graffiti Public Property       Open   \n",
       "1  Code Enforcement (IntExp)              Alley-Way Maintenance       Open   \n",
       "2  Code Enforcement (IntExp)   Junk Vehicle On Private Property       Open   \n",
       "3           Code Enforcement  Right Of Way/Sidewalk Obstruction       Open   \n",
       "4           Code Enforcement  Right Of Way/Sidewalk Obstruction       Open   \n",
       "\n",
       "                     SourceID                              OBJECTDESC  \\\n",
       "0                  Web Portal   600  NOGALITOS ST, San Antonio, 78204   \n",
       "1                  Web Portal  6043  CASTLE QUEEN, San Antonio, 78218   \n",
       "2                  Web Portal        842  KIRK PL, San Antonio, 78226   \n",
       "3  Internal Services Requests   54  KENROCK RIDGE, San Antonio, 78254   \n",
       "4  Internal Services Requests   74  KENROCK RIDGE, San Antonio, 78254   \n",
       "\n",
       "   Council District               XCOORD               YCOORD  \\\n",
       "0                 5         2,125,683.00        13,695,548.00   \n",
       "1                 2         2,169,702.00        13,725,769.00   \n",
       "2                 5         2,116,192.00        13,692,260.00   \n",
       "3                 7         2,082,242.00        13,737,817.00   \n",
       "4                 7         2,082,389.00        13,737,877.00   \n",
       "\n",
       "  Report Starting Date   Report Ending Date  \n",
       "0  2020-05-15T00:00:00  2021-05-15T00:00:00  \n",
       "1  2020-05-15T00:00:00  2021-05-15T00:00:00  \n",
       "2  2020-05-15T00:00:00  2021-05-15T00:00:00  \n",
       "3  2020-05-15T00:00:00  2021-05-15T00:00:00  \n",
       "4  2020-05-15T00:00:00  2021-05-15T00:00:00  "
      ]
     },
     "execution_count": 3,
     "metadata": {},
     "output_type": "execute_result"
    }
   ],
   "source": [
    "df.head()"
   ]
  },
  {
   "cell_type": "code",
   "execution_count": 4,
   "metadata": {},
   "outputs": [
    {
     "data": {
      "text/plain": [
       "(495440, 17)"
      ]
     },
     "execution_count": 4,
     "metadata": {},
     "output_type": "execute_result"
    }
   ],
   "source": [
    "df.shape"
   ]
  },
  {
   "cell_type": "code",
   "execution_count": 5,
   "metadata": {},
   "outputs": [
    {
     "name": "stdout",
     "output_type": "stream",
     "text": [
      "<class 'pandas.core.frame.DataFrame'>\n",
      "RangeIndex: 495440 entries, 0 to 495439\n",
      "Data columns (total 17 columns):\n",
      " #   Column                Non-Null Count   Dtype  \n",
      "---  ------                --------------   -----  \n",
      " 0   Category              495440 non-null  object \n",
      " 1   CASEID                495440 non-null  int64  \n",
      " 2   OPENEDDATETIME        495440 non-null  object \n",
      " 3   SLA_Date              481300 non-null  object \n",
      " 4   CLOSEDDATETIME        441387 non-null  object \n",
      " 5   Late (Yes/No)         495440 non-null  object \n",
      " 6   Dept                  445141 non-null  object \n",
      " 7   REASONNAME            495440 non-null  object \n",
      " 8   TYPENAME              495440 non-null  object \n",
      " 9   CaseStatus            495440 non-null  object \n",
      " 10  SourceID              495440 non-null  object \n",
      " 11  OBJECTDESC            495440 non-null  object \n",
      " 12  Council District      495440 non-null  int64  \n",
      " 13  XCOORD                495345 non-null  float64\n",
      " 14  YCOORD                495345 non-null  float64\n",
      " 15  Report Starting Date  495440 non-null  object \n",
      " 16  Report Ending Date    495440 non-null  object \n",
      "dtypes: float64(2), int64(2), object(13)\n",
      "memory usage: 64.3+ MB\n"
     ]
    }
   ],
   "source": [
    "df.info()"
   ]
  },
  {
   "cell_type": "markdown",
   "metadata": {},
   "source": [
    "- OPENEDDATETIME, SLA_Date, CLOSEDDATETIME should be date time objects\n",
    "\n",
    "- Late and CaseStatus could possibly by booleans\n",
    "\n",
    "- dummy variables for other descrete variables?"
   ]
  },
  {
   "cell_type": "code",
   "execution_count": 6,
   "metadata": {},
   "outputs": [
    {
     "data": {
      "text/html": [
       "<div>\n",
       "<style scoped>\n",
       "    .dataframe tbody tr th:only-of-type {\n",
       "        vertical-align: middle;\n",
       "    }\n",
       "\n",
       "    .dataframe tbody tr th {\n",
       "        vertical-align: top;\n",
       "    }\n",
       "\n",
       "    .dataframe thead th {\n",
       "        text-align: right;\n",
       "    }\n",
       "</style>\n",
       "<table border=\"1\" class=\"dataframe\">\n",
       "  <thead>\n",
       "    <tr style=\"text-align: right;\">\n",
       "      <th></th>\n",
       "      <th>CASEID</th>\n",
       "      <th>Council District</th>\n",
       "      <th>XCOORD</th>\n",
       "      <th>YCOORD</th>\n",
       "    </tr>\n",
       "  </thead>\n",
       "  <tbody>\n",
       "    <tr>\n",
       "      <th>count</th>\n",
       "      <td>495,440.00</td>\n",
       "      <td>495,440.00</td>\n",
       "      <td>495,345.00</td>\n",
       "      <td>495,345.00</td>\n",
       "    </tr>\n",
       "    <tr>\n",
       "      <th>mean</th>\n",
       "      <td>1,016,457,019.17</td>\n",
       "      <td>4.76</td>\n",
       "      <td>2,120,970.86</td>\n",
       "      <td>13,712,706.11</td>\n",
       "    </tr>\n",
       "    <tr>\n",
       "      <th>std</th>\n",
       "      <td>383,671.69</td>\n",
       "      <td>2.81</td>\n",
       "      <td>26,661.02</td>\n",
       "      <td>27,159.70</td>\n",
       "    </tr>\n",
       "    <tr>\n",
       "      <th>min</th>\n",
       "      <td>1,010,444,245.00</td>\n",
       "      <td>0.00</td>\n",
       "      <td>2,029,622.00</td>\n",
       "      <td>13,594,639.00</td>\n",
       "    </tr>\n",
       "    <tr>\n",
       "      <th>25%</th>\n",
       "      <td>1,016,290,069.75</td>\n",
       "      <td>2.00</td>\n",
       "      <td>2,104,087.00</td>\n",
       "      <td>13,693,423.00</td>\n",
       "    </tr>\n",
       "    <tr>\n",
       "      <th>50%</th>\n",
       "      <td>1,016,461,548.50</td>\n",
       "      <td>5.00</td>\n",
       "      <td>2,121,784.00</td>\n",
       "      <td>13,708,935.00</td>\n",
       "    </tr>\n",
       "    <tr>\n",
       "      <th>75%</th>\n",
       "      <td>1,016,690,961.25</td>\n",
       "      <td>7.00</td>\n",
       "      <td>2,139,919.00</td>\n",
       "      <td>13,731,106.00</td>\n",
       "    </tr>\n",
       "    <tr>\n",
       "      <th>max</th>\n",
       "      <td>1,016,870,506.00</td>\n",
       "      <td>10.00</td>\n",
       "      <td>2,235,998.00</td>\n",
       "      <td>13,816,361.00</td>\n",
       "    </tr>\n",
       "  </tbody>\n",
       "</table>\n",
       "</div>"
      ],
      "text/plain": [
       "                    CASEID     Council District               XCOORD  \\\n",
       "count           495,440.00           495,440.00           495,345.00   \n",
       "mean      1,016,457,019.17                 4.76         2,120,970.86   \n",
       "std             383,671.69                 2.81            26,661.02   \n",
       "min       1,010,444,245.00                 0.00         2,029,622.00   \n",
       "25%       1,016,290,069.75                 2.00         2,104,087.00   \n",
       "50%       1,016,461,548.50                 5.00         2,121,784.00   \n",
       "75%       1,016,690,961.25                 7.00         2,139,919.00   \n",
       "max       1,016,870,506.00                10.00         2,235,998.00   \n",
       "\n",
       "                    YCOORD  \n",
       "count           495,345.00  \n",
       "mean         13,712,706.11  \n",
       "std              27,159.70  \n",
       "min          13,594,639.00  \n",
       "25%          13,693,423.00  \n",
       "50%          13,708,935.00  \n",
       "75%          13,731,106.00  \n",
       "max          13,816,361.00  "
      ]
     },
     "execution_count": 6,
     "metadata": {},
     "output_type": "execute_result"
    }
   ],
   "source": [
    "df.describe()"
   ]
  },
  {
   "cell_type": "code",
   "execution_count": 7,
   "metadata": {},
   "outputs": [
    {
     "data": {
      "text/plain": [
       "Category                    0\n",
       "CASEID                      0\n",
       "OPENEDDATETIME              0\n",
       "SLA_Date                14140\n",
       "CLOSEDDATETIME          54053\n",
       "Late (Yes/No)               0\n",
       "Dept                    50299\n",
       "REASONNAME                  0\n",
       "TYPENAME                    0\n",
       "CaseStatus                  0\n",
       "SourceID                    0\n",
       "OBJECTDESC                  0\n",
       "Council District            0\n",
       "XCOORD                     95\n",
       "YCOORD                     95\n",
       "Report Starting Date        0\n",
       "Report Ending Date          0\n",
       "dtype: int64"
      ]
     },
     "execution_count": 7,
     "metadata": {},
     "output_type": "execute_result"
    }
   ],
   "source": [
    "df.isnull().sum()"
   ]
  },
  {
   "cell_type": "markdown",
   "metadata": {},
   "source": [
    "- quite a few missing in SLA_Date, CLOSEDDATETIME, and Dept"
   ]
  },
  {
   "cell_type": "code",
   "execution_count": 8,
   "metadata": {},
   "outputs": [],
   "source": [
    "null_SLA_Date = df[df['SLA_Date'].isnull()]"
   ]
  },
  {
   "cell_type": "code",
   "execution_count": 9,
   "metadata": {},
   "outputs": [
    {
     "data": {
      "text/html": [
       "<div>\n",
       "<style scoped>\n",
       "    .dataframe tbody tr th:only-of-type {\n",
       "        vertical-align: middle;\n",
       "    }\n",
       "\n",
       "    .dataframe tbody tr th {\n",
       "        vertical-align: top;\n",
       "    }\n",
       "\n",
       "    .dataframe thead th {\n",
       "        text-align: right;\n",
       "    }\n",
       "</style>\n",
       "<table border=\"1\" class=\"dataframe\">\n",
       "  <thead>\n",
       "    <tr style=\"text-align: right;\">\n",
       "      <th></th>\n",
       "      <th>Category</th>\n",
       "      <th>CASEID</th>\n",
       "      <th>OPENEDDATETIME</th>\n",
       "      <th>SLA_Date</th>\n",
       "      <th>CLOSEDDATETIME</th>\n",
       "      <th>Late (Yes/No)</th>\n",
       "      <th>Dept</th>\n",
       "      <th>REASONNAME</th>\n",
       "      <th>TYPENAME</th>\n",
       "      <th>CaseStatus</th>\n",
       "      <th>SourceID</th>\n",
       "      <th>OBJECTDESC</th>\n",
       "      <th>Council District</th>\n",
       "      <th>XCOORD</th>\n",
       "      <th>YCOORD</th>\n",
       "      <th>Report Starting Date</th>\n",
       "      <th>Report Ending Date</th>\n",
       "    </tr>\n",
       "  </thead>\n",
       "  <tbody>\n",
       "    <tr>\n",
       "      <th>3747</th>\n",
       "      <td>Information</td>\n",
       "      <td>1014795284</td>\n",
       "      <td>2018-08-18T00:00:00</td>\n",
       "      <td>NaN</td>\n",
       "      <td>NaN</td>\n",
       "      <td>NO</td>\n",
       "      <td>City Council</td>\n",
       "      <td>District 2</td>\n",
       "      <td>Request for Research/Information</td>\n",
       "      <td>Open</td>\n",
       "      <td>Constituent Call</td>\n",
       "      <td>100  MAY, San Antonio, 78202</td>\n",
       "      <td>2</td>\n",
       "      <td>2,137,325.00</td>\n",
       "      <td>13,702,167.00</td>\n",
       "      <td>2020-05-15T00:00:00</td>\n",
       "      <td>2021-05-15T00:00:00</td>\n",
       "    </tr>\n",
       "    <tr>\n",
       "      <th>11020</th>\n",
       "      <td>No Category</td>\n",
       "      <td>1015979271</td>\n",
       "      <td>2019-12-16T00:00:00</td>\n",
       "      <td>NaN</td>\n",
       "      <td>2020-08-05T00:00:00</td>\n",
       "      <td>NO</td>\n",
       "      <td>Development Services</td>\n",
       "      <td>Code Enforcement</td>\n",
       "      <td>Dangerous Assessment Response Team Investigation</td>\n",
       "      <td>Closed</td>\n",
       "      <td>311 Mobile App</td>\n",
       "      <td>306 KOEHLER COURT, SAN ANTONIO, 78223</td>\n",
       "      <td>3</td>\n",
       "      <td>2,139,573.00</td>\n",
       "      <td>13,681,025.00</td>\n",
       "      <td>2020-05-15T00:00:00</td>\n",
       "      <td>2021-05-15T00:00:00</td>\n",
       "    </tr>\n",
       "    <tr>\n",
       "      <th>13084</th>\n",
       "      <td>No Category</td>\n",
       "      <td>1016000957</td>\n",
       "      <td>2020-01-06T00:00:00</td>\n",
       "      <td>NaN</td>\n",
       "      <td>2021-04-02T00:00:00</td>\n",
       "      <td>NO</td>\n",
       "      <td>Development Services</td>\n",
       "      <td>Code Enforcement</td>\n",
       "      <td>DP Warrant Assessment</td>\n",
       "      <td>Closed</td>\n",
       "      <td>311 Mobile App</td>\n",
       "      <td>416 DEWITT ST, SAN ANTONIO, 78204</td>\n",
       "      <td>5</td>\n",
       "      <td>2,125,753.00</td>\n",
       "      <td>13,691,306.00</td>\n",
       "      <td>2020-05-15T00:00:00</td>\n",
       "      <td>2021-05-15T00:00:00</td>\n",
       "    </tr>\n",
       "    <tr>\n",
       "      <th>13739</th>\n",
       "      <td>No Category</td>\n",
       "      <td>1016013025</td>\n",
       "      <td>2020-01-14T00:00:00</td>\n",
       "      <td>NaN</td>\n",
       "      <td>NaN</td>\n",
       "      <td>NO</td>\n",
       "      <td>Development Services</td>\n",
       "      <td>Code Enforcement</td>\n",
       "      <td>Dangerous Assessment Response Team Investigation</td>\n",
       "      <td>Open</td>\n",
       "      <td>311 Mobile App</td>\n",
       "      <td>7526 BARRYHILL, SAN ANTONIO, 78238</td>\n",
       "      <td>7</td>\n",
       "      <td>2,084,277.00</td>\n",
       "      <td>13,728,306.00</td>\n",
       "      <td>2020-05-15T00:00:00</td>\n",
       "      <td>2021-05-15T00:00:00</td>\n",
       "    </tr>\n",
       "    <tr>\n",
       "      <th>13830</th>\n",
       "      <td>No Category</td>\n",
       "      <td>1016014442</td>\n",
       "      <td>2020-01-15T00:00:00</td>\n",
       "      <td>NaN</td>\n",
       "      <td>NaN</td>\n",
       "      <td>NO</td>\n",
       "      <td>Development Services</td>\n",
       "      <td>Code Enforcement</td>\n",
       "      <td>Dangerous Assessment Response Team Investigation</td>\n",
       "      <td>Open</td>\n",
       "      <td>311 Mobile App</td>\n",
       "      <td>306 CHIPINQUE, SAN ANTONIO, 78237</td>\n",
       "      <td>5</td>\n",
       "      <td>2,110,975.00</td>\n",
       "      <td>13,697,399.00</td>\n",
       "      <td>2020-05-15T00:00:00</td>\n",
       "      <td>2021-05-15T00:00:00</td>\n",
       "    </tr>\n",
       "  </tbody>\n",
       "</table>\n",
       "</div>"
      ],
      "text/plain": [
       "          Category      CASEID       OPENEDDATETIME SLA_Date  \\\n",
       "3747   Information  1014795284  2018-08-18T00:00:00      NaN   \n",
       "11020  No Category  1015979271  2019-12-16T00:00:00      NaN   \n",
       "13084  No Category  1016000957  2020-01-06T00:00:00      NaN   \n",
       "13739  No Category  1016013025  2020-01-14T00:00:00      NaN   \n",
       "13830  No Category  1016014442  2020-01-15T00:00:00      NaN   \n",
       "\n",
       "            CLOSEDDATETIME Late (Yes/No)                  Dept  \\\n",
       "3747                   NaN            NO          City Council   \n",
       "11020  2020-08-05T00:00:00            NO  Development Services   \n",
       "13084  2021-04-02T00:00:00            NO  Development Services   \n",
       "13739                  NaN            NO  Development Services   \n",
       "13830                  NaN            NO  Development Services   \n",
       "\n",
       "             REASONNAME                                          TYPENAME  \\\n",
       "3747         District 2                  Request for Research/Information   \n",
       "11020  Code Enforcement  Dangerous Assessment Response Team Investigation   \n",
       "13084  Code Enforcement                             DP Warrant Assessment   \n",
       "13739  Code Enforcement  Dangerous Assessment Response Team Investigation   \n",
       "13830  Code Enforcement  Dangerous Assessment Response Team Investigation   \n",
       "\n",
       "      CaseStatus          SourceID                              OBJECTDESC  \\\n",
       "3747        Open  Constituent Call            100  MAY, San Antonio, 78202   \n",
       "11020     Closed    311 Mobile App   306 KOEHLER COURT, SAN ANTONIO, 78223   \n",
       "13084     Closed    311 Mobile App       416 DEWITT ST, SAN ANTONIO, 78204   \n",
       "13739       Open    311 Mobile App      7526 BARRYHILL, SAN ANTONIO, 78238   \n",
       "13830       Open    311 Mobile App       306 CHIPINQUE, SAN ANTONIO, 78237   \n",
       "\n",
       "       Council District               XCOORD               YCOORD  \\\n",
       "3747                  2         2,137,325.00        13,702,167.00   \n",
       "11020                 3         2,139,573.00        13,681,025.00   \n",
       "13084                 5         2,125,753.00        13,691,306.00   \n",
       "13739                 7         2,084,277.00        13,728,306.00   \n",
       "13830                 5         2,110,975.00        13,697,399.00   \n",
       "\n",
       "      Report Starting Date   Report Ending Date  \n",
       "3747   2020-05-15T00:00:00  2021-05-15T00:00:00  \n",
       "11020  2020-05-15T00:00:00  2021-05-15T00:00:00  \n",
       "13084  2020-05-15T00:00:00  2021-05-15T00:00:00  \n",
       "13739  2020-05-15T00:00:00  2021-05-15T00:00:00  \n",
       "13830  2020-05-15T00:00:00  2021-05-15T00:00:00  "
      ]
     },
     "execution_count": 9,
     "metadata": {},
     "output_type": "execute_result"
    }
   ],
   "source": [
    "null_SLA_Date.head()"
   ]
  },
  {
   "cell_type": "code",
   "execution_count": 10,
   "metadata": {},
   "outputs": [
    {
     "data": {
      "text/plain": [
       "Category                    0\n",
       "CASEID                      0\n",
       "OPENEDDATETIME              0\n",
       "SLA_Date                14140\n",
       "CLOSEDDATETIME           4540\n",
       "Late (Yes/No)               0\n",
       "Dept                    11356\n",
       "REASONNAME                  0\n",
       "TYPENAME                    0\n",
       "CaseStatus                  0\n",
       "SourceID                    0\n",
       "OBJECTDESC                  0\n",
       "Council District            0\n",
       "XCOORD                      0\n",
       "YCOORD                      0\n",
       "Report Starting Date        0\n",
       "Report Ending Date          0\n",
       "dtype: int64"
      ]
     },
     "execution_count": 10,
     "metadata": {},
     "output_type": "execute_result"
    }
   ],
   "source": [
    "null_SLA_Date.isnull().sum()"
   ]
  },
  {
   "cell_type": "code",
   "execution_count": 11,
   "metadata": {},
   "outputs": [
    {
     "data": {
      "text/plain": [
       "No Category    14139\n",
       "Information        1\n",
       "Name: Category, dtype: int64"
      ]
     },
     "execution_count": 11,
     "metadata": {},
     "output_type": "execute_result"
    }
   ],
   "source": [
    "null_SLA_Date.Category.value_counts()"
   ]
  },
  {
   "cell_type": "code",
   "execution_count": 12,
   "metadata": {},
   "outputs": [
    {
     "data": {
      "text/plain": [
       "Web Portal          11356\n",
       "311 Mobile App       2783\n",
       "Constituent Call        1\n",
       "Name: SourceID, dtype: int64"
      ]
     },
     "execution_count": 12,
     "metadata": {},
     "output_type": "execute_result"
    }
   ],
   "source": [
    "null_SLA_Date.SourceID.value_counts()"
   ]
  },
  {
   "cell_type": "code",
   "execution_count": 13,
   "metadata": {},
   "outputs": [
    {
     "data": {
      "text/plain": [
       "Small Business           6106\n",
       "Workforce Development    5250\n",
       "Code Enforcement         2783\n",
       "District 2                  1\n",
       "Name: REASONNAME, dtype: int64"
      ]
     },
     "execution_count": 13,
     "metadata": {},
     "output_type": "execute_result"
    }
   ],
   "source": [
    "null_SLA_Date.REASONNAME.value_counts()"
   ]
  },
  {
   "cell_type": "code",
   "execution_count": 14,
   "metadata": {},
   "outputs": [
    {
     "data": {
      "text/plain": [
       "NO    14140\n",
       "Name: Late (Yes/No), dtype: int64"
      ]
     },
     "execution_count": 14,
     "metadata": {},
     "output_type": "execute_result"
    }
   ],
   "source": [
    "null_SLA_Date['Late (Yes/No)'].value_counts()"
   ]
  },
  {
   "cell_type": "code",
   "execution_count": 15,
   "metadata": {},
   "outputs": [
    {
     "data": {
      "text/plain": [
       "Development Services    2783\n",
       "City Council               1\n",
       "Name: Dept, dtype: int64"
      ]
     },
     "execution_count": 15,
     "metadata": {},
     "output_type": "execute_result"
    }
   ],
   "source": [
    "null_SLA_Date.Dept.value_counts()"
   ]
  },
  {
   "cell_type": "code",
   "execution_count": 16,
   "metadata": {},
   "outputs": [
    {
     "data": {
      "text/plain": [
       "Closed    9600\n",
       "Open      4540\n",
       "Name: CaseStatus, dtype: int64"
      ]
     },
     "execution_count": 16,
     "metadata": {},
     "output_type": "execute_result"
    }
   ],
   "source": [
    "null_SLA_Date.CaseStatus.value_counts()"
   ]
  },
  {
   "cell_type": "code",
   "execution_count": 17,
   "metadata": {},
   "outputs": [
    {
     "data": {
      "text/plain": [
       "1     2343\n",
       "2     1605\n",
       "8     1408\n",
       "3     1379\n",
       "7     1294\n",
       "5     1288\n",
       "9     1234\n",
       "6     1181\n",
       "10    1144\n",
       "4     1111\n",
       "0      153\n",
       "Name: Council District, dtype: int64"
      ]
     },
     "execution_count": 17,
     "metadata": {},
     "output_type": "execute_result"
    }
   ],
   "source": [
    "null_SLA_Date['Council District'].value_counts()"
   ]
  },
  {
   "cell_type": "code",
   "execution_count": 18,
   "metadata": {},
   "outputs": [
    {
     "data": {
      "text/plain": [
       "Market Square,  514 W COMMERCE ST, SAN ANTONIO, 78207    47\n",
       " 910 SE MILITARY DR, SAN ANTONIO, 78214                  24\n",
       " 10919 CULEBRA RD, SAN ANTONIO, 78253                    21\n",
       "612  W COMMERCE ST, SAN ANTONIO                          20\n",
       " 999 E BASSE RD, SAN ANTONIO, 78209                      18\n",
       "                                                         ..\n",
       " 3318 SE MILITARY DR, SAN ANTONIO, 78223                  1\n",
       "BRENDELL ST and LARK                                      1\n",
       " 8319 SETTING MOON, SAN ANTONIO, 78255                    1\n",
       " 8112 TEZEL RD, SAN ANTONIO, 78250                        1\n",
       " 7015 HEATHERS POND, SAN ANTONIO, 78227                   1\n",
       "Name: OBJECTDESC, Length: 10671, dtype: int64"
      ]
     },
     "execution_count": 18,
     "metadata": {},
     "output_type": "execute_result"
    }
   ],
   "source": [
    "null_SLA_Date['OBJECTDESC'].value_counts()"
   ]
  },
  {
   "cell_type": "markdown",
   "metadata": {},
   "source": [
    "- almost all null_SLA_Date observations are missing dept\n",
    "    - those that do, all but 1 say developmental services\n",
    "\n",
    "\n",
    "- all but 1 have no category\n",
    "\n",
    "- none are listed as late\n",
    "\n",
    "- only about 1/3rd are still open\n",
    "\n",
    "- possibly cases that have not been assigned? Maybe a case was never created?\n"
   ]
  },
  {
   "cell_type": "code",
   "execution_count": 19,
   "metadata": {},
   "outputs": [
    {
     "data": {
      "text/plain": [
       "['Category',\n",
       " 'CASEID',\n",
       " 'OPENEDDATETIME',\n",
       " 'SLA_Date',\n",
       " 'CLOSEDDATETIME',\n",
       " 'Late (Yes/No)',\n",
       " 'Dept',\n",
       " 'REASONNAME',\n",
       " 'TYPENAME',\n",
       " 'CaseStatus',\n",
       " 'SourceID',\n",
       " 'OBJECTDESC',\n",
       " 'Council District',\n",
       " 'XCOORD',\n",
       " 'YCOORD',\n",
       " 'Report Starting Date',\n",
       " 'Report Ending Date']"
      ]
     },
     "execution_count": 19,
     "metadata": {},
     "output_type": "execute_result"
    }
   ],
   "source": [
    "list(df.columns)"
   ]
  },
  {
   "cell_type": "code",
   "execution_count": 20,
   "metadata": {},
   "outputs": [
    {
     "data": {
      "text/plain": [
       "No Category                  415187\n",
       "Solid Waste Services          63005\n",
       "Property Maintenance           5212\n",
       "Animals                        4754\n",
       "Information                    4197\n",
       "Scooters                       1008\n",
       "Graffiti                        820\n",
       "Parks                           496\n",
       "Traffic Signals and Signs       438\n",
       "Streets & Infrastructure        315\n",
       "Historic Preservation             8\n",
       "Name: Category, dtype: int64"
      ]
     },
     "execution_count": 20,
     "metadata": {},
     "output_type": "execute_result"
    }
   ],
   "source": [
    "df.Category.value_counts()"
   ]
  },
  {
   "cell_type": "code",
   "execution_count": 21,
   "metadata": {},
   "outputs": [
    {
     "data": {
      "text/plain": [
       "<AxesSubplot:>"
      ]
     },
     "execution_count": 21,
     "metadata": {},
     "output_type": "execute_result"
    },
    {
     "data": {
      "image/png": "[encoded data removed]",
      "text/plain": [
       "<Figure size 432x288 with 1 Axes>"
      ]
     },
     "metadata": {
      "needs_background": "light"
     },
     "output_type": "display_data"
    }
   ],
   "source": [
    "df.Category.hist()"
   ]
  },
  {
   "cell_type": "code",
   "execution_count": 22,
   "metadata": {},
   "outputs": [
    {
     "data": {
      "text/plain": [
       "NO     400740\n",
       "YES     94700\n",
       "Name: Late (Yes/No), dtype: int64"
      ]
     },
     "execution_count": 22,
     "metadata": {},
     "output_type": "execute_result"
    }
   ],
   "source": [
    "df['Late (Yes/No)'].value_counts()"
   ]
  },
  {
   "cell_type": "code",
   "execution_count": 23,
   "metadata": {},
   "outputs": [
    {
     "data": {
      "text/plain": [
       "<AxesSubplot:>"
      ]
     },
     "execution_count": 23,
     "metadata": {},
     "output_type": "execute_result"
    },
    {
     "data": {
      "image/png": "[encoded data removed]",
      "text/plain": [
       "<Figure size 432x288 with 1 Axes>"
      ]
     },
     "metadata": {
      "needs_background": "light"
     },
     "output_type": "display_data"
    }
   ],
   "source": [
    "df['Late (Yes/No)'].hist()"
   ]
  },
  {
   "cell_type": "code",
   "execution_count": 24,
   "metadata": {},
   "outputs": [
    {
     "data": {
      "text/plain": [
       "Solid Waste Management       190658\n",
       "Development Services         132826\n",
       "Animal Care Services          75222\n",
       "Trans & Cap Improvements      33684\n",
       "Code Enforcement Services      5294\n",
       "Customer Service               4196\n",
       "Metro Health                   2827\n",
       "Parks and Recreation            433\n",
       "City Council                      1\n",
       "Name: Dept, dtype: int64"
      ]
     },
     "execution_count": 24,
     "metadata": {},
     "output_type": "execute_result"
    }
   ],
   "source": [
    "df.Dept.value_counts()"
   ]
  },
  {
   "cell_type": "code",
   "execution_count": 25,
   "metadata": {},
   "outputs": [
    {
     "data": {
      "text/plain": [
       "<AxesSubplot:>"
      ]
     },
     "execution_count": 25,
     "metadata": {},
     "output_type": "execute_result"
    },
    {
     "data": {
      "image/png": "[encoded data removed]",
      "text/plain": [
       "<Figure size 432x288 with 1 Axes>"
      ]
     },
     "metadata": {
      "needs_background": "light"
     },
     "output_type": "display_data"
    }
   ],
   "source": [
    "df.Dept.hist()"
   ]
  },
  {
   "cell_type": "code",
   "execution_count": 26,
   "metadata": {},
   "outputs": [
    {
     "data": {
      "text/plain": [
       "Waste Collection                 152898\n",
       "Code Enforcement                 136050\n",
       "Field Operations                  75100\n",
       "Miscellaneous                     30407\n",
       "Traffic Operations                26148\n",
       "Streets                           25816\n",
       "Trades                             9590\n",
       "Stormwater                         6797\n",
       "Small Business                     6106\n",
       "Solid Waste                        5261\n",
       "Workforce Development              5250\n",
       "Customer Service                   4650\n",
       "311 Call Center                    4196\n",
       "Food Establishments                1610\n",
       "Land Development                   1094\n",
       "Facility License                    908\n",
       "Clean and Green                     758\n",
       "Dangerous Premise                   701\n",
       "Shops (Internal)                    385\n",
       "Vector                              243\n",
       "Historic Preservation               224\n",
       "Signals                             223\n",
       "Urban Forestry                      209\n",
       "Traffic Engineering Design          206\n",
       "Graffiti (IntExp)                   112\n",
       "Engineering Division                108\n",
       "Natural Resources                    84\n",
       "General Sanitation                   66\n",
       "Code Enforcement (Internal)          58\n",
       "Code Enforcement (IntExp)            45\n",
       "Park Projects                        37\n",
       "Storm Water                          28\n",
       "Signs and Markings                   22\n",
       "Tree Crew                            14\n",
       "Director's Office Horizontal         10\n",
       "Graffiti                             10\n",
       "Brush                                 9\n",
       "Storm Water Engineering               3\n",
       "Clean and Green Natural Areas         1\n",
       "District 2                            1\n",
       "Traffic Issue Investigation           1\n",
       "Shops                                 1\n",
       "Name: REASONNAME, dtype: int64"
      ]
     },
     "execution_count": 26,
     "metadata": {},
     "output_type": "execute_result"
    }
   ],
   "source": [
    "df.REASONNAME.value_counts()"
   ]
  },
  {
   "cell_type": "code",
   "execution_count": 27,
   "metadata": {},
   "outputs": [
    {
     "data": {
      "text/plain": [
       "<AxesSubplot:>"
      ]
     },
     "execution_count": 27,
     "metadata": {},
     "output_type": "execute_result"
    },
    {
     "data": {
      "image/png": "[encoded data removed]",
      "text/plain": [
       "<Figure size 432x288 with 1 Axes>"
      ]
     },
     "metadata": {
      "needs_background": "light"
     },
     "output_type": "display_data"
    }
   ],
   "source": [
    "df.REASONNAME.hist()"
   ]
  },
  {
   "cell_type": "code",
   "execution_count": 28,
   "metadata": {},
   "outputs": [
    {
     "data": {
      "text/plain": [
       "No Pickup                                             61856\n",
       "Overgrown Yard/Trash                                  28777\n",
       "Dead Animal Pick Up                                   24510\n",
       "Carts(Damaged Cart)                                   20407\n",
       "Carts(Cart Exchange)                                  16590\n",
       "                                                      ...  \n",
       "Sanitation (Natural Areas-Mutt Mitt Restock)              1\n",
       "Parks Internal (Sanitation_NA-Port Toilet Service)        1\n",
       "Basketball Goals on R.O.W.                                1\n",
       "Bulk Missed Pick up                                       1\n",
       "Parks Mowing                                              1\n",
       "Name: TYPENAME, Length: 442, dtype: int64"
      ]
     },
     "execution_count": 28,
     "metadata": {},
     "output_type": "execute_result"
    }
   ],
   "source": [
    "df.TYPENAME.value_counts()"
   ]
  },
  {
   "cell_type": "code",
   "execution_count": 29,
   "metadata": {},
   "outputs": [
    {
     "data": {
      "text/plain": [
       "Closed    441387\n",
       "Open       54053\n",
       "Name: CaseStatus, dtype: int64"
      ]
     },
     "execution_count": 29,
     "metadata": {},
     "output_type": "execute_result"
    }
   ],
   "source": [
    "df.CaseStatus.value_counts()"
   ]
  },
  {
   "cell_type": "code",
   "execution_count": 30,
   "metadata": {},
   "outputs": [
    {
     "data": {
      "text/plain": [
       "<AxesSubplot:>"
      ]
     },
     "execution_count": 30,
     "metadata": {},
     "output_type": "execute_result"
    },
    {
     "data": {
      "image/png": "[encoded data removed]",
      "text/plain": [
       "<Figure size 432x288 with 1 Axes>"
      ]
     },
     "metadata": {
      "needs_background": "light"
     },
     "output_type": "display_data"
    }
   ],
   "source": [
    "df.CaseStatus.hist()"
   ]
  },
  {
   "cell_type": "code",
   "execution_count": 31,
   "metadata": {},
   "outputs": [
    {
     "data": {
      "text/plain": [
       "5     67022\n",
       "1     66543\n",
       "2     65327\n",
       "3     62330\n",
       "4     46830\n",
       "7     46377\n",
       "6     42719\n",
       "10    40062\n",
       "8     27924\n",
       "9     27473\n",
       "0      2833\n",
       "Name: Council District, dtype: int64"
      ]
     },
     "execution_count": 31,
     "metadata": {},
     "output_type": "execute_result"
    }
   ],
   "source": [
    "df['Council District'].value_counts()"
   ]
  },
  {
   "cell_type": "code",
   "execution_count": 32,
   "metadata": {},
   "outputs": [
    {
     "data": {
      "text/plain": [
       "<AxesSubplot:>"
      ]
     },
     "execution_count": 32,
     "metadata": {},
     "output_type": "execute_result"
    },
    {
     "data": {
      "image/png": "[encoded data removed]",
      "text/plain": [
       "<Figure size 432x288 with 1 Axes>"
      ]
     },
     "metadata": {
      "needs_background": "light"
     },
     "output_type": "display_data"
    }
   ],
   "source": [
    "df['Council District'].hist()"
   ]
  },
  {
   "cell_type": "code",
   "execution_count": 33,
   "metadata": {},
   "outputs": [],
   "source": [
    "null_CLOSEDDATETIME = df[df['CLOSEDDATETIME'].isnull()]"
   ]
  },
  {
   "cell_type": "code",
   "execution_count": 34,
   "metadata": {},
   "outputs": [
    {
     "data": {
      "text/html": [
       "<div>\n",
       "<style scoped>\n",
       "    .dataframe tbody tr th:only-of-type {\n",
       "        vertical-align: middle;\n",
       "    }\n",
       "\n",
       "    .dataframe tbody tr th {\n",
       "        vertical-align: top;\n",
       "    }\n",
       "\n",
       "    .dataframe thead th {\n",
       "        text-align: right;\n",
       "    }\n",
       "</style>\n",
       "<table border=\"1\" class=\"dataframe\">\n",
       "  <thead>\n",
       "    <tr style=\"text-align: right;\">\n",
       "      <th></th>\n",
       "      <th>Category</th>\n",
       "      <th>CASEID</th>\n",
       "      <th>OPENEDDATETIME</th>\n",
       "      <th>SLA_Date</th>\n",
       "      <th>CLOSEDDATETIME</th>\n",
       "      <th>Late (Yes/No)</th>\n",
       "      <th>Dept</th>\n",
       "      <th>REASONNAME</th>\n",
       "      <th>TYPENAME</th>\n",
       "      <th>CaseStatus</th>\n",
       "      <th>SourceID</th>\n",
       "      <th>OBJECTDESC</th>\n",
       "      <th>Council District</th>\n",
       "      <th>XCOORD</th>\n",
       "      <th>YCOORD</th>\n",
       "      <th>Report Starting Date</th>\n",
       "      <th>Report Ending Date</th>\n",
       "    </tr>\n",
       "  </thead>\n",
       "  <tbody>\n",
       "    <tr>\n",
       "      <th>0</th>\n",
       "      <td>Graffiti</td>\n",
       "      <td>1010444245</td>\n",
       "      <td>2012-08-15T00:00:00</td>\n",
       "      <td>2012-08-30T00:00:00</td>\n",
       "      <td>NaN</td>\n",
       "      <td>YES</td>\n",
       "      <td>Code Enforcement Services</td>\n",
       "      <td>Graffiti</td>\n",
       "      <td>Graffiti Public Property</td>\n",
       "      <td>Open</td>\n",
       "      <td>Web Portal</td>\n",
       "      <td>600  NOGALITOS ST, San Antonio, 78204</td>\n",
       "      <td>5</td>\n",
       "      <td>2,125,683.00</td>\n",
       "      <td>13,695,548.00</td>\n",
       "      <td>2020-05-15T00:00:00</td>\n",
       "      <td>2021-05-15T00:00:00</td>\n",
       "    </tr>\n",
       "    <tr>\n",
       "      <th>1</th>\n",
       "      <td>Property Maintenance</td>\n",
       "      <td>1010888252</td>\n",
       "      <td>2013-06-06T00:00:00</td>\n",
       "      <td>2013-08-09T00:00:00</td>\n",
       "      <td>NaN</td>\n",
       "      <td>YES</td>\n",
       "      <td>Code Enforcement Services</td>\n",
       "      <td>Code Enforcement (IntExp)</td>\n",
       "      <td>Alley-Way Maintenance</td>\n",
       "      <td>Open</td>\n",
       "      <td>Web Portal</td>\n",
       "      <td>6043  CASTLE QUEEN, San Antonio, 78218</td>\n",
       "      <td>2</td>\n",
       "      <td>2,169,702.00</td>\n",
       "      <td>13,725,769.00</td>\n",
       "      <td>2020-05-15T00:00:00</td>\n",
       "      <td>2021-05-15T00:00:00</td>\n",
       "    </tr>\n",
       "    <tr>\n",
       "      <th>2</th>\n",
       "      <td>Property Maintenance</td>\n",
       "      <td>1010966128</td>\n",
       "      <td>2013-07-19T00:00:00</td>\n",
       "      <td>2013-09-23T00:00:00</td>\n",
       "      <td>NaN</td>\n",
       "      <td>YES</td>\n",
       "      <td>Code Enforcement Services</td>\n",
       "      <td>Code Enforcement (IntExp)</td>\n",
       "      <td>Junk Vehicle On Private Property</td>\n",
       "      <td>Open</td>\n",
       "      <td>Web Portal</td>\n",
       "      <td>842  KIRK PL, San Antonio, 78226</td>\n",
       "      <td>5</td>\n",
       "      <td>2,116,192.00</td>\n",
       "      <td>13,692,260.00</td>\n",
       "      <td>2020-05-15T00:00:00</td>\n",
       "      <td>2021-05-15T00:00:00</td>\n",
       "    </tr>\n",
       "    <tr>\n",
       "      <th>3</th>\n",
       "      <td>Property Maintenance</td>\n",
       "      <td>1011052825</td>\n",
       "      <td>2013-09-16T00:00:00</td>\n",
       "      <td>2013-09-30T00:00:00</td>\n",
       "      <td>NaN</td>\n",
       "      <td>YES</td>\n",
       "      <td>Code Enforcement Services</td>\n",
       "      <td>Code Enforcement</td>\n",
       "      <td>Right Of Way/Sidewalk Obstruction</td>\n",
       "      <td>Open</td>\n",
       "      <td>Internal Services Requests</td>\n",
       "      <td>54  KENROCK RIDGE, San Antonio, 78254</td>\n",
       "      <td>7</td>\n",
       "      <td>2,082,242.00</td>\n",
       "      <td>13,737,817.00</td>\n",
       "      <td>2020-05-15T00:00:00</td>\n",
       "      <td>2021-05-15T00:00:00</td>\n",
       "    </tr>\n",
       "    <tr>\n",
       "      <th>4</th>\n",
       "      <td>Property Maintenance</td>\n",
       "      <td>1011052826</td>\n",
       "      <td>2013-09-16T00:00:00</td>\n",
       "      <td>2013-09-30T00:00:00</td>\n",
       "      <td>NaN</td>\n",
       "      <td>YES</td>\n",
       "      <td>Code Enforcement Services</td>\n",
       "      <td>Code Enforcement</td>\n",
       "      <td>Right Of Way/Sidewalk Obstruction</td>\n",
       "      <td>Open</td>\n",
       "      <td>Internal Services Requests</td>\n",
       "      <td>74  KENROCK RIDGE, San Antonio, 78254</td>\n",
       "      <td>7</td>\n",
       "      <td>2,082,389.00</td>\n",
       "      <td>13,737,877.00</td>\n",
       "      <td>2020-05-15T00:00:00</td>\n",
       "      <td>2021-05-15T00:00:00</td>\n",
       "    </tr>\n",
       "  </tbody>\n",
       "</table>\n",
       "</div>"
      ],
      "text/plain": [
       "               Category      CASEID       OPENEDDATETIME             SLA_Date  \\\n",
       "0              Graffiti  1010444245  2012-08-15T00:00:00  2012-08-30T00:00:00   \n",
       "1  Property Maintenance  1010888252  2013-06-06T00:00:00  2013-08-09T00:00:00   \n",
       "2  Property Maintenance  1010966128  2013-07-19T00:00:00  2013-09-23T00:00:00   \n",
       "3  Property Maintenance  1011052825  2013-09-16T00:00:00  2013-09-30T00:00:00   \n",
       "4  Property Maintenance  1011052826  2013-09-16T00:00:00  2013-09-30T00:00:00   \n",
       "\n",
       "  CLOSEDDATETIME Late (Yes/No)                       Dept  \\\n",
       "0            NaN           YES  Code Enforcement Services   \n",
       "1            NaN           YES  Code Enforcement Services   \n",
       "2            NaN           YES  Code Enforcement Services   \n",
       "3            NaN           YES  Code Enforcement Services   \n",
       "4            NaN           YES  Code Enforcement Services   \n",
       "\n",
       "                  REASONNAME                           TYPENAME CaseStatus  \\\n",
       "0                   Graffiti           Graffiti Public Property       Open   \n",
       "1  Code Enforcement (IntExp)              Alley-Way Maintenance       Open   \n",
       "2  Code Enforcement (IntExp)   Junk Vehicle On Private Property       Open   \n",
       "3           Code Enforcement  Right Of Way/Sidewalk Obstruction       Open   \n",
       "4           Code Enforcement  Right Of Way/Sidewalk Obstruction       Open   \n",
       "\n",
       "                     SourceID                              OBJECTDESC  \\\n",
       "0                  Web Portal   600  NOGALITOS ST, San Antonio, 78204   \n",
       "1                  Web Portal  6043  CASTLE QUEEN, San Antonio, 78218   \n",
       "2                  Web Portal        842  KIRK PL, San Antonio, 78226   \n",
       "3  Internal Services Requests   54  KENROCK RIDGE, San Antonio, 78254   \n",
       "4  Internal Services Requests   74  KENROCK RIDGE, San Antonio, 78254   \n",
       "\n",
       "   Council District               XCOORD               YCOORD  \\\n",
       "0                 5         2,125,683.00        13,695,548.00   \n",
       "1                 2         2,169,702.00        13,725,769.00   \n",
       "2                 5         2,116,192.00        13,692,260.00   \n",
       "3                 7         2,082,242.00        13,737,817.00   \n",
       "4                 7         2,082,389.00        13,737,877.00   \n",
       "\n",
       "  Report Starting Date   Report Ending Date  \n",
       "0  2020-05-15T00:00:00  2021-05-15T00:00:00  \n",
       "1  2020-05-15T00:00:00  2021-05-15T00:00:00  \n",
       "2  2020-05-15T00:00:00  2021-05-15T00:00:00  \n",
       "3  2020-05-15T00:00:00  2021-05-15T00:00:00  \n",
       "4  2020-05-15T00:00:00  2021-05-15T00:00:00  "
      ]
     },
     "execution_count": 34,
     "metadata": {},
     "output_type": "execute_result"
    }
   ],
   "source": [
    "null_CLOSEDDATETIME.head()"
   ]
  },
  {
   "cell_type": "code",
   "execution_count": 35,
   "metadata": {},
   "outputs": [
    {
     "data": {
      "text/plain": [
       "Category                    0\n",
       "CASEID                      0\n",
       "OPENEDDATETIME              0\n",
       "SLA_Date                 4540\n",
       "CLOSEDDATETIME          54053\n",
       "Late (Yes/No)               0\n",
       "Dept                     8396\n",
       "REASONNAME                  0\n",
       "TYPENAME                    0\n",
       "CaseStatus                  0\n",
       "SourceID                    0\n",
       "OBJECTDESC                  0\n",
       "Council District            0\n",
       "XCOORD                      4\n",
       "YCOORD                      4\n",
       "Report Starting Date        0\n",
       "Report Ending Date          0\n",
       "dtype: int64"
      ]
     },
     "execution_count": 35,
     "metadata": {},
     "output_type": "execute_result"
    }
   ],
   "source": [
    "null_CLOSEDDATETIME.isnull().sum()"
   ]
  },
  {
   "cell_type": "code",
   "execution_count": 36,
   "metadata": {},
   "outputs": [
    {
     "data": {
      "text/plain": [
       "No Category                  44352\n",
       "Property Maintenance          3470\n",
       "Solid Waste Services          3459\n",
       "Animals                        978\n",
       "Scooters                       770\n",
       "Parks                          475\n",
       "Traffic Signals and Signs      339\n",
       "Graffiti                       130\n",
       "Streets & Infrastructure        71\n",
       "Historic Preservation            8\n",
       "Information                      1\n",
       "Name: Category, dtype: int64"
      ]
     },
     "execution_count": 36,
     "metadata": {},
     "output_type": "execute_result"
    }
   ],
   "source": [
    "null_CLOSEDDATETIME.Category.value_counts()"
   ]
  },
  {
   "cell_type": "code",
   "execution_count": 37,
   "metadata": {},
   "outputs": [
    {
     "data": {
      "text/plain": [
       "Web Portal                    33712\n",
       "311 Mobile App                11897\n",
       "Constituent Call               5440\n",
       "Internal Services Requests     3004\n",
       "Name: SourceID, dtype: int64"
      ]
     },
     "execution_count": 37,
     "metadata": {},
     "output_type": "execute_result"
    }
   ],
   "source": [
    "null_CLOSEDDATETIME.SourceID.value_counts()"
   ]
  },
  {
   "cell_type": "code",
   "execution_count": 38,
   "metadata": {},
   "outputs": [
    {
     "data": {
      "text/plain": [
       "(54053, 17)"
      ]
     },
     "execution_count": 38,
     "metadata": {},
     "output_type": "execute_result"
    }
   ],
   "source": [
    "null_CLOSEDDATETIME.shape"
   ]
  },
  {
   "cell_type": "code",
   "execution_count": 39,
   "metadata": {},
   "outputs": [
    {
     "data": {
      "text/plain": [
       "YES    34320\n",
       "NO     19733\n",
       "Name: Late (Yes/No), dtype: int64"
      ]
     },
     "execution_count": 39,
     "metadata": {},
     "output_type": "execute_result"
    }
   ],
   "source": [
    "null_CLOSEDDATETIME['Late (Yes/No)'].value_counts()"
   ]
  },
  {
   "cell_type": "code",
   "execution_count": 40,
   "metadata": {},
   "outputs": [
    {
     "data": {
      "text/plain": [
       "Development Services         23019\n",
       "Solid Waste Management        8055\n",
       "Animal Care Services          6924\n",
       "Code Enforcement Services     3531\n",
       "Trans & Cap Improvements      3470\n",
       "Parks and Recreation           428\n",
       "Metro Health                   229\n",
       "City Council                     1\n",
       "Name: Dept, dtype: int64"
      ]
     },
     "execution_count": 40,
     "metadata": {},
     "output_type": "execute_result"
    }
   ],
   "source": [
    "null_CLOSEDDATETIME.Dept.value_counts()"
   ]
  },
  {
   "cell_type": "code",
   "execution_count": 41,
   "metadata": {},
   "outputs": [
    {
     "data": {
      "text/plain": [
       "Open    54053\n",
       "Name: CaseStatus, dtype: int64"
      ]
     },
     "execution_count": 41,
     "metadata": {},
     "output_type": "execute_result"
    }
   ],
   "source": [
    "null_CLOSEDDATETIME.CaseStatus.value_counts()"
   ]
  },
  {
   "cell_type": "code",
   "execution_count": 42,
   "metadata": {},
   "outputs": [
    {
     "data": {
      "text/plain": [
       "2     7816\n",
       "1     7800\n",
       "5     7432\n",
       "3     6096\n",
       "7     5699\n",
       "6     5380\n",
       "4     4974\n",
       "10    3619\n",
       "8     2622\n",
       "9     2317\n",
       "0      298\n",
       "Name: Council District, dtype: int64"
      ]
     },
     "execution_count": 42,
     "metadata": {},
     "output_type": "execute_result"
    }
   ],
   "source": [
    "null_CLOSEDDATETIME['Council District'].value_counts()"
   ]
  },
  {
   "cell_type": "code",
   "execution_count": 43,
   "metadata": {},
   "outputs": [],
   "source": [
    "#df= df.rename(columns={\n",
    " #                   'Category':'category', 'OPENEDDATETIME':'open_date', 'Dept': 'dept',\n",
    "  #                  'SLA_Date':'sla_date', 'CLOSEDDATETIME': 'closed_date', 'Late (Yes/No)': 'late',\n",
    "   #                 'OBJECTDESC': 'address', 'REASONNAME': 'reason', 'TYPENAME': 'type', \n",
    "    #                'Council District': 'council_district', 'CASEID': 'case_id',\n",
    "     #               'CaseStatus': 'case_status', 'SourceID':'source_id', 'XCOORD': 'x_coord', 'YCOORD': 'y_coord',\n",
    "      #              'Report Starting Date': 'report_start_date', 'Report Ending Date': 'report_end_date'\n",
    "       #               })"
   ]
  },
  {
   "cell_type": "markdown",
   "metadata": {},
   "source": [
    "# Prepare"
   ]
  },
  {
   "cell_type": "markdown",
   "metadata": {},
   "source": [
    "### John Funcitons\n",
    "- Make reason type easier to manage by combining some of the reasons?\n",
    "    - Waste Collection + Solid Waste\n",
    "        - Into just 'Waste Management'\n",
    "    - Storm Water + Storm Water Engineering + Stormwater\n",
    "        - Into 'Storm Water Managemnt'\n",
    "    - Ect."
   ]
  },
  {
   "cell_type": "code",
   "execution_count": 44,
   "metadata": {},
   "outputs": [
    {
     "data": {
      "text/html": [
       "<div>\n",
       "<style scoped>\n",
       "    .dataframe tbody tr th:only-of-type {\n",
       "        vertical-align: middle;\n",
       "    }\n",
       "\n",
       "    .dataframe tbody tr th {\n",
       "        vertical-align: top;\n",
       "    }\n",
       "\n",
       "    .dataframe thead th {\n",
       "        text-align: right;\n",
       "    }\n",
       "</style>\n",
       "<table border=\"1\" class=\"dataframe\">\n",
       "  <thead>\n",
       "    <tr style=\"text-align: right;\">\n",
       "      <th></th>\n",
       "      <th>Category</th>\n",
       "      <th>CASEID</th>\n",
       "      <th>OPENEDDATETIME</th>\n",
       "      <th>SLA_Date</th>\n",
       "      <th>CLOSEDDATETIME</th>\n",
       "      <th>Late (Yes/No)</th>\n",
       "      <th>Dept</th>\n",
       "      <th>REASONNAME</th>\n",
       "      <th>TYPENAME</th>\n",
       "      <th>CaseStatus</th>\n",
       "      <th>SourceID</th>\n",
       "      <th>OBJECTDESC</th>\n",
       "      <th>Council District</th>\n",
       "      <th>XCOORD</th>\n",
       "      <th>YCOORD</th>\n",
       "      <th>Report Starting Date</th>\n",
       "      <th>Report Ending Date</th>\n",
       "    </tr>\n",
       "  </thead>\n",
       "  <tbody>\n",
       "    <tr>\n",
       "      <th>0</th>\n",
       "      <td>Graffiti</td>\n",
       "      <td>1010444245</td>\n",
       "      <td>2012-08-15T00:00:00</td>\n",
       "      <td>2012-08-30T00:00:00</td>\n",
       "      <td>NaN</td>\n",
       "      <td>YES</td>\n",
       "      <td>Code Enforcement Services</td>\n",
       "      <td>Graffiti</td>\n",
       "      <td>Graffiti Public Property</td>\n",
       "      <td>Open</td>\n",
       "      <td>Web Portal</td>\n",
       "      <td>600  NOGALITOS ST, San Antonio, 78204</td>\n",
       "      <td>5</td>\n",
       "      <td>2,125,683.00</td>\n",
       "      <td>13,695,548.00</td>\n",
       "      <td>2020-05-15T00:00:00</td>\n",
       "      <td>2021-05-15T00:00:00</td>\n",
       "    </tr>\n",
       "    <tr>\n",
       "      <th>1</th>\n",
       "      <td>Property Maintenance</td>\n",
       "      <td>1010888252</td>\n",
       "      <td>2013-06-06T00:00:00</td>\n",
       "      <td>2013-08-09T00:00:00</td>\n",
       "      <td>NaN</td>\n",
       "      <td>YES</td>\n",
       "      <td>Code Enforcement Services</td>\n",
       "      <td>Code Enforcement (IntExp)</td>\n",
       "      <td>Alley-Way Maintenance</td>\n",
       "      <td>Open</td>\n",
       "      <td>Web Portal</td>\n",
       "      <td>6043  CASTLE QUEEN, San Antonio, 78218</td>\n",
       "      <td>2</td>\n",
       "      <td>2,169,702.00</td>\n",
       "      <td>13,725,769.00</td>\n",
       "      <td>2020-05-15T00:00:00</td>\n",
       "      <td>2021-05-15T00:00:00</td>\n",
       "    </tr>\n",
       "    <tr>\n",
       "      <th>2</th>\n",
       "      <td>Property Maintenance</td>\n",
       "      <td>1010966128</td>\n",
       "      <td>2013-07-19T00:00:00</td>\n",
       "      <td>2013-09-23T00:00:00</td>\n",
       "      <td>NaN</td>\n",
       "      <td>YES</td>\n",
       "      <td>Code Enforcement Services</td>\n",
       "      <td>Code Enforcement (IntExp)</td>\n",
       "      <td>Junk Vehicle On Private Property</td>\n",
       "      <td>Open</td>\n",
       "      <td>Web Portal</td>\n",
       "      <td>842  KIRK PL, San Antonio, 78226</td>\n",
       "      <td>5</td>\n",
       "      <td>2,116,192.00</td>\n",
       "      <td>13,692,260.00</td>\n",
       "      <td>2020-05-15T00:00:00</td>\n",
       "      <td>2021-05-15T00:00:00</td>\n",
       "    </tr>\n",
       "    <tr>\n",
       "      <th>3</th>\n",
       "      <td>Property Maintenance</td>\n",
       "      <td>1011052825</td>\n",
       "      <td>2013-09-16T00:00:00</td>\n",
       "      <td>2013-09-30T00:00:00</td>\n",
       "      <td>NaN</td>\n",
       "      <td>YES</td>\n",
       "      <td>Code Enforcement Services</td>\n",
       "      <td>Code Enforcement</td>\n",
       "      <td>Right Of Way/Sidewalk Obstruction</td>\n",
       "      <td>Open</td>\n",
       "      <td>Internal Services Requests</td>\n",
       "      <td>54  KENROCK RIDGE, San Antonio, 78254</td>\n",
       "      <td>7</td>\n",
       "      <td>2,082,242.00</td>\n",
       "      <td>13,737,817.00</td>\n",
       "      <td>2020-05-15T00:00:00</td>\n",
       "      <td>2021-05-15T00:00:00</td>\n",
       "    </tr>\n",
       "    <tr>\n",
       "      <th>4</th>\n",
       "      <td>Property Maintenance</td>\n",
       "      <td>1011052826</td>\n",
       "      <td>2013-09-16T00:00:00</td>\n",
       "      <td>2013-09-30T00:00:00</td>\n",
       "      <td>NaN</td>\n",
       "      <td>YES</td>\n",
       "      <td>Code Enforcement Services</td>\n",
       "      <td>Code Enforcement</td>\n",
       "      <td>Right Of Way/Sidewalk Obstruction</td>\n",
       "      <td>Open</td>\n",
       "      <td>Internal Services Requests</td>\n",
       "      <td>74  KENROCK RIDGE, San Antonio, 78254</td>\n",
       "      <td>7</td>\n",
       "      <td>2,082,389.00</td>\n",
       "      <td>13,737,877.00</td>\n",
       "      <td>2020-05-15T00:00:00</td>\n",
       "      <td>2021-05-15T00:00:00</td>\n",
       "    </tr>\n",
       "  </tbody>\n",
       "</table>\n",
       "</div>"
      ],
      "text/plain": [
       "               Category      CASEID       OPENEDDATETIME             SLA_Date  \\\n",
       "0              Graffiti  1010444245  2012-08-15T00:00:00  2012-08-30T00:00:00   \n",
       "1  Property Maintenance  1010888252  2013-06-06T00:00:00  2013-08-09T00:00:00   \n",
       "2  Property Maintenance  1010966128  2013-07-19T00:00:00  2013-09-23T00:00:00   \n",
       "3  Property Maintenance  1011052825  2013-09-16T00:00:00  2013-09-30T00:00:00   \n",
       "4  Property Maintenance  1011052826  2013-09-16T00:00:00  2013-09-30T00:00:00   \n",
       "\n",
       "  CLOSEDDATETIME Late (Yes/No)                       Dept  \\\n",
       "0            NaN           YES  Code Enforcement Services   \n",
       "1            NaN           YES  Code Enforcement Services   \n",
       "2            NaN           YES  Code Enforcement Services   \n",
       "3            NaN           YES  Code Enforcement Services   \n",
       "4            NaN           YES  Code Enforcement Services   \n",
       "\n",
       "                  REASONNAME                           TYPENAME CaseStatus  \\\n",
       "0                   Graffiti           Graffiti Public Property       Open   \n",
       "1  Code Enforcement (IntExp)              Alley-Way Maintenance       Open   \n",
       "2  Code Enforcement (IntExp)   Junk Vehicle On Private Property       Open   \n",
       "3           Code Enforcement  Right Of Way/Sidewalk Obstruction       Open   \n",
       "4           Code Enforcement  Right Of Way/Sidewalk Obstruction       Open   \n",
       "\n",
       "                     SourceID                              OBJECTDESC  \\\n",
       "0                  Web Portal   600  NOGALITOS ST, San Antonio, 78204   \n",
       "1                  Web Portal  6043  CASTLE QUEEN, San Antonio, 78218   \n",
       "2                  Web Portal        842  KIRK PL, San Antonio, 78226   \n",
       "3  Internal Services Requests   54  KENROCK RIDGE, San Antonio, 78254   \n",
       "4  Internal Services Requests   74  KENROCK RIDGE, San Antonio, 78254   \n",
       "\n",
       "   Council District               XCOORD               YCOORD  \\\n",
       "0                 5         2,125,683.00        13,695,548.00   \n",
       "1                 2         2,169,702.00        13,725,769.00   \n",
       "2                 5         2,116,192.00        13,692,260.00   \n",
       "3                 7         2,082,242.00        13,737,817.00   \n",
       "4                 7         2,082,389.00        13,737,877.00   \n",
       "\n",
       "  Report Starting Date   Report Ending Date  \n",
       "0  2020-05-15T00:00:00  2021-05-15T00:00:00  \n",
       "1  2020-05-15T00:00:00  2021-05-15T00:00:00  \n",
       "2  2020-05-15T00:00:00  2021-05-15T00:00:00  \n",
       "3  2020-05-15T00:00:00  2021-05-15T00:00:00  \n",
       "4  2020-05-15T00:00:00  2021-05-15T00:00:00  "
      ]
     },
     "execution_count": 44,
     "metadata": {},
     "output_type": "execute_result"
    }
   ],
   "source": [
    "df.head()"
   ]
  },
  {
   "cell_type": "code",
   "execution_count": 45,
   "metadata": {},
   "outputs": [
    {
     "data": {
      "text/plain": [
       "Waste Collection                 152898\n",
       "Code Enforcement                 136050\n",
       "Field Operations                  75100\n",
       "Miscellaneous                     30407\n",
       "Traffic Operations                26148\n",
       "Streets                           25816\n",
       "Trades                             9590\n",
       "Stormwater                         6797\n",
       "Small Business                     6106\n",
       "Solid Waste                        5261\n",
       "Workforce Development              5250\n",
       "Customer Service                   4650\n",
       "311 Call Center                    4196\n",
       "Food Establishments                1610\n",
       "Land Development                   1094\n",
       "Facility License                    908\n",
       "Clean and Green                     758\n",
       "Dangerous Premise                   701\n",
       "Shops (Internal)                    385\n",
       "Vector                              243\n",
       "Historic Preservation               224\n",
       "Signals                             223\n",
       "Urban Forestry                      209\n",
       "Traffic Engineering Design          206\n",
       "Graffiti (IntExp)                   112\n",
       "Engineering Division                108\n",
       "Natural Resources                    84\n",
       "General Sanitation                   66\n",
       "Code Enforcement (Internal)          58\n",
       "Code Enforcement (IntExp)            45\n",
       "Park Projects                        37\n",
       "Storm Water                          28\n",
       "Signs and Markings                   22\n",
       "Tree Crew                            14\n",
       "Director's Office Horizontal         10\n",
       "Graffiti                             10\n",
       "Brush                                 9\n",
       "Storm Water Engineering               3\n",
       "Clean and Green Natural Areas         1\n",
       "District 2                            1\n",
       "Traffic Issue Investigation           1\n",
       "Shops                                 1\n",
       "Name: REASONNAME, dtype: int64"
      ]
     },
     "execution_count": 45,
     "metadata": {},
     "output_type": "execute_result"
    }
   ],
   "source": [
    "df.REASONNAME.value_counts()"
   ]
  },
  {
   "cell_type": "code",
   "execution_count": 46,
   "metadata": {},
   "outputs": [],
   "source": [
    "# make lists of values\n",
    "\n",
    "waste = ['Waste Collection', 'Solid Waste']\n",
    "\n",
    "code = ['Code Enforcement', 'Code Enforcement (Internal)', 'Code Enforcement (IntExp)']\n",
    "\n",
    "field = ['Field Operations']\n",
    "\n",
    "misc = ['Miscellaneous']\n",
    "\n",
    "traffic = ['Traffic Operations', 'Traffic Engineering Design', 'Traffic Issue Investigation']\n",
    "\n",
    "streets = ['Streets', 'Signals', 'Signs and Markings']\n",
    "\n",
    "trades = ['Trades']\n",
    "\n",
    "storm = ['Stormwater', 'Storm Water', 'Storm Water Engineering']\n",
    "\n",
    "business = ['Small Business', 'Food Establishments', 'Shops (Internal)', 'Shops']\n",
    "\n",
    "workforce = ['Workforce Development']\n",
    "\n",
    "customer_service = ['Customer Service', '311 Call Center', 'Director\\'s Office Horizontal']\n",
    "\n",
    "land = ['Land Development', 'Clean and Green', 'Urban Forestry', 'Natural Resources', 'Park Projects', 'Tree Crew', 'District 2', 'Clean and Green Natural Areas']\n",
    "\n",
    "licenses = ['Facility License']\n",
    "\n",
    "buildings = ['Dangerous Premise','Historic Preservation', 'Engineering Division']\n",
    "\n",
    "pests = ['Vector']\n",
    "\n",
    "cleanup = ['Graffiti (IntExp)', 'General Sanitation', 'Graffiti', 'Brush']"
   ]
  },
  {
   "cell_type": "code",
   "execution_count": 47,
   "metadata": {},
   "outputs": [],
   "source": [
    "# make list of lists \n",
    "lists = [waste, code, field, misc, traffic, streets, trades, storm, business, workforce, customer_service, land, licenses, buildings, pests, cleanup]"
   ]
  },
  {
   "cell_type": "code",
   "execution_count": 48,
   "metadata": {},
   "outputs": [
    {
     "data": {
      "text/plain": [
       "[['Waste Collection', 'Solid Waste'],\n",
       " ['Code Enforcement',\n",
       "  'Code Enforcement (Internal)',\n",
       "  'Code Enforcement (IntExp)'],\n",
       " ['Field Operations'],\n",
       " ['Miscellaneous'],\n",
       " ['Traffic Operations',\n",
       "  'Traffic Engineering Design',\n",
       "  'Traffic Issue Investigation'],\n",
       " ['Streets', 'Signals', 'Signs and Markings'],\n",
       " ['Trades'],\n",
       " ['Stormwater', 'Storm Water', 'Storm Water Engineering'],\n",
       " ['Small Business', 'Food Establishments', 'Shops (Internal)', 'Shops'],\n",
       " ['Workforce Development'],\n",
       " ['Customer Service', '311 Call Center', \"Director's Office Horizontal\"],\n",
       " ['Land Development',\n",
       "  'Clean and Green',\n",
       "  'Urban Forestry',\n",
       "  'Natural Resources',\n",
       "  'Park Projects',\n",
       "  'Tree Crew',\n",
       "  'District 2',\n",
       "  'Clean and Green Natural Areas'],\n",
       " ['Facility License'],\n",
       " ['Dangerous Premise', 'Historic Preservation', 'Engineering Division'],\n",
       " ['Vector'],\n",
       " ['Graffiti (IntExp)', 'General Sanitation', 'Graffiti', 'Brush']]"
      ]
     },
     "execution_count": 48,
     "metadata": {},
     "output_type": "execute_result"
    }
   ],
   "source": [
    "lists"
   ]
  },
  {
   "cell_type": "code",
   "execution_count": 49,
   "metadata": {},
   "outputs": [],
   "source": [
    "df['REASONNAME'] = df['REASONNAME'].replace(['Waste Collection', 'Solid Waste', 'Brush'], 'waste')\n",
    "\n",
    "df['REASONNAME'] = df['REASONNAME'].replace(['Code Enforcement', 'Code Enforcement (Internal)', 'Code Enforcement (IntExp)'], 'code')\n",
    "\n",
    "df['REASONNAME'] = df['REASONNAME'].replace(['Field Operations', 'Vector'], 'field')\n",
    "\n",
    "df['REASONNAME'] = df['REASONNAME'].replace('Miscellaneous', 'misc')\n",
    "\n",
    "df['REASONNAME'] = df['REASONNAME'].replace(['Traffic Operations', 'Traffic Engineering Design', 'Traffic Issue Investigation'], 'traffic')\n",
    "\n",
    "df['REASONNAME'] = df['REASONNAME'].replace(['Streets', 'Signals', 'Signs and Markings'], 'streets')\n",
    "\n",
    "df['REASONNAME'] = df['REASONNAME'].replace('Trades', 'trades')\n",
    "\n",
    "df['REASONNAME'] = df['REASONNAME'].replace(['Stormwater', 'Storm Water', 'Storm Water Engineering'], 'storm')\n",
    "\n",
    "df['REASONNAME'] = df['REASONNAME'].replace(['Small Business', 'Food Establishments', 'Shops (Internal)', 'Shops'], 'business')\n",
    "\n",
    "df['REASONNAME'] = df['REASONNAME'].replace('Workforce Development', 'workforce')\n",
    "\n",
    "df['REASONNAME'] = df['REASONNAME'].replace(['Customer Service', '311 Call Center', 'Director\\'s Office Horizontal'], 'customer_service')\n",
    "\n",
    "df['REASONNAME'] = df['REASONNAME'].replace(['Land Development', 'Clean and Green', 'Urban Forestry', 'Natural Resources', 'Park Projects', 'Tree Crew', 'District 2', 'Clean and Green Natural Areas'], 'land')\n",
    "\n",
    "df['REASONNAME'] = df['REASONNAME'].replace('Facility License', 'license')\n",
    "\n",
    "df['REASONNAME'] = df['REASONNAME'].replace(['Dangerous Premise','Historic Preservation', 'Engineering Division'], 'buildings')\n",
    "\n",
    "df['REASONNAME'] = df['REASONNAME'].replace(['Graffiti (IntExp)', 'General Sanitation', 'Graffiti'], 'cleanup')\n",
    "\n",
    "df['REASONNAME'] = df['REASONNAME'].replace(['Waste Collection', 'Solid Waste'], 'waste')\n",
    "\n",
    "df['REASONNAME'] = df['REASONNAME'].replace(['Waste Collection', 'Solid Waste'], 'waste')"
   ]
  },
  {
   "cell_type": "code",
   "execution_count": 50,
   "metadata": {},
   "outputs": [
    {
     "data": {
      "text/plain": [
       "waste               158168\n",
       "code                136153\n",
       "field                75343\n",
       "misc                 30407\n",
       "traffic              26355\n",
       "streets              26061\n",
       "trades                9590\n",
       "customer_service      8856\n",
       "business              8102\n",
       "storm                 6828\n",
       "workforce             5250\n",
       "land                  2198\n",
       "buildings             1033\n",
       "license                908\n",
       "cleanup                188\n",
       "Name: REASONNAME, dtype: int64"
      ]
     },
     "execution_count": 50,
     "metadata": {},
     "output_type": "execute_result"
    }
   ],
   "source": [
    "df.REASONNAME.value_counts()"
   ]
  },
  {
   "cell_type": "code",
   "execution_count": 52,
   "metadata": {},
   "outputs": [],
   "source": [
    "def clean_reason(df):\n",
    "    \n",
    "    '''\n",
    "    This function will take in the service call df and replace the content of REASONNAME column with condensed names\n",
    "    '''\n",
    "    \n",
    "    df['REASONNAME'] = df['REASONNAME'].replace(['Waste Collection', 'Solid Waste', 'Brush'], 'waste')\n",
    "\n",
    "    df['REASONNAME'] = df['REASONNAME'].replace(['Code Enforcement', 'Code Enforcement (Internal)', 'Code Enforcement (IntExp)'], 'code')\n",
    "\n",
    "    df['REASONNAME'] = df['REASONNAME'].replace(['Field Operations', 'Vector'], 'field')\n",
    "\n",
    "    df['REASONNAME'] = df['REASONNAME'].replace('Miscellaneous', 'misc')\n",
    "\n",
    "    df['REASONNAME'] = df['REASONNAME'].replace(['Traffic Operations', 'Traffic Engineering Design', 'Traffic Issue Investigation'], 'traffic')\n",
    "\n",
    "    df['REASONNAME'] = df['REASONNAME'].replace(['Streets', 'Signals', 'Signs and Markings'], 'streets')\n",
    "\n",
    "    df['REASONNAME'] = df['REASONNAME'].replace('Trades', 'trades')\n",
    "\n",
    "    df['REASONNAME'] = df['REASONNAME'].replace(['Stormwater', 'Storm Water', 'Storm Water Engineering'], 'storm')\n",
    "\n",
    "    df['REASONNAME'] = df['REASONNAME'].replace(['Small Business', 'Food Establishments', 'Shops (Internal)', 'Shops'], 'business')\n",
    "\n",
    "    df['REASONNAME'] = df['REASONNAME'].replace('Workforce Development', 'workforce')\n",
    "\n",
    "    df['REASONNAME'] = df['REASONNAME'].replace(['Customer Service', '311 Call Center', 'Director\\'s Office Horizontal'], 'customer_service')\n",
    "\n",
    "    df['REASONNAME'] = df['REASONNAME'].replace(['Land Development', 'Clean and Green', 'Urban Forestry', 'Natural Resources', 'Park Projects', 'Tree Crew', 'District 2', 'Clean and Green Natural Areas'], 'land')\n",
    "\n",
    "    df['REASONNAME'] = df['REASONNAME'].replace('Facility License', 'license')\n",
    "\n",
    "    df['REASONNAME'] = df['REASONNAME'].replace(['Dangerous Premise','Historic Preservation', 'Engineering Division'], 'buildings')\n",
    "\n",
    "    df['REASONNAME'] = df['REASONNAME'].replace(['Graffiti (IntExp)', 'General Sanitation', 'Graffiti'], 'cleanup')\n",
    "\n",
    "    df['REASONNAME'] = df['REASONNAME'].replace(['Waste Collection', 'Solid Waste'], 'waste')\n",
    "\n",
    "    df['REASONNAME'] = df['REASONNAME'].replace(['Waste Collection', 'Solid Waste'], 'waste')\n",
    "    \n",
    "    return df"
   ]
  },
  {
   "cell_type": "code",
   "execution_count": 53,
   "metadata": {},
   "outputs": [],
   "source": [
    "df2 = pd.read_csv('allservicecalls.csv')"
   ]
  },
  {
   "cell_type": "code",
   "execution_count": 54,
   "metadata": {},
   "outputs": [
    {
     "data": {
      "text/html": [
       "<div>\n",
       "<style scoped>\n",
       "    .dataframe tbody tr th:only-of-type {\n",
       "        vertical-align: middle;\n",
       "    }\n",
       "\n",
       "    .dataframe tbody tr th {\n",
       "        vertical-align: top;\n",
       "    }\n",
       "\n",
       "    .dataframe thead th {\n",
       "        text-align: right;\n",
       "    }\n",
       "</style>\n",
       "<table border=\"1\" class=\"dataframe\">\n",
       "  <thead>\n",
       "    <tr style=\"text-align: right;\">\n",
       "      <th></th>\n",
       "      <th>Category</th>\n",
       "      <th>CASEID</th>\n",
       "      <th>OPENEDDATETIME</th>\n",
       "      <th>SLA_Date</th>\n",
       "      <th>CLOSEDDATETIME</th>\n",
       "      <th>Late (Yes/No)</th>\n",
       "      <th>Dept</th>\n",
       "      <th>REASONNAME</th>\n",
       "      <th>TYPENAME</th>\n",
       "      <th>CaseStatus</th>\n",
       "      <th>SourceID</th>\n",
       "      <th>OBJECTDESC</th>\n",
       "      <th>Council District</th>\n",
       "      <th>XCOORD</th>\n",
       "      <th>YCOORD</th>\n",
       "      <th>Report Starting Date</th>\n",
       "      <th>Report Ending Date</th>\n",
       "    </tr>\n",
       "  </thead>\n",
       "  <tbody>\n",
       "    <tr>\n",
       "      <th>0</th>\n",
       "      <td>Graffiti</td>\n",
       "      <td>1010444245</td>\n",
       "      <td>2012-08-15T00:00:00</td>\n",
       "      <td>2012-08-30T00:00:00</td>\n",
       "      <td>NaN</td>\n",
       "      <td>YES</td>\n",
       "      <td>Code Enforcement Services</td>\n",
       "      <td>Graffiti</td>\n",
       "      <td>Graffiti Public Property</td>\n",
       "      <td>Open</td>\n",
       "      <td>Web Portal</td>\n",
       "      <td>600  NOGALITOS ST, San Antonio, 78204</td>\n",
       "      <td>5</td>\n",
       "      <td>2,125,683.00</td>\n",
       "      <td>13,695,548.00</td>\n",
       "      <td>2020-05-15T00:00:00</td>\n",
       "      <td>2021-05-15T00:00:00</td>\n",
       "    </tr>\n",
       "    <tr>\n",
       "      <th>1</th>\n",
       "      <td>Property Maintenance</td>\n",
       "      <td>1010888252</td>\n",
       "      <td>2013-06-06T00:00:00</td>\n",
       "      <td>2013-08-09T00:00:00</td>\n",
       "      <td>NaN</td>\n",
       "      <td>YES</td>\n",
       "      <td>Code Enforcement Services</td>\n",
       "      <td>Code Enforcement (IntExp)</td>\n",
       "      <td>Alley-Way Maintenance</td>\n",
       "      <td>Open</td>\n",
       "      <td>Web Portal</td>\n",
       "      <td>6043  CASTLE QUEEN, San Antonio, 78218</td>\n",
       "      <td>2</td>\n",
       "      <td>2,169,702.00</td>\n",
       "      <td>13,725,769.00</td>\n",
       "      <td>2020-05-15T00:00:00</td>\n",
       "      <td>2021-05-15T00:00:00</td>\n",
       "    </tr>\n",
       "    <tr>\n",
       "      <th>2</th>\n",
       "      <td>Property Maintenance</td>\n",
       "      <td>1010966128</td>\n",
       "      <td>2013-07-19T00:00:00</td>\n",
       "      <td>2013-09-23T00:00:00</td>\n",
       "      <td>NaN</td>\n",
       "      <td>YES</td>\n",
       "      <td>Code Enforcement Services</td>\n",
       "      <td>Code Enforcement (IntExp)</td>\n",
       "      <td>Junk Vehicle On Private Property</td>\n",
       "      <td>Open</td>\n",
       "      <td>Web Portal</td>\n",
       "      <td>842  KIRK PL, San Antonio, 78226</td>\n",
       "      <td>5</td>\n",
       "      <td>2,116,192.00</td>\n",
       "      <td>13,692,260.00</td>\n",
       "      <td>2020-05-15T00:00:00</td>\n",
       "      <td>2021-05-15T00:00:00</td>\n",
       "    </tr>\n",
       "    <tr>\n",
       "      <th>3</th>\n",
       "      <td>Property Maintenance</td>\n",
       "      <td>1011052825</td>\n",
       "      <td>2013-09-16T00:00:00</td>\n",
       "      <td>2013-09-30T00:00:00</td>\n",
       "      <td>NaN</td>\n",
       "      <td>YES</td>\n",
       "      <td>Code Enforcement Services</td>\n",
       "      <td>Code Enforcement</td>\n",
       "      <td>Right Of Way/Sidewalk Obstruction</td>\n",
       "      <td>Open</td>\n",
       "      <td>Internal Services Requests</td>\n",
       "      <td>54  KENROCK RIDGE, San Antonio, 78254</td>\n",
       "      <td>7</td>\n",
       "      <td>2,082,242.00</td>\n",
       "      <td>13,737,817.00</td>\n",
       "      <td>2020-05-15T00:00:00</td>\n",
       "      <td>2021-05-15T00:00:00</td>\n",
       "    </tr>\n",
       "    <tr>\n",
       "      <th>4</th>\n",
       "      <td>Property Maintenance</td>\n",
       "      <td>1011052826</td>\n",
       "      <td>2013-09-16T00:00:00</td>\n",
       "      <td>2013-09-30T00:00:00</td>\n",
       "      <td>NaN</td>\n",
       "      <td>YES</td>\n",
       "      <td>Code Enforcement Services</td>\n",
       "      <td>Code Enforcement</td>\n",
       "      <td>Right Of Way/Sidewalk Obstruction</td>\n",
       "      <td>Open</td>\n",
       "      <td>Internal Services Requests</td>\n",
       "      <td>74  KENROCK RIDGE, San Antonio, 78254</td>\n",
       "      <td>7</td>\n",
       "      <td>2,082,389.00</td>\n",
       "      <td>13,737,877.00</td>\n",
       "      <td>2020-05-15T00:00:00</td>\n",
       "      <td>2021-05-15T00:00:00</td>\n",
       "    </tr>\n",
       "  </tbody>\n",
       "</table>\n",
       "</div>"
      ],
      "text/plain": [
       "               Category      CASEID       OPENEDDATETIME             SLA_Date  \\\n",
       "0              Graffiti  1010444245  2012-08-15T00:00:00  2012-08-30T00:00:00   \n",
       "1  Property Maintenance  1010888252  2013-06-06T00:00:00  2013-08-09T00:00:00   \n",
       "2  Property Maintenance  1010966128  2013-07-19T00:00:00  2013-09-23T00:00:00   \n",
       "3  Property Maintenance  1011052825  2013-09-16T00:00:00  2013-09-30T00:00:00   \n",
       "4  Property Maintenance  1011052826  2013-09-16T00:00:00  2013-09-30T00:00:00   \n",
       "\n",
       "  CLOSEDDATETIME Late (Yes/No)                       Dept  \\\n",
       "0            NaN           YES  Code Enforcement Services   \n",
       "1            NaN           YES  Code Enforcement Services   \n",
       "2            NaN           YES  Code Enforcement Services   \n",
       "3            NaN           YES  Code Enforcement Services   \n",
       "4            NaN           YES  Code Enforcement Services   \n",
       "\n",
       "                  REASONNAME                           TYPENAME CaseStatus  \\\n",
       "0                   Graffiti           Graffiti Public Property       Open   \n",
       "1  Code Enforcement (IntExp)              Alley-Way Maintenance       Open   \n",
       "2  Code Enforcement (IntExp)   Junk Vehicle On Private Property       Open   \n",
       "3           Code Enforcement  Right Of Way/Sidewalk Obstruction       Open   \n",
       "4           Code Enforcement  Right Of Way/Sidewalk Obstruction       Open   \n",
       "\n",
       "                     SourceID                              OBJECTDESC  \\\n",
       "0                  Web Portal   600  NOGALITOS ST, San Antonio, 78204   \n",
       "1                  Web Portal  6043  CASTLE QUEEN, San Antonio, 78218   \n",
       "2                  Web Portal        842  KIRK PL, San Antonio, 78226   \n",
       "3  Internal Services Requests   54  KENROCK RIDGE, San Antonio, 78254   \n",
       "4  Internal Services Requests   74  KENROCK RIDGE, San Antonio, 78254   \n",
       "\n",
       "   Council District               XCOORD               YCOORD  \\\n",
       "0                 5         2,125,683.00        13,695,548.00   \n",
       "1                 2         2,169,702.00        13,725,769.00   \n",
       "2                 5         2,116,192.00        13,692,260.00   \n",
       "3                 7         2,082,242.00        13,737,817.00   \n",
       "4                 7         2,082,389.00        13,737,877.00   \n",
       "\n",
       "  Report Starting Date   Report Ending Date  \n",
       "0  2020-05-15T00:00:00  2021-05-15T00:00:00  \n",
       "1  2020-05-15T00:00:00  2021-05-15T00:00:00  \n",
       "2  2020-05-15T00:00:00  2021-05-15T00:00:00  \n",
       "3  2020-05-15T00:00:00  2021-05-15T00:00:00  \n",
       "4  2020-05-15T00:00:00  2021-05-15T00:00:00  "
      ]
     },
     "execution_count": 54,
     "metadata": {},
     "output_type": "execute_result"
    }
   ],
   "source": [
    "df2.head()"
   ]
  },
  {
   "cell_type": "code",
   "execution_count": 55,
   "metadata": {},
   "outputs": [
    {
     "data": {
      "text/plain": [
       "Waste Collection                 152898\n",
       "Code Enforcement                 136050\n",
       "Field Operations                  75100\n",
       "Miscellaneous                     30407\n",
       "Traffic Operations                26148\n",
       "Streets                           25816\n",
       "Trades                             9590\n",
       "Stormwater                         6797\n",
       "Small Business                     6106\n",
       "Solid Waste                        5261\n",
       "Workforce Development              5250\n",
       "Customer Service                   4650\n",
       "311 Call Center                    4196\n",
       "Food Establishments                1610\n",
       "Land Development                   1094\n",
       "Facility License                    908\n",
       "Clean and Green                     758\n",
       "Dangerous Premise                   701\n",
       "Shops (Internal)                    385\n",
       "Vector                              243\n",
       "Historic Preservation               224\n",
       "Signals                             223\n",
       "Urban Forestry                      209\n",
       "Traffic Engineering Design          206\n",
       "Graffiti (IntExp)                   112\n",
       "Engineering Division                108\n",
       "Natural Resources                    84\n",
       "General Sanitation                   66\n",
       "Code Enforcement (Internal)          58\n",
       "Code Enforcement (IntExp)            45\n",
       "Park Projects                        37\n",
       "Storm Water                          28\n",
       "Signs and Markings                   22\n",
       "Tree Crew                            14\n",
       "Director's Office Horizontal         10\n",
       "Graffiti                             10\n",
       "Brush                                 9\n",
       "Storm Water Engineering               3\n",
       "Clean and Green Natural Areas         1\n",
       "District 2                            1\n",
       "Traffic Issue Investigation           1\n",
       "Shops                                 1\n",
       "Name: REASONNAME, dtype: int64"
      ]
     },
     "execution_count": 55,
     "metadata": {},
     "output_type": "execute_result"
    }
   ],
   "source": [
    "df2.REASONNAME.value_counts()"
   ]
  },
  {
   "cell_type": "code",
   "execution_count": 56,
   "metadata": {},
   "outputs": [],
   "source": [
    "df2 = clean_reason(df2)"
   ]
  },
  {
   "cell_type": "code",
   "execution_count": 57,
   "metadata": {},
   "outputs": [
    {
     "data": {
      "text/html": [
       "<div>\n",
       "<style scoped>\n",
       "    .dataframe tbody tr th:only-of-type {\n",
       "        vertical-align: middle;\n",
       "    }\n",
       "\n",
       "    .dataframe tbody tr th {\n",
       "        vertical-align: top;\n",
       "    }\n",
       "\n",
       "    .dataframe thead th {\n",
       "        text-align: right;\n",
       "    }\n",
       "</style>\n",
       "<table border=\"1\" class=\"dataframe\">\n",
       "  <thead>\n",
       "    <tr style=\"text-align: right;\">\n",
       "      <th></th>\n",
       "      <th>Category</th>\n",
       "      <th>CASEID</th>\n",
       "      <th>OPENEDDATETIME</th>\n",
       "      <th>SLA_Date</th>\n",
       "      <th>CLOSEDDATETIME</th>\n",
       "      <th>Late (Yes/No)</th>\n",
       "      <th>Dept</th>\n",
       "      <th>REASONNAME</th>\n",
       "      <th>TYPENAME</th>\n",
       "      <th>CaseStatus</th>\n",
       "      <th>SourceID</th>\n",
       "      <th>OBJECTDESC</th>\n",
       "      <th>Council District</th>\n",
       "      <th>XCOORD</th>\n",
       "      <th>YCOORD</th>\n",
       "      <th>Report Starting Date</th>\n",
       "      <th>Report Ending Date</th>\n",
       "    </tr>\n",
       "  </thead>\n",
       "  <tbody>\n",
       "    <tr>\n",
       "      <th>0</th>\n",
       "      <td>Graffiti</td>\n",
       "      <td>1010444245</td>\n",
       "      <td>2012-08-15T00:00:00</td>\n",
       "      <td>2012-08-30T00:00:00</td>\n",
       "      <td>NaN</td>\n",
       "      <td>YES</td>\n",
       "      <td>Code Enforcement Services</td>\n",
       "      <td>cleanup</td>\n",
       "      <td>Graffiti Public Property</td>\n",
       "      <td>Open</td>\n",
       "      <td>Web Portal</td>\n",
       "      <td>600  NOGALITOS ST, San Antonio, 78204</td>\n",
       "      <td>5</td>\n",
       "      <td>2,125,683.00</td>\n",
       "      <td>13,695,548.00</td>\n",
       "      <td>2020-05-15T00:00:00</td>\n",
       "      <td>2021-05-15T00:00:00</td>\n",
       "    </tr>\n",
       "    <tr>\n",
       "      <th>1</th>\n",
       "      <td>Property Maintenance</td>\n",
       "      <td>1010888252</td>\n",
       "      <td>2013-06-06T00:00:00</td>\n",
       "      <td>2013-08-09T00:00:00</td>\n",
       "      <td>NaN</td>\n",
       "      <td>YES</td>\n",
       "      <td>Code Enforcement Services</td>\n",
       "      <td>code</td>\n",
       "      <td>Alley-Way Maintenance</td>\n",
       "      <td>Open</td>\n",
       "      <td>Web Portal</td>\n",
       "      <td>6043  CASTLE QUEEN, San Antonio, 78218</td>\n",
       "      <td>2</td>\n",
       "      <td>2,169,702.00</td>\n",
       "      <td>13,725,769.00</td>\n",
       "      <td>2020-05-15T00:00:00</td>\n",
       "      <td>2021-05-15T00:00:00</td>\n",
       "    </tr>\n",
       "    <tr>\n",
       "      <th>2</th>\n",
       "      <td>Property Maintenance</td>\n",
       "      <td>1010966128</td>\n",
       "      <td>2013-07-19T00:00:00</td>\n",
       "      <td>2013-09-23T00:00:00</td>\n",
       "      <td>NaN</td>\n",
       "      <td>YES</td>\n",
       "      <td>Code Enforcement Services</td>\n",
       "      <td>code</td>\n",
       "      <td>Junk Vehicle On Private Property</td>\n",
       "      <td>Open</td>\n",
       "      <td>Web Portal</td>\n",
       "      <td>842  KIRK PL, San Antonio, 78226</td>\n",
       "      <td>5</td>\n",
       "      <td>2,116,192.00</td>\n",
       "      <td>13,692,260.00</td>\n",
       "      <td>2020-05-15T00:00:00</td>\n",
       "      <td>2021-05-15T00:00:00</td>\n",
       "    </tr>\n",
       "    <tr>\n",
       "      <th>3</th>\n",
       "      <td>Property Maintenance</td>\n",
       "      <td>1011052825</td>\n",
       "      <td>2013-09-16T00:00:00</td>\n",
       "      <td>2013-09-30T00:00:00</td>\n",
       "      <td>NaN</td>\n",
       "      <td>YES</td>\n",
       "      <td>Code Enforcement Services</td>\n",
       "      <td>code</td>\n",
       "      <td>Right Of Way/Sidewalk Obstruction</td>\n",
       "      <td>Open</td>\n",
       "      <td>Internal Services Requests</td>\n",
       "      <td>54  KENROCK RIDGE, San Antonio, 78254</td>\n",
       "      <td>7</td>\n",
       "      <td>2,082,242.00</td>\n",
       "      <td>13,737,817.00</td>\n",
       "      <td>2020-05-15T00:00:00</td>\n",
       "      <td>2021-05-15T00:00:00</td>\n",
       "    </tr>\n",
       "    <tr>\n",
       "      <th>4</th>\n",
       "      <td>Property Maintenance</td>\n",
       "      <td>1011052826</td>\n",
       "      <td>2013-09-16T00:00:00</td>\n",
       "      <td>2013-09-30T00:00:00</td>\n",
       "      <td>NaN</td>\n",
       "      <td>YES</td>\n",
       "      <td>Code Enforcement Services</td>\n",
       "      <td>code</td>\n",
       "      <td>Right Of Way/Sidewalk Obstruction</td>\n",
       "      <td>Open</td>\n",
       "      <td>Internal Services Requests</td>\n",
       "      <td>74  KENROCK RIDGE, San Antonio, 78254</td>\n",
       "      <td>7</td>\n",
       "      <td>2,082,389.00</td>\n",
       "      <td>13,737,877.00</td>\n",
       "      <td>2020-05-15T00:00:00</td>\n",
       "      <td>2021-05-15T00:00:00</td>\n",
       "    </tr>\n",
       "  </tbody>\n",
       "</table>\n",
       "</div>"
      ],
      "text/plain": [
       "               Category      CASEID       OPENEDDATETIME             SLA_Date  \\\n",
       "0              Graffiti  1010444245  2012-08-15T00:00:00  2012-08-30T00:00:00   \n",
       "1  Property Maintenance  1010888252  2013-06-06T00:00:00  2013-08-09T00:00:00   \n",
       "2  Property Maintenance  1010966128  2013-07-19T00:00:00  2013-09-23T00:00:00   \n",
       "3  Property Maintenance  1011052825  2013-09-16T00:00:00  2013-09-30T00:00:00   \n",
       "4  Property Maintenance  1011052826  2013-09-16T00:00:00  2013-09-30T00:00:00   \n",
       "\n",
       "  CLOSEDDATETIME Late (Yes/No)                       Dept REASONNAME  \\\n",
       "0            NaN           YES  Code Enforcement Services    cleanup   \n",
       "1            NaN           YES  Code Enforcement Services       code   \n",
       "2            NaN           YES  Code Enforcement Services       code   \n",
       "3            NaN           YES  Code Enforcement Services       code   \n",
       "4            NaN           YES  Code Enforcement Services       code   \n",
       "\n",
       "                            TYPENAME CaseStatus                    SourceID  \\\n",
       "0           Graffiti Public Property       Open                  Web Portal   \n",
       "1              Alley-Way Maintenance       Open                  Web Portal   \n",
       "2   Junk Vehicle On Private Property       Open                  Web Portal   \n",
       "3  Right Of Way/Sidewalk Obstruction       Open  Internal Services Requests   \n",
       "4  Right Of Way/Sidewalk Obstruction       Open  Internal Services Requests   \n",
       "\n",
       "                               OBJECTDESC  Council District  \\\n",
       "0   600  NOGALITOS ST, San Antonio, 78204                 5   \n",
       "1  6043  CASTLE QUEEN, San Antonio, 78218                 2   \n",
       "2        842  KIRK PL, San Antonio, 78226                 5   \n",
       "3   54  KENROCK RIDGE, San Antonio, 78254                 7   \n",
       "4   74  KENROCK RIDGE, San Antonio, 78254                 7   \n",
       "\n",
       "                XCOORD               YCOORD Report Starting Date  \\\n",
       "0         2,125,683.00        13,695,548.00  2020-05-15T00:00:00   \n",
       "1         2,169,702.00        13,725,769.00  2020-05-15T00:00:00   \n",
       "2         2,116,192.00        13,692,260.00  2020-05-15T00:00:00   \n",
       "3         2,082,242.00        13,737,817.00  2020-05-15T00:00:00   \n",
       "4         2,082,389.00        13,737,877.00  2020-05-15T00:00:00   \n",
       "\n",
       "    Report Ending Date  \n",
       "0  2021-05-15T00:00:00  \n",
       "1  2021-05-15T00:00:00  \n",
       "2  2021-05-15T00:00:00  \n",
       "3  2021-05-15T00:00:00  \n",
       "4  2021-05-15T00:00:00  "
      ]
     },
     "execution_count": 57,
     "metadata": {},
     "output_type": "execute_result"
    }
   ],
   "source": [
    "df2.head()"
   ]
  },
  {
   "cell_type": "code",
   "execution_count": 58,
   "metadata": {},
   "outputs": [
    {
     "data": {
      "text/plain": [
       "waste               158168\n",
       "code                136153\n",
       "field                75343\n",
       "misc                 30407\n",
       "traffic              26355\n",
       "streets              26061\n",
       "trades                9590\n",
       "customer_service      8856\n",
       "business              8102\n",
       "storm                 6828\n",
       "workforce             5250\n",
       "land                  2198\n",
       "buildings             1033\n",
       "license                908\n",
       "cleanup                188\n",
       "Name: REASONNAME, dtype: int64"
      ]
     },
     "execution_count": 58,
     "metadata": {},
     "output_type": "execute_result"
    }
   ],
   "source": [
    "df2.REASONNAME.value_counts()"
   ]
  },
  {
   "cell_type": "code",
   "execution_count": 59,
   "metadata": {},
   "outputs": [],
   "source": [
    "# rename columns\n",
    "def clean_column_names(df):\n",
    "    '''This function reads in a dataframe as a positional argument, makes the column names easier to call and\n",
    "    more python friendly. It also extracts the zip code from the address column. It then returns a cleaned data \n",
    "    frame.'''\n",
    "    df= df.rename(columns={\n",
    "                    'Category':'category', 'OPENEDDATETIME':'open_date', 'Dept': 'dept',\n",
    "                    'SLA_Date':'due_date', 'CLOSEDDATETIME': 'closed_date', 'Late (Yes/No)': 'is_late',\n",
    "                    'OBJECTDESC': 'address', 'REASONNAME': 'call_reason', 'TYPENAME': 'case_type', \n",
    "                    'Council District': 'council_district', 'CASEID': 'case_id',\n",
    "                    'CaseStatus': 'case_status', 'SourceID':'source_id', 'XCOORD': 'longitude', 'YCOORD': 'latitude',\n",
    "                    'Report Starting Date': 'report_start_date', 'Report Ending Date': 'report_end_date'\n",
    "                      })\n",
    "    df['zipcode'] = df['address'].str.extract(r'(\\d{5}\\-?\\d{0,4})')\n",
    "    return df"
   ]
  },
  {
   "cell_type": "code",
   "execution_count": 60,
   "metadata": {},
   "outputs": [],
   "source": [
    "df2 = clean_column_names(df2)"
   ]
  },
  {
   "cell_type": "code",
   "execution_count": 61,
   "metadata": {},
   "outputs": [
    {
     "name": "stdout",
     "output_type": "stream",
     "text": [
      "<class 'pandas.core.frame.DataFrame'>\n",
      "RangeIndex: 495440 entries, 0 to 495439\n",
      "Data columns (total 18 columns):\n",
      " #   Column             Non-Null Count   Dtype  \n",
      "---  ------             --------------   -----  \n",
      " 0   category           495440 non-null  object \n",
      " 1   case_id            495440 non-null  int64  \n",
      " 2   open_date          495440 non-null  object \n",
      " 3   due_date           481300 non-null  object \n",
      " 4   closed_date        441387 non-null  object \n",
      " 5   is_late            495440 non-null  object \n",
      " 6   dept               445141 non-null  object \n",
      " 7   call_reason        495440 non-null  object \n",
      " 8   case_type          495440 non-null  object \n",
      " 9   case_status        495440 non-null  object \n",
      " 10  source_id          495440 non-null  object \n",
      " 11  address            495440 non-null  object \n",
      " 12  council_district   495440 non-null  int64  \n",
      " 13  longitude          495345 non-null  float64\n",
      " 14  latitude           495345 non-null  float64\n",
      " 15  report_start_date  495440 non-null  object \n",
      " 16  report_end_date    495440 non-null  object \n",
      " 17  zipcode            415880 non-null  object \n",
      "dtypes: float64(2), int64(2), object(14)\n",
      "memory usage: 68.0+ MB\n"
     ]
    }
   ],
   "source": [
    "df2.info()"
   ]
  }
 ],
 "metadata": {
  "kernelspec": {
   "display_name": "Python 3",
   "language": "python",
   "name": "python3"
  },
  "language_info": {
   "codemirror_mode": {
    "name": "ipython",
    "version": 3
   },
   "file_extension": ".py",
   "mimetype": "text/x-python",
   "name": "python",
   "nbconvert_exporter": "python",
   "pygments_lexer": "ipython3",
   "version": "3.8.5"
  }
 },
 "nbformat": 4,
 "nbformat_minor": 4
}
