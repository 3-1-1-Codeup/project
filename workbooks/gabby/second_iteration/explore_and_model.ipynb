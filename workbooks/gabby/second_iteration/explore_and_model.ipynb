{
 "cells": [
  {
   "cell_type": "code",
   "execution_count": 1,
   "metadata": {},
   "outputs": [],
   "source": [
    "from wrangle import get_311_data, clean_311, split_separate_scale\n",
    "import pandas as pd\n",
    "import numpy as np\n",
    "import seaborn as sns\n",
    "import matplotlib.pyplot as plt\n",
    "%matplotlib inline\n",
    "import scipy.stats as stats\n",
    "\n",
    "\n",
    "import warnings\n",
    "warnings.filterwarnings(\"ignore\")\n",
    "import os\n",
    "pd.set_option(\"display.max_rows\", None, \"display.max_columns\", None)"
   ]
  },
  {
   "cell_type": "code",
   "execution_count": 2,
   "metadata": {},
   "outputs": [],
   "source": [
    "# Preparing the notebook by importing necessary modules\n",
    "# SK Learn Imports\n",
    "from sklearn.model_selection import train_test_split\n",
    "from sklearn.linear_model import RidgeClassifier, LogisticRegression, RidgeClassifierCV\n",
    "from sklearn.tree import DecisionTreeClassifier\n",
    "from sklearn.ensemble import RandomForestClassifier\n",
    "from sklearn.metrics import classification_report, confusion_matrix, accuracy_score\n",
    "from sklearn.neighbors import KNeighborsClassifier\n",
    "# Standard imports\n",
    "import pandas as pd\n",
    "import numpy as np\n",
    "import seaborn as sns\n",
    "import matplotlib.pyplot as plt\n",
    "%matplotlib inline\n",
    "from scipy import stats\n",
    "from math import sqrt\n",
    "\n",
    "# Formatting my notebook\n",
    "import warnings\n",
    "warnings.filterwarnings(\"ignore\")\n",
    "pd.set_option(\"display.max_rows\", None, \"display.max_columns\", None)"
   ]
  },
  {
   "cell_type": "code",
   "execution_count": 3,
   "metadata": {},
   "outputs": [],
   "source": [
    "df= clean_311(get_311_data())"
   ]
  },
  {
   "cell_type": "code",
   "execution_count": 4,
   "metadata": {},
   "outputs": [
    {
     "data": {
      "text/html": [
       "<div>\n",
       "<style scoped>\n",
       "    .dataframe tbody tr th:only-of-type {\n",
       "        vertical-align: middle;\n",
       "    }\n",
       "\n",
       "    .dataframe tbody tr th {\n",
       "        vertical-align: top;\n",
       "    }\n",
       "\n",
       "    .dataframe thead th {\n",
       "        text-align: right;\n",
       "    }\n",
       "</style>\n",
       "<table border=\"1\" class=\"dataframe\">\n",
       "  <thead>\n",
       "    <tr style=\"text-align: right;\">\n",
       "      <th></th>\n",
       "      <th>open_date</th>\n",
       "      <th>due_date</th>\n",
       "      <th>closed_date</th>\n",
       "      <th>is_late</th>\n",
       "      <th>dept</th>\n",
       "      <th>call_reason</th>\n",
       "      <th>case_type</th>\n",
       "      <th>case_status</th>\n",
       "      <th>source_id</th>\n",
       "      <th>address</th>\n",
       "      <th>council_district</th>\n",
       "      <th>longitude</th>\n",
       "      <th>latitude</th>\n",
       "      <th>days_open</th>\n",
       "      <th>resolution_days_due</th>\n",
       "      <th>days_before_or_after_due</th>\n",
       "      <th>pct_time_of_used</th>\n",
       "      <th>level_of_delay</th>\n",
       "      <th>district_1</th>\n",
       "      <th>district_2</th>\n",
       "      <th>district_3</th>\n",
       "      <th>district_4</th>\n",
       "      <th>district_5</th>\n",
       "      <th>district_6</th>\n",
       "      <th>district_7</th>\n",
       "      <th>district_8</th>\n",
       "      <th>district_9</th>\n",
       "      <th>district_10</th>\n",
       "      <th>voter_turnout_2019</th>\n",
       "      <th>num_of_registered_voters</th>\n",
       "      <th>zipcode</th>\n",
       "      <th>open_month</th>\n",
       "      <th>open_year</th>\n",
       "      <th>open_week</th>\n",
       "      <th>per_capita_income</th>\n",
       "      <th>square_miles</th>\n",
       "    </tr>\n",
       "  </thead>\n",
       "  <tbody>\n",
       "    <tr>\n",
       "      <th>551</th>\n",
       "      <td>2017-01-27</td>\n",
       "      <td>2017-02-03</td>\n",
       "      <td>2020-11-19</td>\n",
       "      <td>YES</td>\n",
       "      <td>Customer Service</td>\n",
       "      <td>customer_service</td>\n",
       "      <td>Complaint</td>\n",
       "      <td>Closed</td>\n",
       "      <td>Constituent Call</td>\n",
       "      <td>2407  WYOMING ST, San Antonio, 78203</td>\n",
       "      <td>2</td>\n",
       "      <td>2142962.0</td>\n",
       "      <td>13699885.0</td>\n",
       "      <td>1393.0</td>\n",
       "      <td>8</td>\n",
       "      <td>-1385.0</td>\n",
       "      <td>174.125</td>\n",
       "      <td>Very Late Response</td>\n",
       "      <td>0</td>\n",
       "      <td>1</td>\n",
       "      <td>0</td>\n",
       "      <td>0</td>\n",
       "      <td>0</td>\n",
       "      <td>0</td>\n",
       "      <td>0</td>\n",
       "      <td>0</td>\n",
       "      <td>0</td>\n",
       "      <td>0</td>\n",
       "      <td>0.086</td>\n",
       "      <td>67656</td>\n",
       "      <td>78203</td>\n",
       "      <td>1</td>\n",
       "      <td>2017</td>\n",
       "      <td>4</td>\n",
       "      <td>19055</td>\n",
       "      <td>59.81</td>\n",
       "    </tr>\n",
       "  </tbody>\n",
       "</table>\n",
       "</div>"
      ],
      "text/plain": [
       "     open_date   due_date closed_date is_late              dept  \\\n",
       "551 2017-01-27 2017-02-03  2020-11-19     YES  Customer Service   \n",
       "\n",
       "          call_reason  case_type case_status         source_id  \\\n",
       "551  customer_service  Complaint      Closed  Constituent Call   \n",
       "\n",
       "                                  address  council_district  longitude  \\\n",
       "551  2407  WYOMING ST, San Antonio, 78203                 2  2142962.0   \n",
       "\n",
       "       latitude  days_open  resolution_days_due  days_before_or_after_due  \\\n",
       "551  13699885.0     1393.0                    8                   -1385.0   \n",
       "\n",
       "     pct_time_of_used      level_of_delay  district_1  district_2  district_3  \\\n",
       "551           174.125  Very Late Response           0           1           0   \n",
       "\n",
       "     district_4  district_5  district_6  district_7  district_8  district_9  \\\n",
       "551           0           0           0           0           0           0   \n",
       "\n",
       "     district_10  voter_turnout_2019  num_of_registered_voters zipcode  \\\n",
       "551            0               0.086                     67656   78203   \n",
       "\n",
       "     open_month  open_year  open_week  per_capita_income  square_miles  \n",
       "551           1       2017          4              19055         59.81  "
      ]
     },
     "execution_count": 4,
     "metadata": {},
     "output_type": "execute_result"
    }
   ],
   "source": [
    "df.head(1)"
   ]
  },
  {
   "cell_type": "code",
   "execution_count": 5,
   "metadata": {},
   "outputs": [
    {
     "name": "stdout",
     "output_type": "stream",
     "text": [
      "<class 'pandas.core.frame.DataFrame'>\n",
      "Int64Index: 356804 entries, 551 to 399979\n",
      "Data columns (total 36 columns):\n",
      " #   Column                    Non-Null Count   Dtype         \n",
      "---  ------                    --------------   -----         \n",
      " 0   open_date                 356804 non-null  datetime64[ns]\n",
      " 1   due_date                  356804 non-null  datetime64[ns]\n",
      " 2   closed_date               356804 non-null  datetime64[ns]\n",
      " 3   is_late                   356804 non-null  object        \n",
      " 4   dept                      356804 non-null  object        \n",
      " 5   call_reason               356804 non-null  object        \n",
      " 6   case_type                 356804 non-null  object        \n",
      " 7   case_status               356804 non-null  object        \n",
      " 8   source_id                 356804 non-null  object        \n",
      " 9   address                   356804 non-null  object        \n",
      " 10  council_district          356804 non-null  int64         \n",
      " 11  longitude                 356804 non-null  float64       \n",
      " 12  latitude                  356804 non-null  float64       \n",
      " 13  days_open                 356804 non-null  float64       \n",
      " 14  resolution_days_due       356804 non-null  int64         \n",
      " 15  days_before_or_after_due  356804 non-null  float64       \n",
      " 16  pct_time_of_used          356804 non-null  float64       \n",
      " 17  level_of_delay            356804 non-null  category      \n",
      " 18  district_1                356804 non-null  uint8         \n",
      " 19  district_2                356804 non-null  uint8         \n",
      " 20  district_3                356804 non-null  uint8         \n",
      " 21  district_4                356804 non-null  uint8         \n",
      " 22  district_5                356804 non-null  uint8         \n",
      " 23  district_6                356804 non-null  uint8         \n",
      " 24  district_7                356804 non-null  uint8         \n",
      " 25  district_8                356804 non-null  uint8         \n",
      " 26  district_9                356804 non-null  uint8         \n",
      " 27  district_10               356804 non-null  uint8         \n",
      " 28  voter_turnout_2019        356804 non-null  float64       \n",
      " 29  num_of_registered_voters  356804 non-null  int64         \n",
      " 30  zipcode                   356804 non-null  object        \n",
      " 31  open_month                356804 non-null  int64         \n",
      " 32  open_year                 356804 non-null  int64         \n",
      " 33  open_week                 356804 non-null  int64         \n",
      " 34  per_capita_income         356804 non-null  int64         \n",
      " 35  square_miles              356804 non-null  float64       \n",
      "dtypes: category(1), datetime64[ns](3), float64(7), int64(7), object(8), uint8(10)\n",
      "memory usage: 74.5+ MB\n"
     ]
    }
   ],
   "source": [
    "df.info()"
   ]
  },
  {
   "cell_type": "code",
   "execution_count": 6,
   "metadata": {},
   "outputs": [
    {
     "data": {
      "text/plain": [
       "open_date                   0\n",
       "due_date                    0\n",
       "closed_date                 0\n",
       "is_late                     0\n",
       "dept                        0\n",
       "call_reason                 0\n",
       "case_type                   0\n",
       "case_status                 0\n",
       "source_id                   0\n",
       "address                     0\n",
       "council_district            0\n",
       "longitude                   0\n",
       "latitude                    0\n",
       "days_open                   0\n",
       "resolution_days_due         0\n",
       "days_before_or_after_due    0\n",
       "pct_time_of_used            0\n",
       "level_of_delay              0\n",
       "district_1                  0\n",
       "district_2                  0\n",
       "district_3                  0\n",
       "district_4                  0\n",
       "district_5                  0\n",
       "district_6                  0\n",
       "district_7                  0\n",
       "district_8                  0\n",
       "district_9                  0\n",
       "district_10                 0\n",
       "voter_turnout_2019          0\n",
       "num_of_registered_voters    0\n",
       "zipcode                     0\n",
       "open_month                  0\n",
       "open_year                   0\n",
       "open_week                   0\n",
       "per_capita_income           0\n",
       "square_miles                0\n",
       "dtype: int64"
      ]
     },
     "execution_count": 6,
     "metadata": {},
     "output_type": "execute_result"
    }
   ],
   "source": [
    "df.isna().sum()"
   ]
  },
  {
   "cell_type": "code",
   "execution_count": 7,
   "metadata": {},
   "outputs": [
    {
     "data": {
      "text/plain": [
       "0"
      ]
     },
     "execution_count": 7,
     "metadata": {},
     "output_type": "execute_result"
    }
   ],
   "source": [
    "df.closed_date.isna().sum()"
   ]
  },
  {
   "cell_type": "code",
   "execution_count": 8,
   "metadata": {},
   "outputs": [],
   "source": [
    "train, validate, test, X_train, y_train, X_validate, y_validate, X_test, y_test, train_scaled, validate_scaled, test_scaled = split_separate_scale(df, stratify_by= 'level_of_delay')"
   ]
  },
  {
   "cell_type": "code",
   "execution_count": 9,
   "metadata": {},
   "outputs": [
    {
     "data": {
      "text/html": [
       "<div>\n",
       "<style scoped>\n",
       "    .dataframe tbody tr th:only-of-type {\n",
       "        vertical-align: middle;\n",
       "    }\n",
       "\n",
       "    .dataframe tbody tr th {\n",
       "        vertical-align: top;\n",
       "    }\n",
       "\n",
       "    .dataframe thead th {\n",
       "        text-align: right;\n",
       "    }\n",
       "</style>\n",
       "<table border=\"1\" class=\"dataframe\">\n",
       "  <thead>\n",
       "    <tr style=\"text-align: right;\">\n",
       "      <th></th>\n",
       "      <th>open_date</th>\n",
       "      <th>due_date</th>\n",
       "      <th>closed_date</th>\n",
       "      <th>is_late</th>\n",
       "      <th>dept</th>\n",
       "      <th>call_reason</th>\n",
       "      <th>case_type</th>\n",
       "      <th>case_status</th>\n",
       "      <th>source_id</th>\n",
       "      <th>address</th>\n",
       "      <th>council_district</th>\n",
       "      <th>longitude</th>\n",
       "      <th>latitude</th>\n",
       "      <th>days_open</th>\n",
       "      <th>resolution_days_due</th>\n",
       "      <th>days_before_or_after_due</th>\n",
       "      <th>pct_time_of_used</th>\n",
       "      <th>level_of_delay</th>\n",
       "      <th>district_1</th>\n",
       "      <th>district_2</th>\n",
       "      <th>district_3</th>\n",
       "      <th>district_4</th>\n",
       "      <th>district_5</th>\n",
       "      <th>district_6</th>\n",
       "      <th>district_7</th>\n",
       "      <th>district_8</th>\n",
       "      <th>district_9</th>\n",
       "      <th>district_10</th>\n",
       "      <th>voter_turnout_2019</th>\n",
       "      <th>num_of_registered_voters</th>\n",
       "      <th>zipcode</th>\n",
       "      <th>open_month</th>\n",
       "      <th>open_year</th>\n",
       "      <th>open_week</th>\n",
       "      <th>per_capita_income</th>\n",
       "      <th>square_miles</th>\n",
       "    </tr>\n",
       "  </thead>\n",
       "  <tbody>\n",
       "    <tr>\n",
       "      <th>196649</th>\n",
       "      <td>2020-10-19</td>\n",
       "      <td>2020-10-22</td>\n",
       "      <td>2020-10-20</td>\n",
       "      <td>NO</td>\n",
       "      <td>Solid Waste Management</td>\n",
       "      <td>waste</td>\n",
       "      <td>No Pickup</td>\n",
       "      <td>Closed</td>\n",
       "      <td>Web Portal</td>\n",
       "      <td>1243 CERALVO ST, SAN ANTONIO, 78207</td>\n",
       "      <td>5</td>\n",
       "      <td>2114089.0</td>\n",
       "      <td>13696397.0</td>\n",
       "      <td>2.0</td>\n",
       "      <td>4</td>\n",
       "      <td>2.0</td>\n",
       "      <td>0.5</td>\n",
       "      <td>Early Response</td>\n",
       "      <td>0</td>\n",
       "      <td>0</td>\n",
       "      <td>0</td>\n",
       "      <td>0</td>\n",
       "      <td>1</td>\n",
       "      <td>0</td>\n",
       "      <td>0</td>\n",
       "      <td>0</td>\n",
       "      <td>0</td>\n",
       "      <td>0</td>\n",
       "      <td>0.085</td>\n",
       "      <td>61418</td>\n",
       "      <td>78207</td>\n",
       "      <td>10</td>\n",
       "      <td>2020</td>\n",
       "      <td>43</td>\n",
       "      <td>13836</td>\n",
       "      <td>22.24</td>\n",
       "    </tr>\n",
       "  </tbody>\n",
       "</table>\n",
       "</div>"
      ],
      "text/plain": [
       "        open_date   due_date closed_date is_late                    dept  \\\n",
       "196649 2020-10-19 2020-10-22  2020-10-20      NO  Solid Waste Management   \n",
       "\n",
       "       call_reason  case_type case_status   source_id  \\\n",
       "196649       waste  No Pickup      Closed  Web Portal   \n",
       "\n",
       "                                     address  council_district  longitude  \\\n",
       "196649   1243 CERALVO ST, SAN ANTONIO, 78207                 5  2114089.0   \n",
       "\n",
       "          latitude  days_open  resolution_days_due  days_before_or_after_due  \\\n",
       "196649  13696397.0        2.0                    4                       2.0   \n",
       "\n",
       "        pct_time_of_used  level_of_delay  district_1  district_2  district_3  \\\n",
       "196649               0.5  Early Response           0           0           0   \n",
       "\n",
       "        district_4  district_5  district_6  district_7  district_8  \\\n",
       "196649           0           1           0           0           0   \n",
       "\n",
       "        district_9  district_10  voter_turnout_2019  num_of_registered_voters  \\\n",
       "196649           0            0               0.085                     61418   \n",
       "\n",
       "       zipcode  open_month  open_year  open_week  per_capita_income  \\\n",
       "196649   78207          10       2020         43              13836   \n",
       "\n",
       "        square_miles  \n",
       "196649         22.24  "
      ]
     },
     "execution_count": 9,
     "metadata": {},
     "output_type": "execute_result"
    }
   ],
   "source": [
    "train.head(1)"
   ]
  },
  {
   "cell_type": "code",
   "execution_count": 10,
   "metadata": {},
   "outputs": [
    {
     "name": "stdout",
     "output_type": "stream",
     "text": [
      "<class 'pandas.core.frame.DataFrame'>\n",
      "Int64Index: 199810 entries, 196649 to 53485\n",
      "Data columns (total 36 columns):\n",
      " #   Column                    Non-Null Count   Dtype         \n",
      "---  ------                    --------------   -----         \n",
      " 0   open_date                 199810 non-null  datetime64[ns]\n",
      " 1   due_date                  199810 non-null  datetime64[ns]\n",
      " 2   closed_date               199810 non-null  datetime64[ns]\n",
      " 3   is_late                   199810 non-null  object        \n",
      " 4   dept                      199810 non-null  object        \n",
      " 5   call_reason               199810 non-null  object        \n",
      " 6   case_type                 199810 non-null  object        \n",
      " 7   case_status               199810 non-null  object        \n",
      " 8   source_id                 199810 non-null  object        \n",
      " 9   address                   199810 non-null  object        \n",
      " 10  council_district          199810 non-null  int64         \n",
      " 11  longitude                 199810 non-null  float64       \n",
      " 12  latitude                  199810 non-null  float64       \n",
      " 13  days_open                 199810 non-null  float64       \n",
      " 14  resolution_days_due       199810 non-null  int64         \n",
      " 15  days_before_or_after_due  199810 non-null  float64       \n",
      " 16  pct_time_of_used          199810 non-null  float64       \n",
      " 17  level_of_delay            199810 non-null  category      \n",
      " 18  district_1                199810 non-null  uint8         \n",
      " 19  district_2                199810 non-null  uint8         \n",
      " 20  district_3                199810 non-null  uint8         \n",
      " 21  district_4                199810 non-null  uint8         \n",
      " 22  district_5                199810 non-null  uint8         \n",
      " 23  district_6                199810 non-null  uint8         \n",
      " 24  district_7                199810 non-null  uint8         \n",
      " 25  district_8                199810 non-null  uint8         \n",
      " 26  district_9                199810 non-null  uint8         \n",
      " 27  district_10               199810 non-null  uint8         \n",
      " 28  voter_turnout_2019        199810 non-null  float64       \n",
      " 29  num_of_registered_voters  199810 non-null  int64         \n",
      " 30  zipcode                   199810 non-null  object        \n",
      " 31  open_month                199810 non-null  int64         \n",
      " 32  open_year                 199810 non-null  int64         \n",
      " 33  open_week                 199810 non-null  int64         \n",
      " 34  per_capita_income         199810 non-null  int64         \n",
      " 35  square_miles              199810 non-null  float64       \n",
      "dtypes: category(1), datetime64[ns](3), float64(7), int64(7), object(8), uint8(10)\n",
      "memory usage: 41.7+ MB\n"
     ]
    }
   ],
   "source": [
    "train.info()"
   ]
  },
  {
   "cell_type": "code",
   "execution_count": 11,
   "metadata": {},
   "outputs": [
    {
     "data": {
      "text/plain": [
       "<matplotlib.axes._subplots.AxesSubplot at 0x7fd84871f990>"
      ]
     },
     "execution_count": 11,
     "metadata": {},
     "output_type": "execute_result"
    },
    {
     "data": {
      "image/png": "[encoded data removed]",
      "text/plain": [
       "<Figure size 1440x432 with 1 Axes>"
      ]
     },
     "metadata": {
      "needs_background": "light"
     },
     "output_type": "display_data"
    }
   ],
   "source": [
    "plt.figure(figsize=(20, 6))\n",
    "sns.barplot(x=\"dept\", y=\"num_of_registered_voters\", hue=\"is_late\", data=train, palette='viridis')"
   ]
  },
  {
   "cell_type": "markdown",
   "metadata": {},
   "source": [
    "['open_year', 'animal_care_services', 'customer_services', 'solid_waste_management', 'customer_service', 'field', 'misc', '311_mobile_app'] with dummies\n",
    "\n",
    "['resolution_days_due', 'district_2', 'voter_turnout_2019', 'num_of_registered_voters', 'open_month', 'open_year', 'open_week', 'per_capita_income'] - without dummies"
   ]
  },
  {
   "cell_type": "code",
   "execution_count": 12,
   "metadata": {},
   "outputs": [
    {
     "data": {
      "text/html": [
       "<div>\n",
       "<style scoped>\n",
       "    .dataframe tbody tr th:only-of-type {\n",
       "        vertical-align: middle;\n",
       "    }\n",
       "\n",
       "    .dataframe tbody tr th {\n",
       "        vertical-align: top;\n",
       "    }\n",
       "\n",
       "    .dataframe thead th {\n",
       "        text-align: right;\n",
       "    }\n",
       "</style>\n",
       "<table border=\"1\" class=\"dataframe\">\n",
       "  <thead>\n",
       "    <tr style=\"text-align: right;\">\n",
       "      <th>is_late</th>\n",
       "      <th>NO</th>\n",
       "      <th>YES</th>\n",
       "    </tr>\n",
       "    <tr>\n",
       "      <th>council_district</th>\n",
       "      <th></th>\n",
       "      <th></th>\n",
       "    </tr>\n",
       "  </thead>\n",
       "  <tbody>\n",
       "    <tr>\n",
       "      <th>1</th>\n",
       "      <td>22583</td>\n",
       "      <td>3244</td>\n",
       "    </tr>\n",
       "    <tr>\n",
       "      <th>2</th>\n",
       "      <td>21323</td>\n",
       "      <td>5041</td>\n",
       "    </tr>\n",
       "    <tr>\n",
       "      <th>3</th>\n",
       "      <td>21439</td>\n",
       "      <td>4220</td>\n",
       "    </tr>\n",
       "    <tr>\n",
       "      <th>4</th>\n",
       "      <td>16485</td>\n",
       "      <td>2944</td>\n",
       "    </tr>\n",
       "    <tr>\n",
       "      <th>5</th>\n",
       "      <td>24392</td>\n",
       "      <td>3603</td>\n",
       "    </tr>\n",
       "    <tr>\n",
       "      <th>6</th>\n",
       "      <td>14818</td>\n",
       "      <td>2375</td>\n",
       "    </tr>\n",
       "    <tr>\n",
       "      <th>7</th>\n",
       "      <td>16177</td>\n",
       "      <td>2612</td>\n",
       "    </tr>\n",
       "    <tr>\n",
       "      <th>8</th>\n",
       "      <td>9605</td>\n",
       "      <td>1350</td>\n",
       "    </tr>\n",
       "    <tr>\n",
       "      <th>9</th>\n",
       "      <td>9716</td>\n",
       "      <td>1141</td>\n",
       "    </tr>\n",
       "    <tr>\n",
       "      <th>10</th>\n",
       "      <td>14681</td>\n",
       "      <td>2061</td>\n",
       "    </tr>\n",
       "  </tbody>\n",
       "</table>\n",
       "</div>"
      ],
      "text/plain": [
       "is_late              NO   YES\n",
       "council_district             \n",
       "1                 22583  3244\n",
       "2                 21323  5041\n",
       "3                 21439  4220\n",
       "4                 16485  2944\n",
       "5                 24392  3603\n",
       "6                 14818  2375\n",
       "7                 16177  2612\n",
       "8                  9605  1350\n",
       "9                  9716  1141\n",
       "10                14681  2061"
      ]
     },
     "execution_count": 12,
     "metadata": {},
     "output_type": "execute_result"
    },
    {
     "data": {
      "image/png": "[encoded data removed]",
      "text/plain": [
       "<Figure size 432x288 with 2 Axes>"
      ]
     },
     "metadata": {
      "needs_background": "light"
     },
     "output_type": "display_data"
    }
   ],
   "source": [
    "data = pd.crosstab(train.council_district, train['is_late'])\n",
    "sns.heatmap(data, annot=True, cmap=plt.cm.Greens)\n",
    "data"
   ]
  },
  {
   "cell_type": "code",
   "execution_count": 13,
   "metadata": {},
   "outputs": [
    {
     "data": {
      "text/plain": [
       "<seaborn.axisgrid.JointGrid at 0x7fd8297f8f90>"
      ]
     },
     "execution_count": 13,
     "metadata": {},
     "output_type": "execute_result"
    },
    {
     "data": {
      "image/png": "[encoded data removed]",
      "text/plain": [
       "<Figure size 432x432 with 3 Axes>"
      ]
     },
     "metadata": {
      "needs_background": "light"
     },
     "output_type": "display_data"
    }
   ],
   "source": [
    "sns.jointplot(data=train, x=\"council_district\", y=\"num_of_registered_voters\", hue='is_late')"
   ]
  },
  {
   "cell_type": "code",
   "execution_count": 14,
   "metadata": {},
   "outputs": [
    {
     "data": {
      "text/plain": [
       "<seaborn.axisgrid.FacetGrid at 0x7fd821929950>"
      ]
     },
     "execution_count": 14,
     "metadata": {},
     "output_type": "execute_result"
    },
    {
     "data": {
      "image/png": "[encoded data removed]",
      "text/plain": [
       "<Figure size 533.75x360 with 1 Axes>"
      ]
     },
     "metadata": {
      "needs_background": "light"
     },
     "output_type": "display_data"
    }
   ],
   "source": [
    "sns.catplot(y=\"is_late\", x=\"num_of_registered_voters\", hue='dept', data=train)"
   ]
  },
  {
   "cell_type": "code",
   "execution_count": 34,
   "metadata": {},
   "outputs": [
    {
     "data": {
      "image/png": "[encoded data removed]",
      "text/plain": [
       "<Figure size 1440x432 with 1 Axes>"
      ]
     },
     "metadata": {
      "needs_background": "light"
     },
     "output_type": "display_data"
    }
   ],
   "source": [
    "plt.figure(figsize=(20, 6))\n",
    "sns.barplot( x='dept', y='days_before_or_after_due', data=df, palette='mako_r')\n",
    "plt.title(\"Days before or after due by department\")\n",
    "plt.ylabel(\"Days before or after due\")\n",
    "plt.xlabel(\"Department\")\n",
    "plt.xticks(rotation=45)\n",
    "plt.show()"
   ]
  },
  {
   "cell_type": "markdown",
   "metadata": {},
   "source": [
    "### 2 Tailed T-Test Hypothesis Testing #1:\n",
    "####    $H_0$: Number of registered voters does not affect the number of days open.\n",
    "####    $H_a$: District 5 has the longest number of days open due to the having the lowest number of registered voters. \n",
    "##### alpha ($\\alpha$): 1 - confidence level (95% confidence level -> $\\alpha = .05$)"
   ]
  },
  {
   "cell_type": "code",
   "execution_count": 15,
   "metadata": {},
   "outputs": [
    {
     "name": "stdout",
     "output_type": "stream",
     "text": [
      "We reject the null hypothesis that the number of registered voters in a district does not affect the number of days open.\n"
     ]
    }
   ],
   "source": [
    "n = train.shape[0]     # number of observations\n",
    "degf = n - 2        # degrees of freedom: the # of values in the final calculation of a statistic that are free to vary.\n",
    "conf_interval = .95 # desired confidence interval\n",
    "α = 1 - conf_interval\n",
    "null_hypothesis = 'the number of registered voters in a district does not affect the number of days open.' # set the null hypothesis\n",
    "\n",
    "x1 = train[train.council_district == 5].days_open\n",
    "x2 = train[train.council_district != 5].days_open\n",
    "t, p= stats.ttest_ind(x1, x2)\n",
    "if p > α:\n",
    "    print(\"We fail to reject the null hypothesis. The null hypothesis is that\", null_hypothesis)\n",
    "else:\n",
    "    print(\"We reject the null hypothesis that\", null_hypothesis)"
   ]
  },
  {
   "cell_type": "markdown",
   "metadata": {},
   "source": [
    "### Chi$^2$ Hypothesis Testing #2:\n",
    "####    $H_0$: Number of registered voters does not affect the level of delay.\n",
    "####    $H_a$: District 5 has the highest level of delay due to the having the lowest number of registered voters. \n",
    "##### alpha ($\\alpha$): 1 - confidence level (95% confidence level -> $\\alpha = .05$)"
   ]
  },
  {
   "cell_type": "code",
   "execution_count": 16,
   "metadata": {},
   "outputs": [],
   "source": [
    "n = train.shape[0]     # number of observations\n",
    "degf = n - 2        # degrees of freedom: the # of values in the final calculation of a statistic that are free to vary.\n",
    "conf_interval = .95 # desired confidence interval\n",
    "α = 1 - conf_interval\n",
    "null_hypothesis = 'the number of registered voters in a district does not affect the level of delay.' # set the null hypothesis"
   ]
  },
  {
   "cell_type": "code",
   "execution_count": 17,
   "metadata": {},
   "outputs": [
    {
     "name": "stdout",
     "output_type": "stream",
     "text": [
      "We reject the null hypothesis that the number of registered voters in a district does not affect the level of delay.\n"
     ]
    }
   ],
   "source": [
    "# make contigency table\n",
    "contingency_table = pd.crosstab(train.council_district, train.level_of_delay)\n",
    "# run chi squared test\n",
    "test_results = stats.chi2_contingency(contingency_table)\n",
    "# find p value\n",
    "_, p, _, expected = test_results\n",
    "\n",
    "#give results of statistical testing\n",
    "if p > α:\n",
    "    print(\"We fail to reject the null hypothesis. The null hypothesis is that\", null_hypothesis)\n",
    "else:\n",
    "    print(\"We reject the null hypothesis that\", null_hypothesis)"
   ]
  },
  {
   "cell_type": "markdown",
   "metadata": {},
   "source": [
    "# Model "
   ]
  },
  {
   "cell_type": "code",
   "execution_count": 18,
   "metadata": {},
   "outputs": [],
   "source": [
    "from model import model_df, model_split_separate_scale"
   ]
  },
  {
   "cell_type": "code",
   "execution_count": 19,
   "metadata": {},
   "outputs": [],
   "source": [
    "df_1 = model_df()"
   ]
  },
  {
   "cell_type": "code",
   "execution_count": 20,
   "metadata": {},
   "outputs": [
    {
     "data": {
      "text/html": [
       "<div>\n",
       "<style scoped>\n",
       "    .dataframe tbody tr th:only-of-type {\n",
       "        vertical-align: middle;\n",
       "    }\n",
       "\n",
       "    .dataframe tbody tr th {\n",
       "        vertical-align: top;\n",
       "    }\n",
       "\n",
       "    .dataframe thead th {\n",
       "        text-align: right;\n",
       "    }\n",
       "</style>\n",
       "<table border=\"1\" class=\"dataframe\">\n",
       "  <thead>\n",
       "    <tr style=\"text-align: right;\">\n",
       "      <th></th>\n",
       "      <th>dept</th>\n",
       "      <th>call_reason</th>\n",
       "      <th>source_id</th>\n",
       "      <th>council_district</th>\n",
       "      <th>resolution_days_due</th>\n",
       "      <th>level_of_delay</th>\n",
       "      <th>district_1</th>\n",
       "      <th>district_2</th>\n",
       "      <th>district_3</th>\n",
       "      <th>district_4</th>\n",
       "      <th>district_5</th>\n",
       "      <th>district_6</th>\n",
       "      <th>district_7</th>\n",
       "      <th>district_8</th>\n",
       "      <th>district_9</th>\n",
       "      <th>district_10</th>\n",
       "      <th>animal_care_services</th>\n",
       "      <th>code_enforcement_services</th>\n",
       "      <th>customer_services</th>\n",
       "      <th>development_services</th>\n",
       "      <th>metro_health</th>\n",
       "      <th>parks_and_rec</th>\n",
       "      <th>solid_waste_management</th>\n",
       "      <th>trans_and_cap_improvements</th>\n",
       "      <th>unknown_dept</th>\n",
       "      <th>buildings</th>\n",
       "      <th>business</th>\n",
       "      <th>cleanup</th>\n",
       "      <th>code</th>\n",
       "      <th>customer_service</th>\n",
       "      <th>field</th>\n",
       "      <th>land</th>\n",
       "      <th>license</th>\n",
       "      <th>misc</th>\n",
       "      <th>storm</th>\n",
       "      <th>streets</th>\n",
       "      <th>trades</th>\n",
       "      <th>traffic</th>\n",
       "      <th>waste</th>\n",
       "      <th>web_portal</th>\n",
       "      <th>311_mobile_app</th>\n",
       "      <th>constituent_call</th>\n",
       "      <th>internal_services_requests</th>\n",
       "    </tr>\n",
       "  </thead>\n",
       "  <tbody>\n",
       "    <tr>\n",
       "      <th>551</th>\n",
       "      <td>Customer Service</td>\n",
       "      <td>customer_service</td>\n",
       "      <td>Constituent Call</td>\n",
       "      <td>2</td>\n",
       "      <td>8</td>\n",
       "      <td>Very Late Response</td>\n",
       "      <td>0</td>\n",
       "      <td>1</td>\n",
       "      <td>0</td>\n",
       "      <td>0</td>\n",
       "      <td>0</td>\n",
       "      <td>0</td>\n",
       "      <td>0</td>\n",
       "      <td>0</td>\n",
       "      <td>0</td>\n",
       "      <td>0</td>\n",
       "      <td>0</td>\n",
       "      <td>0</td>\n",
       "      <td>1</td>\n",
       "      <td>0</td>\n",
       "      <td>0</td>\n",
       "      <td>0</td>\n",
       "      <td>0</td>\n",
       "      <td>0</td>\n",
       "      <td>0</td>\n",
       "      <td>0</td>\n",
       "      <td>0</td>\n",
       "      <td>0</td>\n",
       "      <td>0</td>\n",
       "      <td>1</td>\n",
       "      <td>0</td>\n",
       "      <td>0</td>\n",
       "      <td>0</td>\n",
       "      <td>0</td>\n",
       "      <td>0</td>\n",
       "      <td>0</td>\n",
       "      <td>0</td>\n",
       "      <td>0</td>\n",
       "      <td>0</td>\n",
       "      <td>0</td>\n",
       "      <td>1</td>\n",
       "      <td>0</td>\n",
       "      <td>0</td>\n",
       "    </tr>\n",
       "    <tr>\n",
       "      <th>552</th>\n",
       "      <td>Customer Service</td>\n",
       "      <td>customer_service</td>\n",
       "      <td>Constituent Call</td>\n",
       "      <td>4</td>\n",
       "      <td>8</td>\n",
       "      <td>Very Late Response</td>\n",
       "      <td>0</td>\n",
       "      <td>0</td>\n",
       "      <td>0</td>\n",
       "      <td>1</td>\n",
       "      <td>0</td>\n",
       "      <td>0</td>\n",
       "      <td>0</td>\n",
       "      <td>0</td>\n",
       "      <td>0</td>\n",
       "      <td>0</td>\n",
       "      <td>0</td>\n",
       "      <td>0</td>\n",
       "      <td>1</td>\n",
       "      <td>0</td>\n",
       "      <td>0</td>\n",
       "      <td>0</td>\n",
       "      <td>0</td>\n",
       "      <td>0</td>\n",
       "      <td>0</td>\n",
       "      <td>0</td>\n",
       "      <td>0</td>\n",
       "      <td>0</td>\n",
       "      <td>0</td>\n",
       "      <td>1</td>\n",
       "      <td>0</td>\n",
       "      <td>0</td>\n",
       "      <td>0</td>\n",
       "      <td>0</td>\n",
       "      <td>0</td>\n",
       "      <td>0</td>\n",
       "      <td>0</td>\n",
       "      <td>0</td>\n",
       "      <td>0</td>\n",
       "      <td>0</td>\n",
       "      <td>1</td>\n",
       "      <td>0</td>\n",
       "      <td>0</td>\n",
       "    </tr>\n",
       "    <tr>\n",
       "      <th>553</th>\n",
       "      <td>Customer Service</td>\n",
       "      <td>customer_service</td>\n",
       "      <td>Constituent Call</td>\n",
       "      <td>2</td>\n",
       "      <td>8</td>\n",
       "      <td>Very Late Response</td>\n",
       "      <td>0</td>\n",
       "      <td>1</td>\n",
       "      <td>0</td>\n",
       "      <td>0</td>\n",
       "      <td>0</td>\n",
       "      <td>0</td>\n",
       "      <td>0</td>\n",
       "      <td>0</td>\n",
       "      <td>0</td>\n",
       "      <td>0</td>\n",
       "      <td>0</td>\n",
       "      <td>0</td>\n",
       "      <td>1</td>\n",
       "      <td>0</td>\n",
       "      <td>0</td>\n",
       "      <td>0</td>\n",
       "      <td>0</td>\n",
       "      <td>0</td>\n",
       "      <td>0</td>\n",
       "      <td>0</td>\n",
       "      <td>0</td>\n",
       "      <td>0</td>\n",
       "      <td>0</td>\n",
       "      <td>1</td>\n",
       "      <td>0</td>\n",
       "      <td>0</td>\n",
       "      <td>0</td>\n",
       "      <td>0</td>\n",
       "      <td>0</td>\n",
       "      <td>0</td>\n",
       "      <td>0</td>\n",
       "      <td>0</td>\n",
       "      <td>0</td>\n",
       "      <td>0</td>\n",
       "      <td>1</td>\n",
       "      <td>0</td>\n",
       "      <td>0</td>\n",
       "    </tr>\n",
       "    <tr>\n",
       "      <th>554</th>\n",
       "      <td>Customer Service</td>\n",
       "      <td>customer_service</td>\n",
       "      <td>Constituent Call</td>\n",
       "      <td>1</td>\n",
       "      <td>8</td>\n",
       "      <td>Very Late Response</td>\n",
       "      <td>1</td>\n",
       "      <td>0</td>\n",
       "      <td>0</td>\n",
       "      <td>0</td>\n",
       "      <td>0</td>\n",
       "      <td>0</td>\n",
       "      <td>0</td>\n",
       "      <td>0</td>\n",
       "      <td>0</td>\n",
       "      <td>0</td>\n",
       "      <td>0</td>\n",
       "      <td>0</td>\n",
       "      <td>1</td>\n",
       "      <td>0</td>\n",
       "      <td>0</td>\n",
       "      <td>0</td>\n",
       "      <td>0</td>\n",
       "      <td>0</td>\n",
       "      <td>0</td>\n",
       "      <td>0</td>\n",
       "      <td>0</td>\n",
       "      <td>0</td>\n",
       "      <td>0</td>\n",
       "      <td>1</td>\n",
       "      <td>0</td>\n",
       "      <td>0</td>\n",
       "      <td>0</td>\n",
       "      <td>0</td>\n",
       "      <td>0</td>\n",
       "      <td>0</td>\n",
       "      <td>0</td>\n",
       "      <td>0</td>\n",
       "      <td>0</td>\n",
       "      <td>0</td>\n",
       "      <td>1</td>\n",
       "      <td>0</td>\n",
       "      <td>0</td>\n",
       "    </tr>\n",
       "    <tr>\n",
       "      <th>555</th>\n",
       "      <td>Customer Service</td>\n",
       "      <td>customer_service</td>\n",
       "      <td>Constituent Call</td>\n",
       "      <td>6</td>\n",
       "      <td>8</td>\n",
       "      <td>Very Late Response</td>\n",
       "      <td>0</td>\n",
       "      <td>0</td>\n",
       "      <td>0</td>\n",
       "      <td>0</td>\n",
       "      <td>0</td>\n",
       "      <td>1</td>\n",
       "      <td>0</td>\n",
       "      <td>0</td>\n",
       "      <td>0</td>\n",
       "      <td>0</td>\n",
       "      <td>0</td>\n",
       "      <td>0</td>\n",
       "      <td>1</td>\n",
       "      <td>0</td>\n",
       "      <td>0</td>\n",
       "      <td>0</td>\n",
       "      <td>0</td>\n",
       "      <td>0</td>\n",
       "      <td>0</td>\n",
       "      <td>0</td>\n",
       "      <td>0</td>\n",
       "      <td>0</td>\n",
       "      <td>0</td>\n",
       "      <td>1</td>\n",
       "      <td>0</td>\n",
       "      <td>0</td>\n",
       "      <td>0</td>\n",
       "      <td>0</td>\n",
       "      <td>0</td>\n",
       "      <td>0</td>\n",
       "      <td>0</td>\n",
       "      <td>0</td>\n",
       "      <td>0</td>\n",
       "      <td>0</td>\n",
       "      <td>1</td>\n",
       "      <td>0</td>\n",
       "      <td>0</td>\n",
       "    </tr>\n",
       "  </tbody>\n",
       "</table>\n",
       "</div>"
      ],
      "text/plain": [
       "                 dept       call_reason         source_id  council_district  \\\n",
       "551  Customer Service  customer_service  Constituent Call                 2   \n",
       "552  Customer Service  customer_service  Constituent Call                 4   \n",
       "553  Customer Service  customer_service  Constituent Call                 2   \n",
       "554  Customer Service  customer_service  Constituent Call                 1   \n",
       "555  Customer Service  customer_service  Constituent Call                 6   \n",
       "\n",
       "     resolution_days_due      level_of_delay  district_1  district_2  \\\n",
       "551                    8  Very Late Response           0           1   \n",
       "552                    8  Very Late Response           0           0   \n",
       "553                    8  Very Late Response           0           1   \n",
       "554                    8  Very Late Response           1           0   \n",
       "555                    8  Very Late Response           0           0   \n",
       "\n",
       "     district_3  district_4  district_5  district_6  district_7  district_8  \\\n",
       "551           0           0           0           0           0           0   \n",
       "552           0           1           0           0           0           0   \n",
       "553           0           0           0           0           0           0   \n",
       "554           0           0           0           0           0           0   \n",
       "555           0           0           0           1           0           0   \n",
       "\n",
       "     district_9  district_10  animal_care_services  code_enforcement_services  \\\n",
       "551           0            0                     0                          0   \n",
       "552           0            0                     0                          0   \n",
       "553           0            0                     0                          0   \n",
       "554           0            0                     0                          0   \n",
       "555           0            0                     0                          0   \n",
       "\n",
       "     customer_services  development_services  metro_health  parks_and_rec  \\\n",
       "551                  1                     0             0              0   \n",
       "552                  1                     0             0              0   \n",
       "553                  1                     0             0              0   \n",
       "554                  1                     0             0              0   \n",
       "555                  1                     0             0              0   \n",
       "\n",
       "     solid_waste_management  trans_and_cap_improvements  unknown_dept  \\\n",
       "551                       0                           0             0   \n",
       "552                       0                           0             0   \n",
       "553                       0                           0             0   \n",
       "554                       0                           0             0   \n",
       "555                       0                           0             0   \n",
       "\n",
       "     buildings  business  cleanup  code  customer_service  field  land  \\\n",
       "551          0         0        0     0                 1      0     0   \n",
       "552          0         0        0     0                 1      0     0   \n",
       "553          0         0        0     0                 1      0     0   \n",
       "554          0         0        0     0                 1      0     0   \n",
       "555          0         0        0     0                 1      0     0   \n",
       "\n",
       "     license  misc  storm  streets  trades  traffic  waste  web_portal  \\\n",
       "551        0     0      0        0       0        0      0           0   \n",
       "552        0     0      0        0       0        0      0           0   \n",
       "553        0     0      0        0       0        0      0           0   \n",
       "554        0     0      0        0       0        0      0           0   \n",
       "555        0     0      0        0       0        0      0           0   \n",
       "\n",
       "     311_mobile_app  constituent_call  internal_services_requests  \n",
       "551               1                 0                           0  \n",
       "552               1                 0                           0  \n",
       "553               1                 0                           0  \n",
       "554               1                 0                           0  \n",
       "555               1                 0                           0  "
      ]
     },
     "execution_count": 20,
     "metadata": {},
     "output_type": "execute_result"
    }
   ],
   "source": [
    "df_1.head()"
   ]
  },
  {
   "cell_type": "code",
   "execution_count": 21,
   "metadata": {},
   "outputs": [],
   "source": [
    "train, validate, test, X_train, y_train, X_validate, y_validate, X_test, y_test, train_scaled, validate_scaled, test_scaled = model_split_separate_scale(df_1)"
   ]
  },
  {
   "cell_type": "markdown",
   "metadata": {},
   "source": [
    "## Make baseline predictions "
   ]
  },
  {
   "cell_type": "code",
   "execution_count": 22,
   "metadata": {},
   "outputs": [
    {
     "data": {
      "text/plain": [
       "Very Early Response    204073\n",
       "Early Response          66020\n",
       "Late Response           59998\n",
       "On Time Response        20987\n",
       "Very Late Response       5726\n",
       "Name: level_of_delay, dtype: int64"
      ]
     },
     "execution_count": 22,
     "metadata": {},
     "output_type": "execute_result"
    }
   ],
   "source": [
    "#Making a baseline prediction\n",
    "df.level_of_delay.value_counts()"
   ]
  },
  {
   "cell_type": "code",
   "execution_count": 23,
   "metadata": {},
   "outputs": [],
   "source": [
    "# set up y_train, y_validate, and y_test as dataframes\n",
    "y_train = pd.DataFrame(y_train)\n",
    "y_validate = pd.DataFrame(y_validate)\n",
    "y_test = pd.DataFrame(y_test)"
   ]
  },
  {
   "cell_type": "code",
   "execution_count": 24,
   "metadata": {},
   "outputs": [],
   "source": [
    "#concatenating the baseline prediction to the y_train\n",
    "y_train['baseline'] = 'Very Early Response'"
   ]
  },
  {
   "cell_type": "code",
   "execution_count": 25,
   "metadata": {},
   "outputs": [
    {
     "data": {
      "text/html": [
       "<div>\n",
       "<style scoped>\n",
       "    .dataframe tbody tr th:only-of-type {\n",
       "        vertical-align: middle;\n",
       "    }\n",
       "\n",
       "    .dataframe tbody tr th {\n",
       "        vertical-align: top;\n",
       "    }\n",
       "\n",
       "    .dataframe thead th {\n",
       "        text-align: right;\n",
       "    }\n",
       "</style>\n",
       "<table border=\"1\" class=\"dataframe\">\n",
       "  <thead>\n",
       "    <tr style=\"text-align: right;\">\n",
       "      <th></th>\n",
       "      <th>level_of_delay</th>\n",
       "      <th>baseline</th>\n",
       "    </tr>\n",
       "  </thead>\n",
       "  <tbody>\n",
       "    <tr>\n",
       "      <th>196649</th>\n",
       "      <td>Early Response</td>\n",
       "      <td>Very Early Response</td>\n",
       "    </tr>\n",
       "    <tr>\n",
       "      <th>192441</th>\n",
       "      <td>Very Early Response</td>\n",
       "      <td>Very Early Response</td>\n",
       "    </tr>\n",
       "    <tr>\n",
       "      <th>119552</th>\n",
       "      <td>Very Early Response</td>\n",
       "      <td>Very Early Response</td>\n",
       "    </tr>\n",
       "    <tr>\n",
       "      <th>336354</th>\n",
       "      <td>Early Response</td>\n",
       "      <td>Very Early Response</td>\n",
       "    </tr>\n",
       "    <tr>\n",
       "      <th>59110</th>\n",
       "      <td>Late Response</td>\n",
       "      <td>Very Early Response</td>\n",
       "    </tr>\n",
       "  </tbody>\n",
       "</table>\n",
       "</div>"
      ],
      "text/plain": [
       "             level_of_delay             baseline\n",
       "196649       Early Response  Very Early Response\n",
       "192441  Very Early Response  Very Early Response\n",
       "119552  Very Early Response  Very Early Response\n",
       "336354       Early Response  Very Early Response\n",
       "59110         Late Response  Very Early Response"
      ]
     },
     "execution_count": 25,
     "metadata": {},
     "output_type": "execute_result"
    }
   ],
   "source": [
    "y_train.head()"
   ]
  },
  {
   "cell_type": "code",
   "execution_count": 26,
   "metadata": {},
   "outputs": [
    {
     "name": "stdout",
     "output_type": "stream",
     "text": [
      " Baseline Accuracy: 57.19%\n",
      "---\n",
      "Confusion Matrix\n",
      "level_of_delay       Very Early Response  Early Response  On Time Response  \\\n",
      "baseline                                                                     \n",
      "Very Early Response               114280           36971             11753   \n",
      "\n",
      "level_of_delay       Late Response  Very Late Response  \n",
      "baseline                                                \n",
      "Very Early Response          33599                3207  \n",
      "---\n",
      "                     precision    recall  f1-score   support\n",
      "\n",
      "     Early Response       0.00      0.00      0.00     36971\n",
      "      Late Response       0.00      0.00      0.00     33599\n",
      "   On Time Response       0.00      0.00      0.00     11753\n",
      "Very Early Response       0.57      1.00      0.73    114280\n",
      " Very Late Response       0.00      0.00      0.00      3207\n",
      "\n",
      "           accuracy                           0.57    199810\n",
      "          macro avg       0.11      0.20      0.15    199810\n",
      "       weighted avg       0.33      0.57      0.42    199810\n",
      "\n"
     ]
    }
   ],
   "source": [
    "# calculate accuracy of baseline\n",
    "\n",
    "print(' Baseline Accuracy: {:.2%}'.format(accuracy_score(y_train.level_of_delay, y_train.baseline)))\n",
    "print('---')\n",
    "print('Confusion Matrix')\n",
    "print(pd.crosstab(y_train.baseline, y_train.level_of_delay))\n",
    "print('---')\n",
    "print(classification_report(y_train.level_of_delay, y_train.baseline))"
   ]
  },
  {
   "cell_type": "code",
   "execution_count": 27,
   "metadata": {},
   "outputs": [
    {
     "data": {
      "text/plain": [
       "Index(['dept', 'call_reason', 'source_id', 'council_district',\n",
       "       'resolution_days_due', 'district_1', 'district_2', 'district_3',\n",
       "       'district_4', 'district_5', 'district_6', 'district_7', 'district_8',\n",
       "       'district_9', 'district_10', 'animal_care_services',\n",
       "       'code_enforcement_services', 'customer_services',\n",
       "       'development_services', 'metro_health', 'parks_and_rec',\n",
       "       'solid_waste_management', 'trans_and_cap_improvements', 'unknown_dept',\n",
       "       'buildings', 'business', 'cleanup', 'code', 'customer_service', 'field',\n",
       "       'land', 'license', 'misc', 'storm', 'streets', 'trades', 'traffic',\n",
       "       'waste', 'web_portal', '311_mobile_app', 'constituent_call',\n",
       "       'internal_services_requests'],\n",
       "      dtype='object')"
      ]
     },
     "execution_count": 27,
     "metadata": {},
     "output_type": "execute_result"
    }
   ],
   "source": [
    "X_train.columns"
   ]
  },
  {
   "cell_type": "code",
   "execution_count": 28,
   "metadata": {},
   "outputs": [
    {
     "name": "stdout",
     "output_type": "stream",
     "text": [
      "<class 'pandas.core.frame.DataFrame'>\n",
      "Int64Index: 199810 entries, 196649 to 53485\n",
      "Data columns (total 42 columns):\n",
      " #   Column                      Non-Null Count   Dtype \n",
      "---  ------                      --------------   ----- \n",
      " 0   dept                        199810 non-null  object\n",
      " 1   call_reason                 199810 non-null  object\n",
      " 2   source_id                   199810 non-null  object\n",
      " 3   council_district            199810 non-null  int64 \n",
      " 4   resolution_days_due         199810 non-null  int64 \n",
      " 5   district_1                  199810 non-null  uint8 \n",
      " 6   district_2                  199810 non-null  uint8 \n",
      " 7   district_3                  199810 non-null  uint8 \n",
      " 8   district_4                  199810 non-null  uint8 \n",
      " 9   district_5                  199810 non-null  uint8 \n",
      " 10  district_6                  199810 non-null  uint8 \n",
      " 11  district_7                  199810 non-null  uint8 \n",
      " 12  district_8                  199810 non-null  uint8 \n",
      " 13  district_9                  199810 non-null  uint8 \n",
      " 14  district_10                 199810 non-null  uint8 \n",
      " 15  animal_care_services        199810 non-null  uint8 \n",
      " 16  code_enforcement_services   199810 non-null  uint8 \n",
      " 17  customer_services           199810 non-null  uint8 \n",
      " 18  development_services        199810 non-null  uint8 \n",
      " 19  metro_health                199810 non-null  uint8 \n",
      " 20  parks_and_rec               199810 non-null  uint8 \n",
      " 21  solid_waste_management      199810 non-null  uint8 \n",
      " 22  trans_and_cap_improvements  199810 non-null  uint8 \n",
      " 23  unknown_dept                199810 non-null  uint8 \n",
      " 24  buildings                   199810 non-null  uint8 \n",
      " 25  business                    199810 non-null  uint8 \n",
      " 26  cleanup                     199810 non-null  uint8 \n",
      " 27  code                        199810 non-null  uint8 \n",
      " 28  customer_service            199810 non-null  uint8 \n",
      " 29  field                       199810 non-null  uint8 \n",
      " 30  land                        199810 non-null  uint8 \n",
      " 31  license                     199810 non-null  uint8 \n",
      " 32  misc                        199810 non-null  uint8 \n",
      " 33  storm                       199810 non-null  uint8 \n",
      " 34  streets                     199810 non-null  uint8 \n",
      " 35  trades                      199810 non-null  uint8 \n",
      " 36  traffic                     199810 non-null  uint8 \n",
      " 37  waste                       199810 non-null  uint8 \n",
      " 38  web_portal                  199810 non-null  uint8 \n",
      " 39  311_mobile_app              199810 non-null  uint8 \n",
      " 40  constituent_call            199810 non-null  uint8 \n",
      " 41  internal_services_requests  199810 non-null  uint8 \n",
      "dtypes: int64(2), object(3), uint8(37)\n",
      "memory usage: 16.2+ MB\n"
     ]
    }
   ],
   "source": [
    "X_train.info()"
   ]
  },
  {
   "cell_type": "code",
   "execution_count": 38,
   "metadata": {},
   "outputs": [
    {
     "data": {
      "text/plain": [
       "(199810, 2)"
      ]
     },
     "execution_count": 38,
     "metadata": {},
     "output_type": "execute_result"
    }
   ],
   "source": [
    "y_train.shape"
   ]
  },
  {
   "cell_type": "code",
   "execution_count": 29,
   "metadata": {},
   "outputs": [],
   "source": [
    "X_train.drop(columns=['dept', 'call_reason', 'source_id' ], inplace=True)\n",
    "X_validate.drop(columns=['dept', 'call_reason', 'source_id'], inplace=True)\n",
    "X_test.drop(columns=['dept', 'call_reason', 'source_id'], inplace=True)"
   ]
  },
  {
   "cell_type": "markdown",
   "metadata": {},
   "source": [
    "### First Ridge Classifier"
   ]
  },
  {
   "cell_type": "code",
   "execution_count": 35,
   "metadata": {},
   "outputs": [],
   "source": [
    "# create the model object\n",
    "generic_clf = RidgeClassifier(random_state=123)"
   ]
  },
  {
   "cell_type": "code",
   "execution_count": 56,
   "metadata": {},
   "outputs": [
    {
     "name": "stdout",
     "output_type": "stream",
     "text": [
      "Accuracy of the first Ridge classifier on training set: 0.5891446874530805\n"
     ]
    }
   ],
   "source": [
    "# fit to train only\n",
    "generic_clf.fit(X_train, y_train.level_of_delay)\n",
    "y_pred = generic_clf.predict(X_train)\n",
    "# evaluate with score, returns the mean accuracy on the given test data and labels\n",
    "print('Accuracy of the first Ridge classifier on training set:', generic_clf.score(X_train, y_train.level_of_delay))"
   ]
  },
  {
   "cell_type": "code",
   "execution_count": null,
   "metadata": {},
   "outputs": [],
   "source": [
    "def generic_ridge_classifier():\n",
    "    '''This function runs a generic ridge classifier model on the x train and y train.level of delay to determine accuracy of predicting if a call reason is early.'''\n",
    "    # create the model object\n",
    "    generic_clf = RidgeClassifier(random_state=123)\n",
    "    # fit to train only\n",
    "    generic_clf.fit(X_train, y_train.level_of_delay)\n",
    "    y_pred = generic_clf.predict(X_train)\n",
    "    # evaluate with score, returns the mean accuracy on the given test data and labels\n",
    "    print('Accuracy of Ridge Classifier on training set:', generic_clf.score(X_train, y_train.level_of_delay))"
   ]
  },
  {
   "cell_type": "markdown",
   "metadata": {},
   "source": [
    "### Second Ridge Classifier"
   ]
  },
  {
   "cell_type": "code",
   "execution_count": 40,
   "metadata": {},
   "outputs": [],
   "source": [
    "class_weight_clf = RidgeClassifier(class_weight=\"balanced\", solver='auto', random_state=123)"
   ]
  },
  {
   "cell_type": "code",
   "execution_count": 57,
   "metadata": {},
   "outputs": [
    {
     "name": "stdout",
     "output_type": "stream",
     "text": [
      "Accuracy of the second Ridge classifier on training set: 0.35036284470246737\n"
     ]
    }
   ],
   "source": [
    "# fit to train only\n",
    "class_weight_clf.fit(X_train, y_train.level_of_delay)\n",
    "y_pred = class_weight_clf.predict(X_train)\n",
    "# evaluate with score, returns the mean accuracy on the given test data and labels\n",
    "print('Accuracy of the second Ridge classifier on training set:', class_weight_clf.score(X_train, y_train.level_of_delay))"
   ]
  },
  {
   "cell_type": "code",
   "execution_count": null,
   "metadata": {},
   "outputs": [],
   "source": [
    "def class_wt_clf():\n",
    "    '''This function runs a ridge classifier model  with the class weight changed to balanced and using an auto solver for the hyperparameters on the x train and y train.level of delay to determine accuracy of predicting if a call reason is early.'''\n",
    "    class_weight_clf = RidgeClassifier(class_weight=\"balanced\", solver='auto', random_state=123)\n",
    "    # fit to train only\n",
    "    class_weight_clf.fit(X_train, y_train.level_of_delay)\n",
    "    y_pred = class_weight_clf.predict(X_train)\n",
    "    # evaluate with score, returns the mean accuracy on the given test data and labels\n",
    "    print('Accuracy of Ridge classifier on training set:', class_weight_clf.score(X_train, y_train.level_of_delay))"
   ]
  },
  {
   "cell_type": "markdown",
   "metadata": {},
   "source": [
    "### Third Ridge Classifier"
   ]
  },
  {
   "cell_type": "code",
   "execution_count": 42,
   "metadata": {},
   "outputs": [],
   "source": [
    "# create the model object\n",
    "clf2 = RidgeClassifier(solver='sag',random_state=123)"
   ]
  },
  {
   "cell_type": "code",
   "execution_count": null,
   "metadata": {},
   "outputs": [],
   "source": [
    "# fit to train only\n",
    "clf2.fit(X_train, y_train.level_of_delay)\n",
    "y_pred = clf2.predict(X_train)\n",
    "# evaluate with score, returns the mean accuracy on the given test data and labels\n",
    "print('Accuracy of the third Ridge classifier on training set:', clf2.score(X_train, y_train.level_of_delay))"
   ]
  },
  {
   "cell_type": "markdown",
   "metadata": {},
   "source": [
    "### First Ridge Classifier CV"
   ]
  },
  {
   "cell_type": "code",
   "execution_count": 44,
   "metadata": {},
   "outputs": [],
   "source": [
    "clf_cv = RidgeClassifierCV(alphas=[1e-3, 1e-2, 1e-1, 1])"
   ]
  },
  {
   "cell_type": "code",
   "execution_count": 55,
   "metadata": {},
   "outputs": [
    {
     "name": "stdout",
     "output_type": "stream",
     "text": [
      "Accuracy of the first Ridge classifier CV on training set: 0.5891446874530805\n"
     ]
    }
   ],
   "source": [
    "# fit to train only\n",
    "clf_cv.fit(X_train, y_train.level_of_delay)\n",
    "y_pred = clf_cv.predict(X_train)\n",
    "# evaluate with score, returns the mean accuracy on the given test data and labels\n",
    "print('Accuracy of the first Ridge classifier CV on training set:', clf_cv.score(X_train, y_train.level_of_delay))"
   ]
  },
  {
   "cell_type": "markdown",
   "metadata": {},
   "source": [
    "### Second Ridge Classifier CV"
   ]
  },
  {
   "cell_type": "code",
   "execution_count": 46,
   "metadata": {},
   "outputs": [],
   "source": [
    "clf_cv2=RidgeClassifierCV(fit_intercept=True, normalize=True, scoring=None, cv=None, class_weight= 'balanced', store_cv_values=True)"
   ]
  },
  {
   "cell_type": "code",
   "execution_count": 54,
   "metadata": {},
   "outputs": [
    {
     "name": "stdout",
     "output_type": "stream",
     "text": [
      "Accuracy of the second Ridge classifier CV on training set: 0.36102297182323206\n"
     ]
    }
   ],
   "source": [
    "# fit to train only\n",
    "clf_cv2.fit(X_train, y_train.level_of_delay)\n",
    "y_pred = clf_cv2.predict(X_train)\n",
    "# evaluate with score, returns the mean accuracy on the given test data and labels\n",
    "print('Accuracy of the second Ridge classifier CV on training set:', clf_cv2.score(X_train, y_train.level_of_delay))"
   ]
  },
  {
   "cell_type": "markdown",
   "metadata": {},
   "source": [
    "### Third Ridge Classifier CV"
   ]
  },
  {
   "cell_type": "code",
   "execution_count": 48,
   "metadata": {},
   "outputs": [],
   "source": [
    "clf_cv3=RidgeClassifierCV()"
   ]
  },
  {
   "cell_type": "code",
   "execution_count": 52,
   "metadata": {},
   "outputs": [
    {
     "name": "stdout",
     "output_type": "stream",
     "text": [
      "Accuracy of the third Ridge classifier CV on training set: 0.5891446874530805\n"
     ]
    }
   ],
   "source": [
    "# fit to train only\n",
    "clf_cv3.fit(X_train, y_train.level_of_delay)\n",
    "y_pred = clf_cv3.predict(X_train)\n",
    "# evaluate with score, returns the mean accuracy on the given test data and labels\n",
    "print('Accuracy of the third Ridge classifier CV on training set:', clf_cv3.score(X_train, y_train.level_of_delay))"
   ]
  },
  {
   "cell_type": "code",
   "execution_count": null,
   "metadata": {},
   "outputs": [],
   "source": []
  }
 ],
 "metadata": {
  "kernelspec": {
   "display_name": "Python 3",
   "language": "python",
   "name": "python3"
  },
  "language_info": {
   "codemirror_mode": {
    "name": "ipython",
    "version": 3
   },
   "file_extension": ".py",
   "mimetype": "text/x-python",
   "name": "python",
   "nbconvert_exporter": "python",
   "pygments_lexer": "ipython3",
   "version": "3.7.6"
  }
 },
 "nbformat": 4,
 "nbformat_minor": 4
}
