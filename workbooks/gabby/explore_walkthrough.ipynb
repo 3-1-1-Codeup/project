{
 "cells": [
  {
   "cell_type": "code",
   "execution_count": 1,
   "metadata": {},
   "outputs": [],
   "source": [
    "from wrangle import mother_function\n",
    "from sklearn.model_selection import train_test_split\n",
    "import pandas as pd\n",
    "import numpy as np\n",
    "import seaborn as sns\n",
    "import matplotlib.pyplot as plt\n",
    "%matplotlib inline\n",
    "\n",
    "import warnings\n",
    "warnings.filterwarnings(\"ignore\")\n",
    "import os"
   ]
  },
  {
   "cell_type": "code",
   "execution_count": 2,
   "metadata": {},
   "outputs": [],
   "source": [
    "df, train, validate, test = mother_function()"
   ]
  },
  {
   "cell_type": "code",
   "execution_count": 3,
   "metadata": {},
   "outputs": [
    {
     "name": "stdout",
     "output_type": "stream",
     "text": [
      "<class 'pandas.core.frame.DataFrame'>\n",
      "Int64Index: 361586 entries, 103 to 495432\n",
      "Data columns (total 19 columns):\n",
      " #   Column                    Non-Null Count   Dtype         \n",
      "---  ------                    --------------   -----         \n",
      " 0   case_id                   361586 non-null  int64         \n",
      " 1   open_date                 361586 non-null  datetime64[ns]\n",
      " 2   due_date                  361586 non-null  datetime64[ns]\n",
      " 3   closed_date               361586 non-null  datetime64[ns]\n",
      " 4   is_late                   361586 non-null  object        \n",
      " 5   dept                      361586 non-null  object        \n",
      " 6   call_reason               361586 non-null  object        \n",
      " 7   case_type                 361586 non-null  object        \n",
      " 8   case_status               361586 non-null  object        \n",
      " 9   source_id                 361586 non-null  object        \n",
      " 10  address                   361586 non-null  object        \n",
      " 11  council_district          361586 non-null  int64         \n",
      " 12  longitude                 361586 non-null  float64       \n",
      " 13  latitude                  361586 non-null  float64       \n",
      " 14  days_open                 361586 non-null  float64       \n",
      " 15  resolution_days_due       361586 non-null  int64         \n",
      " 16  days_before_or_after_due  361586 non-null  float64       \n",
      " 17  level_of_delay            361586 non-null  category      \n",
      " 18  zipcode                   361586 non-null  object        \n",
      "dtypes: category(1), datetime64[ns](3), float64(4), int64(3), object(8)\n",
      "memory usage: 52.8+ MB\n"
     ]
    }
   ],
   "source": [
    "df.info()"
   ]
  },
  {
   "cell_type": "code",
   "execution_count": 4,
   "metadata": {},
   "outputs": [
    {
     "data": {
      "text/plain": [
       "49509"
      ]
     },
     "execution_count": 4,
     "metadata": {},
     "output_type": "execute_result"
    }
   ],
   "source": [
    "481205-431696"
   ]
  },
  {
   "cell_type": "code",
   "execution_count": 5,
   "metadata": {},
   "outputs": [
    {
     "data": {
      "text/plain": [
       "0.10288546461487308"
      ]
     },
     "execution_count": 5,
     "metadata": {},
     "output_type": "execute_result"
    }
   ],
   "source": [
    "49509/481205"
   ]
  },
  {
   "cell_type": "code",
   "execution_count": 6,
   "metadata": {},
   "outputs": [
    {
     "data": {
      "text/plain": [
       "0"
      ]
     },
     "execution_count": 6,
     "metadata": {},
     "output_type": "execute_result"
    }
   ],
   "source": [
    "df.council_district.isna().sum()"
   ]
  },
  {
   "cell_type": "code",
   "execution_count": 7,
   "metadata": {},
   "outputs": [
    {
     "data": {
      "text/html": [
       "<div>\n",
       "<style scoped>\n",
       "    .dataframe tbody tr th:only-of-type {\n",
       "        vertical-align: middle;\n",
       "    }\n",
       "\n",
       "    .dataframe tbody tr th {\n",
       "        vertical-align: top;\n",
       "    }\n",
       "\n",
       "    .dataframe thead th {\n",
       "        text-align: right;\n",
       "    }\n",
       "</style>\n",
       "<table border=\"1\" class=\"dataframe\">\n",
       "  <thead>\n",
       "    <tr style=\"text-align: right;\">\n",
       "      <th></th>\n",
       "      <th>case_id</th>\n",
       "      <th>open_date</th>\n",
       "      <th>due_date</th>\n",
       "      <th>closed_date</th>\n",
       "      <th>is_late</th>\n",
       "      <th>dept</th>\n",
       "      <th>call_reason</th>\n",
       "      <th>case_type</th>\n",
       "      <th>case_status</th>\n",
       "      <th>source_id</th>\n",
       "      <th>address</th>\n",
       "      <th>council_district</th>\n",
       "      <th>longitude</th>\n",
       "      <th>latitude</th>\n",
       "      <th>days_open</th>\n",
       "      <th>resolution_days_due</th>\n",
       "      <th>days_before_or_after_due</th>\n",
       "      <th>level_of_delay</th>\n",
       "      <th>zipcode</th>\n",
       "    </tr>\n",
       "  </thead>\n",
       "  <tbody>\n",
       "    <tr>\n",
       "      <th>76795</th>\n",
       "      <td>1016236680</td>\n",
       "      <td>2020-06-09</td>\n",
       "      <td>2020-08-12</td>\n",
       "      <td>2020-06-09</td>\n",
       "      <td>NO</td>\n",
       "      <td>Development Services</td>\n",
       "      <td>code</td>\n",
       "      <td>Graffiti (Private Property)</td>\n",
       "      <td>Closed</td>\n",
       "      <td>311 Mobile App</td>\n",
       "      <td>1528 N ZARZAMORA ST, SAN ANTONIO, 78207</td>\n",
       "      <td>1</td>\n",
       "      <td>2119731.0</td>\n",
       "      <td>13709207.0</td>\n",
       "      <td>0.0</td>\n",
       "      <td>64</td>\n",
       "      <td>64.0</td>\n",
       "      <td>Early Response</td>\n",
       "      <td>78207</td>\n",
       "    </tr>\n",
       "    <tr>\n",
       "      <th>155648</th>\n",
       "      <td>1016329957</td>\n",
       "      <td>2020-08-05</td>\n",
       "      <td>2020-08-12</td>\n",
       "      <td>2020-08-05</td>\n",
       "      <td>NO</td>\n",
       "      <td>Solid Waste Management</td>\n",
       "      <td>waste</td>\n",
       "      <td>Carts(Cart Exchange)</td>\n",
       "      <td>Closed</td>\n",
       "      <td>Web Portal</td>\n",
       "      <td>8913 GOLDEN BROOK, SAN ANTONIO, 78250</td>\n",
       "      <td>6</td>\n",
       "      <td>2074728.0</td>\n",
       "      <td>13726943.0</td>\n",
       "      <td>0.0</td>\n",
       "      <td>7</td>\n",
       "      <td>7.0</td>\n",
       "      <td>Early Response</td>\n",
       "      <td>78250</td>\n",
       "    </tr>\n",
       "    <tr>\n",
       "      <th>437003</th>\n",
       "      <td>1016793006</td>\n",
       "      <td>2021-04-07</td>\n",
       "      <td>2021-04-12</td>\n",
       "      <td>2021-04-10</td>\n",
       "      <td>NO</td>\n",
       "      <td>Animal Care Services</td>\n",
       "      <td>field</td>\n",
       "      <td>Animals(Aggressive Non-Critical)</td>\n",
       "      <td>Closed</td>\n",
       "      <td>Web Portal</td>\n",
       "      <td>9334 LANDS POINT, SAN ANTONIO, 78250</td>\n",
       "      <td>6</td>\n",
       "      <td>2071085.0</td>\n",
       "      <td>13735435.0</td>\n",
       "      <td>3.0</td>\n",
       "      <td>5</td>\n",
       "      <td>2.0</td>\n",
       "      <td>Early Response</td>\n",
       "      <td>78250</td>\n",
       "    </tr>\n",
       "    <tr>\n",
       "      <th>109938</th>\n",
       "      <td>1016270045</td>\n",
       "      <td>2020-07-02</td>\n",
       "      <td>2020-07-10</td>\n",
       "      <td>2020-07-10</td>\n",
       "      <td>YES</td>\n",
       "      <td>Solid Waste Management</td>\n",
       "      <td>waste</td>\n",
       "      <td>Carts(Cart Exchange)</td>\n",
       "      <td>Closed</td>\n",
       "      <td>Web Portal</td>\n",
       "      <td>1651 W HUISACHE AVE, SAN ANTONIO, 78201</td>\n",
       "      <td>1</td>\n",
       "      <td>2120209.0</td>\n",
       "      <td>13714120.0</td>\n",
       "      <td>8.0</td>\n",
       "      <td>8</td>\n",
       "      <td>0.0</td>\n",
       "      <td>On Time Response</td>\n",
       "      <td>78201</td>\n",
       "    </tr>\n",
       "    <tr>\n",
       "      <th>348845</th>\n",
       "      <td>1016652937</td>\n",
       "      <td>2021-01-25</td>\n",
       "      <td>2021-02-01</td>\n",
       "      <td>2021-01-27</td>\n",
       "      <td>NO</td>\n",
       "      <td>Solid Waste Management</td>\n",
       "      <td>waste</td>\n",
       "      <td>Out of Cycle(Leaves No Fee)</td>\n",
       "      <td>Closed</td>\n",
       "      <td>Web Portal</td>\n",
       "      <td>546 MARY ST, SAN ANTONIO, 78214</td>\n",
       "      <td>5</td>\n",
       "      <td>2130910.0</td>\n",
       "      <td>13685039.0</td>\n",
       "      <td>2.0</td>\n",
       "      <td>7</td>\n",
       "      <td>5.0</td>\n",
       "      <td>Early Response</td>\n",
       "      <td>78214</td>\n",
       "    </tr>\n",
       "  </tbody>\n",
       "</table>\n",
       "</div>"
      ],
      "text/plain": [
       "           case_id  open_date   due_date closed_date is_late  \\\n",
       "76795   1016236680 2020-06-09 2020-08-12  2020-06-09      NO   \n",
       "155648  1016329957 2020-08-05 2020-08-12  2020-08-05      NO   \n",
       "437003  1016793006 2021-04-07 2021-04-12  2021-04-10      NO   \n",
       "109938  1016270045 2020-07-02 2020-07-10  2020-07-10     YES   \n",
       "348845  1016652937 2021-01-25 2021-02-01  2021-01-27      NO   \n",
       "\n",
       "                          dept call_reason                         case_type  \\\n",
       "76795     Development Services        code       Graffiti (Private Property)   \n",
       "155648  Solid Waste Management       waste              Carts(Cart Exchange)   \n",
       "437003    Animal Care Services       field  Animals(Aggressive Non-Critical)   \n",
       "109938  Solid Waste Management       waste              Carts(Cart Exchange)   \n",
       "348845  Solid Waste Management       waste       Out of Cycle(Leaves No Fee)   \n",
       "\n",
       "       case_status       source_id                                   address  \\\n",
       "76795       Closed  311 Mobile App   1528 N ZARZAMORA ST, SAN ANTONIO, 78207   \n",
       "155648      Closed      Web Portal     8913 GOLDEN BROOK, SAN ANTONIO, 78250   \n",
       "437003      Closed      Web Portal      9334 LANDS POINT, SAN ANTONIO, 78250   \n",
       "109938      Closed      Web Portal   1651 W HUISACHE AVE, SAN ANTONIO, 78201   \n",
       "348845      Closed      Web Portal           546 MARY ST, SAN ANTONIO, 78214   \n",
       "\n",
       "        council_district  longitude    latitude  days_open  \\\n",
       "76795                  1  2119731.0  13709207.0        0.0   \n",
       "155648                 6  2074728.0  13726943.0        0.0   \n",
       "437003                 6  2071085.0  13735435.0        3.0   \n",
       "109938                 1  2120209.0  13714120.0        8.0   \n",
       "348845                 5  2130910.0  13685039.0        2.0   \n",
       "\n",
       "        resolution_days_due  days_before_or_after_due    level_of_delay  \\\n",
       "76795                    64                      64.0    Early Response   \n",
       "155648                    7                       7.0    Early Response   \n",
       "437003                    5                       2.0    Early Response   \n",
       "109938                    8                       0.0  On Time Response   \n",
       "348845                    7                       5.0    Early Response   \n",
       "\n",
       "       zipcode  \n",
       "76795    78207  \n",
       "155648   78250  \n",
       "437003   78250  \n",
       "109938   78201  \n",
       "348845   78214  "
      ]
     },
     "execution_count": 7,
     "metadata": {},
     "output_type": "execute_result"
    }
   ],
   "source": [
    "train.head()"
   ]
  },
  {
   "cell_type": "markdown",
   "metadata": {},
   "source": [
    "5. Does category/department affect response time?"
   ]
  },
  {
   "cell_type": "code",
   "execution_count": 8,
   "metadata": {},
   "outputs": [
    {
     "data": {
      "text/plain": [
       "Text(0.5, 1, 'Evaluating number of days early or late per call type')"
      ]
     },
     "execution_count": 8,
     "metadata": {},
     "output_type": "execute_result"
    },
    {
     "data": {
      "text/plain": [
       "<Figure size 1440x720 with 0 Axes>"
      ]
     },
     "metadata": {},
     "output_type": "display_data"
    },
    {
     "data": {
      "image/png": "[encoded data removed]",
      "text/plain": [
       "<Figure size 1613.75x360 with 4 Axes>"
      ]
     },
     "metadata": {
      "needs_background": "light"
     },
     "output_type": "display_data"
    }
   ],
   "source": [
    "plt.figure(figsize=(20, 10))\n",
    "\n",
    "\n",
    "sns.relplot(x='case_id', y='days_before_or_after_due', col= 'source_id', hue='dept', data=train)\n",
    "plt.xlabel(\"Case ID\")\n",
    "plt.ylabel(\"Days early or late\")\n",
    "plt.title('Evaluating number of days early or late per call type')"
   ]
  },
  {
   "cell_type": "code",
   "execution_count": 9,
   "metadata": {},
   "outputs": [
    {
     "data": {
      "text/plain": [
       "<matplotlib.axes._subplots.AxesSubplot at 0x7f990fceaf90>"
      ]
     },
     "execution_count": 9,
     "metadata": {},
     "output_type": "execute_result"
    },
    {
     "data": {
      "image/png": "[encoded data removed]",
      "text/plain": [
       "<Figure size 432x288 with 1 Axes>"
      ]
     },
     "metadata": {
      "needs_background": "light"
     },
     "output_type": "display_data"
    }
   ],
   "source": [
    "sns.distplot(train.days_before_or_after_due)"
   ]
  },
  {
   "cell_type": "code",
   "execution_count": null,
   "metadata": {},
   "outputs": [],
   "source": []
  },
  {
   "cell_type": "code",
   "execution_count": 10,
   "metadata": {},
   "outputs": [
    {
     "data": {
      "text/plain": [
       "Index(['case_id', 'open_date', 'due_date', 'closed_date', 'is_late', 'dept',\n",
       "       'call_reason', 'case_type', 'case_status', 'source_id', 'address',\n",
       "       'council_district', 'longitude', 'latitude', 'days_open',\n",
       "       'resolution_days_due', 'days_before_or_after_due', 'level_of_delay',\n",
       "       'zipcode'],\n",
       "      dtype='object')"
      ]
     },
     "execution_count": 10,
     "metadata": {},
     "output_type": "execute_result"
    }
   ],
   "source": [
    "train.columns"
   ]
  },
  {
   "cell_type": "markdown",
   "metadata": {},
   "source": [
    "6. Is response time for issue X different between geographical location Y when compared to the average response time? (or other geographical location?)"
   ]
  },
  {
   "cell_type": "code",
   "execution_count": 11,
   "metadata": {},
   "outputs": [],
   "source": [
    "# Statistical Tests\n",
    "import scipy.stats as stats"
   ]
  },
  {
   "cell_type": "markdown",
   "metadata": {},
   "source": [
    "#### Hypothesis Testing #1 (ANOVA)\n",
    "\n",
    "$H_0$: There is no difference in days before or after due date between the districts.\n",
    "\n",
    "$H_a$: There is a significant difference in days before or after due date between the districts.\n",
    "\n",
    "alpha ($\\alpha$): 1 - confidence level (95% confidence level -> $\\alpha = .05$)"
   ]
  },
  {
   "cell_type": "code",
   "execution_count": 12,
   "metadata": {},
   "outputs": [],
   "source": [
    "n = train.shape[0]     # number of observations\n",
    "degf = n - 2        # degrees of freedom: the # of values in the final calculation of a statistic that are free to vary.\n",
    "conf_interval = .95 # desired confidence interval\n",
    "α = 1 - conf_interval\n",
    "null_hypothesis = 'there is no difference in days before or after due date between the districts.'"
   ]
  },
  {
   "cell_type": "code",
   "execution_count": 13,
   "metadata": {},
   "outputs": [
    {
     "data": {
      "text/plain": [
       "(25.341554216541414, 1.1184362569251931e-48)"
      ]
     },
     "execution_count": 13,
     "metadata": {},
     "output_type": "execute_result"
    }
   ],
   "source": [
    "F, p = stats.f_oneway( \n",
    "train.days_before_or_after_due[train.council_district== 0],\n",
    "train.days_before_or_after_due[train.council_district== 1],\n",
    "train.days_before_or_after_due[train.council_district== 2],\n",
    "train.days_before_or_after_due[train.council_district== 3],\n",
    "train.days_before_or_after_due[train.council_district== 4],\n",
    "train.days_before_or_after_due[train.council_district== 5],\n",
    "train.days_before_or_after_due[train.council_district== 6], \n",
    "train.days_before_or_after_due[train.council_district== 7], \n",
    "train.days_before_or_after_due[train.council_district== 8], \n",
    "train.days_before_or_after_due[train.council_district== 9],\n",
    "train.days_before_or_after_due[train.council_district== 10]\n",
    ")\n",
    "F, p"
   ]
  },
  {
   "cell_type": "code",
   "execution_count": 14,
   "metadata": {},
   "outputs": [
    {
     "name": "stdout",
     "output_type": "stream",
     "text": [
      "We reject the null hypothesis that there is no difference in days before or after due date between the districts.\n"
     ]
    }
   ],
   "source": [
    "\n",
    "if p > α:\n",
    "    print(\"We fail to reject the null hypothesis. The null hypothesis is that\", null_hypothesis)\n",
    "else:\n",
    "    print(\"We reject the null hypothesis that\", null_hypothesis)"
   ]
  },
  {
   "cell_type": "markdown",
   "metadata": {},
   "source": [
    "#### Hypothesis Testing #1 (Chi $^2$)\n",
    "\n",
    "$H_0$: There is no difference in if a case resolution is late between the districts.\n",
    "\n",
    "$H_a$: There is a difference if a case resolution is late date between the districts.\n",
    "\n",
    "alpha ($\\alpha$): 1 - confidence level (95% confidence level -> $\\alpha = .05$)"
   ]
  },
  {
   "cell_type": "code",
   "execution_count": 17,
   "metadata": {},
   "outputs": [],
   "source": [
    "n = train.shape[0]     # number of observations\n",
    "degf = n - 2        # degrees of freedom: the # of values in the final calculation of a statistic that are free to vary.\n",
    "conf_interval = .95 # desired confidence interval\n",
    "α = 1 - conf_interval\n",
    "null_hypothesis = 'there is no difference in if a case resoution is late between the districts.'"
   ]
  },
  {
   "cell_type": "code",
   "execution_count": 18,
   "metadata": {},
   "outputs": [
    {
     "data": {
      "text/html": [
       "<div>\n",
       "<style scoped>\n",
       "    .dataframe tbody tr th:only-of-type {\n",
       "        vertical-align: middle;\n",
       "    }\n",
       "\n",
       "    .dataframe tbody tr th {\n",
       "        vertical-align: top;\n",
       "    }\n",
       "\n",
       "    .dataframe thead th {\n",
       "        text-align: right;\n",
       "    }\n",
       "</style>\n",
       "<table border=\"1\" class=\"dataframe\">\n",
       "  <thead>\n",
       "    <tr style=\"text-align: right;\">\n",
       "      <th>is_late</th>\n",
       "      <th>NO</th>\n",
       "      <th>YES</th>\n",
       "    </tr>\n",
       "    <tr>\n",
       "      <th>council_district</th>\n",
       "      <th></th>\n",
       "      <th></th>\n",
       "    </tr>\n",
       "  </thead>\n",
       "  <tbody>\n",
       "    <tr>\n",
       "      <th>0</th>\n",
       "      <td>728</td>\n",
       "      <td>213</td>\n",
       "    </tr>\n",
       "    <tr>\n",
       "      <th>1</th>\n",
       "      <td>22608</td>\n",
       "      <td>3206</td>\n",
       "    </tr>\n",
       "    <tr>\n",
       "      <th>2</th>\n",
       "      <td>21313</td>\n",
       "      <td>5149</td>\n",
       "    </tr>\n",
       "    <tr>\n",
       "      <th>3</th>\n",
       "      <td>21654</td>\n",
       "      <td>4347</td>\n",
       "    </tr>\n",
       "    <tr>\n",
       "      <th>4</th>\n",
       "      <td>16690</td>\n",
       "      <td>2932</td>\n",
       "    </tr>\n",
       "    <tr>\n",
       "      <th>5</th>\n",
       "      <td>24506</td>\n",
       "      <td>3665</td>\n",
       "    </tr>\n",
       "    <tr>\n",
       "      <th>6</th>\n",
       "      <td>14833</td>\n",
       "      <td>2430</td>\n",
       "    </tr>\n",
       "    <tr>\n",
       "      <th>7</th>\n",
       "      <td>16069</td>\n",
       "      <td>2684</td>\n",
       "    </tr>\n",
       "    <tr>\n",
       "      <th>8</th>\n",
       "      <td>9777</td>\n",
       "      <td>1467</td>\n",
       "    </tr>\n",
       "    <tr>\n",
       "      <th>9</th>\n",
       "      <td>10091</td>\n",
       "      <td>1255</td>\n",
       "    </tr>\n",
       "    <tr>\n",
       "      <th>10</th>\n",
       "      <td>14749</td>\n",
       "      <td>2121</td>\n",
       "    </tr>\n",
       "  </tbody>\n",
       "</table>\n",
       "</div>"
      ],
      "text/plain": [
       "is_late              NO   YES\n",
       "council_district             \n",
       "0                   728   213\n",
       "1                 22608  3206\n",
       "2                 21313  5149\n",
       "3                 21654  4347\n",
       "4                 16690  2932\n",
       "5                 24506  3665\n",
       "6                 14833  2430\n",
       "7                 16069  2684\n",
       "8                  9777  1467\n",
       "9                 10091  1255\n",
       "10                14749  2121"
      ]
     },
     "execution_count": 18,
     "metadata": {},
     "output_type": "execute_result"
    }
   ],
   "source": [
    "contingency_table = pd.crosstab(train.council_district, train.is_late)\n",
    "contingency_table"
   ]
  },
  {
   "cell_type": "code",
   "execution_count": 19,
   "metadata": {},
   "outputs": [
    {
     "data": {
      "text/plain": [
       "(999.2766414704997,\n",
       " 2.677502567692861e-208,\n",
       " 10,\n",
       " array([[  804.05131194,   136.94868806],\n",
       "        [22057.15256782,  3756.84743218],\n",
       "        [22610.84571355,  3851.15428645],\n",
       "        [22216.93747253,  3784.06252747],\n",
       "        [16766.30695304,  2855.69304696],\n",
       "        [24071.12593895,  4099.87406105],\n",
       "        [14750.62465245,  2512.37534755],\n",
       "        [16023.77710174,  2729.22289826],\n",
       "        [ 9607.60143614,  1636.39856386],\n",
       "        [ 9694.75683871,  1651.24316129],\n",
       "        [14414.82001314,  2455.17998686]]))"
      ]
     },
     "execution_count": 19,
     "metadata": {},
     "output_type": "execute_result"
    }
   ],
   "source": [
    "test_results = stats.chi2_contingency(contingency_table)\n",
    "test_results"
   ]
  },
  {
   "cell_type": "code",
   "execution_count": 20,
   "metadata": {},
   "outputs": [],
   "source": [
    "_, p, _, expected = test_results"
   ]
  },
  {
   "cell_type": "code",
   "execution_count": 21,
   "metadata": {},
   "outputs": [
    {
     "name": "stdout",
     "output_type": "stream",
     "text": [
      "We reject the null hypothesis that there is no difference in if a case resoution is late between the districts.\n"
     ]
    }
   ],
   "source": [
    "if p > α:\n",
    "    print(\"We fail to reject the null hypothesis. The null hypothesis is that\", null_hypothesis)\n",
    "else:\n",
    "    print(\"We reject the null hypothesis that\", null_hypothesis)"
   ]
  },
  {
   "cell_type": "code",
   "execution_count": null,
   "metadata": {},
   "outputs": [],
   "source": []
  }
 ],
 "metadata": {
  "kernelspec": {
   "display_name": "Python 3",
   "language": "python",
   "name": "python3"
  },
  "language_info": {
   "codemirror_mode": {
    "name": "ipython",
    "version": 3
   },
   "file_extension": ".py",
   "mimetype": "text/x-python",
   "name": "python",
   "nbconvert_exporter": "python",
   "pygments_lexer": "ipython3",
   "version": "3.7.6"
  }
 },
 "nbformat": 4,
 "nbformat_minor": 4
}
