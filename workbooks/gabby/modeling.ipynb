{
 "cells": [
  {
   "cell_type": "code",
   "execution_count": 1,
   "metadata": {},
   "outputs": [],
   "source": [
    "# Preparing the notebook by importing necessary modules\n",
    "# SK Learn Imports\n",
    "from sklearn.model_selection import train_test_split\n",
    "from sklearn.linear_model import RidgeClassifier, LogisticRegression, RidgeClassifierCV\n",
    "from sklearn.tree import DecisionTreeClassifier\n",
    "from sklearn.ensemble import RandomForestClassifier\n",
    "from sklearn.metrics import classification_report, confusion_matrix, accuracy_score\n",
    "from sklearn.neighbors import KNeighborsClassifier\n",
    "# Standard imports\n",
    "import pandas as pd\n",
    "import numpy as np\n",
    "import seaborn as sns\n",
    "import matplotlib.pyplot as plt\n",
    "%matplotlib inline\n",
    "from scipy import stats\n",
    "from math import sqrt\n",
    "# Import wrangle functions\n",
    "from model import model_df, split_separate_scale\n",
    "# Formatting my notebook\n",
    "import warnings\n",
    "warnings.filterwarnings(\"ignore\")\n",
    "pd.set_option(\"display.max_rows\", None, \"display.max_columns\", None)"
   ]
  },
  {
   "cell_type": "code",
   "execution_count": 2,
   "metadata": {},
   "outputs": [],
   "source": [
    "df= model_df()"
   ]
  },
  {
   "cell_type": "code",
   "execution_count": 3,
   "metadata": {},
   "outputs": [
    {
     "data": {
      "text/html": [
       "<div>\n",
       "<style scoped>\n",
       "    .dataframe tbody tr th:only-of-type {\n",
       "        vertical-align: middle;\n",
       "    }\n",
       "\n",
       "    .dataframe tbody tr th {\n",
       "        vertical-align: top;\n",
       "    }\n",
       "\n",
       "    .dataframe thead th {\n",
       "        text-align: right;\n",
       "    }\n",
       "</style>\n",
       "<table border=\"1\" class=\"dataframe\">\n",
       "  <thead>\n",
       "    <tr style=\"text-align: right;\">\n",
       "      <th></th>\n",
       "      <th>dept</th>\n",
       "      <th>call_reason</th>\n",
       "      <th>source_id</th>\n",
       "      <th>council_district</th>\n",
       "      <th>resolution_days_due</th>\n",
       "      <th>level_of_delay</th>\n",
       "      <th>district_0</th>\n",
       "      <th>district_1</th>\n",
       "      <th>district_2</th>\n",
       "      <th>district_3</th>\n",
       "      <th>district_4</th>\n",
       "      <th>district_5</th>\n",
       "      <th>district_6</th>\n",
       "      <th>district_7</th>\n",
       "      <th>district_8</th>\n",
       "      <th>district_9</th>\n",
       "      <th>district_10</th>\n",
       "      <th>animal_care_services</th>\n",
       "      <th>code_enforcement_services</th>\n",
       "      <th>customer_services</th>\n",
       "      <th>development_services</th>\n",
       "      <th>metro_health</th>\n",
       "      <th>parks_and_rec</th>\n",
       "      <th>solid_waste_management</th>\n",
       "      <th>trans_and_cap_improvements</th>\n",
       "      <th>unknown_dept</th>\n",
       "      <th>buildings</th>\n",
       "      <th>business</th>\n",
       "      <th>cleanup</th>\n",
       "      <th>code</th>\n",
       "      <th>customer_service</th>\n",
       "      <th>field</th>\n",
       "      <th>land</th>\n",
       "      <th>license</th>\n",
       "      <th>misc</th>\n",
       "      <th>storm</th>\n",
       "      <th>streets</th>\n",
       "      <th>trades</th>\n",
       "      <th>traffic</th>\n",
       "      <th>waste</th>\n",
       "      <th>web_portal</th>\n",
       "      <th>311_mobile_app</th>\n",
       "      <th>constituent_call</th>\n",
       "      <th>internal_services_requests</th>\n",
       "    </tr>\n",
       "    <tr>\n",
       "      <th>CASEID</th>\n",
       "      <th></th>\n",
       "      <th></th>\n",
       "      <th></th>\n",
       "      <th></th>\n",
       "      <th></th>\n",
       "      <th></th>\n",
       "      <th></th>\n",
       "      <th></th>\n",
       "      <th></th>\n",
       "      <th></th>\n",
       "      <th></th>\n",
       "      <th></th>\n",
       "      <th></th>\n",
       "      <th></th>\n",
       "      <th></th>\n",
       "      <th></th>\n",
       "      <th></th>\n",
       "      <th></th>\n",
       "      <th></th>\n",
       "      <th></th>\n",
       "      <th></th>\n",
       "      <th></th>\n",
       "      <th></th>\n",
       "      <th></th>\n",
       "      <th></th>\n",
       "      <th></th>\n",
       "      <th></th>\n",
       "      <th></th>\n",
       "      <th></th>\n",
       "      <th></th>\n",
       "      <th></th>\n",
       "      <th></th>\n",
       "      <th></th>\n",
       "      <th></th>\n",
       "      <th></th>\n",
       "      <th></th>\n",
       "      <th></th>\n",
       "      <th></th>\n",
       "      <th></th>\n",
       "      <th></th>\n",
       "      <th></th>\n",
       "      <th></th>\n",
       "      <th></th>\n",
       "      <th></th>\n",
       "    </tr>\n",
       "  </thead>\n",
       "  <tbody>\n",
       "    <tr>\n",
       "      <th>1014281655</th>\n",
       "      <td>Code Enforcement Services</td>\n",
       "      <td>code</td>\n",
       "      <td>Internal Services Requests</td>\n",
       "      <td>6</td>\n",
       "      <td>131</td>\n",
       "      <td>Extremely Late Response</td>\n",
       "      <td>0</td>\n",
       "      <td>0</td>\n",
       "      <td>0</td>\n",
       "      <td>0</td>\n",
       "      <td>0</td>\n",
       "      <td>0</td>\n",
       "      <td>1</td>\n",
       "      <td>0</td>\n",
       "      <td>0</td>\n",
       "      <td>0</td>\n",
       "      <td>0</td>\n",
       "      <td>0</td>\n",
       "      <td>1</td>\n",
       "      <td>0</td>\n",
       "      <td>0</td>\n",
       "      <td>0</td>\n",
       "      <td>0</td>\n",
       "      <td>0</td>\n",
       "      <td>0</td>\n",
       "      <td>0</td>\n",
       "      <td>0</td>\n",
       "      <td>0</td>\n",
       "      <td>0</td>\n",
       "      <td>1</td>\n",
       "      <td>0</td>\n",
       "      <td>0</td>\n",
       "      <td>0</td>\n",
       "      <td>0</td>\n",
       "      <td>0</td>\n",
       "      <td>0</td>\n",
       "      <td>0</td>\n",
       "      <td>0</td>\n",
       "      <td>0</td>\n",
       "      <td>0</td>\n",
       "      <td>0</td>\n",
       "      <td>0</td>\n",
       "      <td>1</td>\n",
       "      <td>0</td>\n",
       "    </tr>\n",
       "    <tr>\n",
       "      <th>1014281665</th>\n",
       "      <td>Code Enforcement Services</td>\n",
       "      <td>code</td>\n",
       "      <td>Internal Services Requests</td>\n",
       "      <td>6</td>\n",
       "      <td>131</td>\n",
       "      <td>Extremely Late Response</td>\n",
       "      <td>0</td>\n",
       "      <td>0</td>\n",
       "      <td>0</td>\n",
       "      <td>0</td>\n",
       "      <td>0</td>\n",
       "      <td>0</td>\n",
       "      <td>1</td>\n",
       "      <td>0</td>\n",
       "      <td>0</td>\n",
       "      <td>0</td>\n",
       "      <td>0</td>\n",
       "      <td>0</td>\n",
       "      <td>1</td>\n",
       "      <td>0</td>\n",
       "      <td>0</td>\n",
       "      <td>0</td>\n",
       "      <td>0</td>\n",
       "      <td>0</td>\n",
       "      <td>0</td>\n",
       "      <td>0</td>\n",
       "      <td>0</td>\n",
       "      <td>0</td>\n",
       "      <td>0</td>\n",
       "      <td>1</td>\n",
       "      <td>0</td>\n",
       "      <td>0</td>\n",
       "      <td>0</td>\n",
       "      <td>0</td>\n",
       "      <td>0</td>\n",
       "      <td>0</td>\n",
       "      <td>0</td>\n",
       "      <td>0</td>\n",
       "      <td>0</td>\n",
       "      <td>0</td>\n",
       "      <td>0</td>\n",
       "      <td>0</td>\n",
       "      <td>1</td>\n",
       "      <td>0</td>\n",
       "    </tr>\n",
       "    <tr>\n",
       "      <th>1014281677</th>\n",
       "      <td>Code Enforcement Services</td>\n",
       "      <td>code</td>\n",
       "      <td>Internal Services Requests</td>\n",
       "      <td>6</td>\n",
       "      <td>131</td>\n",
       "      <td>Extremely Late Response</td>\n",
       "      <td>0</td>\n",
       "      <td>0</td>\n",
       "      <td>0</td>\n",
       "      <td>0</td>\n",
       "      <td>0</td>\n",
       "      <td>0</td>\n",
       "      <td>1</td>\n",
       "      <td>0</td>\n",
       "      <td>0</td>\n",
       "      <td>0</td>\n",
       "      <td>0</td>\n",
       "      <td>0</td>\n",
       "      <td>1</td>\n",
       "      <td>0</td>\n",
       "      <td>0</td>\n",
       "      <td>0</td>\n",
       "      <td>0</td>\n",
       "      <td>0</td>\n",
       "      <td>0</td>\n",
       "      <td>0</td>\n",
       "      <td>0</td>\n",
       "      <td>0</td>\n",
       "      <td>0</td>\n",
       "      <td>1</td>\n",
       "      <td>0</td>\n",
       "      <td>0</td>\n",
       "      <td>0</td>\n",
       "      <td>0</td>\n",
       "      <td>0</td>\n",
       "      <td>0</td>\n",
       "      <td>0</td>\n",
       "      <td>0</td>\n",
       "      <td>0</td>\n",
       "      <td>0</td>\n",
       "      <td>0</td>\n",
       "      <td>0</td>\n",
       "      <td>1</td>\n",
       "      <td>0</td>\n",
       "    </tr>\n",
       "    <tr>\n",
       "      <th>1014300321</th>\n",
       "      <td>Development Services</td>\n",
       "      <td>buildings</td>\n",
       "      <td>Constituent Call</td>\n",
       "      <td>4</td>\n",
       "      <td>933</td>\n",
       "      <td>Very Early Response</td>\n",
       "      <td>0</td>\n",
       "      <td>0</td>\n",
       "      <td>0</td>\n",
       "      <td>0</td>\n",
       "      <td>1</td>\n",
       "      <td>0</td>\n",
       "      <td>0</td>\n",
       "      <td>0</td>\n",
       "      <td>0</td>\n",
       "      <td>0</td>\n",
       "      <td>0</td>\n",
       "      <td>0</td>\n",
       "      <td>0</td>\n",
       "      <td>0</td>\n",
       "      <td>1</td>\n",
       "      <td>0</td>\n",
       "      <td>0</td>\n",
       "      <td>0</td>\n",
       "      <td>0</td>\n",
       "      <td>0</td>\n",
       "      <td>1</td>\n",
       "      <td>0</td>\n",
       "      <td>0</td>\n",
       "      <td>0</td>\n",
       "      <td>0</td>\n",
       "      <td>0</td>\n",
       "      <td>0</td>\n",
       "      <td>0</td>\n",
       "      <td>0</td>\n",
       "      <td>0</td>\n",
       "      <td>0</td>\n",
       "      <td>0</td>\n",
       "      <td>0</td>\n",
       "      <td>0</td>\n",
       "      <td>0</td>\n",
       "      <td>1</td>\n",
       "      <td>0</td>\n",
       "      <td>0</td>\n",
       "    </tr>\n",
       "    <tr>\n",
       "      <th>1014326068</th>\n",
       "      <td>Code Enforcement Services</td>\n",
       "      <td>code</td>\n",
       "      <td>Internal Services Requests</td>\n",
       "      <td>4</td>\n",
       "      <td>131</td>\n",
       "      <td>Extremely Late Response</td>\n",
       "      <td>0</td>\n",
       "      <td>0</td>\n",
       "      <td>0</td>\n",
       "      <td>0</td>\n",
       "      <td>1</td>\n",
       "      <td>0</td>\n",
       "      <td>0</td>\n",
       "      <td>0</td>\n",
       "      <td>0</td>\n",
       "      <td>0</td>\n",
       "      <td>0</td>\n",
       "      <td>0</td>\n",
       "      <td>1</td>\n",
       "      <td>0</td>\n",
       "      <td>0</td>\n",
       "      <td>0</td>\n",
       "      <td>0</td>\n",
       "      <td>0</td>\n",
       "      <td>0</td>\n",
       "      <td>0</td>\n",
       "      <td>0</td>\n",
       "      <td>0</td>\n",
       "      <td>0</td>\n",
       "      <td>1</td>\n",
       "      <td>0</td>\n",
       "      <td>0</td>\n",
       "      <td>0</td>\n",
       "      <td>0</td>\n",
       "      <td>0</td>\n",
       "      <td>0</td>\n",
       "      <td>0</td>\n",
       "      <td>0</td>\n",
       "      <td>0</td>\n",
       "      <td>0</td>\n",
       "      <td>0</td>\n",
       "      <td>0</td>\n",
       "      <td>1</td>\n",
       "      <td>0</td>\n",
       "    </tr>\n",
       "  </tbody>\n",
       "</table>\n",
       "</div>"
      ],
      "text/plain": [
       "                                 dept call_reason                   source_id  \\\n",
       "CASEID                                                                          \n",
       "1014281655  Code Enforcement Services        code  Internal Services Requests   \n",
       "1014281665  Code Enforcement Services        code  Internal Services Requests   \n",
       "1014281677  Code Enforcement Services        code  Internal Services Requests   \n",
       "1014300321       Development Services   buildings            Constituent Call   \n",
       "1014326068  Code Enforcement Services        code  Internal Services Requests   \n",
       "\n",
       "            council_district  resolution_days_due           level_of_delay  \\\n",
       "CASEID                                                                       \n",
       "1014281655                 6                  131  Extremely Late Response   \n",
       "1014281665                 6                  131  Extremely Late Response   \n",
       "1014281677                 6                  131  Extremely Late Response   \n",
       "1014300321                 4                  933      Very Early Response   \n",
       "1014326068                 4                  131  Extremely Late Response   \n",
       "\n",
       "            district_0  district_1  district_2  district_3  district_4  \\\n",
       "CASEID                                                                   \n",
       "1014281655           0           0           0           0           0   \n",
       "1014281665           0           0           0           0           0   \n",
       "1014281677           0           0           0           0           0   \n",
       "1014300321           0           0           0           0           1   \n",
       "1014326068           0           0           0           0           1   \n",
       "\n",
       "            district_5  district_6  district_7  district_8  district_9  \\\n",
       "CASEID                                                                   \n",
       "1014281655           0           1           0           0           0   \n",
       "1014281665           0           1           0           0           0   \n",
       "1014281677           0           1           0           0           0   \n",
       "1014300321           0           0           0           0           0   \n",
       "1014326068           0           0           0           0           0   \n",
       "\n",
       "            district_10  animal_care_services  code_enforcement_services  \\\n",
       "CASEID                                                                     \n",
       "1014281655            0                     0                          1   \n",
       "1014281665            0                     0                          1   \n",
       "1014281677            0                     0                          1   \n",
       "1014300321            0                     0                          0   \n",
       "1014326068            0                     0                          1   \n",
       "\n",
       "            customer_services  development_services  metro_health  \\\n",
       "CASEID                                                              \n",
       "1014281655                  0                     0             0   \n",
       "1014281665                  0                     0             0   \n",
       "1014281677                  0                     0             0   \n",
       "1014300321                  0                     1             0   \n",
       "1014326068                  0                     0             0   \n",
       "\n",
       "            parks_and_rec  solid_waste_management  trans_and_cap_improvements  \\\n",
       "CASEID                                                                          \n",
       "1014281655              0                       0                           0   \n",
       "1014281665              0                       0                           0   \n",
       "1014281677              0                       0                           0   \n",
       "1014300321              0                       0                           0   \n",
       "1014326068              0                       0                           0   \n",
       "\n",
       "            unknown_dept  buildings  business  cleanup  code  \\\n",
       "CASEID                                                         \n",
       "1014281655             0          0         0        0     1   \n",
       "1014281665             0          0         0        0     1   \n",
       "1014281677             0          0         0        0     1   \n",
       "1014300321             0          1         0        0     0   \n",
       "1014326068             0          0         0        0     1   \n",
       "\n",
       "            customer_service  field  land  license  misc  storm  streets  \\\n",
       "CASEID                                                                     \n",
       "1014281655                 0      0     0        0     0      0        0   \n",
       "1014281665                 0      0     0        0     0      0        0   \n",
       "1014281677                 0      0     0        0     0      0        0   \n",
       "1014300321                 0      0     0        0     0      0        0   \n",
       "1014326068                 0      0     0        0     0      0        0   \n",
       "\n",
       "            trades  traffic  waste  web_portal  311_mobile_app  \\\n",
       "CASEID                                                           \n",
       "1014281655       0        0      0           0               0   \n",
       "1014281665       0        0      0           0               0   \n",
       "1014281677       0        0      0           0               0   \n",
       "1014300321       0        0      0           0               1   \n",
       "1014326068       0        0      0           0               0   \n",
       "\n",
       "            constituent_call  internal_services_requests  \n",
       "CASEID                                                    \n",
       "1014281655                 1                           0  \n",
       "1014281665                 1                           0  \n",
       "1014281677                 1                           0  \n",
       "1014300321                 0                           0  \n",
       "1014326068                 1                           0  "
      ]
     },
     "execution_count": 3,
     "metadata": {},
     "output_type": "execute_result"
    }
   ],
   "source": [
    "df.head()"
   ]
  },
  {
   "cell_type": "code",
   "execution_count": 4,
   "metadata": {},
   "outputs": [],
   "source": [
    "train, validate, test, X_train, y_train, X_validate, y_validate, X_test, y_test, train_scaled, validate_scaled, test_scaled = split_separate_scale(df, stratify_by= 'level_of_delay')"
   ]
  },
  {
   "cell_type": "code",
   "execution_count": 5,
   "metadata": {},
   "outputs": [
    {
     "name": "stdout",
     "output_type": "stream",
     "text": [
      "train:  (199760, 43) , validate:  (85612, 43) , test:  (71343, 43)\n",
      "train:  (199760,) , validate:  (85612,) , test:  (71343,)\n"
     ]
    }
   ],
   "source": [
    "print(\"train: \", X_train.shape, \", validate: \", X_validate.shape, \", test: \", X_test.shape)\n",
    "print(\"train: \", y_train.shape, \", validate: \", y_validate.shape, \", test: \", y_test.shape)"
   ]
  },
  {
   "cell_type": "markdown",
   "metadata": {},
   "source": [
    "# Make Baseline Prediction"
   ]
  },
  {
   "cell_type": "code",
   "execution_count": 6,
   "metadata": {},
   "outputs": [
    {
     "data": {
      "text/plain": [
       "Early Response              264640\n",
       "On Time Response             51531\n",
       "Very Early Response          27320\n",
       "Late Response                 8938\n",
       "Very Late Response            3148\n",
       "Extremely Late Response        991\n",
       "Extremely Early Response       147\n",
       "Name: level_of_delay, dtype: int64"
      ]
     },
     "execution_count": 6,
     "metadata": {},
     "output_type": "execute_result"
    }
   ],
   "source": [
    "#Making a baseline prediction\n",
    "df.level_of_delay.value_counts()"
   ]
  },
  {
   "cell_type": "code",
   "execution_count": 7,
   "metadata": {},
   "outputs": [],
   "source": [
    "# set up y_train, y_validate, and y_test as dataframes\n",
    "y_train = pd.DataFrame(y_train)\n",
    "y_validate = pd.DataFrame(y_validate)\n",
    "y_test = pd.DataFrame(y_test)"
   ]
  },
  {
   "cell_type": "code",
   "execution_count": 8,
   "metadata": {},
   "outputs": [],
   "source": [
    "#concatenating the baseline prediction to the y_train\n",
    "y_train['baseline'] = 'Early Response'"
   ]
  },
  {
   "cell_type": "code",
   "execution_count": 9,
   "metadata": {},
   "outputs": [
    {
     "data": {
      "text/html": [
       "<div>\n",
       "<style scoped>\n",
       "    .dataframe tbody tr th:only-of-type {\n",
       "        vertical-align: middle;\n",
       "    }\n",
       "\n",
       "    .dataframe tbody tr th {\n",
       "        vertical-align: top;\n",
       "    }\n",
       "\n",
       "    .dataframe thead th {\n",
       "        text-align: right;\n",
       "    }\n",
       "</style>\n",
       "<table border=\"1\" class=\"dataframe\">\n",
       "  <thead>\n",
       "    <tr style=\"text-align: right;\">\n",
       "      <th></th>\n",
       "      <th>level_of_delay</th>\n",
       "      <th>baseline</th>\n",
       "    </tr>\n",
       "    <tr>\n",
       "      <th>CASEID</th>\n",
       "      <th></th>\n",
       "      <th></th>\n",
       "    </tr>\n",
       "  </thead>\n",
       "  <tbody>\n",
       "    <tr>\n",
       "      <th>1016517770</th>\n",
       "      <td>Early Response</td>\n",
       "      <td>Early Response</td>\n",
       "    </tr>\n",
       "    <tr>\n",
       "      <th>1016203792</th>\n",
       "      <td>Early Response</td>\n",
       "      <td>Early Response</td>\n",
       "    </tr>\n",
       "    <tr>\n",
       "      <th>1016771848</th>\n",
       "      <td>Early Response</td>\n",
       "      <td>Early Response</td>\n",
       "    </tr>\n",
       "    <tr>\n",
       "      <th>1016634860</th>\n",
       "      <td>Early Response</td>\n",
       "      <td>Early Response</td>\n",
       "    </tr>\n",
       "    <tr>\n",
       "      <th>1016302671</th>\n",
       "      <td>On Time Response</td>\n",
       "      <td>Early Response</td>\n",
       "    </tr>\n",
       "  </tbody>\n",
       "</table>\n",
       "</div>"
      ],
      "text/plain": [
       "              level_of_delay        baseline\n",
       "CASEID                                      \n",
       "1016517770    Early Response  Early Response\n",
       "1016203792    Early Response  Early Response\n",
       "1016771848    Early Response  Early Response\n",
       "1016634860    Early Response  Early Response\n",
       "1016302671  On Time Response  Early Response"
      ]
     },
     "execution_count": 9,
     "metadata": {},
     "output_type": "execute_result"
    }
   ],
   "source": [
    "y_train.head()"
   ]
  },
  {
   "cell_type": "code",
   "execution_count": 10,
   "metadata": {},
   "outputs": [
    {
     "name": "stdout",
     "output_type": "stream",
     "text": [
      " Baseline Accuracy: 74.19%\n",
      "---\n",
      "Confusion Matrix\n",
      "level_of_delay  Extremely Late Response  Very Late Response  Late Response  \\\n",
      "baseline                                                                     \n",
      "Early Response                      555                1763           5005   \n",
      "\n",
      "level_of_delay  On Time Response  Early Response  Very Early Response  \\\n",
      "baseline                                                                \n",
      "Early Response             28857          148198                15299   \n",
      "\n",
      "level_of_delay  Extremely Early Response  \n",
      "baseline                                  \n",
      "Early Response                        83  \n",
      "---\n",
      "                          precision    recall  f1-score   support\n",
      "\n",
      "          Early Response       0.74      1.00      0.85    148198\n",
      "Extremely Early Response       0.00      0.00      0.00        83\n",
      " Extremely Late Response       0.00      0.00      0.00       555\n",
      "           Late Response       0.00      0.00      0.00      5005\n",
      "        On Time Response       0.00      0.00      0.00     28857\n",
      "     Very Early Response       0.00      0.00      0.00     15299\n",
      "      Very Late Response       0.00      0.00      0.00      1763\n",
      "\n",
      "                accuracy                           0.74    199760\n",
      "               macro avg       0.11      0.14      0.12    199760\n",
      "            weighted avg       0.55      0.74      0.63    199760\n",
      "\n"
     ]
    }
   ],
   "source": [
    "# calculate accuracy of baseline\n",
    "\n",
    "print(' Baseline Accuracy: {:.2%}'.format(accuracy_score(y_train.level_of_delay, y_train.baseline)))\n",
    "print('---')\n",
    "print('Confusion Matrix')\n",
    "print(pd.crosstab(y_train.baseline, y_train.level_of_delay))\n",
    "print('---')\n",
    "print(classification_report(y_train.level_of_delay, y_train.baseline))"
   ]
  },
  {
   "cell_type": "code",
   "execution_count": 11,
   "metadata": {},
   "outputs": [
    {
     "name": "stdout",
     "output_type": "stream",
     "text": [
      "<class 'pandas.core.frame.DataFrame'>\n",
      "Int64Index: 199760 entries, 1016517770 to 1016684613\n",
      "Data columns (total 43 columns):\n",
      " #   Column                      Non-Null Count   Dtype \n",
      "---  ------                      --------------   ----- \n",
      " 0   dept                        199760 non-null  object\n",
      " 1   call_reason                 199760 non-null  object\n",
      " 2   source_id                   199760 non-null  object\n",
      " 3   council_district            199760 non-null  int64 \n",
      " 4   resolution_days_due         199760 non-null  int64 \n",
      " 5   district_0                  199760 non-null  uint8 \n",
      " 6   district_1                  199760 non-null  uint8 \n",
      " 7   district_2                  199760 non-null  uint8 \n",
      " 8   district_3                  199760 non-null  uint8 \n",
      " 9   district_4                  199760 non-null  uint8 \n",
      " 10  district_5                  199760 non-null  uint8 \n",
      " 11  district_6                  199760 non-null  uint8 \n",
      " 12  district_7                  199760 non-null  uint8 \n",
      " 13  district_8                  199760 non-null  uint8 \n",
      " 14  district_9                  199760 non-null  uint8 \n",
      " 15  district_10                 199760 non-null  uint8 \n",
      " 16  animal_care_services        199760 non-null  uint8 \n",
      " 17  code_enforcement_services   199760 non-null  uint8 \n",
      " 18  customer_services           199760 non-null  uint8 \n",
      " 19  development_services        199760 non-null  uint8 \n",
      " 20  metro_health                199760 non-null  uint8 \n",
      " 21  parks_and_rec               199760 non-null  uint8 \n",
      " 22  solid_waste_management      199760 non-null  uint8 \n",
      " 23  trans_and_cap_improvements  199760 non-null  uint8 \n",
      " 24  unknown_dept                199760 non-null  uint8 \n",
      " 25  buildings                   199760 non-null  uint8 \n",
      " 26  business                    199760 non-null  uint8 \n",
      " 27  cleanup                     199760 non-null  uint8 \n",
      " 28  code                        199760 non-null  uint8 \n",
      " 29  customer_service            199760 non-null  uint8 \n",
      " 30  field                       199760 non-null  uint8 \n",
      " 31  land                        199760 non-null  uint8 \n",
      " 32  license                     199760 non-null  uint8 \n",
      " 33  misc                        199760 non-null  uint8 \n",
      " 34  storm                       199760 non-null  uint8 \n",
      " 35  streets                     199760 non-null  uint8 \n",
      " 36  trades                      199760 non-null  uint8 \n",
      " 37  traffic                     199760 non-null  uint8 \n",
      " 38  waste                       199760 non-null  uint8 \n",
      " 39  web_portal                  199760 non-null  uint8 \n",
      " 40  311_mobile_app              199760 non-null  uint8 \n",
      " 41  constituent_call            199760 non-null  uint8 \n",
      " 42  internal_services_requests  199760 non-null  uint8 \n",
      "dtypes: int64(2), object(3), uint8(38)\n",
      "memory usage: 16.4+ MB\n"
     ]
    }
   ],
   "source": [
    "X_train.info()"
   ]
  },
  {
   "cell_type": "code",
   "execution_count": 12,
   "metadata": {},
   "outputs": [],
   "source": [
    "X_train.drop(columns=['dept', \n",
    "                 'call_reason', \n",
    "                 'source_id' ], inplace=True)"
   ]
  },
  {
   "cell_type": "code",
   "execution_count": 13,
   "metadata": {},
   "outputs": [],
   "source": [
    "X_validate.drop(columns=['dept', \n",
    "                 'call_reason', \n",
    "                 'source_id' ], inplace=True)"
   ]
  },
  {
   "cell_type": "code",
   "execution_count": 14,
   "metadata": {},
   "outputs": [],
   "source": [
    "X_test.drop(columns=['dept', \n",
    "                 'call_reason', \n",
    "                 'source_id' ], inplace=True)"
   ]
  },
  {
   "cell_type": "markdown",
   "metadata": {},
   "source": [
    "# Split Data"
   ]
  },
  {
   "cell_type": "markdown",
   "metadata": {},
   "source": [
    "### iteration 1 "
   ]
  },
  {
   "cell_type": "code",
   "execution_count": 15,
   "metadata": {},
   "outputs": [],
   "source": [
    "# create the model object\n",
    "generic_clf = RidgeClassifier(random_state=123)"
   ]
  },
  {
   "cell_type": "code",
   "execution_count": 16,
   "metadata": {},
   "outputs": [
    {
     "name": "stdout",
     "output_type": "stream",
     "text": [
      "Accuracy of Ridge classifier on training set: 0.8095264317180617\n"
     ]
    }
   ],
   "source": [
    "# fit to train only\n",
    "generic_clf.fit(X_train, y_train.level_of_delay)\n",
    "y_pred = generic_clf.predict(X_train)\n",
    "# evaluate with score, returns the mean accuracy on the given test data and labels\n",
    "print('Accuracy of Ridge classifier on training set:', generic_clf.score(X_train, y_train.level_of_delay))"
   ]
  },
  {
   "cell_type": "markdown",
   "metadata": {},
   "source": [
    "### iteration 2"
   ]
  },
  {
   "cell_type": "code",
   "execution_count": 18,
   "metadata": {},
   "outputs": [],
   "source": [
    "class_weight_clf = RidgeClassifier(class_weight=\"balanced\", solver='auto', random_state=123)"
   ]
  },
  {
   "cell_type": "code",
   "execution_count": 19,
   "metadata": {},
   "outputs": [
    {
     "name": "stdout",
     "output_type": "stream",
     "text": [
      "Accuracy of Ridge classifier on training set: 0.6045855026031237\n"
     ]
    }
   ],
   "source": [
    "# fit to train only\n",
    "class_weight_clf.fit(X_train, y_train.level_of_delay)\n",
    "y_pred = class_weight_clf.predict(X_train)\n",
    "# evaluate with score, returns the mean accuracy on the given test data and labels\n",
    "print('Accuracy of Ridge classifier on training set:', class_weight_clf.score(X_train, y_train.level_of_delay))"
   ]
  },
  {
   "cell_type": "markdown",
   "metadata": {},
   "source": [
    "### iteration 3"
   ]
  },
  {
   "cell_type": "code",
   "execution_count": 20,
   "metadata": {},
   "outputs": [],
   "source": [
    "# create the model object\n",
    "clf2 = RidgeClassifier(solver='sag',random_state=123)"
   ]
  },
  {
   "cell_type": "code",
   "execution_count": 21,
   "metadata": {},
   "outputs": [
    {
     "name": "stdout",
     "output_type": "stream",
     "text": [
      "Accuracy of Ridge classifier on training set: 0.8097867440929115\n"
     ]
    }
   ],
   "source": [
    "# fit to train only\n",
    "clf2.fit(X_train, y_train.level_of_delay)\n",
    "y_pred = clf2.predict(X_train)\n",
    "# evaluate with score, returns the mean accuracy on the given test data and labels\n",
    "print('Accuracy of Ridge classifier on training set:', clf2.score(X_train, y_train.level_of_delay))"
   ]
  },
  {
   "cell_type": "markdown",
   "metadata": {},
   "source": [
    "### iteration 4"
   ]
  },
  {
   "cell_type": "code",
   "execution_count": 24,
   "metadata": {},
   "outputs": [],
   "source": [
    "from sklearn.feature_selection import RFE\n",
    "from sklearn.feature_selection import SelectKBest, f_regression"
   ]
  },
  {
   "cell_type": "code",
   "execution_count": 42,
   "metadata": {},
   "outputs": [],
   "source": [
    "y_train=y_train.drop(columns=['baseline'])"
   ]
  },
  {
   "cell_type": "code",
   "execution_count": 48,
   "metadata": {},
   "outputs": [
    {
     "ename": "TypeError",
     "evalue": "unsupported operand type(s) for /: 'str' and 'int'",
     "output_type": "error",
     "traceback": [
      "\u001b[0;31m---------------------------------------------------------------------------\u001b[0m",
      "\u001b[0;31mTypeError\u001b[0m                                 Traceback (most recent call last)",
      "\u001b[0;32m<ipython-input-48-30e85e69c7a1>\u001b[0m in \u001b[0;36m<module>\u001b[0;34m\u001b[0m\n\u001b[1;32m      3\u001b[0m \u001b[0;34m\u001b[0m\u001b[0m\n\u001b[1;32m      4\u001b[0m \u001b[0;31m# find the top k X's correlated with y\u001b[0m\u001b[0;34m\u001b[0m\u001b[0;34m\u001b[0m\u001b[0;34m\u001b[0m\u001b[0m\n\u001b[0;32m----> 5\u001b[0;31m \u001b[0mf_selector\u001b[0m\u001b[0;34m.\u001b[0m\u001b[0mfit\u001b[0m\u001b[0;34m(\u001b[0m\u001b[0mtrain_scaled\u001b[0m\u001b[0;34m,\u001b[0m \u001b[0my_train\u001b[0m\u001b[0;34m)\u001b[0m\u001b[0;34m\u001b[0m\u001b[0;34m\u001b[0m\u001b[0m\n\u001b[0m\u001b[1;32m      6\u001b[0m \u001b[0;34m\u001b[0m\u001b[0m\n\u001b[1;32m      7\u001b[0m \u001b[0;31m# boolean mask of whether the column was selected or not.\u001b[0m\u001b[0;34m\u001b[0m\u001b[0;34m\u001b[0m\u001b[0;34m\u001b[0m\u001b[0m\n",
      "\u001b[0;32m/usr/local/anaconda3/lib/python3.7/site-packages/sklearn/feature_selection/_univariate_selection.py\u001b[0m in \u001b[0;36mfit\u001b[0;34m(self, X, y)\u001b[0m\n\u001b[1;32m    350\u001b[0m \u001b[0;34m\u001b[0m\u001b[0m\n\u001b[1;32m    351\u001b[0m         \u001b[0mself\u001b[0m\u001b[0;34m.\u001b[0m\u001b[0m_check_params\u001b[0m\u001b[0;34m(\u001b[0m\u001b[0mX\u001b[0m\u001b[0;34m,\u001b[0m \u001b[0my\u001b[0m\u001b[0;34m)\u001b[0m\u001b[0;34m\u001b[0m\u001b[0;34m\u001b[0m\u001b[0m\n\u001b[0;32m--> 352\u001b[0;31m         \u001b[0mscore_func_ret\u001b[0m \u001b[0;34m=\u001b[0m \u001b[0mself\u001b[0m\u001b[0;34m.\u001b[0m\u001b[0mscore_func\u001b[0m\u001b[0;34m(\u001b[0m\u001b[0mX\u001b[0m\u001b[0;34m,\u001b[0m \u001b[0my\u001b[0m\u001b[0;34m)\u001b[0m\u001b[0;34m\u001b[0m\u001b[0;34m\u001b[0m\u001b[0m\n\u001b[0m\u001b[1;32m    353\u001b[0m         \u001b[0;32mif\u001b[0m \u001b[0misinstance\u001b[0m\u001b[0;34m(\u001b[0m\u001b[0mscore_func_ret\u001b[0m\u001b[0;34m,\u001b[0m \u001b[0;34m(\u001b[0m\u001b[0mlist\u001b[0m\u001b[0;34m,\u001b[0m \u001b[0mtuple\u001b[0m\u001b[0;34m)\u001b[0m\u001b[0;34m)\u001b[0m\u001b[0;34m:\u001b[0m\u001b[0;34m\u001b[0m\u001b[0;34m\u001b[0m\u001b[0m\n\u001b[1;32m    354\u001b[0m             \u001b[0mself\u001b[0m\u001b[0;34m.\u001b[0m\u001b[0mscores_\u001b[0m\u001b[0;34m,\u001b[0m \u001b[0mself\u001b[0m\u001b[0;34m.\u001b[0m\u001b[0mpvalues_\u001b[0m \u001b[0;34m=\u001b[0m \u001b[0mscore_func_ret\u001b[0m\u001b[0;34m\u001b[0m\u001b[0;34m\u001b[0m\u001b[0m\n",
      "\u001b[0;32m/usr/local/anaconda3/lib/python3.7/site-packages/sklearn/utils/validation.py\u001b[0m in \u001b[0;36minner_f\u001b[0;34m(*args, **kwargs)\u001b[0m\n\u001b[1;32m     61\u001b[0m             \u001b[0mextra_args\u001b[0m \u001b[0;34m=\u001b[0m \u001b[0mlen\u001b[0m\u001b[0;34m(\u001b[0m\u001b[0margs\u001b[0m\u001b[0;34m)\u001b[0m \u001b[0;34m-\u001b[0m \u001b[0mlen\u001b[0m\u001b[0;34m(\u001b[0m\u001b[0mall_args\u001b[0m\u001b[0;34m)\u001b[0m\u001b[0;34m\u001b[0m\u001b[0;34m\u001b[0m\u001b[0m\n\u001b[1;32m     62\u001b[0m             \u001b[0;32mif\u001b[0m \u001b[0mextra_args\u001b[0m \u001b[0;34m<=\u001b[0m \u001b[0;36m0\u001b[0m\u001b[0;34m:\u001b[0m\u001b[0;34m\u001b[0m\u001b[0;34m\u001b[0m\u001b[0m\n\u001b[0;32m---> 63\u001b[0;31m                 \u001b[0;32mreturn\u001b[0m \u001b[0mf\u001b[0m\u001b[0;34m(\u001b[0m\u001b[0;34m*\u001b[0m\u001b[0margs\u001b[0m\u001b[0;34m,\u001b[0m \u001b[0;34m**\u001b[0m\u001b[0mkwargs\u001b[0m\u001b[0;34m)\u001b[0m\u001b[0;34m\u001b[0m\u001b[0;34m\u001b[0m\u001b[0m\n\u001b[0m\u001b[1;32m     64\u001b[0m \u001b[0;34m\u001b[0m\u001b[0m\n\u001b[1;32m     65\u001b[0m             \u001b[0;31m# extra_args > 0\u001b[0m\u001b[0;34m\u001b[0m\u001b[0;34m\u001b[0m\u001b[0;34m\u001b[0m\u001b[0m\n",
      "\u001b[0;32m/usr/local/anaconda3/lib/python3.7/site-packages/sklearn/feature_selection/_univariate_selection.py\u001b[0m in \u001b[0;36mf_regression\u001b[0;34m(X, y, center)\u001b[0m\n\u001b[1;32m    286\u001b[0m     \u001b[0;31m# need not center X\u001b[0m\u001b[0;34m\u001b[0m\u001b[0;34m\u001b[0m\u001b[0;34m\u001b[0m\u001b[0m\n\u001b[1;32m    287\u001b[0m     \u001b[0;32mif\u001b[0m \u001b[0mcenter\u001b[0m\u001b[0;34m:\u001b[0m\u001b[0;34m\u001b[0m\u001b[0;34m\u001b[0m\u001b[0m\n\u001b[0;32m--> 288\u001b[0;31m         \u001b[0my\u001b[0m \u001b[0;34m=\u001b[0m \u001b[0my\u001b[0m \u001b[0;34m-\u001b[0m \u001b[0mnp\u001b[0m\u001b[0;34m.\u001b[0m\u001b[0mmean\u001b[0m\u001b[0;34m(\u001b[0m\u001b[0my\u001b[0m\u001b[0;34m)\u001b[0m\u001b[0;34m\u001b[0m\u001b[0;34m\u001b[0m\u001b[0m\n\u001b[0m\u001b[1;32m    289\u001b[0m         \u001b[0;32mif\u001b[0m \u001b[0missparse\u001b[0m\u001b[0;34m(\u001b[0m\u001b[0mX\u001b[0m\u001b[0;34m)\u001b[0m\u001b[0;34m:\u001b[0m\u001b[0;34m\u001b[0m\u001b[0;34m\u001b[0m\u001b[0m\n\u001b[1;32m    290\u001b[0m             \u001b[0mX_means\u001b[0m \u001b[0;34m=\u001b[0m \u001b[0mX\u001b[0m\u001b[0;34m.\u001b[0m\u001b[0mmean\u001b[0m\u001b[0;34m(\u001b[0m\u001b[0maxis\u001b[0m\u001b[0;34m=\u001b[0m\u001b[0;36m0\u001b[0m\u001b[0;34m)\u001b[0m\u001b[0;34m.\u001b[0m\u001b[0mgetA1\u001b[0m\u001b[0;34m(\u001b[0m\u001b[0;34m)\u001b[0m\u001b[0;34m\u001b[0m\u001b[0;34m\u001b[0m\u001b[0m\n",
      "\u001b[0;32m<__array_function__ internals>\u001b[0m in \u001b[0;36mmean\u001b[0;34m(*args, **kwargs)\u001b[0m\n",
      "\u001b[0;32m/usr/local/anaconda3/lib/python3.7/site-packages/numpy/core/fromnumeric.py\u001b[0m in \u001b[0;36mmean\u001b[0;34m(a, axis, dtype, out, keepdims)\u001b[0m\n\u001b[1;32m   3333\u001b[0m \u001b[0;34m\u001b[0m\u001b[0m\n\u001b[1;32m   3334\u001b[0m     return _methods._mean(a, axis=axis, dtype=dtype,\n\u001b[0;32m-> 3335\u001b[0;31m                           out=out, **kwargs)\n\u001b[0m\u001b[1;32m   3336\u001b[0m \u001b[0;34m\u001b[0m\u001b[0m\n\u001b[1;32m   3337\u001b[0m \u001b[0;34m\u001b[0m\u001b[0m\n",
      "\u001b[0;32m/usr/local/anaconda3/lib/python3.7/site-packages/numpy/core/_methods.py\u001b[0m in \u001b[0;36m_mean\u001b[0;34m(a, axis, dtype, out, keepdims)\u001b[0m\n\u001b[1;32m    161\u001b[0m             \u001b[0mret\u001b[0m \u001b[0;34m=\u001b[0m \u001b[0mret\u001b[0m\u001b[0;34m.\u001b[0m\u001b[0mdtype\u001b[0m\u001b[0;34m.\u001b[0m\u001b[0mtype\u001b[0m\u001b[0;34m(\u001b[0m\u001b[0mret\u001b[0m \u001b[0;34m/\u001b[0m \u001b[0mrcount\u001b[0m\u001b[0;34m)\u001b[0m\u001b[0;34m\u001b[0m\u001b[0;34m\u001b[0m\u001b[0m\n\u001b[1;32m    162\u001b[0m     \u001b[0;32melse\u001b[0m\u001b[0;34m:\u001b[0m\u001b[0;34m\u001b[0m\u001b[0;34m\u001b[0m\u001b[0m\n\u001b[0;32m--> 163\u001b[0;31m         \u001b[0mret\u001b[0m \u001b[0;34m=\u001b[0m \u001b[0mret\u001b[0m \u001b[0;34m/\u001b[0m \u001b[0mrcount\u001b[0m\u001b[0;34m\u001b[0m\u001b[0;34m\u001b[0m\u001b[0m\n\u001b[0m\u001b[1;32m    164\u001b[0m \u001b[0;34m\u001b[0m\u001b[0m\n\u001b[1;32m    165\u001b[0m     \u001b[0;32mreturn\u001b[0m \u001b[0mret\u001b[0m\u001b[0;34m\u001b[0m\u001b[0;34m\u001b[0m\u001b[0m\n",
      "\u001b[0;31mTypeError\u001b[0m: unsupported operand type(s) for /: 'str' and 'int'"
     ]
    }
   ],
   "source": [
    "# parameters: f_regression stats test, give me k features\n",
    "f_selector = SelectKBest(f_regression, k=3)\n",
    "    \n",
    "# find the top k X's correlated with y\n",
    "f_selector.fit(train_scaled, y_train)\n",
    "    \n",
    "# boolean mask of whether the column was selected or not. \n",
    "feature_mask = f_selector.get_support()\n",
    "    \n",
    "f_feature = train_scaled.iloc[:,feature_mask].columns.tolist()\n",
    "    \n",
    "print(f'The two best predictors, according to k best are: {f_feature}.')"
   ]
  },
  {
   "cell_type": "code",
   "execution_count": 49,
   "metadata": {},
   "outputs": [
    {
     "name": "stdout",
     "output_type": "stream",
     "text": [
      "<class 'pandas.core.frame.DataFrame'>\n",
      "Int64Index: 199760 entries, 1016517770 to 1016684613\n",
      "Data columns (total 1 columns):\n",
      " #   Column          Non-Null Count   Dtype   \n",
      "---  ------          --------------   -----   \n",
      " 0   level_of_delay  199760 non-null  category\n",
      "dtypes: category(1)\n",
      "memory usage: 6.7 MB\n"
     ]
    }
   ],
   "source": [
    "y_train.info()"
   ]
  },
  {
   "cell_type": "code",
   "execution_count": null,
   "metadata": {},
   "outputs": [],
   "source": []
  }
 ],
 "metadata": {
  "kernelspec": {
   "display_name": "Python 3",
   "language": "python",
   "name": "python3"
  },
  "language_info": {
   "codemirror_mode": {
    "name": "ipython",
    "version": 3
   },
   "file_extension": ".py",
   "mimetype": "text/x-python",
   "name": "python",
   "nbconvert_exporter": "python",
   "pygments_lexer": "ipython3",
   "version": "3.7.6"
  }
 },
 "nbformat": 4,
 "nbformat_minor": 4
}
