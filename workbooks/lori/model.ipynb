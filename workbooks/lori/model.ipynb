{
 "cells": [
  {
   "cell_type": "markdown",
   "metadata": {},
   "source": [
    "# Modeling"
   ]
  },
  {
   "cell_type": "markdown",
   "metadata": {},
   "source": [
    "## Models to Run:\n",
    "- KNN\n",
    "- DT\n",
    "- Find new algo"
   ]
  },
  {
   "cell_type": "markdown",
   "metadata": {},
   "source": [
    "### Imports"
   ]
  },
  {
   "cell_type": "code",
   "execution_count": 1,
   "metadata": {},
   "outputs": [],
   "source": [
    "import wrangle as w\n",
    "import model as m\n",
    "import pandas as pd\n",
    "import numpy as np\n",
    "import seaborn as sns\n",
    "import matplotlib.pyplot as plt\n",
    "from sklearn.neighbors import KNeighborsClassifier\n",
    "from sklearn.tree import DecisionTreeClassifier\n",
    "from sklearn.metrics import classification_report, accuracy_score\n"
   ]
  },
  {
   "cell_type": "markdown",
   "metadata": {},
   "source": [
    "### Acquire and Prepare"
   ]
  },
  {
   "cell_type": "code",
   "execution_count": 2,
   "metadata": {},
   "outputs": [],
   "source": [
    "df = w.clean_311(w.get_311_data())"
   ]
  },
  {
   "cell_type": "code",
   "execution_count": 3,
   "metadata": {},
   "outputs": [
    {
     "name": "stdout",
     "output_type": "stream",
     "text": [
      "<class 'pandas.core.frame.DataFrame'>\n",
      "Int64Index: 356804 entries, 551 to 399979\n",
      "Data columns (total 36 columns):\n",
      " #   Column                    Non-Null Count   Dtype         \n",
      "---  ------                    --------------   -----         \n",
      " 0   open_date                 356804 non-null  datetime64[ns]\n",
      " 1   due_date                  356804 non-null  datetime64[ns]\n",
      " 2   closed_date               356804 non-null  datetime64[ns]\n",
      " 3   is_late                   356804 non-null  object        \n",
      " 4   dept                      356804 non-null  object        \n",
      " 5   call_reason               356804 non-null  object        \n",
      " 6   case_type                 356804 non-null  object        \n",
      " 7   case_status               356804 non-null  object        \n",
      " 8   source_id                 356804 non-null  object        \n",
      " 9   address                   356804 non-null  object        \n",
      " 10  council_district          356804 non-null  int64         \n",
      " 11  longitude                 356804 non-null  float64       \n",
      " 12  latitude                  356804 non-null  float64       \n",
      " 13  days_open                 356804 non-null  float64       \n",
      " 14  resolution_days_due       356804 non-null  int64         \n",
      " 15  days_before_or_after_due  356804 non-null  float64       \n",
      " 16  pct_time_of_used          356804 non-null  float64       \n",
      " 17  level_of_delay            356804 non-null  category      \n",
      " 18  district_1                356804 non-null  uint8         \n",
      " 19  district_2                356804 non-null  uint8         \n",
      " 20  district_3                356804 non-null  uint8         \n",
      " 21  district_4                356804 non-null  uint8         \n",
      " 22  district_5                356804 non-null  uint8         \n",
      " 23  district_6                356804 non-null  uint8         \n",
      " 24  district_7                356804 non-null  uint8         \n",
      " 25  district_8                356804 non-null  uint8         \n",
      " 26  district_9                356804 non-null  uint8         \n",
      " 27  district_10               356804 non-null  uint8         \n",
      " 28  voter_turnout_2019        356804 non-null  float64       \n",
      " 29  num_of_registered_voters  356804 non-null  int64         \n",
      " 30  zipcode                   356804 non-null  object        \n",
      " 31  open_month                356804 non-null  int64         \n",
      " 32  open_year                 356804 non-null  int64         \n",
      " 33  open_week                 356804 non-null  int64         \n",
      " 34  per_capita_income         356804 non-null  int64         \n",
      " 35  square_miles              356804 non-null  float64       \n",
      "dtypes: category(1), datetime64[ns](3), float64(7), int64(7), object(8), uint8(10)\n",
      "memory usage: 74.5+ MB\n"
     ]
    }
   ],
   "source": [
    "df.info()"
   ]
  },
  {
   "cell_type": "code",
   "execution_count": 4,
   "metadata": {},
   "outputs": [],
   "source": [
    "df = m.model_df()"
   ]
  },
  {
   "cell_type": "code",
   "execution_count": 5,
   "metadata": {},
   "outputs": [
    {
     "name": "stdout",
     "output_type": "stream",
     "text": [
      "<class 'pandas.core.frame.DataFrame'>\n",
      "Int64Index: 356804 entries, 551 to 399979\n",
      "Data columns (total 43 columns):\n",
      " #   Column                      Non-Null Count   Dtype   \n",
      "---  ------                      --------------   -----   \n",
      " 0   dept                        356804 non-null  object  \n",
      " 1   call_reason                 356804 non-null  object  \n",
      " 2   source_id                   356804 non-null  object  \n",
      " 3   council_district            356804 non-null  int64   \n",
      " 4   resolution_days_due         356804 non-null  int64   \n",
      " 5   level_of_delay              356804 non-null  category\n",
      " 6   district_1                  356804 non-null  uint8   \n",
      " 7   district_2                  356804 non-null  uint8   \n",
      " 8   district_3                  356804 non-null  uint8   \n",
      " 9   district_4                  356804 non-null  uint8   \n",
      " 10  district_5                  356804 non-null  uint8   \n",
      " 11  district_6                  356804 non-null  uint8   \n",
      " 12  district_7                  356804 non-null  uint8   \n",
      " 13  district_8                  356804 non-null  uint8   \n",
      " 14  district_9                  356804 non-null  uint8   \n",
      " 15  district_10                 356804 non-null  uint8   \n",
      " 16  animal_care_services        356804 non-null  uint8   \n",
      " 17  code_enforcement_services   356804 non-null  uint8   \n",
      " 18  customer_services           356804 non-null  uint8   \n",
      " 19  development_services        356804 non-null  uint8   \n",
      " 20  metro_health                356804 non-null  uint8   \n",
      " 21  parks_and_rec               356804 non-null  uint8   \n",
      " 22  solid_waste_management      356804 non-null  uint8   \n",
      " 23  trans_and_cap_improvements  356804 non-null  uint8   \n",
      " 24  unknown_dept                356804 non-null  uint8   \n",
      " 25  buildings                   356804 non-null  uint8   \n",
      " 26  business                    356804 non-null  uint8   \n",
      " 27  cleanup                     356804 non-null  uint8   \n",
      " 28  code                        356804 non-null  uint8   \n",
      " 29  customer_service            356804 non-null  uint8   \n",
      " 30  field                       356804 non-null  uint8   \n",
      " 31  land                        356804 non-null  uint8   \n",
      " 32  license                     356804 non-null  uint8   \n",
      " 33  misc                        356804 non-null  uint8   \n",
      " 34  storm                       356804 non-null  uint8   \n",
      " 35  streets                     356804 non-null  uint8   \n",
      " 36  trades                      356804 non-null  uint8   \n",
      " 37  traffic                     356804 non-null  uint8   \n",
      " 38  waste                       356804 non-null  uint8   \n",
      " 39  web_portal                  356804 non-null  uint8   \n",
      " 40  311_mobile_app              356804 non-null  uint8   \n",
      " 41  constituent_call            356804 non-null  uint8   \n",
      " 42  internal_services_requests  356804 non-null  uint8   \n",
      "dtypes: category(1), int64(2), object(3), uint8(37)\n",
      "memory usage: 29.3+ MB\n"
     ]
    }
   ],
   "source": [
    "df.info()"
   ]
  },
  {
   "cell_type": "markdown",
   "metadata": {},
   "source": [
    "#### Drop original dept, source_id, and call_reason"
   ]
  },
  {
   "cell_type": "code",
   "execution_count": 6,
   "metadata": {},
   "outputs": [],
   "source": [
    "df.drop(columns=['dept', \n",
    "                 'call_reason', \n",
    "                 'source_id' ], inplace=True)"
   ]
  },
  {
   "cell_type": "code",
   "execution_count": 7,
   "metadata": {},
   "outputs": [
    {
     "name": "stdout",
     "output_type": "stream",
     "text": [
      "<class 'pandas.core.frame.DataFrame'>\n",
      "Int64Index: 356804 entries, 551 to 399979\n",
      "Data columns (total 40 columns):\n",
      " #   Column                      Non-Null Count   Dtype   \n",
      "---  ------                      --------------   -----   \n",
      " 0   council_district            356804 non-null  int64   \n",
      " 1   resolution_days_due         356804 non-null  int64   \n",
      " 2   level_of_delay              356804 non-null  category\n",
      " 3   district_1                  356804 non-null  uint8   \n",
      " 4   district_2                  356804 non-null  uint8   \n",
      " 5   district_3                  356804 non-null  uint8   \n",
      " 6   district_4                  356804 non-null  uint8   \n",
      " 7   district_5                  356804 non-null  uint8   \n",
      " 8   district_6                  356804 non-null  uint8   \n",
      " 9   district_7                  356804 non-null  uint8   \n",
      " 10  district_8                  356804 non-null  uint8   \n",
      " 11  district_9                  356804 non-null  uint8   \n",
      " 12  district_10                 356804 non-null  uint8   \n",
      " 13  animal_care_services        356804 non-null  uint8   \n",
      " 14  code_enforcement_services   356804 non-null  uint8   \n",
      " 15  customer_services           356804 non-null  uint8   \n",
      " 16  development_services        356804 non-null  uint8   \n",
      " 17  metro_health                356804 non-null  uint8   \n",
      " 18  parks_and_rec               356804 non-null  uint8   \n",
      " 19  solid_waste_management      356804 non-null  uint8   \n",
      " 20  trans_and_cap_improvements  356804 non-null  uint8   \n",
      " 21  unknown_dept                356804 non-null  uint8   \n",
      " 22  buildings                   356804 non-null  uint8   \n",
      " 23  business                    356804 non-null  uint8   \n",
      " 24  cleanup                     356804 non-null  uint8   \n",
      " 25  code                        356804 non-null  uint8   \n",
      " 26  customer_service            356804 non-null  uint8   \n",
      " 27  field                       356804 non-null  uint8   \n",
      " 28  land                        356804 non-null  uint8   \n",
      " 29  license                     356804 non-null  uint8   \n",
      " 30  misc                        356804 non-null  uint8   \n",
      " 31  storm                       356804 non-null  uint8   \n",
      " 32  streets                     356804 non-null  uint8   \n",
      " 33  trades                      356804 non-null  uint8   \n",
      " 34  traffic                     356804 non-null  uint8   \n",
      " 35  waste                       356804 non-null  uint8   \n",
      " 36  web_portal                  356804 non-null  uint8   \n",
      " 37  311_mobile_app              356804 non-null  uint8   \n",
      " 38  constituent_call            356804 non-null  uint8   \n",
      " 39  internal_services_requests  356804 non-null  uint8   \n",
      "dtypes: category(1), int64(2), uint8(37)\n",
      "memory usage: 21.1 MB\n"
     ]
    }
   ],
   "source": [
    "df.info()"
   ]
  },
  {
   "cell_type": "markdown",
   "metadata": {},
   "source": [
    "#### Splitty Split"
   ]
  },
  {
   "cell_type": "code",
   "execution_count": 8,
   "metadata": {},
   "outputs": [],
   "source": [
    "train, validate, test, X_train, y_train, X_validate, y_validate, X_test, y_test, train_scaled, validate_scaled, test_scaled = m.split_separate_scale(df, stratify_by= 'level_of_delay')"
   ]
  },
  {
   "cell_type": "code",
   "execution_count": 9,
   "metadata": {},
   "outputs": [
    {
     "data": {
      "text/plain": [
       "(199810, 40)"
      ]
     },
     "execution_count": 9,
     "metadata": {},
     "output_type": "execute_result"
    }
   ],
   "source": [
    "train.shape"
   ]
  },
  {
   "cell_type": "code",
   "execution_count": 10,
   "metadata": {},
   "outputs": [
    {
     "data": {
      "text/plain": [
       "(85633, 40)"
      ]
     },
     "execution_count": 10,
     "metadata": {},
     "output_type": "execute_result"
    }
   ],
   "source": [
    "validate.shape"
   ]
  },
  {
   "cell_type": "code",
   "execution_count": 11,
   "metadata": {},
   "outputs": [
    {
     "data": {
      "text/plain": [
       "(71361, 40)"
      ]
     },
     "execution_count": 11,
     "metadata": {},
     "output_type": "execute_result"
    }
   ],
   "source": [
    "test.shape"
   ]
  },
  {
   "cell_type": "code",
   "execution_count": 12,
   "metadata": {},
   "outputs": [
    {
     "data": {
      "text/html": [
       "<div>\n",
       "<style scoped>\n",
       "    .dataframe tbody tr th:only-of-type {\n",
       "        vertical-align: middle;\n",
       "    }\n",
       "\n",
       "    .dataframe tbody tr th {\n",
       "        vertical-align: top;\n",
       "    }\n",
       "\n",
       "    .dataframe thead th {\n",
       "        text-align: right;\n",
       "    }\n",
       "</style>\n",
       "<table border=\"1\" class=\"dataframe\">\n",
       "  <thead>\n",
       "    <tr style=\"text-align: right;\">\n",
       "      <th></th>\n",
       "      <th>council_district</th>\n",
       "      <th>resolution_days_due</th>\n",
       "      <th>level_of_delay</th>\n",
       "      <th>district_1</th>\n",
       "      <th>district_2</th>\n",
       "      <th>district_3</th>\n",
       "      <th>district_4</th>\n",
       "      <th>district_5</th>\n",
       "      <th>district_6</th>\n",
       "      <th>district_7</th>\n",
       "      <th>...</th>\n",
       "      <th>misc</th>\n",
       "      <th>storm</th>\n",
       "      <th>streets</th>\n",
       "      <th>trades</th>\n",
       "      <th>traffic</th>\n",
       "      <th>waste</th>\n",
       "      <th>web_portal</th>\n",
       "      <th>311_mobile_app</th>\n",
       "      <th>constituent_call</th>\n",
       "      <th>internal_services_requests</th>\n",
       "    </tr>\n",
       "  </thead>\n",
       "  <tbody>\n",
       "    <tr>\n",
       "      <th>196649</th>\n",
       "      <td>5</td>\n",
       "      <td>4</td>\n",
       "      <td>Early Response</td>\n",
       "      <td>0</td>\n",
       "      <td>0</td>\n",
       "      <td>0</td>\n",
       "      <td>0</td>\n",
       "      <td>1</td>\n",
       "      <td>0</td>\n",
       "      <td>0</td>\n",
       "      <td>...</td>\n",
       "      <td>0</td>\n",
       "      <td>0</td>\n",
       "      <td>0</td>\n",
       "      <td>0</td>\n",
       "      <td>0</td>\n",
       "      <td>1</td>\n",
       "      <td>0</td>\n",
       "      <td>0</td>\n",
       "      <td>0</td>\n",
       "      <td>1</td>\n",
       "    </tr>\n",
       "    <tr>\n",
       "      <th>192441</th>\n",
       "      <td>10</td>\n",
       "      <td>8</td>\n",
       "      <td>Very Early Response</td>\n",
       "      <td>0</td>\n",
       "      <td>0</td>\n",
       "      <td>0</td>\n",
       "      <td>0</td>\n",
       "      <td>0</td>\n",
       "      <td>0</td>\n",
       "      <td>0</td>\n",
       "      <td>...</td>\n",
       "      <td>0</td>\n",
       "      <td>0</td>\n",
       "      <td>0</td>\n",
       "      <td>0</td>\n",
       "      <td>0</td>\n",
       "      <td>0</td>\n",
       "      <td>0</td>\n",
       "      <td>0</td>\n",
       "      <td>0</td>\n",
       "      <td>1</td>\n",
       "    </tr>\n",
       "    <tr>\n",
       "      <th>119552</th>\n",
       "      <td>6</td>\n",
       "      <td>3</td>\n",
       "      <td>Very Early Response</td>\n",
       "      <td>0</td>\n",
       "      <td>0</td>\n",
       "      <td>0</td>\n",
       "      <td>0</td>\n",
       "      <td>0</td>\n",
       "      <td>1</td>\n",
       "      <td>0</td>\n",
       "      <td>...</td>\n",
       "      <td>1</td>\n",
       "      <td>0</td>\n",
       "      <td>0</td>\n",
       "      <td>0</td>\n",
       "      <td>0</td>\n",
       "      <td>0</td>\n",
       "      <td>0</td>\n",
       "      <td>0</td>\n",
       "      <td>0</td>\n",
       "      <td>1</td>\n",
       "    </tr>\n",
       "    <tr>\n",
       "      <th>336354</th>\n",
       "      <td>10</td>\n",
       "      <td>8</td>\n",
       "      <td>Early Response</td>\n",
       "      <td>0</td>\n",
       "      <td>0</td>\n",
       "      <td>0</td>\n",
       "      <td>0</td>\n",
       "      <td>0</td>\n",
       "      <td>0</td>\n",
       "      <td>0</td>\n",
       "      <td>...</td>\n",
       "      <td>0</td>\n",
       "      <td>0</td>\n",
       "      <td>0</td>\n",
       "      <td>0</td>\n",
       "      <td>0</td>\n",
       "      <td>1</td>\n",
       "      <td>0</td>\n",
       "      <td>0</td>\n",
       "      <td>0</td>\n",
       "      <td>1</td>\n",
       "    </tr>\n",
       "    <tr>\n",
       "      <th>59110</th>\n",
       "      <td>10</td>\n",
       "      <td>65</td>\n",
       "      <td>Late Response</td>\n",
       "      <td>0</td>\n",
       "      <td>0</td>\n",
       "      <td>0</td>\n",
       "      <td>0</td>\n",
       "      <td>0</td>\n",
       "      <td>0</td>\n",
       "      <td>0</td>\n",
       "      <td>...</td>\n",
       "      <td>0</td>\n",
       "      <td>0</td>\n",
       "      <td>0</td>\n",
       "      <td>0</td>\n",
       "      <td>0</td>\n",
       "      <td>0</td>\n",
       "      <td>0</td>\n",
       "      <td>1</td>\n",
       "      <td>0</td>\n",
       "      <td>0</td>\n",
       "    </tr>\n",
       "  </tbody>\n",
       "</table>\n",
       "<p>5 rows × 40 columns</p>\n",
       "</div>"
      ],
      "text/plain": [
       "        council_district  resolution_days_due       level_of_delay  \\\n",
       "196649                 5                    4       Early Response   \n",
       "192441                10                    8  Very Early Response   \n",
       "119552                 6                    3  Very Early Response   \n",
       "336354                10                    8       Early Response   \n",
       "59110                 10                   65        Late Response   \n",
       "\n",
       "        district_1  district_2  district_3  district_4  district_5  \\\n",
       "196649           0           0           0           0           1   \n",
       "192441           0           0           0           0           0   \n",
       "119552           0           0           0           0           0   \n",
       "336354           0           0           0           0           0   \n",
       "59110            0           0           0           0           0   \n",
       "\n",
       "        district_6  district_7  ...  misc  storm  streets  trades  traffic  \\\n",
       "196649           0           0  ...     0      0        0       0        0   \n",
       "192441           0           0  ...     0      0        0       0        0   \n",
       "119552           1           0  ...     1      0        0       0        0   \n",
       "336354           0           0  ...     0      0        0       0        0   \n",
       "59110            0           0  ...     0      0        0       0        0   \n",
       "\n",
       "        waste  web_portal  311_mobile_app  constituent_call  \\\n",
       "196649      1           0               0                 0   \n",
       "192441      0           0               0                 0   \n",
       "119552      0           0               0                 0   \n",
       "336354      1           0               0                 0   \n",
       "59110       0           0               1                 0   \n",
       "\n",
       "        internal_services_requests  \n",
       "196649                           1  \n",
       "192441                           1  \n",
       "119552                           1  \n",
       "336354                           1  \n",
       "59110                            0  \n",
       "\n",
       "[5 rows x 40 columns]"
      ]
     },
     "execution_count": 12,
     "metadata": {},
     "output_type": "execute_result"
    }
   ],
   "source": [
    "train.head()"
   ]
  },
  {
   "cell_type": "code",
   "execution_count": 13,
   "metadata": {},
   "outputs": [
    {
     "name": "stdout",
     "output_type": "stream",
     "text": [
      "<class 'pandas.core.frame.DataFrame'>\n",
      "Int64Index: 356804 entries, 551 to 399979\n",
      "Data columns (total 40 columns):\n",
      " #   Column                      Non-Null Count   Dtype   \n",
      "---  ------                      --------------   -----   \n",
      " 0   council_district            356804 non-null  int64   \n",
      " 1   resolution_days_due         356804 non-null  int64   \n",
      " 2   level_of_delay              356804 non-null  category\n",
      " 3   district_1                  356804 non-null  uint8   \n",
      " 4   district_2                  356804 non-null  uint8   \n",
      " 5   district_3                  356804 non-null  uint8   \n",
      " 6   district_4                  356804 non-null  uint8   \n",
      " 7   district_5                  356804 non-null  uint8   \n",
      " 8   district_6                  356804 non-null  uint8   \n",
      " 9   district_7                  356804 non-null  uint8   \n",
      " 10  district_8                  356804 non-null  uint8   \n",
      " 11  district_9                  356804 non-null  uint8   \n",
      " 12  district_10                 356804 non-null  uint8   \n",
      " 13  animal_care_services        356804 non-null  uint8   \n",
      " 14  code_enforcement_services   356804 non-null  uint8   \n",
      " 15  customer_services           356804 non-null  uint8   \n",
      " 16  development_services        356804 non-null  uint8   \n",
      " 17  metro_health                356804 non-null  uint8   \n",
      " 18  parks_and_rec               356804 non-null  uint8   \n",
      " 19  solid_waste_management      356804 non-null  uint8   \n",
      " 20  trans_and_cap_improvements  356804 non-null  uint8   \n",
      " 21  unknown_dept                356804 non-null  uint8   \n",
      " 22  buildings                   356804 non-null  uint8   \n",
      " 23  business                    356804 non-null  uint8   \n",
      " 24  cleanup                     356804 non-null  uint8   \n",
      " 25  code                        356804 non-null  uint8   \n",
      " 26  customer_service            356804 non-null  uint8   \n",
      " 27  field                       356804 non-null  uint8   \n",
      " 28  land                        356804 non-null  uint8   \n",
      " 29  license                     356804 non-null  uint8   \n",
      " 30  misc                        356804 non-null  uint8   \n",
      " 31  storm                       356804 non-null  uint8   \n",
      " 32  streets                     356804 non-null  uint8   \n",
      " 33  trades                      356804 non-null  uint8   \n",
      " 34  traffic                     356804 non-null  uint8   \n",
      " 35  waste                       356804 non-null  uint8   \n",
      " 36  web_portal                  356804 non-null  uint8   \n",
      " 37  311_mobile_app              356804 non-null  uint8   \n",
      " 38  constituent_call            356804 non-null  uint8   \n",
      " 39  internal_services_requests  356804 non-null  uint8   \n",
      "dtypes: category(1), int64(2), uint8(37)\n",
      "memory usage: 21.1 MB\n"
     ]
    }
   ],
   "source": [
    "df.info()"
   ]
  },
  {
   "cell_type": "markdown",
   "metadata": {},
   "source": [
    "#### Create the baseline"
   ]
  },
  {
   "cell_type": "code",
   "execution_count": 14,
   "metadata": {},
   "outputs": [
    {
     "data": {
      "text/plain": [
       "Very Early Response    114280\n",
       "Early Response          36971\n",
       "Late Response           33599\n",
       "On Time Response        11753\n",
       "Very Late Response       3207\n",
       "Name: level_of_delay, dtype: int64"
      ]
     },
     "execution_count": 14,
     "metadata": {},
     "output_type": "execute_result"
    }
   ],
   "source": [
    "#baseline\n",
    "train.level_of_delay.value_counts()"
   ]
  },
  {
   "cell_type": "code",
   "execution_count": 29,
   "metadata": {},
   "outputs": [
    {
     "name": "stdout",
     "output_type": "stream",
     "text": [
      "The baseline accuracy is: 56.99999999999999 %\n"
     ]
    }
   ],
   "source": [
    "#baseline accuracy will be early response\n",
    "baseline = round((train.level_of_delay == 'Very Early Response').mean(), 2) *100\n",
    "\n",
    "print(f'The baseline accuracy is: {baseline} %')"
   ]
  },
  {
   "cell_type": "markdown",
   "metadata": {},
   "source": [
    "#### Decision Tree"
   ]
  },
  {
   "cell_type": "code",
   "execution_count": 51,
   "metadata": {},
   "outputs": [],
   "source": [
    "#make the thing\n",
    "clf = DecisionTreeClassifier(max_depth=8, random_state=123)\n",
    "#fit the thing\n",
    "clf = clf.fit(X_train, y_train)\n",
    "#predicitons\n",
    "y_pred = clf.predict(X_train)\n",
    "#probability\n",
    "y_pred_proba = clf.predict_proba(X_train)"
   ]
  },
  {
   "cell_type": "markdown",
   "metadata": {},
   "source": [
    "#### Evaluate Decision Tree"
   ]
  },
  {
   "cell_type": "code",
   "execution_count": 52,
   "metadata": {},
   "outputs": [
    {
     "name": "stdout",
     "output_type": "stream",
     "text": [
      "Accuracy of Decision Tree classifier on training set: 0.66\n"
     ]
    }
   ],
   "source": [
    "#compute the accuracy \n",
    "print('Accuracy of Decision Tree classifier on training set: {:.2f}'\n",
    "      .format(clf.score(X_train, y_train)))"
   ]
  },
  {
   "cell_type": "code",
   "execution_count": 53,
   "metadata": {},
   "outputs": [
    {
     "name": "stdout",
     "output_type": "stream",
     "text": [
      "                     precision    recall  f1-score   support\n",
      "\n",
      "     Early Response       0.59      0.28      0.38     36971\n",
      "      Late Response       0.68      0.27      0.39     33599\n",
      "   On Time Response       0.50      0.00      0.00     11753\n",
      "Very Early Response       0.66      0.97      0.79    114280\n",
      " Very Late Response       1.00      0.49      0.66      3207\n",
      "\n",
      "           accuracy                           0.66    199810\n",
      "          macro avg       0.68      0.40      0.44    199810\n",
      "       weighted avg       0.65      0.66      0.60    199810\n",
      "\n"
     ]
    }
   ],
   "source": [
    "#classification report\n",
    "print(classification_report(y_train, y_pred))"
   ]
  },
  {
   "cell_type": "code",
   "execution_count": 54,
   "metadata": {},
   "outputs": [
    {
     "name": "stdout",
     "output_type": "stream",
     "text": [
      "Accuracy of Decision Tree classifier on validate set: 0.66\n"
     ]
    }
   ],
   "source": [
    "print('Accuracy of Decision Tree classifier on validate set: {:.2f}'\n",
    "     .format(clf.score(X_validate, y_validate)))"
   ]
  },
  {
   "cell_type": "code",
   "execution_count": 55,
   "metadata": {},
   "outputs": [
    {
     "name": "stdout",
     "output_type": "stream",
     "text": [
      "                     precision    recall  f1-score   support\n",
      "\n",
      "     Early Response       0.58      0.28      0.38     15845\n",
      "      Late Response       0.67      0.27      0.38     14399\n",
      "   On Time Response       0.00      0.00      0.00      5037\n",
      "Very Early Response       0.66      0.97      0.79     48978\n",
      " Very Late Response       0.99      0.50      0.66      1374\n",
      "\n",
      "           accuracy                           0.66     85633\n",
      "          macro avg       0.58      0.40      0.44     85633\n",
      "       weighted avg       0.62      0.66      0.60     85633\n",
      "\n"
     ]
    }
   ],
   "source": [
    "# Produce y_predictions that come from the X_validate\n",
    "y_pred = clf.predict(X_validate)\n",
    "\n",
    "# Compare actual y values (from validate) to predicted y_values from the model run on X_validate\n",
    "print(classification_report(y_validate, y_pred))"
   ]
  },
  {
   "cell_type": "code",
   "execution_count": 35,
   "metadata": {},
   "outputs": [
    {
     "data": {
      "text/plain": [
       "['council_district',\n",
       " 'resolution_days_due',\n",
       " 'level_of_delay',\n",
       " 'district_1',\n",
       " 'district_2',\n",
       " 'district_3',\n",
       " 'district_4',\n",
       " 'district_5',\n",
       " 'district_6',\n",
       " 'district_7',\n",
       " 'district_8',\n",
       " 'district_9',\n",
       " 'district_10',\n",
       " 'animal_care_services',\n",
       " 'code_enforcement_services',\n",
       " 'customer_services',\n",
       " 'development_services',\n",
       " 'metro_health',\n",
       " 'parks_and_rec',\n",
       " 'solid_waste_management',\n",
       " 'trans_and_cap_improvements',\n",
       " 'unknown_dept',\n",
       " 'buildings',\n",
       " 'business',\n",
       " 'cleanup',\n",
       " 'code',\n",
       " 'customer_service',\n",
       " 'field',\n",
       " 'land',\n",
       " 'license',\n",
       " 'misc',\n",
       " 'storm',\n",
       " 'streets',\n",
       " 'trades',\n",
       " 'traffic',\n",
       " 'waste',\n",
       " 'web_portal',\n",
       " '311_mobile_app',\n",
       " 'constituent_call',\n",
       " 'internal_services_requests']"
      ]
     },
     "execution_count": 35,
     "metadata": {},
     "output_type": "execute_result"
    }
   ],
   "source": [
    "train.columns.to_list()"
   ]
  },
  {
   "cell_type": "markdown",
   "metadata": {},
   "source": [
    "#### Vanilla KNN"
   ]
  },
  {
   "cell_type": "code",
   "execution_count": 65,
   "metadata": {},
   "outputs": [
    {
     "data": {
      "text/plain": [
       "KNeighborsClassifier(n_neighbors=6)"
      ]
     },
     "execution_count": 65,
     "metadata": {},
     "output_type": "execute_result"
    }
   ],
   "source": [
    "#Features I want to train on\n",
    "features1 = ['resolution_days_due', 'customer_services', 'development_services', 'solid_waste_management', 'customer_service', 'field', '311_mobile_app']\n",
    "#weights = ['uniform', 'density']\n",
    "knn = KNeighborsClassifier(n_neighbors=6, weights='uniform')\n",
    "#fit model\n",
    "knn.fit(X_train[features1], y_train)"
   ]
  },
  {
   "cell_type": "code",
   "execution_count": null,
   "metadata": {},
   "outputs": [],
   "source": [
    "#mkae predictions\n",
    "y_pred_knn = knn.predict(X_train[features1])\n",
    "#estimate probability\n",
    "y_pred_proba = knn.predict_proba(X_train[features1])"
   ]
  },
  {
   "cell_type": "code",
   "execution_count": 64,
   "metadata": {},
   "outputs": [
    {
     "name": "stdout",
     "output_type": "stream",
     "text": [
      "KNN Accuracy is 0.59081\n"
     ]
    }
   ],
   "source": [
    "#accuracy\n",
    "accuracy = knn.score(X_train[features1], y_train)\n",
    "print(f\"KNN Accuracy is {accuracy:.5}\")"
   ]
  },
  {
   "cell_type": "code",
   "execution_count": 61,
   "metadata": {},
   "outputs": [
    {
     "name": "stdout",
     "output_type": "stream",
     "text": [
      "                     precision    recall  f1-score   support\n",
      "\n",
      "     Early Response       0.32      0.44      0.37     36971\n",
      "      Late Response       0.55      0.35      0.43     33599\n",
      "   On Time Response       0.15      0.01      0.01     11753\n",
      "Very Early Response       0.71      0.77      0.74    114280\n",
      " Very Late Response       1.00      0.48      0.65      3207\n",
      "\n",
      "           accuracy                           0.59    199810\n",
      "          macro avg       0.55      0.41      0.44    199810\n",
      "       weighted avg       0.58      0.59      0.57    199810\n",
      "\n"
     ]
    }
   ],
   "source": [
    "#classification report\n",
    "#confustion matrix\n",
    "print(classification_report(y_train, y_pred_knn))"
   ]
  },
  {
   "cell_type": "markdown",
   "metadata": {},
   "source": [
    "#### Validate KNN"
   ]
  },
  {
   "cell_type": "code",
   "execution_count": 62,
   "metadata": {},
   "outputs": [
    {
     "name": "stdout",
     "output_type": "stream",
     "text": [
      "Accuracy of KNN classifier on test set: 0.59\n"
     ]
    }
   ],
   "source": [
    "print('Accuracy of KNN classifier on test set: {:.2f}'\n",
    "     .format(knn.score(X_validate[features1], y_validate)))\n"
   ]
  },
  {
   "cell_type": "markdown",
   "metadata": {},
   "source": [
    "#### Chocolate KNN"
   ]
  },
  {
   "cell_type": "code",
   "execution_count": null,
   "metadata": {},
   "outputs": [],
   "source": [
    "#Features I want to train on\n",
    "features1 = ['council_district',\n",
    " 'resolution_days_due',\n",
    " 'district_1',\n",
    " 'district_2',\n",
    " 'district_3',\n",
    " 'district_4',\n",
    " 'district_5',\n",
    " 'district_6',\n",
    " 'district_7',\n",
    " 'district_8',\n",
    " 'district_9',\n",
    " 'district_10',\n",
    " 'animal_care_services',\n",
    " 'code_enforcement_services',\n",
    " 'customer_services',\n",
    " 'development_services',\n",
    " 'metro_health',\n",
    " 'parks_and_rec',\n",
    " 'solid_waste_management',\n",
    " 'trans_and_cap_improvements',\n",
    " 'unknown_dept',\n",
    " 'buildings',\n",
    " 'business',\n",
    " 'cleanup',\n",
    " 'code',\n",
    " 'customer_service',\n",
    " 'field',\n",
    " 'land',\n",
    " 'license',\n",
    " 'misc',\n",
    " 'storm',\n",
    " 'streets',\n",
    " 'trades',\n",
    " 'traffic',\n",
    " 'waste',\n",
    " 'web_portal',\n",
    " '311_mobile_app',\n",
    " 'constituent_call',\n",
    " 'internal_services_requests']\n",
    "#make model\n",
    "#weights = ['uniform', 'density']\n",
    "knn = KNeighborsClassifier(n_neighbors=5, weights='uniform')\n",
    "#fit model\n",
    "knn.fit(X_train[features1], y_train)"
   ]
  },
  {
   "cell_type": "code",
   "execution_count": null,
   "metadata": {},
   "outputs": [],
   "source": [
    "#make predictions\n",
    "y_pred_knn = knn.predict(X_train[features1])\n",
    "#estimate probability\n",
    "y_pred_proba = knn.predict_proba(X_train[features1])"
   ]
  },
  {
   "cell_type": "code",
   "execution_count": null,
   "metadata": {},
   "outputs": [],
   "source": [
    "#accuracy\n",
    "accuracy = knn.score(X_train[features1], y_train)\n",
    "print(f\"KNN Accuracy is {accuracy:.5}\")"
   ]
  },
  {
   "cell_type": "code",
   "execution_count": null,
   "metadata": {},
   "outputs": [],
   "source": [
    "#classification report\n",
    "#confustion matrix\n",
    "print(classification_report(y_train, y_pred_knn))"
   ]
  },
  {
   "cell_type": "code",
   "execution_count": null,
   "metadata": {},
   "outputs": [],
   "source": [
    "print('Accuracy of KNN classifier on test set: {:.2f}'\n",
    "     .format(knn.score(X_validate[features1], y_validate)))"
   ]
  },
  {
   "cell_type": "markdown",
   "metadata": {},
   "source": [
    "### New Feature to Create\n",
    "- sq ft by days late"
   ]
  },
  {
   "cell_type": "markdown",
   "metadata": {},
   "source": [
    "- sq miles gathered from:\n",
    "    https://sa2020.org/city-council-profiles"
   ]
  },
  {
   "cell_type": "code",
   "execution_count": null,
   "metadata": {},
   "outputs": [],
   "source": [
    "df = w.clean_311(w.get_311_data())"
   ]
  },
  {
   "cell_type": "code",
   "execution_count": null,
   "metadata": {},
   "outputs": [],
   "source": [
    "df.shape"
   ]
  },
  {
   "cell_type": "code",
   "execution_count": null,
   "metadata": {},
   "outputs": [],
   "source": [
    "df.days_before_or_after_due.value_counts()[:15]"
   ]
  },
  {
   "cell_type": "code",
   "execution_count": null,
   "metadata": {},
   "outputs": [],
   "source": [
    "df.info()"
   ]
  },
  {
   "cell_type": "code",
   "execution_count": null,
   "metadata": {},
   "outputs": [],
   "source": [
    "df.council_district.value_counts()"
   ]
  },
  {
   "cell_type": "code",
   "execution_count": null,
   "metadata": {},
   "outputs": [],
   "source": [
    "# convert square miles to square feet\n",
    "# 1 sq mi = 27,878,399.996383 sq ft\n",
    "# maybe dont convert it to sqft bc its so big\n",
    "d1 = 26.00\n",
    "d2 = 59.81\n",
    "d3 = 116.15\n",
    "d4 = 65.21\n",
    "d5 = 22.24\n",
    "d6 = 38.44\n",
    "d7 = 32.82\n",
    "d8 = 71.64\n",
    "d9 = 48.71\n",
    "d10 = 55.62"
   ]
  },
  {
   "cell_type": "code",
   "execution_count": null,
   "metadata": {},
   "outputs": [],
   "source": [
    "df = df[df.council_district != 0]"
   ]
  },
  {
   "cell_type": "code",
   "execution_count": null,
   "metadata": {},
   "outputs": [],
   "source": [
    "df.council_district.value_counts()"
   ]
  },
  {
   "cell_type": "code",
   "execution_count": null,
   "metadata": {},
   "outputs": [],
   "source": [
    "df.shape"
   ]
  },
  {
   "cell_type": "code",
   "execution_count": null,
   "metadata": {},
   "outputs": [],
   "source": [
    "def get_sq_miles(council_district):\n",
    "    \"\"\"\n",
    "    This function will apply the square miles per district\n",
    "    to each district.\n",
    "    \"\"\"\n",
    "    d1 = 26.00\n",
    "    d2 = 59.81\n",
    "    d3 = 116.15\n",
    "    d4 = 65.21\n",
    "    d5 = 22.24\n",
    "    d6 = 38.44\n",
    "    d7 = 32.82\n",
    "    d8 = 71.64\n",
    "    d9 = 48.71\n",
    "    d10 = 55.62\n",
    "    if council_district == 1:\n",
    "        return d1\n",
    "    elif council_district == 2:\n",
    "        return d2\n",
    "    elif council_district == 3:\n",
    "        return d3\n",
    "    elif council_district == 4:\n",
    "        return d4\n",
    "    elif council_district == 5:\n",
    "        return d5\n",
    "    elif council_district == 6:\n",
    "        return d6\n",
    "    elif council_district == 7:\n",
    "        return d7\n",
    "    elif council_district == 8:\n",
    "        return d8\n",
    "    elif council_district == 9:\n",
    "        return d9\n",
    "    else:\n",
    "        return d10\n",
    "    \n",
    "def sq_miles_by_days(df):\n",
    "    \"\"\"\n",
    "    This function takes in one positional argument:\n",
    "    1.  311 df\n",
    "    This function returns:\n",
    "    1. square mile per district\n",
    "    2. the amount of days before or after due per square mile\n",
    "    \"\"\"\n",
    "    # get square miles for each district\n",
    "    df['sq_miles'] = df['council_district'].apply(get_sq_miles)\n",
    "    # get the amount of days per square mile\n",
    "    df['sq_miles_by_days'] = df.sq_miles / df.days_before_or_after_due\n",
    "    return df"
   ]
  },
  {
   "cell_type": "code",
   "execution_count": null,
   "metadata": {},
   "outputs": [],
   "source": [
    "df['sq_miles'] = df['council_district'].apply(get_sq_miles)"
   ]
  },
  {
   "cell_type": "code",
   "execution_count": null,
   "metadata": {},
   "outputs": [],
   "source": [
    "df.sq_miles.value_counts()"
   ]
  },
  {
   "cell_type": "code",
   "execution_count": null,
   "metadata": {},
   "outputs": [],
   "source": [
    "df['sq_miles_by_days'] = df.sq_miles / df.days_before_or_after_due"
   ]
  },
  {
   "cell_type": "code",
   "execution_count": null,
   "metadata": {},
   "outputs": [],
   "source": [
    "#pd.set_option(\"display.max_rows\", None, \"display.max_columns\", None)"
   ]
  },
  {
   "cell_type": "code",
   "execution_count": null,
   "metadata": {},
   "outputs": [],
   "source": [
    "df.head()"
   ]
  },
  {
   "cell_type": "code",
   "execution_count": null,
   "metadata": {},
   "outputs": [],
   "source": [
    "d1_avg_days_per_sq_mile = df[df.]\n",
    "waste = train[train.call_reason == 'waste']"
   ]
  },
  {
   "cell_type": "code",
   "execution_count": null,
   "metadata": {},
   "outputs": [],
   "source": [
    "df2 = w.clean_311(w.get_311_data())"
   ]
  },
  {
   "cell_type": "code",
   "execution_count": null,
   "metadata": {},
   "outputs": [],
   "source": [
    "df = sq_miles_by_days(df)"
   ]
  },
  {
   "cell_type": "code",
   "execution_count": null,
   "metadata": {},
   "outputs": [],
   "source": [
    "df.head()"
   ]
  },
  {
   "cell_type": "code",
   "execution_count": null,
   "metadata": {},
   "outputs": [],
   "source": [
    "df.days_before_or_after_due.value_counts()[:10]"
   ]
  },
  {
   "cell_type": "code",
   "execution_count": null,
   "metadata": {},
   "outputs": [],
   "source": []
  }
 ],
 "metadata": {
  "kernelspec": {
   "display_name": "Python 3",
   "language": "python",
   "name": "python3"
  },
  "language_info": {
   "codemirror_mode": {
    "name": "ipython",
    "version": 3
   },
   "file_extension": ".py",
   "mimetype": "text/x-python",
   "name": "python",
   "nbconvert_exporter": "python",
   "pygments_lexer": "ipython3",
   "version": "3.8.5"
  }
 },
 "nbformat": 4,
 "nbformat_minor": 4
}
