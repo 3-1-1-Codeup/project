{
 "cells": [
  {
   "cell_type": "markdown",
   "metadata": {},
   "source": [
    "# Modeling"
   ]
  },
  {
   "cell_type": "markdown",
   "metadata": {},
   "source": [
    "## Models to Run:\n",
    "- KNN\n",
    "- DT\n",
    "- Find new algo"
   ]
  },
  {
   "cell_type": "markdown",
   "metadata": {},
   "source": [
    "### Imports"
   ]
  },
  {
   "cell_type": "code",
   "execution_count": 1,
   "metadata": {},
   "outputs": [],
   "source": [
    "import wrangle as w\n",
    "import model as m\n",
    "import pandas as pd\n",
    "import numpy as np\n",
    "import seaborn as sns\n",
    "import matplotlib.pyplot as plt\n",
    "from sklearn.neighbors import KNeighborsClassifier\n",
    "from sklearn.tree import DecisionTreeClassifier\n",
    "from sklearn.metrics import classification_report, accuracy_score\n"
   ]
  },
  {
   "cell_type": "markdown",
   "metadata": {},
   "source": [
    "### Acquire and Prepare"
   ]
  },
  {
   "cell_type": "code",
   "execution_count": 2,
   "metadata": {},
   "outputs": [],
   "source": [
    "df = w.clean_311(w.get_311_data())"
   ]
  },
  {
   "cell_type": "code",
   "execution_count": 3,
   "metadata": {},
   "outputs": [
    {
     "name": "stdout",
     "output_type": "stream",
     "text": [
      "<class 'pandas.core.frame.DataFrame'>\n",
      "Int64Index: 356715 entries, 1014281655 to 1016870499\n",
      "Data columns (total 29 columns):\n",
      " #   Column                    Non-Null Count   Dtype         \n",
      "---  ------                    --------------   -----         \n",
      " 0   open_date                 356715 non-null  datetime64[ns]\n",
      " 1   due_date                  356715 non-null  datetime64[ns]\n",
      " 2   closed_date               356715 non-null  datetime64[ns]\n",
      " 3   is_late                   356715 non-null  object        \n",
      " 4   dept                      356715 non-null  object        \n",
      " 5   call_reason               356715 non-null  object        \n",
      " 6   case_type                 356715 non-null  object        \n",
      " 7   case_status               356715 non-null  object        \n",
      " 8   source_id                 356715 non-null  object        \n",
      " 9   address                   356715 non-null  object        \n",
      " 10  council_district          356715 non-null  int64         \n",
      " 11  longitude                 356715 non-null  float64       \n",
      " 12  latitude                  356715 non-null  float64       \n",
      " 13  days_open                 356715 non-null  float64       \n",
      " 14  resolution_days_due       356715 non-null  int64         \n",
      " 15  days_before_or_after_due  356715 non-null  float64       \n",
      " 16  level_of_delay            356715 non-null  category      \n",
      " 17  district_0                356715 non-null  uint8         \n",
      " 18  district_1                356715 non-null  uint8         \n",
      " 19  district_2                356715 non-null  uint8         \n",
      " 20  district_3                356715 non-null  uint8         \n",
      " 21  district_4                356715 non-null  uint8         \n",
      " 22  district_5                356715 non-null  uint8         \n",
      " 23  district_6                356715 non-null  uint8         \n",
      " 24  district_7                356715 non-null  uint8         \n",
      " 25  district_8                356715 non-null  uint8         \n",
      " 26  district_9                356715 non-null  uint8         \n",
      " 27  district_10               356715 non-null  uint8         \n",
      " 28  zipcode                   356715 non-null  object        \n",
      "dtypes: category(1), datetime64[ns](3), float64(4), int64(2), object(8), uint8(11)\n",
      "memory usage: 53.1+ MB\n"
     ]
    }
   ],
   "source": [
    "df.info()"
   ]
  },
  {
   "cell_type": "code",
   "execution_count": 4,
   "metadata": {},
   "outputs": [],
   "source": [
    "df = m.model_df()"
   ]
  },
  {
   "cell_type": "code",
   "execution_count": 5,
   "metadata": {},
   "outputs": [
    {
     "name": "stdout",
     "output_type": "stream",
     "text": [
      "<class 'pandas.core.frame.DataFrame'>\n",
      "Int64Index: 356715 entries, 1014281655 to 1016870499\n",
      "Data columns (total 44 columns):\n",
      " #   Column                      Non-Null Count   Dtype   \n",
      "---  ------                      --------------   -----   \n",
      " 0   dept                        356715 non-null  object  \n",
      " 1   call_reason                 356715 non-null  object  \n",
      " 2   source_id                   356715 non-null  object  \n",
      " 3   council_district            356715 non-null  int64   \n",
      " 4   resolution_days_due         356715 non-null  int64   \n",
      " 5   level_of_delay              356715 non-null  category\n",
      " 6   district_0                  356715 non-null  uint8   \n",
      " 7   district_1                  356715 non-null  uint8   \n",
      " 8   district_2                  356715 non-null  uint8   \n",
      " 9   district_3                  356715 non-null  uint8   \n",
      " 10  district_4                  356715 non-null  uint8   \n",
      " 11  district_5                  356715 non-null  uint8   \n",
      " 12  district_6                  356715 non-null  uint8   \n",
      " 13  district_7                  356715 non-null  uint8   \n",
      " 14  district_8                  356715 non-null  uint8   \n",
      " 15  district_9                  356715 non-null  uint8   \n",
      " 16  district_10                 356715 non-null  uint8   \n",
      " 17  animal_care_services        356715 non-null  uint8   \n",
      " 18  code_enforcement_services   356715 non-null  uint8   \n",
      " 19  customer_services           356715 non-null  uint8   \n",
      " 20  development_services        356715 non-null  uint8   \n",
      " 21  metro_health                356715 non-null  uint8   \n",
      " 22  parks_and_rec               356715 non-null  uint8   \n",
      " 23  solid_waste_management      356715 non-null  uint8   \n",
      " 24  trans_and_cap_improvements  356715 non-null  uint8   \n",
      " 25  unknown_dept                356715 non-null  uint8   \n",
      " 26  buildings                   356715 non-null  uint8   \n",
      " 27  business                    356715 non-null  uint8   \n",
      " 28  cleanup                     356715 non-null  uint8   \n",
      " 29  code                        356715 non-null  uint8   \n",
      " 30  customer_service            356715 non-null  uint8   \n",
      " 31  field                       356715 non-null  uint8   \n",
      " 32  land                        356715 non-null  uint8   \n",
      " 33  license                     356715 non-null  uint8   \n",
      " 34  misc                        356715 non-null  uint8   \n",
      " 35  storm                       356715 non-null  uint8   \n",
      " 36  streets                     356715 non-null  uint8   \n",
      " 37  trades                      356715 non-null  uint8   \n",
      " 38  traffic                     356715 non-null  uint8   \n",
      " 39  waste                       356715 non-null  uint8   \n",
      " 40  web_portal                  356715 non-null  uint8   \n",
      " 41  311_mobile_app              356715 non-null  uint8   \n",
      " 42  constituent_call            356715 non-null  uint8   \n",
      " 43  internal_services_requests  356715 non-null  uint8   \n",
      "dtypes: category(1), int64(2), object(3), uint8(38)\n",
      "memory usage: 29.6+ MB\n"
     ]
    }
   ],
   "source": [
    "df.info()"
   ]
  },
  {
   "cell_type": "markdown",
   "metadata": {},
   "source": [
    "#### Drop original dept, source_id, and call_reason"
   ]
  },
  {
   "cell_type": "code",
   "execution_count": 6,
   "metadata": {},
   "outputs": [],
   "source": [
    "df.drop(columns=['dept', \n",
    "                 'call_reason', \n",
    "                 'source_id' ], inplace=True)"
   ]
  },
  {
   "cell_type": "code",
   "execution_count": 7,
   "metadata": {},
   "outputs": [
    {
     "name": "stdout",
     "output_type": "stream",
     "text": [
      "<class 'pandas.core.frame.DataFrame'>\n",
      "Int64Index: 356715 entries, 1014281655 to 1016870499\n",
      "Data columns (total 41 columns):\n",
      " #   Column                      Non-Null Count   Dtype   \n",
      "---  ------                      --------------   -----   \n",
      " 0   council_district            356715 non-null  int64   \n",
      " 1   resolution_days_due         356715 non-null  int64   \n",
      " 2   level_of_delay              356715 non-null  category\n",
      " 3   district_0                  356715 non-null  uint8   \n",
      " 4   district_1                  356715 non-null  uint8   \n",
      " 5   district_2                  356715 non-null  uint8   \n",
      " 6   district_3                  356715 non-null  uint8   \n",
      " 7   district_4                  356715 non-null  uint8   \n",
      " 8   district_5                  356715 non-null  uint8   \n",
      " 9   district_6                  356715 non-null  uint8   \n",
      " 10  district_7                  356715 non-null  uint8   \n",
      " 11  district_8                  356715 non-null  uint8   \n",
      " 12  district_9                  356715 non-null  uint8   \n",
      " 13  district_10                 356715 non-null  uint8   \n",
      " 14  animal_care_services        356715 non-null  uint8   \n",
      " 15  code_enforcement_services   356715 non-null  uint8   \n",
      " 16  customer_services           356715 non-null  uint8   \n",
      " 17  development_services        356715 non-null  uint8   \n",
      " 18  metro_health                356715 non-null  uint8   \n",
      " 19  parks_and_rec               356715 non-null  uint8   \n",
      " 20  solid_waste_management      356715 non-null  uint8   \n",
      " 21  trans_and_cap_improvements  356715 non-null  uint8   \n",
      " 22  unknown_dept                356715 non-null  uint8   \n",
      " 23  buildings                   356715 non-null  uint8   \n",
      " 24  business                    356715 non-null  uint8   \n",
      " 25  cleanup                     356715 non-null  uint8   \n",
      " 26  code                        356715 non-null  uint8   \n",
      " 27  customer_service            356715 non-null  uint8   \n",
      " 28  field                       356715 non-null  uint8   \n",
      " 29  land                        356715 non-null  uint8   \n",
      " 30  license                     356715 non-null  uint8   \n",
      " 31  misc                        356715 non-null  uint8   \n",
      " 32  storm                       356715 non-null  uint8   \n",
      " 33  streets                     356715 non-null  uint8   \n",
      " 34  trades                      356715 non-null  uint8   \n",
      " 35  traffic                     356715 non-null  uint8   \n",
      " 36  waste                       356715 non-null  uint8   \n",
      " 37  web_portal                  356715 non-null  uint8   \n",
      " 38  311_mobile_app              356715 non-null  uint8   \n",
      " 39  constituent_call            356715 non-null  uint8   \n",
      " 40  internal_services_requests  356715 non-null  uint8   \n",
      "dtypes: category(1), int64(2), uint8(38)\n",
      "memory usage: 21.4 MB\n"
     ]
    }
   ],
   "source": [
    "df.info()"
   ]
  },
  {
   "cell_type": "markdown",
   "metadata": {},
   "source": [
    "#### Splitty Split"
   ]
  },
  {
   "cell_type": "code",
   "execution_count": 8,
   "metadata": {},
   "outputs": [],
   "source": [
    "train, validate, test, X_train, y_train, X_validate, y_validate, X_test, y_test, train_scaled, validate_scaled, test_scaled = m.split_separate_scale(df, stratify_by= 'level_of_delay')"
   ]
  },
  {
   "cell_type": "code",
   "execution_count": 9,
   "metadata": {},
   "outputs": [
    {
     "data": {
      "text/plain": [
       "(199760, 41)"
      ]
     },
     "execution_count": 9,
     "metadata": {},
     "output_type": "execute_result"
    }
   ],
   "source": [
    "train.shape"
   ]
  },
  {
   "cell_type": "code",
   "execution_count": 10,
   "metadata": {},
   "outputs": [
    {
     "data": {
      "text/plain": [
       "(85612, 41)"
      ]
     },
     "execution_count": 10,
     "metadata": {},
     "output_type": "execute_result"
    }
   ],
   "source": [
    "validate.shape"
   ]
  },
  {
   "cell_type": "code",
   "execution_count": 11,
   "metadata": {},
   "outputs": [
    {
     "data": {
      "text/plain": [
       "(71343, 41)"
      ]
     },
     "execution_count": 11,
     "metadata": {},
     "output_type": "execute_result"
    }
   ],
   "source": [
    "test.shape"
   ]
  },
  {
   "cell_type": "code",
   "execution_count": 12,
   "metadata": {},
   "outputs": [
    {
     "data": {
      "text/html": [
       "<div>\n",
       "<style scoped>\n",
       "    .dataframe tbody tr th:only-of-type {\n",
       "        vertical-align: middle;\n",
       "    }\n",
       "\n",
       "    .dataframe tbody tr th {\n",
       "        vertical-align: top;\n",
       "    }\n",
       "\n",
       "    .dataframe thead th {\n",
       "        text-align: right;\n",
       "    }\n",
       "</style>\n",
       "<table border=\"1\" class=\"dataframe\">\n",
       "  <thead>\n",
       "    <tr style=\"text-align: right;\">\n",
       "      <th></th>\n",
       "      <th>council_district</th>\n",
       "      <th>resolution_days_due</th>\n",
       "      <th>level_of_delay</th>\n",
       "      <th>district_0</th>\n",
       "      <th>district_1</th>\n",
       "      <th>district_2</th>\n",
       "      <th>district_3</th>\n",
       "      <th>district_4</th>\n",
       "      <th>district_5</th>\n",
       "      <th>district_6</th>\n",
       "      <th>...</th>\n",
       "      <th>misc</th>\n",
       "      <th>storm</th>\n",
       "      <th>streets</th>\n",
       "      <th>trades</th>\n",
       "      <th>traffic</th>\n",
       "      <th>waste</th>\n",
       "      <th>web_portal</th>\n",
       "      <th>311_mobile_app</th>\n",
       "      <th>constituent_call</th>\n",
       "      <th>internal_services_requests</th>\n",
       "    </tr>\n",
       "    <tr>\n",
       "      <th>CASEID</th>\n",
       "      <th></th>\n",
       "      <th></th>\n",
       "      <th></th>\n",
       "      <th></th>\n",
       "      <th></th>\n",
       "      <th></th>\n",
       "      <th></th>\n",
       "      <th></th>\n",
       "      <th></th>\n",
       "      <th></th>\n",
       "      <th></th>\n",
       "      <th></th>\n",
       "      <th></th>\n",
       "      <th></th>\n",
       "      <th></th>\n",
       "      <th></th>\n",
       "      <th></th>\n",
       "      <th></th>\n",
       "      <th></th>\n",
       "      <th></th>\n",
       "      <th></th>\n",
       "    </tr>\n",
       "  </thead>\n",
       "  <tbody>\n",
       "    <tr>\n",
       "      <th>1016517770</th>\n",
       "      <td>5</td>\n",
       "      <td>2</td>\n",
       "      <td>Early Response</td>\n",
       "      <td>0</td>\n",
       "      <td>0</td>\n",
       "      <td>0</td>\n",
       "      <td>0</td>\n",
       "      <td>0</td>\n",
       "      <td>1</td>\n",
       "      <td>0</td>\n",
       "      <td>...</td>\n",
       "      <td>1</td>\n",
       "      <td>0</td>\n",
       "      <td>0</td>\n",
       "      <td>0</td>\n",
       "      <td>0</td>\n",
       "      <td>0</td>\n",
       "      <td>0</td>\n",
       "      <td>0</td>\n",
       "      <td>0</td>\n",
       "      <td>1</td>\n",
       "    </tr>\n",
       "    <tr>\n",
       "      <th>1016203792</th>\n",
       "      <td>2</td>\n",
       "      <td>9</td>\n",
       "      <td>Early Response</td>\n",
       "      <td>0</td>\n",
       "      <td>0</td>\n",
       "      <td>1</td>\n",
       "      <td>0</td>\n",
       "      <td>0</td>\n",
       "      <td>0</td>\n",
       "      <td>0</td>\n",
       "      <td>...</td>\n",
       "      <td>0</td>\n",
       "      <td>0</td>\n",
       "      <td>0</td>\n",
       "      <td>0</td>\n",
       "      <td>0</td>\n",
       "      <td>1</td>\n",
       "      <td>0</td>\n",
       "      <td>0</td>\n",
       "      <td>0</td>\n",
       "      <td>1</td>\n",
       "    </tr>\n",
       "    <tr>\n",
       "      <th>1016771848</th>\n",
       "      <td>5</td>\n",
       "      <td>3</td>\n",
       "      <td>Early Response</td>\n",
       "      <td>0</td>\n",
       "      <td>0</td>\n",
       "      <td>0</td>\n",
       "      <td>0</td>\n",
       "      <td>0</td>\n",
       "      <td>1</td>\n",
       "      <td>0</td>\n",
       "      <td>...</td>\n",
       "      <td>0</td>\n",
       "      <td>0</td>\n",
       "      <td>0</td>\n",
       "      <td>0</td>\n",
       "      <td>0</td>\n",
       "      <td>0</td>\n",
       "      <td>0</td>\n",
       "      <td>0</td>\n",
       "      <td>0</td>\n",
       "      <td>1</td>\n",
       "    </tr>\n",
       "    <tr>\n",
       "      <th>1016634860</th>\n",
       "      <td>10</td>\n",
       "      <td>6</td>\n",
       "      <td>Early Response</td>\n",
       "      <td>0</td>\n",
       "      <td>0</td>\n",
       "      <td>0</td>\n",
       "      <td>0</td>\n",
       "      <td>0</td>\n",
       "      <td>0</td>\n",
       "      <td>0</td>\n",
       "      <td>...</td>\n",
       "      <td>0</td>\n",
       "      <td>0</td>\n",
       "      <td>0</td>\n",
       "      <td>0</td>\n",
       "      <td>0</td>\n",
       "      <td>1</td>\n",
       "      <td>0</td>\n",
       "      <td>0</td>\n",
       "      <td>0</td>\n",
       "      <td>1</td>\n",
       "    </tr>\n",
       "    <tr>\n",
       "      <th>1016302671</th>\n",
       "      <td>4</td>\n",
       "      <td>1</td>\n",
       "      <td>On Time Response</td>\n",
       "      <td>0</td>\n",
       "      <td>0</td>\n",
       "      <td>0</td>\n",
       "      <td>0</td>\n",
       "      <td>1</td>\n",
       "      <td>0</td>\n",
       "      <td>0</td>\n",
       "      <td>...</td>\n",
       "      <td>0</td>\n",
       "      <td>0</td>\n",
       "      <td>0</td>\n",
       "      <td>0</td>\n",
       "      <td>0</td>\n",
       "      <td>0</td>\n",
       "      <td>0</td>\n",
       "      <td>0</td>\n",
       "      <td>0</td>\n",
       "      <td>1</td>\n",
       "    </tr>\n",
       "  </tbody>\n",
       "</table>\n",
       "<p>5 rows × 41 columns</p>\n",
       "</div>"
      ],
      "text/plain": [
       "            council_district  resolution_days_due    level_of_delay  \\\n",
       "CASEID                                                                \n",
       "1016517770                 5                    2    Early Response   \n",
       "1016203792                 2                    9    Early Response   \n",
       "1016771848                 5                    3    Early Response   \n",
       "1016634860                10                    6    Early Response   \n",
       "1016302671                 4                    1  On Time Response   \n",
       "\n",
       "            district_0  district_1  district_2  district_3  district_4  \\\n",
       "CASEID                                                                   \n",
       "1016517770           0           0           0           0           0   \n",
       "1016203792           0           0           1           0           0   \n",
       "1016771848           0           0           0           0           0   \n",
       "1016634860           0           0           0           0           0   \n",
       "1016302671           0           0           0           0           1   \n",
       "\n",
       "            district_5  district_6  ...  misc  storm  streets  trades  \\\n",
       "CASEID                              ...                                 \n",
       "1016517770           1           0  ...     1      0        0       0   \n",
       "1016203792           0           0  ...     0      0        0       0   \n",
       "1016771848           1           0  ...     0      0        0       0   \n",
       "1016634860           0           0  ...     0      0        0       0   \n",
       "1016302671           0           0  ...     0      0        0       0   \n",
       "\n",
       "            traffic  waste  web_portal  311_mobile_app  constituent_call  \\\n",
       "CASEID                                                                     \n",
       "1016517770        0      0           0               0                 0   \n",
       "1016203792        0      1           0               0                 0   \n",
       "1016771848        0      0           0               0                 0   \n",
       "1016634860        0      1           0               0                 0   \n",
       "1016302671        0      0           0               0                 0   \n",
       "\n",
       "            internal_services_requests  \n",
       "CASEID                                  \n",
       "1016517770                           1  \n",
       "1016203792                           1  \n",
       "1016771848                           1  \n",
       "1016634860                           1  \n",
       "1016302671                           1  \n",
       "\n",
       "[5 rows x 41 columns]"
      ]
     },
     "execution_count": 12,
     "metadata": {},
     "output_type": "execute_result"
    }
   ],
   "source": [
    "train.head()"
   ]
  },
  {
   "cell_type": "code",
   "execution_count": 13,
   "metadata": {},
   "outputs": [
    {
     "name": "stdout",
     "output_type": "stream",
     "text": [
      "<class 'pandas.core.frame.DataFrame'>\n",
      "Int64Index: 356715 entries, 1014281655 to 1016870499\n",
      "Data columns (total 41 columns):\n",
      " #   Column                      Non-Null Count   Dtype   \n",
      "---  ------                      --------------   -----   \n",
      " 0   council_district            356715 non-null  int64   \n",
      " 1   resolution_days_due         356715 non-null  int64   \n",
      " 2   level_of_delay              356715 non-null  category\n",
      " 3   district_0                  356715 non-null  uint8   \n",
      " 4   district_1                  356715 non-null  uint8   \n",
      " 5   district_2                  356715 non-null  uint8   \n",
      " 6   district_3                  356715 non-null  uint8   \n",
      " 7   district_4                  356715 non-null  uint8   \n",
      " 8   district_5                  356715 non-null  uint8   \n",
      " 9   district_6                  356715 non-null  uint8   \n",
      " 10  district_7                  356715 non-null  uint8   \n",
      " 11  district_8                  356715 non-null  uint8   \n",
      " 12  district_9                  356715 non-null  uint8   \n",
      " 13  district_10                 356715 non-null  uint8   \n",
      " 14  animal_care_services        356715 non-null  uint8   \n",
      " 15  code_enforcement_services   356715 non-null  uint8   \n",
      " 16  customer_services           356715 non-null  uint8   \n",
      " 17  development_services        356715 non-null  uint8   \n",
      " 18  metro_health                356715 non-null  uint8   \n",
      " 19  parks_and_rec               356715 non-null  uint8   \n",
      " 20  solid_waste_management      356715 non-null  uint8   \n",
      " 21  trans_and_cap_improvements  356715 non-null  uint8   \n",
      " 22  unknown_dept                356715 non-null  uint8   \n",
      " 23  buildings                   356715 non-null  uint8   \n",
      " 24  business                    356715 non-null  uint8   \n",
      " 25  cleanup                     356715 non-null  uint8   \n",
      " 26  code                        356715 non-null  uint8   \n",
      " 27  customer_service            356715 non-null  uint8   \n",
      " 28  field                       356715 non-null  uint8   \n",
      " 29  land                        356715 non-null  uint8   \n",
      " 30  license                     356715 non-null  uint8   \n",
      " 31  misc                        356715 non-null  uint8   \n",
      " 32  storm                       356715 non-null  uint8   \n",
      " 33  streets                     356715 non-null  uint8   \n",
      " 34  trades                      356715 non-null  uint8   \n",
      " 35  traffic                     356715 non-null  uint8   \n",
      " 36  waste                       356715 non-null  uint8   \n",
      " 37  web_portal                  356715 non-null  uint8   \n",
      " 38  311_mobile_app              356715 non-null  uint8   \n",
      " 39  constituent_call            356715 non-null  uint8   \n",
      " 40  internal_services_requests  356715 non-null  uint8   \n",
      "dtypes: category(1), int64(2), uint8(38)\n",
      "memory usage: 21.4 MB\n"
     ]
    }
   ],
   "source": [
    "df.info()"
   ]
  },
  {
   "cell_type": "markdown",
   "metadata": {},
   "source": [
    "#### Create the baseline"
   ]
  },
  {
   "cell_type": "code",
   "execution_count": 14,
   "metadata": {},
   "outputs": [
    {
     "data": {
      "text/plain": [
       "Early Response              148198\n",
       "On Time Response             28857\n",
       "Very Early Response          15299\n",
       "Late Response                 5005\n",
       "Very Late Response            1763\n",
       "Extremely Late Response        555\n",
       "Extremely Early Response        83\n",
       "Name: level_of_delay, dtype: int64"
      ]
     },
     "execution_count": 14,
     "metadata": {},
     "output_type": "execute_result"
    }
   ],
   "source": [
    "#baseline\n",
    "train.level_of_delay.value_counts()"
   ]
  },
  {
   "cell_type": "code",
   "execution_count": 15,
   "metadata": {},
   "outputs": [
    {
     "name": "stdout",
     "output_type": "stream",
     "text": [
      "The baseline accuracy is: 74.0 %\n"
     ]
    }
   ],
   "source": [
    "#baseline accuracy will be early response\n",
    "baseline = round((train.level_of_delay == 'Early Response').mean(), 2) *100\n",
    "\n",
    "print(f'The baseline accuracy is: {baseline} %')"
   ]
  },
  {
   "cell_type": "markdown",
   "metadata": {},
   "source": [
    "#### Decision Tree"
   ]
  },
  {
   "cell_type": "code",
   "execution_count": 16,
   "metadata": {},
   "outputs": [],
   "source": [
    "#make the thing\n",
    "clf = DecisionTreeClassifier(max_depth=3, random_state=123)\n",
    "#fit the thing\n",
    "clf = clf.fit(X_train, y_train)\n",
    "#predicitons\n",
    "y_pred = clf.predict(X_train)\n",
    "#probability\n",
    "y_pred_proba = clf.predict_proba(X_train)"
   ]
  },
  {
   "cell_type": "markdown",
   "metadata": {},
   "source": [
    "#### Evaluate Decision Tree"
   ]
  },
  {
   "cell_type": "code",
   "execution_count": 17,
   "metadata": {},
   "outputs": [
    {
     "name": "stdout",
     "output_type": "stream",
     "text": [
      "Accuracy of Decision Tree classifier on training set: 0.84\n"
     ]
    }
   ],
   "source": [
    "#compute the accuracy \n",
    "print('Accuracy of Decision Tree classifier on training set: {:.2f}'\n",
    "      .format(clf.score(X_train, y_train)))"
   ]
  },
  {
   "cell_type": "code",
   "execution_count": 18,
   "metadata": {},
   "outputs": [
    {
     "name": "stderr",
     "output_type": "stream",
     "text": [
      "/usr/local/anaconda3/lib/python3.8/site-packages/sklearn/metrics/_classification.py:1221: UndefinedMetricWarning: Precision and F-score are ill-defined and being set to 0.0 in labels with no predicted samples. Use `zero_division` parameter to control this behavior.\n",
      "  _warn_prf(average, modifier, msg_start, len(result))\n"
     ]
    },
    {
     "name": "stdout",
     "output_type": "stream",
     "text": [
      "                          precision    recall  f1-score   support\n",
      "\n",
      "          Early Response       0.84      0.99      0.91    148198\n",
      "Extremely Early Response       0.98      1.00      0.99        83\n",
      " Extremely Late Response       0.00      0.00      0.00       555\n",
      "           Late Response       0.00      0.00      0.00      5005\n",
      "        On Time Response       0.99      0.21      0.34     28857\n",
      "     Very Early Response       0.77      1.00      0.87     15299\n",
      "      Very Late Response       0.00      0.00      0.00      1763\n",
      "\n",
      "                accuracy                           0.84    199760\n",
      "               macro avg       0.51      0.46      0.44    199760\n",
      "            weighted avg       0.83      0.84      0.79    199760\n",
      "\n"
     ]
    }
   ],
   "source": [
    "#classification report\n",
    "print(classification_report(y_train, y_pred))"
   ]
  },
  {
   "cell_type": "code",
   "execution_count": 19,
   "metadata": {},
   "outputs": [
    {
     "name": "stdout",
     "output_type": "stream",
     "text": [
      "Accuracy of Decision Tree classifier on validate set: 0.84\n"
     ]
    }
   ],
   "source": [
    "print('Accuracy of Decision Tree classifier on validate set: {:.2f}'\n",
    "     .format(clf.score(X_validate, y_validate)))"
   ]
  },
  {
   "cell_type": "code",
   "execution_count": 20,
   "metadata": {},
   "outputs": [
    {
     "name": "stderr",
     "output_type": "stream",
     "text": [
      "/usr/local/anaconda3/lib/python3.8/site-packages/sklearn/metrics/_classification.py:1221: UndefinedMetricWarning: Precision and F-score are ill-defined and being set to 0.0 in labels with no predicted samples. Use `zero_division` parameter to control this behavior.\n",
      "  _warn_prf(average, modifier, msg_start, len(result))\n"
     ]
    },
    {
     "name": "stdout",
     "output_type": "stream",
     "text": [
      "                          precision    recall  f1-score   support\n",
      "\n",
      "          Early Response       0.84      0.99      0.91     63514\n",
      "Extremely Early Response       0.97      1.00      0.99        35\n",
      " Extremely Late Response       0.00      0.00      0.00       238\n",
      "           Late Response       0.00      0.00      0.00      2145\n",
      "        On Time Response       0.99      0.21      0.34     12368\n",
      "     Very Early Response       0.78      1.00      0.88      6557\n",
      "      Very Late Response       0.00      0.00      0.00       755\n",
      "\n",
      "                accuracy                           0.84     85612\n",
      "               macro avg       0.51      0.46      0.45     85612\n",
      "            weighted avg       0.83      0.84      0.79     85612\n",
      "\n"
     ]
    }
   ],
   "source": [
    "# Produce y_predictions that come from the X_validate\n",
    "y_pred = clf.predict(X_validate)\n",
    "\n",
    "# Compare actual y values (from validate) to predicted y_values from the model run on X_validate\n",
    "print(classification_report(y_validate, y_pred))"
   ]
  },
  {
   "cell_type": "code",
   "execution_count": 21,
   "metadata": {},
   "outputs": [
    {
     "data": {
      "text/plain": [
       "['council_district',\n",
       " 'resolution_days_due',\n",
       " 'level_of_delay',\n",
       " 'district_0',\n",
       " 'district_1',\n",
       " 'district_2',\n",
       " 'district_3',\n",
       " 'district_4',\n",
       " 'district_5',\n",
       " 'district_6',\n",
       " 'district_7',\n",
       " 'district_8',\n",
       " 'district_9',\n",
       " 'district_10',\n",
       " 'animal_care_services',\n",
       " 'code_enforcement_services',\n",
       " 'customer_services',\n",
       " 'development_services',\n",
       " 'metro_health',\n",
       " 'parks_and_rec',\n",
       " 'solid_waste_management',\n",
       " 'trans_and_cap_improvements',\n",
       " 'unknown_dept',\n",
       " 'buildings',\n",
       " 'business',\n",
       " 'cleanup',\n",
       " 'code',\n",
       " 'customer_service',\n",
       " 'field',\n",
       " 'land',\n",
       " 'license',\n",
       " 'misc',\n",
       " 'storm',\n",
       " 'streets',\n",
       " 'trades',\n",
       " 'traffic',\n",
       " 'waste',\n",
       " 'web_portal',\n",
       " '311_mobile_app',\n",
       " 'constituent_call',\n",
       " 'internal_services_requests']"
      ]
     },
     "execution_count": 21,
     "metadata": {},
     "output_type": "execute_result"
    }
   ],
   "source": [
    "train.columns.to_list()"
   ]
  },
  {
   "cell_type": "markdown",
   "metadata": {},
   "source": [
    "#### Vanilla KNN"
   ]
  },
  {
   "cell_type": "code",
   "execution_count": 22,
   "metadata": {},
   "outputs": [
    {
     "data": {
      "text/plain": [
       "KNeighborsClassifier(n_neighbors=3)"
      ]
     },
     "execution_count": 22,
     "metadata": {},
     "output_type": "execute_result"
    }
   ],
   "source": [
    "#Features I want to train on\n",
    "features1 = ['council_district',\n",
    " 'resolution_days_due',\n",
    " 'district_0',\n",
    " 'district_1',\n",
    " 'district_2',\n",
    " 'district_3',\n",
    " 'district_4',\n",
    " 'district_5',\n",
    " 'district_6',\n",
    " 'district_7',\n",
    " 'district_8',\n",
    " 'district_9',\n",
    " 'district_10',\n",
    " 'animal_care_services',\n",
    " 'code_enforcement_services',\n",
    " 'customer_services',\n",
    " 'development_services',\n",
    " 'metro_health',\n",
    " 'parks_and_rec',\n",
    " 'solid_waste_management',\n",
    " 'trans_and_cap_improvements',\n",
    " 'unknown_dept',\n",
    " 'buildings',\n",
    " 'business',\n",
    " 'cleanup',\n",
    " 'code',\n",
    " 'customer_service',\n",
    " 'field',\n",
    " 'land',\n",
    " 'license',\n",
    " 'misc',\n",
    " 'storm',\n",
    " 'streets',\n",
    " 'trades',\n",
    " 'traffic',\n",
    " 'waste',\n",
    " 'web_portal',\n",
    " '311_mobile_app',\n",
    " 'constituent_call',\n",
    " 'internal_services_requests']\n",
    "#make model\n",
    "#weights = ['uniform', 'density']\n",
    "knn = KNeighborsClassifier(n_neighbors=3, weights='uniform')\n",
    "#fit model\n",
    "knn.fit(X_train[features1], y_train)"
   ]
  },
  {
   "cell_type": "code",
   "execution_count": 23,
   "metadata": {},
   "outputs": [],
   "source": [
    "#mkae predictions\n",
    "y_pred_knn = knn.predict(X_train[features1])\n",
    "#estimate probability\n",
    "y_pred_proba = knn.predict_proba(X_train[features1])"
   ]
  },
  {
   "cell_type": "code",
   "execution_count": 24,
   "metadata": {},
   "outputs": [
    {
     "name": "stdout",
     "output_type": "stream",
     "text": [
      "KNN Accuracy is 0.82906\n"
     ]
    }
   ],
   "source": [
    "#accuracy\n",
    "accuracy = knn.score(X_train[features1], y_train)\n",
    "print(f\"KNN Accuracy is {accuracy:.5}\")"
   ]
  },
  {
   "cell_type": "code",
   "execution_count": 25,
   "metadata": {},
   "outputs": [
    {
     "name": "stdout",
     "output_type": "stream",
     "text": [
      "                          precision    recall  f1-score   support\n",
      "\n",
      "          Early Response       0.85      0.95      0.90    148198\n",
      "Extremely Early Response       0.97      1.00      0.98        83\n",
      " Extremely Late Response       0.68      0.65      0.67       555\n",
      "           Late Response       0.31      0.14      0.19      5005\n",
      "        On Time Response       0.64      0.32      0.43     28857\n",
      "     Very Early Response       0.84      0.89      0.86     15299\n",
      "      Very Late Response       0.69      0.24      0.35      1763\n",
      "\n",
      "                accuracy                           0.83    199760\n",
      "               macro avg       0.71      0.60      0.63    199760\n",
      "            weighted avg       0.81      0.83      0.81    199760\n",
      "\n"
     ]
    }
   ],
   "source": [
    "#classification report\n",
    "#confustion matrix\n",
    "print(classification_report(y_train, y_pred_knn))"
   ]
  },
  {
   "cell_type": "markdown",
   "metadata": {},
   "source": [
    "#### Validate KNN"
   ]
  },
  {
   "cell_type": "code",
   "execution_count": 26,
   "metadata": {},
   "outputs": [
    {
     "name": "stdout",
     "output_type": "stream",
     "text": [
      "Accuracy of KNN classifier on test set: 0.82\n"
     ]
    }
   ],
   "source": [
    "print('Accuracy of KNN classifier on test set: {:.2f}'\n",
    "     .format(knn.score(X_validate[features1], y_validate)))\n"
   ]
  },
  {
   "cell_type": "markdown",
   "metadata": {},
   "source": [
    "#### Chocolate KNN"
   ]
  },
  {
   "cell_type": "code",
   "execution_count": 27,
   "metadata": {},
   "outputs": [
    {
     "data": {
      "text/plain": [
       "KNeighborsClassifier()"
      ]
     },
     "execution_count": 27,
     "metadata": {},
     "output_type": "execute_result"
    }
   ],
   "source": [
    "#Features I want to train on\n",
    "features1 = ['council_district',\n",
    " 'resolution_days_due',\n",
    " 'district_0',\n",
    " 'district_1',\n",
    " 'district_2',\n",
    " 'district_3',\n",
    " 'district_4',\n",
    " 'district_5',\n",
    " 'district_6',\n",
    " 'district_7',\n",
    " 'district_8',\n",
    " 'district_9',\n",
    " 'district_10',\n",
    " 'animal_care_services',\n",
    " 'code_enforcement_services',\n",
    " 'customer_services',\n",
    " 'development_services',\n",
    " 'metro_health',\n",
    " 'parks_and_rec',\n",
    " 'solid_waste_management',\n",
    " 'trans_and_cap_improvements',\n",
    " 'unknown_dept',\n",
    " 'buildings',\n",
    " 'business',\n",
    " 'cleanup',\n",
    " 'code',\n",
    " 'customer_service',\n",
    " 'field',\n",
    " 'land',\n",
    " 'license',\n",
    " 'misc',\n",
    " 'storm',\n",
    " 'streets',\n",
    " 'trades',\n",
    " 'traffic',\n",
    " 'waste',\n",
    " 'web_portal',\n",
    " '311_mobile_app',\n",
    " 'constituent_call',\n",
    " 'internal_services_requests']\n",
    "#make model\n",
    "#weights = ['uniform', 'density']\n",
    "knn = KNeighborsClassifier(n_neighbors=5, weights='uniform')\n",
    "#fit model\n",
    "knn.fit(X_train[features1], y_train)"
   ]
  },
  {
   "cell_type": "code",
   "execution_count": 28,
   "metadata": {},
   "outputs": [],
   "source": [
    "#mkae predictions\n",
    "y_pred_knn = knn.predict(X_train[features1])\n",
    "#estimate probability\n",
    "y_pred_proba = knn.predict_proba(X_train[features1])"
   ]
  },
  {
   "cell_type": "code",
   "execution_count": 29,
   "metadata": {},
   "outputs": [
    {
     "name": "stdout",
     "output_type": "stream",
     "text": [
      "KNN Accuracy is 0.83525\n"
     ]
    }
   ],
   "source": [
    "#accuracy\n",
    "accuracy = knn.score(X_train[features1], y_train)\n",
    "print(f\"KNN Accuracy is {accuracy:.5}\")"
   ]
  },
  {
   "cell_type": "code",
   "execution_count": 30,
   "metadata": {},
   "outputs": [
    {
     "name": "stdout",
     "output_type": "stream",
     "text": [
      "                          precision    recall  f1-score   support\n",
      "\n",
      "          Early Response       0.86      0.96      0.90    148198\n",
      "Extremely Early Response       0.97      1.00      0.98        83\n",
      " Extremely Late Response       0.68      0.60      0.64       555\n",
      "           Late Response       0.41      0.16      0.23      5005\n",
      "        On Time Response       0.66      0.33      0.44     28857\n",
      "     Very Early Response       0.83      0.92      0.87     15299\n",
      "      Very Late Response       0.66      0.23      0.34      1763\n",
      "\n",
      "                accuracy                           0.84    199760\n",
      "               macro avg       0.72      0.60      0.63    199760\n",
      "            weighted avg       0.81      0.84      0.81    199760\n",
      "\n"
     ]
    }
   ],
   "source": [
    "#classification report\n",
    "#confustion matrix\n",
    "print(classification_report(y_train, y_pred_knn))"
   ]
  },
  {
   "cell_type": "code",
   "execution_count": 31,
   "metadata": {},
   "outputs": [
    {
     "name": "stdout",
     "output_type": "stream",
     "text": [
      "Accuracy of KNN classifier on test set: 0.83\n"
     ]
    }
   ],
   "source": [
    "print('Accuracy of KNN classifier on test set: {:.2f}'\n",
    "     .format(knn.score(X_validate[features1], y_validate)))"
   ]
  },
  {
   "cell_type": "markdown",
   "metadata": {},
   "source": [
    "### New Feature to Create\n",
    "- sq ft by days late"
   ]
  },
  {
   "cell_type": "markdown",
   "metadata": {},
   "source": [
    "- sq miles gathered from:\n",
    "    https://sa2020.org/city-council-profiles"
   ]
  },
  {
   "cell_type": "code",
   "execution_count": 32,
   "metadata": {},
   "outputs": [],
   "source": [
    "df = w.clean_311(w.get_311_data())"
   ]
  },
  {
   "cell_type": "code",
   "execution_count": 33,
   "metadata": {},
   "outputs": [
    {
     "data": {
      "text/plain": [
       "(356715, 29)"
      ]
     },
     "execution_count": 33,
     "metadata": {},
     "output_type": "execute_result"
    }
   ],
   "source": [
    "df.shape"
   ]
  },
  {
   "cell_type": "code",
   "execution_count": 34,
   "metadata": {},
   "outputs": [
    {
     "data": {
      "text/plain": [
       " 2.0      35112\n",
       " 5.0      28584\n",
       " 4.0      27093\n",
       " 6.0      26974\n",
       " 1.0      26369\n",
       " 0.0      22672\n",
       " 3.0      22112\n",
       " 7.0      10257\n",
       " 10.0      9454\n",
       " 60.0      7618\n",
       "-1.0       7070\n",
       " 63.0      5446\n",
       " 64.0      5247\n",
       " 8.0       3759\n",
       " 132.0     3489\n",
       "-2.0       3092\n",
       " 127.0     2923\n",
       " 62.0      2848\n",
       " 14.0      2137\n",
       "-3.0       2048\n",
       " 9.0       2034\n",
       " 130.0     1921\n",
       " 13.0      1902\n",
       " 128.0     1651\n",
       " 129.0     1632\n",
       " 126.0     1571\n",
       "-4.0       1550\n",
       " 65.0      1520\n",
       " 61.0      1421\n",
       " 66.0      1389\n",
       " 12.0      1250\n",
       " 11.0      1222\n",
       " 55.0      1121\n",
       " 56.0      1114\n",
       " 57.0      1106\n",
       " 28.0      1101\n",
       " 15.0      1079\n",
       "Name: days_before_or_after_due, dtype: int64"
      ]
     },
     "execution_count": 34,
     "metadata": {},
     "output_type": "execute_result"
    }
   ],
   "source": [
    "df.days_before_or_after_due.value_counts()[:15]"
   ]
  },
  {
   "cell_type": "code",
   "execution_count": 35,
   "metadata": {},
   "outputs": [
    {
     "name": "stdout",
     "output_type": "stream",
     "text": [
      "<class 'pandas.core.frame.DataFrame'>\n",
      "Int64Index: 356715 entries, 1014281655 to 1016870499\n",
      "Data columns (total 29 columns):\n",
      " #   Column                    Non-Null Count   Dtype         \n",
      "---  ------                    --------------   -----         \n",
      " 0   open_date                 356715 non-null  datetime64[ns]\n",
      " 1   due_date                  356715 non-null  datetime64[ns]\n",
      " 2   closed_date               356715 non-null  datetime64[ns]\n",
      " 3   is_late                   356715 non-null  object        \n",
      " 4   dept                      356715 non-null  object        \n",
      " 5   call_reason               356715 non-null  object        \n",
      " 6   case_type                 356715 non-null  object        \n",
      " 7   case_status               356715 non-null  object        \n",
      " 8   source_id                 356715 non-null  object        \n",
      " 9   address                   356715 non-null  object        \n",
      " 10  council_district          356715 non-null  int64         \n",
      " 11  longitude                 356715 non-null  float64       \n",
      " 12  latitude                  356715 non-null  float64       \n",
      " 13  days_open                 356715 non-null  float64       \n",
      " 14  resolution_days_due       356715 non-null  int64         \n",
      " 15  days_before_or_after_due  356715 non-null  float64       \n",
      " 16  level_of_delay            356715 non-null  category      \n",
      " 17  district_0                356715 non-null  uint8         \n",
      " 18  district_1                356715 non-null  uint8         \n",
      " 19  district_2                356715 non-null  uint8         \n",
      " 20  district_3                356715 non-null  uint8         \n",
      " 21  district_4                356715 non-null  uint8         \n",
      " 22  district_5                356715 non-null  uint8         \n",
      " 23  district_6                356715 non-null  uint8         \n",
      " 24  district_7                356715 non-null  uint8         \n",
      " 25  district_8                356715 non-null  uint8         \n",
      " 26  district_9                356715 non-null  uint8         \n",
      " 27  district_10               356715 non-null  uint8         \n",
      " 28  zipcode                   356715 non-null  object        \n",
      "dtypes: category(1), datetime64[ns](3), float64(4), int64(2), object(8), uint8(11)\n",
      "memory usage: 53.1+ MB\n"
     ]
    }
   ],
   "source": [
    "df.info()"
   ]
  },
  {
   "cell_type": "code",
   "execution_count": null,
   "metadata": {},
   "outputs": [],
   "source": [
    "df.council_district.value_counts()"
   ]
  },
  {
   "cell_type": "code",
   "execution_count": null,
   "metadata": {},
   "outputs": [],
   "source": [
    "# convert square miles to square feet\n",
    "# 1 sq mi = 27,878,399.996383 sq ft\n",
    "# maybe dont convert it to sqft bc its so big\n",
    "d1 = 26.00\n",
    "d2 = 59.81\n",
    "d3 = 116.15\n",
    "d4 = 65.21\n",
    "d5 = 22.24\n",
    "d6 = 38.44\n",
    "d7 = 32.82\n",
    "d8 = 71.64\n",
    "d9 = 48.71\n",
    "d10 = 55.62"
   ]
  },
  {
   "cell_type": "code",
   "execution_count": 36,
   "metadata": {},
   "outputs": [],
   "source": [
    "df = df[df.council_district != 0]"
   ]
  },
  {
   "cell_type": "code",
   "execution_count": 37,
   "metadata": {},
   "outputs": [
    {
     "data": {
      "text/plain": [
       "5     49986\n",
       "2     46987\n",
       "1     45889\n",
       "3     45709\n",
       "4     34595\n",
       "7     33447\n",
       "6     30364\n",
       "10    29372\n",
       "9     19437\n",
       "8     19435\n",
       "Name: council_district, dtype: int64"
      ]
     },
     "execution_count": 37,
     "metadata": {},
     "output_type": "execute_result"
    }
   ],
   "source": [
    "df.council_district.value_counts()"
   ]
  },
  {
   "cell_type": "code",
   "execution_count": 38,
   "metadata": {},
   "outputs": [
    {
     "data": {
      "text/plain": [
       "(355221, 29)"
      ]
     },
     "execution_count": 38,
     "metadata": {},
     "output_type": "execute_result"
    }
   ],
   "source": [
    "df.shape"
   ]
  },
  {
   "cell_type": "code",
   "execution_count": 39,
   "metadata": {},
   "outputs": [],
   "source": [
    "def get_sq_miles(council_district):\n",
    "    \"\"\"\n",
    "    This function will apply the square miles per district\n",
    "    to each district.\n",
    "    \"\"\"\n",
    "    d1 = 26.00\n",
    "    d2 = 59.81\n",
    "    d3 = 116.15\n",
    "    d4 = 65.21\n",
    "    d5 = 22.24\n",
    "    d6 = 38.44\n",
    "    d7 = 32.82\n",
    "    d8 = 71.64\n",
    "    d9 = 48.71\n",
    "    d10 = 55.62\n",
    "    if council_district == 1:\n",
    "        return d1\n",
    "    elif council_district == 2:\n",
    "        return d2\n",
    "    elif council_district == 3:\n",
    "        return d3\n",
    "    elif council_district == 4:\n",
    "        return d4\n",
    "    elif council_district == 5:\n",
    "        return d5\n",
    "    elif council_district == 6:\n",
    "        return d6\n",
    "    elif council_district == 7:\n",
    "        return d7\n",
    "    elif council_district == 8:\n",
    "        return d8\n",
    "    elif council_district == 9:\n",
    "        return d9\n",
    "    else:\n",
    "        return d10\n",
    "    \n",
    "def sq_miles_by_days(df):\n",
    "    \"\"\"\n",
    "    This function takes in one positional argument:\n",
    "    1.  311 df\n",
    "    This function returns:\n",
    "    1. square mile per district\n",
    "    2. the amount of days before or after due per square mile\n",
    "    \"\"\"\n",
    "    # get square miles for each district\n",
    "    df['sq_miles'] = df['council_district'].apply(get_sq_miles)\n",
    "    # get the amount of days per square mile\n",
    "    df['sq_miles_by_days'] = df.sq_miles / df.days_before_or_after_due\n",
    "    return df"
   ]
  },
  {
   "cell_type": "code",
   "execution_count": null,
   "metadata": {},
   "outputs": [],
   "source": [
    "df['sq_miles'] = df['council_district'].apply(get_sq_miles)"
   ]
  },
  {
   "cell_type": "code",
   "execution_count": null,
   "metadata": {},
   "outputs": [],
   "source": [
    "df.sq_miles.value_counts()"
   ]
  },
  {
   "cell_type": "code",
   "execution_count": null,
   "metadata": {},
   "outputs": [],
   "source": [
    "df['sq_miles_by_days'] = df.sq_miles / df.days_before_or_after_due"
   ]
  },
  {
   "cell_type": "code",
   "execution_count": null,
   "metadata": {},
   "outputs": [],
   "source": [
    "#pd.set_option(\"display.max_rows\", None, \"display.max_columns\", None)"
   ]
  },
  {
   "cell_type": "code",
   "execution_count": null,
   "metadata": {},
   "outputs": [],
   "source": [
    "df.head()"
   ]
  },
  {
   "cell_type": "code",
   "execution_count": null,
   "metadata": {},
   "outputs": [],
   "source": [
    "d1_avg_days_per_sq_mile = df[df.]\n",
    "waste = train[train.call_reason == 'waste']"
   ]
  },
  {
   "cell_type": "code",
   "execution_count": null,
   "metadata": {},
   "outputs": [],
   "source": [
    "df2 = w.clean_311(w.get_311_data())"
   ]
  },
  {
   "cell_type": "code",
   "execution_count": 40,
   "metadata": {},
   "outputs": [],
   "source": [
    "df = sq_miles_by_days(df)"
   ]
  },
  {
   "cell_type": "code",
   "execution_count": 41,
   "metadata": {},
   "outputs": [
    {
     "data": {
      "text/html": [
       "<div>\n",
       "<style scoped>\n",
       "    .dataframe tbody tr th:only-of-type {\n",
       "        vertical-align: middle;\n",
       "    }\n",
       "\n",
       "    .dataframe tbody tr th {\n",
       "        vertical-align: top;\n",
       "    }\n",
       "\n",
       "    .dataframe thead th {\n",
       "        text-align: right;\n",
       "    }\n",
       "</style>\n",
       "<table border=\"1\" class=\"dataframe\">\n",
       "  <thead>\n",
       "    <tr style=\"text-align: right;\">\n",
       "      <th></th>\n",
       "      <th>open_date</th>\n",
       "      <th>due_date</th>\n",
       "      <th>closed_date</th>\n",
       "      <th>is_late</th>\n",
       "      <th>dept</th>\n",
       "      <th>call_reason</th>\n",
       "      <th>case_type</th>\n",
       "      <th>case_status</th>\n",
       "      <th>source_id</th>\n",
       "      <th>address</th>\n",
       "      <th>...</th>\n",
       "      <th>district_4</th>\n",
       "      <th>district_5</th>\n",
       "      <th>district_6</th>\n",
       "      <th>district_7</th>\n",
       "      <th>district_8</th>\n",
       "      <th>district_9</th>\n",
       "      <th>district_10</th>\n",
       "      <th>zipcode</th>\n",
       "      <th>sq_miles</th>\n",
       "      <th>sq_miles_by_days</th>\n",
       "    </tr>\n",
       "    <tr>\n",
       "      <th>CASEID</th>\n",
       "      <th></th>\n",
       "      <th></th>\n",
       "      <th></th>\n",
       "      <th></th>\n",
       "      <th></th>\n",
       "      <th></th>\n",
       "      <th></th>\n",
       "      <th></th>\n",
       "      <th></th>\n",
       "      <th></th>\n",
       "      <th></th>\n",
       "      <th></th>\n",
       "      <th></th>\n",
       "      <th></th>\n",
       "      <th></th>\n",
       "      <th></th>\n",
       "      <th></th>\n",
       "      <th></th>\n",
       "      <th></th>\n",
       "      <th></th>\n",
       "      <th></th>\n",
       "    </tr>\n",
       "  </thead>\n",
       "  <tbody>\n",
       "    <tr>\n",
       "      <th>1014281655</th>\n",
       "      <td>2018-02-28</td>\n",
       "      <td>2018-07-09</td>\n",
       "      <td>2020-06-06</td>\n",
       "      <td>YES</td>\n",
       "      <td>Code Enforcement Services</td>\n",
       "      <td>code</td>\n",
       "      <td>Certificates of Occupancy</td>\n",
       "      <td>Closed</td>\n",
       "      <td>Internal Services Requests</td>\n",
       "      <td>5550  EASTERLING, San Antonio, 78251</td>\n",
       "      <td>...</td>\n",
       "      <td>0</td>\n",
       "      <td>0</td>\n",
       "      <td>1</td>\n",
       "      <td>0</td>\n",
       "      <td>0</td>\n",
       "      <td>0</td>\n",
       "      <td>0</td>\n",
       "      <td>78251</td>\n",
       "      <td>38.44</td>\n",
       "      <td>-0.055072</td>\n",
       "    </tr>\n",
       "    <tr>\n",
       "      <th>1014281665</th>\n",
       "      <td>2018-02-28</td>\n",
       "      <td>2018-07-09</td>\n",
       "      <td>2020-06-06</td>\n",
       "      <td>YES</td>\n",
       "      <td>Code Enforcement Services</td>\n",
       "      <td>code</td>\n",
       "      <td>Zoning: District Requirement</td>\n",
       "      <td>Closed</td>\n",
       "      <td>Internal Services Requests</td>\n",
       "      <td>5550  EASTERLING, San Antonio, 78251</td>\n",
       "      <td>...</td>\n",
       "      <td>0</td>\n",
       "      <td>0</td>\n",
       "      <td>1</td>\n",
       "      <td>0</td>\n",
       "      <td>0</td>\n",
       "      <td>0</td>\n",
       "      <td>0</td>\n",
       "      <td>78251</td>\n",
       "      <td>38.44</td>\n",
       "      <td>-0.055072</td>\n",
       "    </tr>\n",
       "    <tr>\n",
       "      <th>1014281677</th>\n",
       "      <td>2018-02-28</td>\n",
       "      <td>2018-07-09</td>\n",
       "      <td>2020-06-06</td>\n",
       "      <td>YES</td>\n",
       "      <td>Code Enforcement Services</td>\n",
       "      <td>code</td>\n",
       "      <td>Certificates of Occupancy</td>\n",
       "      <td>Closed</td>\n",
       "      <td>Internal Services Requests</td>\n",
       "      <td>5550  EASTERLING, San Antonio, 78251</td>\n",
       "      <td>...</td>\n",
       "      <td>0</td>\n",
       "      <td>0</td>\n",
       "      <td>1</td>\n",
       "      <td>0</td>\n",
       "      <td>0</td>\n",
       "      <td>0</td>\n",
       "      <td>0</td>\n",
       "      <td>78251</td>\n",
       "      <td>38.44</td>\n",
       "      <td>-0.055072</td>\n",
       "    </tr>\n",
       "    <tr>\n",
       "      <th>1014300321</th>\n",
       "      <td>2018-03-06</td>\n",
       "      <td>2020-09-24</td>\n",
       "      <td>2020-05-18</td>\n",
       "      <td>NO</td>\n",
       "      <td>Development Services</td>\n",
       "      <td>buildings</td>\n",
       "      <td>Street Light Existing Res Sub Div</td>\n",
       "      <td>Closed</td>\n",
       "      <td>Constituent Call</td>\n",
       "      <td>1018  KING AVE, San Antonio, 78211</td>\n",
       "      <td>...</td>\n",
       "      <td>1</td>\n",
       "      <td>0</td>\n",
       "      <td>0</td>\n",
       "      <td>0</td>\n",
       "      <td>0</td>\n",
       "      <td>0</td>\n",
       "      <td>0</td>\n",
       "      <td>78211</td>\n",
       "      <td>65.21</td>\n",
       "      <td>0.505504</td>\n",
       "    </tr>\n",
       "    <tr>\n",
       "      <th>1014326068</th>\n",
       "      <td>2018-03-14</td>\n",
       "      <td>2018-07-23</td>\n",
       "      <td>2020-05-27</td>\n",
       "      <td>YES</td>\n",
       "      <td>Code Enforcement Services</td>\n",
       "      <td>code</td>\n",
       "      <td>Zoning: District Requirement</td>\n",
       "      <td>Closed</td>\n",
       "      <td>Internal Services Requests</td>\n",
       "      <td>11800  FISCHER RD, San Antonio, 78073</td>\n",
       "      <td>...</td>\n",
       "      <td>1</td>\n",
       "      <td>0</td>\n",
       "      <td>0</td>\n",
       "      <td>0</td>\n",
       "      <td>0</td>\n",
       "      <td>0</td>\n",
       "      <td>0</td>\n",
       "      <td>78073</td>\n",
       "      <td>65.21</td>\n",
       "      <td>-0.096751</td>\n",
       "    </tr>\n",
       "  </tbody>\n",
       "</table>\n",
       "<p>5 rows × 31 columns</p>\n",
       "</div>"
      ],
      "text/plain": [
       "            open_date   due_date closed_date is_late  \\\n",
       "CASEID                                                 \n",
       "1014281655 2018-02-28 2018-07-09  2020-06-06     YES   \n",
       "1014281665 2018-02-28 2018-07-09  2020-06-06     YES   \n",
       "1014281677 2018-02-28 2018-07-09  2020-06-06     YES   \n",
       "1014300321 2018-03-06 2020-09-24  2020-05-18      NO   \n",
       "1014326068 2018-03-14 2018-07-23  2020-05-27     YES   \n",
       "\n",
       "                                 dept call_reason  \\\n",
       "CASEID                                              \n",
       "1014281655  Code Enforcement Services        code   \n",
       "1014281665  Code Enforcement Services        code   \n",
       "1014281677  Code Enforcement Services        code   \n",
       "1014300321       Development Services   buildings   \n",
       "1014326068  Code Enforcement Services        code   \n",
       "\n",
       "                                    case_type case_status  \\\n",
       "CASEID                                                      \n",
       "1014281655          Certificates of Occupancy      Closed   \n",
       "1014281665       Zoning: District Requirement      Closed   \n",
       "1014281677          Certificates of Occupancy      Closed   \n",
       "1014300321  Street Light Existing Res Sub Div      Closed   \n",
       "1014326068       Zoning: District Requirement      Closed   \n",
       "\n",
       "                             source_id                                address  \\\n",
       "CASEID                                                                          \n",
       "1014281655  Internal Services Requests   5550  EASTERLING, San Antonio, 78251   \n",
       "1014281665  Internal Services Requests   5550  EASTERLING, San Antonio, 78251   \n",
       "1014281677  Internal Services Requests   5550  EASTERLING, San Antonio, 78251   \n",
       "1014300321            Constituent Call     1018  KING AVE, San Antonio, 78211   \n",
       "1014326068  Internal Services Requests  11800  FISCHER RD, San Antonio, 78073   \n",
       "\n",
       "            ...  district_4  district_5  district_6  district_7  district_8  \\\n",
       "CASEID      ...                                                               \n",
       "1014281655  ...           0           0           1           0           0   \n",
       "1014281665  ...           0           0           1           0           0   \n",
       "1014281677  ...           0           0           1           0           0   \n",
       "1014300321  ...           1           0           0           0           0   \n",
       "1014326068  ...           1           0           0           0           0   \n",
       "\n",
       "            district_9 district_10  zipcode  sq_miles  sq_miles_by_days  \n",
       "CASEID                                                                   \n",
       "1014281655           0           0    78251     38.44         -0.055072  \n",
       "1014281665           0           0    78251     38.44         -0.055072  \n",
       "1014281677           0           0    78251     38.44         -0.055072  \n",
       "1014300321           0           0    78211     65.21          0.505504  \n",
       "1014326068           0           0    78073     65.21         -0.096751  \n",
       "\n",
       "[5 rows x 31 columns]"
      ]
     },
     "execution_count": 41,
     "metadata": {},
     "output_type": "execute_result"
    }
   ],
   "source": [
    "df.head()"
   ]
  },
  {
   "cell_type": "code",
   "execution_count": 43,
   "metadata": {},
   "outputs": [
    {
     "data": {
      "text/plain": [
       "2.0     35087\n",
       "5.0     28539\n",
       "4.0     27069\n",
       "6.0     26922\n",
       "1.0     26317\n",
       "0.0     22614\n",
       "3.0     22075\n",
       "7.0     10188\n",
       "10.0     9384\n",
       "Name: days_before_or_after_due, dtype: int64"
      ]
     },
     "execution_count": 43,
     "metadata": {},
     "output_type": "execute_result"
    }
   ],
   "source": [
    "df.days_before_or_after_due.value_counts()[:10]"
   ]
  },
  {
   "cell_type": "code",
   "execution_count": null,
   "metadata": {},
   "outputs": [],
   "source": []
  }
 ],
 "metadata": {
  "kernelspec": {
   "display_name": "Python 3",
   "language": "python",
   "name": "python3"
  },
  "language_info": {
   "codemirror_mode": {
    "name": "ipython",
    "version": 3
   },
   "file_extension": ".py",
   "mimetype": "text/x-python",
   "name": "python",
   "nbconvert_exporter": "python",
   "pygments_lexer": "ipython3",
   "version": "3.8.5"
  }
 },
 "nbformat": 4,
 "nbformat_minor": 4
}
