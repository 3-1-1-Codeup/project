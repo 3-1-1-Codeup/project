{
 "cells": [
  {
   "cell_type": "markdown",
   "metadata": {},
   "source": [
    "# Tableau uploads"
   ]
  },
  {
   "cell_type": "markdown",
   "metadata": {},
   "source": [
    "## Imports"
   ]
  },
  {
   "cell_type": "code",
   "execution_count": 1,
   "metadata": {},
   "outputs": [],
   "source": [
    "import pandas as pd\n",
    "import numpy as np\n",
    "import wrangle as w\n",
    "import explore as e\n",
    "pd.set_option('display.max_columns', None)"
   ]
  },
  {
   "cell_type": "code",
   "execution_count": 2,
   "metadata": {},
   "outputs": [],
   "source": [
    "df = w.clean_311(w.get_311_data())"
   ]
  },
  {
   "cell_type": "code",
   "execution_count": 3,
   "metadata": {},
   "outputs": [
    {
     "data": {
      "text/html": [
       "<div>\n",
       "<style scoped>\n",
       "    .dataframe tbody tr th:only-of-type {\n",
       "        vertical-align: middle;\n",
       "    }\n",
       "\n",
       "    .dataframe tbody tr th {\n",
       "        vertical-align: top;\n",
       "    }\n",
       "\n",
       "    .dataframe thead th {\n",
       "        text-align: right;\n",
       "    }\n",
       "</style>\n",
       "<table border=\"1\" class=\"dataframe\">\n",
       "  <thead>\n",
       "    <tr style=\"text-align: right;\">\n",
       "      <th></th>\n",
       "      <th>open_date</th>\n",
       "      <th>due_date</th>\n",
       "      <th>closed_date</th>\n",
       "      <th>is_late</th>\n",
       "      <th>dept</th>\n",
       "      <th>call_reason</th>\n",
       "      <th>case_type</th>\n",
       "      <th>case_status</th>\n",
       "      <th>source_id</th>\n",
       "      <th>address</th>\n",
       "      <th>council_district</th>\n",
       "      <th>longitude</th>\n",
       "      <th>latitude</th>\n",
       "      <th>days_open</th>\n",
       "      <th>resolution_days_due</th>\n",
       "      <th>days_before_or_after_due</th>\n",
       "      <th>pct_time_of_used</th>\n",
       "      <th>level_of_delay</th>\n",
       "      <th>district_1</th>\n",
       "      <th>district_2</th>\n",
       "      <th>district_3</th>\n",
       "      <th>district_4</th>\n",
       "      <th>district_5</th>\n",
       "      <th>district_6</th>\n",
       "      <th>district_7</th>\n",
       "      <th>district_8</th>\n",
       "      <th>district_9</th>\n",
       "      <th>district_10</th>\n",
       "      <th>voter_turnout_2019</th>\n",
       "      <th>num_of_registered_voters</th>\n",
       "      <th>zipcode</th>\n",
       "      <th>open_month</th>\n",
       "      <th>open_year</th>\n",
       "      <th>open_week</th>\n",
       "      <th>per_capita_income</th>\n",
       "      <th>square_miles</th>\n",
       "    </tr>\n",
       "  </thead>\n",
       "  <tbody>\n",
       "    <tr>\n",
       "      <th>551</th>\n",
       "      <td>2017-01-27</td>\n",
       "      <td>2017-02-03</td>\n",
       "      <td>2020-11-19</td>\n",
       "      <td>YES</td>\n",
       "      <td>Customer Service</td>\n",
       "      <td>customer_service</td>\n",
       "      <td>Complaint</td>\n",
       "      <td>Closed</td>\n",
       "      <td>Constituent Call</td>\n",
       "      <td>2407  WYOMING ST, San Antonio, 78203</td>\n",
       "      <td>2</td>\n",
       "      <td>2142962.0</td>\n",
       "      <td>13699885.0</td>\n",
       "      <td>1393.0</td>\n",
       "      <td>8</td>\n",
       "      <td>-1385.0</td>\n",
       "      <td>174.125</td>\n",
       "      <td>Very Late Response</td>\n",
       "      <td>0</td>\n",
       "      <td>1</td>\n",
       "      <td>0</td>\n",
       "      <td>0</td>\n",
       "      <td>0</td>\n",
       "      <td>0</td>\n",
       "      <td>0</td>\n",
       "      <td>0</td>\n",
       "      <td>0</td>\n",
       "      <td>0</td>\n",
       "      <td>0.086</td>\n",
       "      <td>67656</td>\n",
       "      <td>78203</td>\n",
       "      <td>1</td>\n",
       "      <td>2017</td>\n",
       "      <td>4</td>\n",
       "      <td>19055</td>\n",
       "      <td>59.81</td>\n",
       "    </tr>\n",
       "    <tr>\n",
       "      <th>552</th>\n",
       "      <td>2017-01-27</td>\n",
       "      <td>2017-02-03</td>\n",
       "      <td>2020-11-19</td>\n",
       "      <td>YES</td>\n",
       "      <td>Customer Service</td>\n",
       "      <td>customer_service</td>\n",
       "      <td>Complaint</td>\n",
       "      <td>Closed</td>\n",
       "      <td>Constituent Call</td>\n",
       "      <td>5102  OLD PEARSALL, San Antonio, 78242</td>\n",
       "      <td>4</td>\n",
       "      <td>2097121.0</td>\n",
       "      <td>13678237.0</td>\n",
       "      <td>1393.0</td>\n",
       "      <td>8</td>\n",
       "      <td>-1385.0</td>\n",
       "      <td>174.125</td>\n",
       "      <td>Very Late Response</td>\n",
       "      <td>0</td>\n",
       "      <td>0</td>\n",
       "      <td>0</td>\n",
       "      <td>1</td>\n",
       "      <td>0</td>\n",
       "      <td>0</td>\n",
       "      <td>0</td>\n",
       "      <td>0</td>\n",
       "      <td>0</td>\n",
       "      <td>0</td>\n",
       "      <td>0.078</td>\n",
       "      <td>66370</td>\n",
       "      <td>78242</td>\n",
       "      <td>1</td>\n",
       "      <td>2017</td>\n",
       "      <td>4</td>\n",
       "      <td>18500</td>\n",
       "      <td>65.21</td>\n",
       "    </tr>\n",
       "    <tr>\n",
       "      <th>553</th>\n",
       "      <td>2017-02-03</td>\n",
       "      <td>2017-02-10</td>\n",
       "      <td>2020-11-19</td>\n",
       "      <td>YES</td>\n",
       "      <td>Customer Service</td>\n",
       "      <td>customer_service</td>\n",
       "      <td>Complaint</td>\n",
       "      <td>Closed</td>\n",
       "      <td>Constituent Call</td>\n",
       "      <td>2223  HOUSTON ST E, San Antonio, 78202</td>\n",
       "      <td>2</td>\n",
       "      <td>2140359.0</td>\n",
       "      <td>13702579.0</td>\n",
       "      <td>1386.0</td>\n",
       "      <td>8</td>\n",
       "      <td>-1378.0</td>\n",
       "      <td>173.250</td>\n",
       "      <td>Very Late Response</td>\n",
       "      <td>0</td>\n",
       "      <td>1</td>\n",
       "      <td>0</td>\n",
       "      <td>0</td>\n",
       "      <td>0</td>\n",
       "      <td>0</td>\n",
       "      <td>0</td>\n",
       "      <td>0</td>\n",
       "      <td>0</td>\n",
       "      <td>0</td>\n",
       "      <td>0.086</td>\n",
       "      <td>67656</td>\n",
       "      <td>78202</td>\n",
       "      <td>2</td>\n",
       "      <td>2017</td>\n",
       "      <td>5</td>\n",
       "      <td>19055</td>\n",
       "      <td>59.81</td>\n",
       "    </tr>\n",
       "    <tr>\n",
       "      <th>554</th>\n",
       "      <td>2017-02-03</td>\n",
       "      <td>2017-02-10</td>\n",
       "      <td>2020-11-19</td>\n",
       "      <td>YES</td>\n",
       "      <td>Customer Service</td>\n",
       "      <td>customer_service</td>\n",
       "      <td>Complaint</td>\n",
       "      <td>Closed</td>\n",
       "      <td>Constituent Call</td>\n",
       "      <td>2531  PEREZ, San Antonio, 78207</td>\n",
       "      <td>1</td>\n",
       "      <td>2117463.0</td>\n",
       "      <td>13706003.0</td>\n",
       "      <td>1386.0</td>\n",
       "      <td>8</td>\n",
       "      <td>-1378.0</td>\n",
       "      <td>173.250</td>\n",
       "      <td>Very Late Response</td>\n",
       "      <td>1</td>\n",
       "      <td>0</td>\n",
       "      <td>0</td>\n",
       "      <td>0</td>\n",
       "      <td>0</td>\n",
       "      <td>0</td>\n",
       "      <td>0</td>\n",
       "      <td>0</td>\n",
       "      <td>0</td>\n",
       "      <td>0</td>\n",
       "      <td>0.148</td>\n",
       "      <td>68081</td>\n",
       "      <td>78207</td>\n",
       "      <td>2</td>\n",
       "      <td>2017</td>\n",
       "      <td>5</td>\n",
       "      <td>23967</td>\n",
       "      <td>26.00</td>\n",
       "    </tr>\n",
       "    <tr>\n",
       "      <th>555</th>\n",
       "      <td>2017-02-28</td>\n",
       "      <td>2017-03-07</td>\n",
       "      <td>2020-11-19</td>\n",
       "      <td>YES</td>\n",
       "      <td>Customer Service</td>\n",
       "      <td>customer_service</td>\n",
       "      <td>Complaint</td>\n",
       "      <td>Closed</td>\n",
       "      <td>Constituent Call</td>\n",
       "      <td>8002  GRISSOM RD, San Antonio, 78251</td>\n",
       "      <td>6</td>\n",
       "      <td>2081307.0</td>\n",
       "      <td>13721187.0</td>\n",
       "      <td>1361.0</td>\n",
       "      <td>8</td>\n",
       "      <td>-1353.0</td>\n",
       "      <td>170.125</td>\n",
       "      <td>Very Late Response</td>\n",
       "      <td>0</td>\n",
       "      <td>0</td>\n",
       "      <td>0</td>\n",
       "      <td>0</td>\n",
       "      <td>0</td>\n",
       "      <td>1</td>\n",
       "      <td>0</td>\n",
       "      <td>0</td>\n",
       "      <td>0</td>\n",
       "      <td>0</td>\n",
       "      <td>0.124</td>\n",
       "      <td>80007</td>\n",
       "      <td>78251</td>\n",
       "      <td>2</td>\n",
       "      <td>2017</td>\n",
       "      <td>9</td>\n",
       "      <td>23437</td>\n",
       "      <td>38.44</td>\n",
       "    </tr>\n",
       "  </tbody>\n",
       "</table>\n",
       "</div>"
      ],
      "text/plain": [
       "     open_date   due_date closed_date is_late              dept  \\\n",
       "551 2017-01-27 2017-02-03  2020-11-19     YES  Customer Service   \n",
       "552 2017-01-27 2017-02-03  2020-11-19     YES  Customer Service   \n",
       "553 2017-02-03 2017-02-10  2020-11-19     YES  Customer Service   \n",
       "554 2017-02-03 2017-02-10  2020-11-19     YES  Customer Service   \n",
       "555 2017-02-28 2017-03-07  2020-11-19     YES  Customer Service   \n",
       "\n",
       "          call_reason  case_type case_status         source_id  \\\n",
       "551  customer_service  Complaint      Closed  Constituent Call   \n",
       "552  customer_service  Complaint      Closed  Constituent Call   \n",
       "553  customer_service  Complaint      Closed  Constituent Call   \n",
       "554  customer_service  Complaint      Closed  Constituent Call   \n",
       "555  customer_service  Complaint      Closed  Constituent Call   \n",
       "\n",
       "                                    address  council_district  longitude  \\\n",
       "551    2407  WYOMING ST, San Antonio, 78203                 2  2142962.0   \n",
       "552  5102  OLD PEARSALL, San Antonio, 78242                 4  2097121.0   \n",
       "553  2223  HOUSTON ST E, San Antonio, 78202                 2  2140359.0   \n",
       "554         2531  PEREZ, San Antonio, 78207                 1  2117463.0   \n",
       "555    8002  GRISSOM RD, San Antonio, 78251                 6  2081307.0   \n",
       "\n",
       "       latitude  days_open  resolution_days_due  days_before_or_after_due  \\\n",
       "551  13699885.0     1393.0                    8                   -1385.0   \n",
       "552  13678237.0     1393.0                    8                   -1385.0   \n",
       "553  13702579.0     1386.0                    8                   -1378.0   \n",
       "554  13706003.0     1386.0                    8                   -1378.0   \n",
       "555  13721187.0     1361.0                    8                   -1353.0   \n",
       "\n",
       "     pct_time_of_used      level_of_delay  district_1  district_2  district_3  \\\n",
       "551           174.125  Very Late Response           0           1           0   \n",
       "552           174.125  Very Late Response           0           0           0   \n",
       "553           173.250  Very Late Response           0           1           0   \n",
       "554           173.250  Very Late Response           1           0           0   \n",
       "555           170.125  Very Late Response           0           0           0   \n",
       "\n",
       "     district_4  district_5  district_6  district_7  district_8  district_9  \\\n",
       "551           0           0           0           0           0           0   \n",
       "552           1           0           0           0           0           0   \n",
       "553           0           0           0           0           0           0   \n",
       "554           0           0           0           0           0           0   \n",
       "555           0           0           1           0           0           0   \n",
       "\n",
       "     district_10  voter_turnout_2019  num_of_registered_voters zipcode  \\\n",
       "551            0               0.086                     67656   78203   \n",
       "552            0               0.078                     66370   78242   \n",
       "553            0               0.086                     67656   78202   \n",
       "554            0               0.148                     68081   78207   \n",
       "555            0               0.124                     80007   78251   \n",
       "\n",
       "     open_month  open_year  open_week  per_capita_income  square_miles  \n",
       "551           1       2017          4              19055         59.81  \n",
       "552           1       2017          4              18500         65.21  \n",
       "553           2       2017          5              19055         59.81  \n",
       "554           2       2017          5              23967         26.00  \n",
       "555           2       2017          9              23437         38.44  "
      ]
     },
     "execution_count": 3,
     "metadata": {},
     "output_type": "execute_result"
    }
   ],
   "source": [
    "df.head()"
   ]
  },
  {
   "cell_type": "code",
   "execution_count": 4,
   "metadata": {},
   "outputs": [
    {
     "name": "stdout",
     "output_type": "stream",
     "text": [
      "<class 'pandas.core.frame.DataFrame'>\n",
      "Int64Index: 356804 entries, 551 to 399979\n",
      "Data columns (total 36 columns):\n",
      " #   Column                    Non-Null Count   Dtype         \n",
      "---  ------                    --------------   -----         \n",
      " 0   open_date                 356804 non-null  datetime64[ns]\n",
      " 1   due_date                  356804 non-null  datetime64[ns]\n",
      " 2   closed_date               356804 non-null  datetime64[ns]\n",
      " 3   is_late                   356804 non-null  object        \n",
      " 4   dept                      356804 non-null  object        \n",
      " 5   call_reason               356804 non-null  object        \n",
      " 6   case_type                 356804 non-null  object        \n",
      " 7   case_status               356804 non-null  object        \n",
      " 8   source_id                 356804 non-null  object        \n",
      " 9   address                   356804 non-null  object        \n",
      " 10  council_district          356804 non-null  int64         \n",
      " 11  longitude                 356804 non-null  float64       \n",
      " 12  latitude                  356804 non-null  float64       \n",
      " 13  days_open                 356804 non-null  float64       \n",
      " 14  resolution_days_due       356804 non-null  int64         \n",
      " 15  days_before_or_after_due  356804 non-null  float64       \n",
      " 16  pct_time_of_used          356804 non-null  float64       \n",
      " 17  level_of_delay            356804 non-null  category      \n",
      " 18  district_1                356804 non-null  uint8         \n",
      " 19  district_2                356804 non-null  uint8         \n",
      " 20  district_3                356804 non-null  uint8         \n",
      " 21  district_4                356804 non-null  uint8         \n",
      " 22  district_5                356804 non-null  uint8         \n",
      " 23  district_6                356804 non-null  uint8         \n",
      " 24  district_7                356804 non-null  uint8         \n",
      " 25  district_8                356804 non-null  uint8         \n",
      " 26  district_9                356804 non-null  uint8         \n",
      " 27  district_10               356804 non-null  uint8         \n",
      " 28  voter_turnout_2019        356804 non-null  float64       \n",
      " 29  num_of_registered_voters  356804 non-null  int64         \n",
      " 30  zipcode                   356804 non-null  object        \n",
      " 31  open_month                356804 non-null  int64         \n",
      " 32  open_year                 356804 non-null  int64         \n",
      " 33  open_week                 356804 non-null  int64         \n",
      " 34  per_capita_income         356804 non-null  int64         \n",
      " 35  square_miles              356804 non-null  float64       \n",
      "dtypes: category(1), datetime64[ns](3), float64(7), int64(7), object(8), uint8(10)\n",
      "memory usage: 74.5+ MB\n"
     ]
    }
   ],
   "source": [
    "df.info()"
   ]
  },
  {
   "cell_type": "code",
   "execution_count": null,
   "metadata": {},
   "outputs": [],
   "source": [
    "error = df[df.days_before_or_after_due == -1]"
   ]
  },
  {
   "cell_type": "code",
   "execution_count": null,
   "metadata": {},
   "outputs": [],
   "source": [
    "error.level_of_delay.value_counts()"
   ]
  },
  {
   "cell_type": "code",
   "execution_count": null,
   "metadata": {},
   "outputs": [],
   "source": [
    "df.head()"
   ]
  },
  {
   "cell_type": "code",
   "execution_count": null,
   "metadata": {},
   "outputs": [],
   "source": [
    "df.info()"
   ]
  },
  {
   "cell_type": "code",
   "execution_count": null,
   "metadata": {},
   "outputs": [],
   "source": [
    "df.level_of_delay.value_counts()"
   ]
  },
  {
   "cell_type": "code",
   "execution_count": null,
   "metadata": {},
   "outputs": [],
   "source": [
    "df.is_late.value_counts()"
   ]
  },
  {
   "cell_type": "code",
   "execution_count": null,
   "metadata": {},
   "outputs": [],
   "source": [
    "df.days_before_or_after_due.value_counts()"
   ]
  },
  {
   "cell_type": "code",
   "execution_count": null,
   "metadata": {},
   "outputs": [],
   "source": [
    "on_time = df[df.level_of_delay == 'On Time Response']\n",
    "very_late = df[df.level_of_delay == 'Very Late Response']\n",
    "early = df[df.level_of_delay == 'Early Response']"
   ]
  },
  {
   "cell_type": "code",
   "execution_count": null,
   "metadata": {},
   "outputs": [],
   "source": [
    "on_time.days_before_or_after_due.value_counts()"
   ]
  },
  {
   "cell_type": "code",
   "execution_count": null,
   "metadata": {},
   "outputs": [],
   "source": [
    "very_late.days_before_or_after_due.value_counts()"
   ]
  },
  {
   "cell_type": "code",
   "execution_count": null,
   "metadata": {},
   "outputs": [],
   "source": [
    "early.days_before_or_after_due.value_counts()"
   ]
  },
  {
   "cell_type": "code",
   "execution_count": null,
   "metadata": {},
   "outputs": [],
   "source": [
    "df[df.days_before_or_after_due < 0]"
   ]
  },
  {
   "cell_type": "code",
   "execution_count": 5,
   "metadata": {},
   "outputs": [],
   "source": [
    "def get_late(days_before_or_after_due):\n",
    "    if days_before_or_after_due < 0:\n",
    "        return 'late'\n",
    "    else:\n",
    "        return 'on time'\n",
    "        "
   ]
  },
  {
   "cell_type": "code",
   "execution_count": 6,
   "metadata": {},
   "outputs": [],
   "source": [
    "#get actual amount of late cases\n",
    "df['late'] = df['days_before_or_after_due'].apply(get_late)"
   ]
  },
  {
   "cell_type": "code",
   "execution_count": null,
   "metadata": {},
   "outputs": [],
   "source": [
    "#df.to_csv('final2_311.csv')"
   ]
  },
  {
   "cell_type": "code",
   "execution_count": null,
   "metadata": {},
   "outputs": [],
   "source": [
    "# create new feature to show how long it took to resolve compared to resolution due date\n",
    "#df['days_before_or_after_due'] = df.resolution_days_due - df.days_open"
   ]
  },
  {
   "cell_type": "code",
   "execution_count": null,
   "metadata": {},
   "outputs": [],
   "source": [
    "import model as m"
   ]
  },
  {
   "cell_type": "code",
   "execution_count": null,
   "metadata": {},
   "outputs": [],
   "source": [
    "df = m.model_df()"
   ]
  },
  {
   "cell_type": "code",
   "execution_count": null,
   "metadata": {},
   "outputs": [],
   "source": [
    "  \n",
    "import pandas as pd\n",
    "import numpy as np\n",
    "import wrangle\n",
    "\n",
    "from sklearn.model_selection import train_test_split\n",
    "from sklearn.metrics import classification_report\n",
    "from sklearn.metrics import confusion_matrix\n",
    "from sklearn.linear_model import SGDClassifier\n",
    "from sklearn import preprocessing\n",
    "\n",
    "#-----------------------------------------------------------------------------\n",
    "\n",
    "# Model Prep\n",
    "\n",
    "def dummy_dept(df):\n",
    "    # dummy dept feature\n",
    "    dummy_df =  pd.get_dummies(df['dept'])\n",
    "    # Name the new columns\n",
    "    dummy_df.columns = ['animal_care_services', 'code_enforcement_services', \n",
    "                        'customer_services', 'development_services', \n",
    "                        'metro_health', 'parks_and_rec',\n",
    "                        'solid_waste_management', 'trans_and_cap_improvements', \n",
    "                        'unknown_dept']\n",
    "    # add the dummies to the data frame\n",
    "    df = pd.concat([df, dummy_df], axis=1)\n",
    "    return df\n",
    "#-----------------------------------------------------------------------------    \n",
    "def dummy_call_reason(df):\n",
    "    # dummy dept feature\n",
    "    dummy_df =  pd.get_dummies(df['call_reason'])\n",
    "    # Name the new columns\n",
    "    dummy_df.columns = ['buildings', 'business', 'cleanup', 'code',\n",
    "                        'customer_service', 'field', 'land',\n",
    "                        'license', 'misc', 'storm', 'streets', 'trades', \n",
    "                        'traffic', 'waste']\n",
    "    # add the dummies to the data frame\n",
    "    df = pd.concat([df, dummy_df], axis=1)\n",
    "    return df\n",
    "#-----------------------------------------------------------------------------\n",
    "def make_source_id_dummies(df):\n",
    "    '''This function takes in the cleaned dataframe, makes dummy variables of the source id column, readds the names of the\n",
    "    dummy columns and returns the concatenated dummy dataframe to the original dataframe.'''\n",
    "    #make dummies\n",
    "    dummy_df = pd.get_dummies(df['source_id'])\n",
    "    #add back column names\n",
    "    dummy_df.columns = ['web_portal', '311_mobile_app', 'constituent_call', 'internal_services_requests']\n",
    "    # concatenate dummies to the cleaned data frame\n",
    "    df = pd.concat([df, dummy_df], axis=1)\n",
    "    return df\n",
    "\n",
    "#-------------------------------\n",
    "def keep_info(df):\n",
    "    df.drop(df.columns.difference(['days_before_after_due','dept','call_reason', 'source_id', 'level_of_delay',\n",
    "                                   'council_district', 'resolution_days_due', 'district_0', 'district_1', 'district_2',\n",
    "                                   'district_3', 'district_4','district_5', 'district_6', 'district_7', 'district_8', \n",
    "                                   'district_9','district_10']), 1, inplace=True)\n",
    "    return df\n",
    "\n",
    "#--------------------------------\n",
    "def model_df():\n",
    "    '''This function reads in the clean 311 dataframe, applies all of the above functions to prepare it for modeling. \n",
    "    The function then returns a cleaned dataframe ready for modeling.'''\n",
    "    df= wrangle.clean_311(wrangle.get_311_data())\n",
    "    df= keep_info(df)\n",
    "    df= dummy_dept(df)\n",
    "    df= dummy_call_reason(df)\n",
    "    df= make_source_id_dummies(df)\n",
    "\n",
    "    return df\n",
    "#--------------------------------------------------------------------------------------------------------------------------------------------------------------------------\n",
    "\n",
    "def split(df, stratify_by= 'level_of_delay'):\n",
    "    \"\"\"\n",
    "    Crude train, validate, test split\n",
    "    To stratify, send in a column name\n",
    "    \"\"\"\n",
    "    if stratify_by == None:\n",
    "        train, test = train_test_split(df, test_size=.2, random_state=319)\n",
    "        train, validate = train_test_split(train, test_size=.3, random_state=319)\n",
    "    else:\n",
    "        train, test = train_test_split(df, test_size=.2, random_state=319, stratify=df[stratify_by])\n",
    "        train, validate = train_test_split(train, test_size=.3, random_state=319, stratify=train[stratify_by])\n",
    "    return train, validate, test\n",
    "\n",
    "\n",
    "#------------------------------------\n",
    "def separate_y(train, validate, test):\n",
    "    '''\n",
    "    This function will take the train, validate, and test dataframes and separate the target variable into its\n",
    "    own panda series\n",
    "    '''\n",
    "    \n",
    "    X_train = train.drop(columns=['level_of_delay'])\n",
    "    y_train = train.level_of_delay\n",
    "    X_validate = validate.drop(columns=['level_of_delay'])\n",
    "    y_validate = validate.level_of_delay\n",
    "    X_test = test.drop(columns=['level_of_delay'])\n",
    "    y_test = test.level_of_delay\n",
    "    return X_train, y_train, X_validate, y_validate, X_test, y_test\n",
    "#------------------------------------\n",
    "def scale_data(X_train, X_validate, X_test):\n",
    "    '''\n",
    "    This function will scale numeric data using Min Max transform after \n",
    "    it has already been split into train, validate, and test.\n",
    "    '''\n",
    "    \n",
    "    \n",
    "    obj_col = ['dept', 'call_reason','source_id']\n",
    "    num_train = X_train.drop(columns = obj_col)\n",
    "    num_validate = X_validate.drop(columns = obj_col)\n",
    "    num_test = X_test.drop(columns = obj_col)\n",
    "    \n",
    "    \n",
    "    # Make the thing\n",
    "    scaler = preprocessing.MinMaxScaler()\n",
    "    \n",
    "   \n",
    "    # we only .fit on the training data\n",
    "    scaler.fit(num_train)\n",
    "    train_scaled = scaler.transform(num_train)\n",
    "    validate_scaled = scaler.transform(num_validate)\n",
    "    test_scaled = scaler.transform(num_test)\n",
    "    \n",
    "    # turn the numpy arrays into dataframes\n",
    "    train_scaled = pd.DataFrame(train_scaled, columns=num_train.columns)\n",
    "    validate_scaled = pd.DataFrame(validate_scaled, columns=num_train.columns)\n",
    "    test_scaled = pd.DataFrame(test_scaled, columns=num_train.columns)\n",
    "    \n",
    "    \n",
    "    return train_scaled, validate_scaled, test_scaled\n",
    "\n",
    "#------------------------------------\n",
    "\n",
    "def split_separate_scale(df, stratify_by= 'level_of_delay'):\n",
    "    '''\n",
    "    This function will take in a dataframe\n",
    "    separate the dataframe into train, validate, and test dataframes\n",
    "    separate the target variable from train, validate and test\n",
    "    then it will scale the numeric variables in train, validate, and test\n",
    "    finally it will return all dataframes individually\n",
    "    '''\n",
    "    \n",
    "    # split data into train, validate, test\n",
    "    train, validate, test = split(df, stratify_by= 'level_of_delay')\n",
    "    \n",
    "     # seperate target variable\n",
    "    X_train, y_train, X_validate, y_validate, X_test, y_test = separate_y(train, validate, test)\n",
    "    \n",
    "    \n",
    "    # scale numeric variable\n",
    "    train_scaled, validate_scaled, test_scaled = scale_data(X_train, X_validate, X_test)\n",
    "    \n",
    "    return train, validate, test, X_train, y_train, X_validate, y_validate, X_test, y_test, train_scaled, validate_scaled, test_scaled"
   ]
  },
  {
   "cell_type": "code",
   "execution_count": null,
   "metadata": {},
   "outputs": [],
   "source": [
    "train, validate, test, X_train, y_train, X_validate, y_validate, X_test, y_test, train_scaled, validate_scaled, test_scaled = split_separate_scale(df, stratify_by= 'level_of_delay')"
   ]
  },
  {
   "cell_type": "code",
   "execution_count": null,
   "metadata": {},
   "outputs": [],
   "source": [
    "train.head()"
   ]
  },
  {
   "cell_type": "code",
   "execution_count": null,
   "metadata": {},
   "outputs": [],
   "source": [
    "train = train.drop(columns = ['dept', 'call_reason', \n",
    "        'source_id', 'council_district'])"
   ]
  },
  {
   "cell_type": "code",
   "execution_count": null,
   "metadata": {},
   "outputs": [],
   "source": []
  },
  {
   "cell_type": "code",
   "execution_count": null,
   "metadata": {},
   "outputs": [],
   "source": []
  },
  {
   "cell_type": "code",
   "execution_count": null,
   "metadata": {},
   "outputs": [],
   "source": []
  },
  {
   "cell_type": "code",
   "execution_count": null,
   "metadata": {},
   "outputs": [],
   "source": []
  },
  {
   "cell_type": "code",
   "execution_count": null,
   "metadata": {},
   "outputs": [],
   "source": []
  },
  {
   "cell_type": "code",
   "execution_count": null,
   "metadata": {},
   "outputs": [],
   "source": []
  },
  {
   "cell_type": "code",
   "execution_count": null,
   "metadata": {},
   "outputs": [],
   "source": []
  },
  {
   "cell_type": "code",
   "execution_count": null,
   "metadata": {},
   "outputs": [],
   "source": []
  },
  {
   "cell_type": "code",
   "execution_count": null,
   "metadata": {},
   "outputs": [],
   "source": []
  },
  {
   "cell_type": "code",
   "execution_count": null,
   "metadata": {},
   "outputs": [],
   "source": []
  },
  {
   "cell_type": "code",
   "execution_count": null,
   "metadata": {},
   "outputs": [],
   "source": []
  },
  {
   "cell_type": "code",
   "execution_count": null,
   "metadata": {},
   "outputs": [],
   "source": []
  },
  {
   "cell_type": "code",
   "execution_count": null,
   "metadata": {},
   "outputs": [],
   "source": [
    "train = train.drop(columns = 'level_of_delay')"
   ]
  },
  {
   "cell_type": "code",
   "execution_count": null,
   "metadata": {},
   "outputs": [],
   "source": [
    "df.head()"
   ]
  },
  {
   "cell_type": "code",
   "execution_count": null,
   "metadata": {},
   "outputs": [],
   "source": [
    "df.late.value_counts()"
   ]
  },
  {
   "cell_type": "markdown",
   "metadata": {},
   "source": [
    "### Level of Delay by District"
   ]
  },
  {
   "cell_type": "markdown",
   "metadata": {},
   "source": [
    "https://public.tableau.com/app/profile/lori.segovia/viz/LevelofDelaybyDistrict/District1"
   ]
  },
  {
   "cell_type": "code",
   "execution_count": null,
   "metadata": {},
   "outputs": [],
   "source": [
    "# 1 and 5 downtown/central\n",
    "central = df[(df.district_1 == 1) | (df.district_5 == 1)]\n",
    "# 8 and 9\n",
    "north = df[(df.district_8 == 1) | (df.district_9 == 1)]\n",
    "# 4 and 3\n",
    "south = df[(df.district_4 == 1) | (df.district_3 == 1)]\n",
    "# 10 and 2\n",
    "east = df[(df.district_10 == 1) | (df.district_2 == 1)]\n",
    "#6 and 7\n",
    "west = df[(df.district_6 == 1) | (df.district_7 == 1)]"
   ]
  },
  {
   "cell_type": "code",
   "execution_count": 7,
   "metadata": {},
   "outputs": [],
   "source": [
    "#make column for regions to explore in tableau\n",
    "\n",
    "def get_regions(council_district):\n",
    "    if council_district == 1:\n",
    "        return 'Central'\n",
    "    elif council_district == 2:\n",
    "        return 'East'\n",
    "    elif council_district == 3:\n",
    "        return 'South'\n",
    "    elif council_district == 4:\n",
    "        return 'South'\n",
    "    elif council_district == 5:\n",
    "        return 'Central'\n",
    "    elif council_district == 6:\n",
    "        return 'West'\n",
    "    elif council_district == 7:\n",
    "        return 'West'\n",
    "    elif council_district == 8:\n",
    "        return 'North'\n",
    "    elif council_district == 9:\n",
    "        return 'North'\n",
    "    else:\n",
    "        return 'East'"
   ]
  },
  {
   "cell_type": "code",
   "execution_count": 8,
   "metadata": {},
   "outputs": [],
   "source": [
    "#get actual amount of late cases\n",
    "df['regions'] = df['council_district'].apply(get_regions)"
   ]
  },
  {
   "cell_type": "code",
   "execution_count": 9,
   "metadata": {},
   "outputs": [
    {
     "data": {
      "text/html": [
       "<div>\n",
       "<style scoped>\n",
       "    .dataframe tbody tr th:only-of-type {\n",
       "        vertical-align: middle;\n",
       "    }\n",
       "\n",
       "    .dataframe tbody tr th {\n",
       "        vertical-align: top;\n",
       "    }\n",
       "\n",
       "    .dataframe thead th {\n",
       "        text-align: right;\n",
       "    }\n",
       "</style>\n",
       "<table border=\"1\" class=\"dataframe\">\n",
       "  <thead>\n",
       "    <tr style=\"text-align: right;\">\n",
       "      <th></th>\n",
       "      <th>open_date</th>\n",
       "      <th>due_date</th>\n",
       "      <th>closed_date</th>\n",
       "      <th>is_late</th>\n",
       "      <th>dept</th>\n",
       "      <th>call_reason</th>\n",
       "      <th>case_type</th>\n",
       "      <th>case_status</th>\n",
       "      <th>source_id</th>\n",
       "      <th>address</th>\n",
       "      <th>council_district</th>\n",
       "      <th>longitude</th>\n",
       "      <th>latitude</th>\n",
       "      <th>days_open</th>\n",
       "      <th>resolution_days_due</th>\n",
       "      <th>days_before_or_after_due</th>\n",
       "      <th>pct_time_of_used</th>\n",
       "      <th>level_of_delay</th>\n",
       "      <th>district_1</th>\n",
       "      <th>district_2</th>\n",
       "      <th>district_3</th>\n",
       "      <th>district_4</th>\n",
       "      <th>district_5</th>\n",
       "      <th>district_6</th>\n",
       "      <th>district_7</th>\n",
       "      <th>district_8</th>\n",
       "      <th>district_9</th>\n",
       "      <th>district_10</th>\n",
       "      <th>voter_turnout_2019</th>\n",
       "      <th>num_of_registered_voters</th>\n",
       "      <th>zipcode</th>\n",
       "      <th>open_month</th>\n",
       "      <th>open_year</th>\n",
       "      <th>open_week</th>\n",
       "      <th>per_capita_income</th>\n",
       "      <th>square_miles</th>\n",
       "      <th>late</th>\n",
       "      <th>regions</th>\n",
       "    </tr>\n",
       "  </thead>\n",
       "  <tbody>\n",
       "    <tr>\n",
       "      <th>551</th>\n",
       "      <td>2017-01-27</td>\n",
       "      <td>2017-02-03</td>\n",
       "      <td>2020-11-19</td>\n",
       "      <td>YES</td>\n",
       "      <td>Customer Service</td>\n",
       "      <td>customer_service</td>\n",
       "      <td>Complaint</td>\n",
       "      <td>Closed</td>\n",
       "      <td>Constituent Call</td>\n",
       "      <td>2407  WYOMING ST, San Antonio, 78203</td>\n",
       "      <td>2</td>\n",
       "      <td>2142962.0</td>\n",
       "      <td>13699885.0</td>\n",
       "      <td>1393.0</td>\n",
       "      <td>8</td>\n",
       "      <td>-1385.0</td>\n",
       "      <td>174.125</td>\n",
       "      <td>Very Late Response</td>\n",
       "      <td>0</td>\n",
       "      <td>1</td>\n",
       "      <td>0</td>\n",
       "      <td>0</td>\n",
       "      <td>0</td>\n",
       "      <td>0</td>\n",
       "      <td>0</td>\n",
       "      <td>0</td>\n",
       "      <td>0</td>\n",
       "      <td>0</td>\n",
       "      <td>0.086</td>\n",
       "      <td>67656</td>\n",
       "      <td>78203</td>\n",
       "      <td>1</td>\n",
       "      <td>2017</td>\n",
       "      <td>4</td>\n",
       "      <td>19055</td>\n",
       "      <td>59.81</td>\n",
       "      <td>late</td>\n",
       "      <td>East</td>\n",
       "    </tr>\n",
       "    <tr>\n",
       "      <th>552</th>\n",
       "      <td>2017-01-27</td>\n",
       "      <td>2017-02-03</td>\n",
       "      <td>2020-11-19</td>\n",
       "      <td>YES</td>\n",
       "      <td>Customer Service</td>\n",
       "      <td>customer_service</td>\n",
       "      <td>Complaint</td>\n",
       "      <td>Closed</td>\n",
       "      <td>Constituent Call</td>\n",
       "      <td>5102  OLD PEARSALL, San Antonio, 78242</td>\n",
       "      <td>4</td>\n",
       "      <td>2097121.0</td>\n",
       "      <td>13678237.0</td>\n",
       "      <td>1393.0</td>\n",
       "      <td>8</td>\n",
       "      <td>-1385.0</td>\n",
       "      <td>174.125</td>\n",
       "      <td>Very Late Response</td>\n",
       "      <td>0</td>\n",
       "      <td>0</td>\n",
       "      <td>0</td>\n",
       "      <td>1</td>\n",
       "      <td>0</td>\n",
       "      <td>0</td>\n",
       "      <td>0</td>\n",
       "      <td>0</td>\n",
       "      <td>0</td>\n",
       "      <td>0</td>\n",
       "      <td>0.078</td>\n",
       "      <td>66370</td>\n",
       "      <td>78242</td>\n",
       "      <td>1</td>\n",
       "      <td>2017</td>\n",
       "      <td>4</td>\n",
       "      <td>18500</td>\n",
       "      <td>65.21</td>\n",
       "      <td>late</td>\n",
       "      <td>South</td>\n",
       "    </tr>\n",
       "    <tr>\n",
       "      <th>553</th>\n",
       "      <td>2017-02-03</td>\n",
       "      <td>2017-02-10</td>\n",
       "      <td>2020-11-19</td>\n",
       "      <td>YES</td>\n",
       "      <td>Customer Service</td>\n",
       "      <td>customer_service</td>\n",
       "      <td>Complaint</td>\n",
       "      <td>Closed</td>\n",
       "      <td>Constituent Call</td>\n",
       "      <td>2223  HOUSTON ST E, San Antonio, 78202</td>\n",
       "      <td>2</td>\n",
       "      <td>2140359.0</td>\n",
       "      <td>13702579.0</td>\n",
       "      <td>1386.0</td>\n",
       "      <td>8</td>\n",
       "      <td>-1378.0</td>\n",
       "      <td>173.250</td>\n",
       "      <td>Very Late Response</td>\n",
       "      <td>0</td>\n",
       "      <td>1</td>\n",
       "      <td>0</td>\n",
       "      <td>0</td>\n",
       "      <td>0</td>\n",
       "      <td>0</td>\n",
       "      <td>0</td>\n",
       "      <td>0</td>\n",
       "      <td>0</td>\n",
       "      <td>0</td>\n",
       "      <td>0.086</td>\n",
       "      <td>67656</td>\n",
       "      <td>78202</td>\n",
       "      <td>2</td>\n",
       "      <td>2017</td>\n",
       "      <td>5</td>\n",
       "      <td>19055</td>\n",
       "      <td>59.81</td>\n",
       "      <td>late</td>\n",
       "      <td>East</td>\n",
       "    </tr>\n",
       "    <tr>\n",
       "      <th>554</th>\n",
       "      <td>2017-02-03</td>\n",
       "      <td>2017-02-10</td>\n",
       "      <td>2020-11-19</td>\n",
       "      <td>YES</td>\n",
       "      <td>Customer Service</td>\n",
       "      <td>customer_service</td>\n",
       "      <td>Complaint</td>\n",
       "      <td>Closed</td>\n",
       "      <td>Constituent Call</td>\n",
       "      <td>2531  PEREZ, San Antonio, 78207</td>\n",
       "      <td>1</td>\n",
       "      <td>2117463.0</td>\n",
       "      <td>13706003.0</td>\n",
       "      <td>1386.0</td>\n",
       "      <td>8</td>\n",
       "      <td>-1378.0</td>\n",
       "      <td>173.250</td>\n",
       "      <td>Very Late Response</td>\n",
       "      <td>1</td>\n",
       "      <td>0</td>\n",
       "      <td>0</td>\n",
       "      <td>0</td>\n",
       "      <td>0</td>\n",
       "      <td>0</td>\n",
       "      <td>0</td>\n",
       "      <td>0</td>\n",
       "      <td>0</td>\n",
       "      <td>0</td>\n",
       "      <td>0.148</td>\n",
       "      <td>68081</td>\n",
       "      <td>78207</td>\n",
       "      <td>2</td>\n",
       "      <td>2017</td>\n",
       "      <td>5</td>\n",
       "      <td>23967</td>\n",
       "      <td>26.00</td>\n",
       "      <td>late</td>\n",
       "      <td>Central</td>\n",
       "    </tr>\n",
       "    <tr>\n",
       "      <th>555</th>\n",
       "      <td>2017-02-28</td>\n",
       "      <td>2017-03-07</td>\n",
       "      <td>2020-11-19</td>\n",
       "      <td>YES</td>\n",
       "      <td>Customer Service</td>\n",
       "      <td>customer_service</td>\n",
       "      <td>Complaint</td>\n",
       "      <td>Closed</td>\n",
       "      <td>Constituent Call</td>\n",
       "      <td>8002  GRISSOM RD, San Antonio, 78251</td>\n",
       "      <td>6</td>\n",
       "      <td>2081307.0</td>\n",
       "      <td>13721187.0</td>\n",
       "      <td>1361.0</td>\n",
       "      <td>8</td>\n",
       "      <td>-1353.0</td>\n",
       "      <td>170.125</td>\n",
       "      <td>Very Late Response</td>\n",
       "      <td>0</td>\n",
       "      <td>0</td>\n",
       "      <td>0</td>\n",
       "      <td>0</td>\n",
       "      <td>0</td>\n",
       "      <td>1</td>\n",
       "      <td>0</td>\n",
       "      <td>0</td>\n",
       "      <td>0</td>\n",
       "      <td>0</td>\n",
       "      <td>0.124</td>\n",
       "      <td>80007</td>\n",
       "      <td>78251</td>\n",
       "      <td>2</td>\n",
       "      <td>2017</td>\n",
       "      <td>9</td>\n",
       "      <td>23437</td>\n",
       "      <td>38.44</td>\n",
       "      <td>late</td>\n",
       "      <td>West</td>\n",
       "    </tr>\n",
       "  </tbody>\n",
       "</table>\n",
       "</div>"
      ],
      "text/plain": [
       "     open_date   due_date closed_date is_late              dept  \\\n",
       "551 2017-01-27 2017-02-03  2020-11-19     YES  Customer Service   \n",
       "552 2017-01-27 2017-02-03  2020-11-19     YES  Customer Service   \n",
       "553 2017-02-03 2017-02-10  2020-11-19     YES  Customer Service   \n",
       "554 2017-02-03 2017-02-10  2020-11-19     YES  Customer Service   \n",
       "555 2017-02-28 2017-03-07  2020-11-19     YES  Customer Service   \n",
       "\n",
       "          call_reason  case_type case_status         source_id  \\\n",
       "551  customer_service  Complaint      Closed  Constituent Call   \n",
       "552  customer_service  Complaint      Closed  Constituent Call   \n",
       "553  customer_service  Complaint      Closed  Constituent Call   \n",
       "554  customer_service  Complaint      Closed  Constituent Call   \n",
       "555  customer_service  Complaint      Closed  Constituent Call   \n",
       "\n",
       "                                    address  council_district  longitude  \\\n",
       "551    2407  WYOMING ST, San Antonio, 78203                 2  2142962.0   \n",
       "552  5102  OLD PEARSALL, San Antonio, 78242                 4  2097121.0   \n",
       "553  2223  HOUSTON ST E, San Antonio, 78202                 2  2140359.0   \n",
       "554         2531  PEREZ, San Antonio, 78207                 1  2117463.0   \n",
       "555    8002  GRISSOM RD, San Antonio, 78251                 6  2081307.0   \n",
       "\n",
       "       latitude  days_open  resolution_days_due  days_before_or_after_due  \\\n",
       "551  13699885.0     1393.0                    8                   -1385.0   \n",
       "552  13678237.0     1393.0                    8                   -1385.0   \n",
       "553  13702579.0     1386.0                    8                   -1378.0   \n",
       "554  13706003.0     1386.0                    8                   -1378.0   \n",
       "555  13721187.0     1361.0                    8                   -1353.0   \n",
       "\n",
       "     pct_time_of_used      level_of_delay  district_1  district_2  district_3  \\\n",
       "551           174.125  Very Late Response           0           1           0   \n",
       "552           174.125  Very Late Response           0           0           0   \n",
       "553           173.250  Very Late Response           0           1           0   \n",
       "554           173.250  Very Late Response           1           0           0   \n",
       "555           170.125  Very Late Response           0           0           0   \n",
       "\n",
       "     district_4  district_5  district_6  district_7  district_8  district_9  \\\n",
       "551           0           0           0           0           0           0   \n",
       "552           1           0           0           0           0           0   \n",
       "553           0           0           0           0           0           0   \n",
       "554           0           0           0           0           0           0   \n",
       "555           0           0           1           0           0           0   \n",
       "\n",
       "     district_10  voter_turnout_2019  num_of_registered_voters zipcode  \\\n",
       "551            0               0.086                     67656   78203   \n",
       "552            0               0.078                     66370   78242   \n",
       "553            0               0.086                     67656   78202   \n",
       "554            0               0.148                     68081   78207   \n",
       "555            0               0.124                     80007   78251   \n",
       "\n",
       "     open_month  open_year  open_week  per_capita_income  square_miles  late  \\\n",
       "551           1       2017          4              19055         59.81  late   \n",
       "552           1       2017          4              18500         65.21  late   \n",
       "553           2       2017          5              19055         59.81  late   \n",
       "554           2       2017          5              23967         26.00  late   \n",
       "555           2       2017          9              23437         38.44  late   \n",
       "\n",
       "     regions  \n",
       "551     East  \n",
       "552    South  \n",
       "553     East  \n",
       "554  Central  \n",
       "555     West  "
      ]
     },
     "execution_count": 9,
     "metadata": {},
     "output_type": "execute_result"
    }
   ],
   "source": [
    "df.head()"
   ]
  },
  {
   "cell_type": "code",
   "execution_count": 10,
   "metadata": {},
   "outputs": [],
   "source": [
    "#df.to_csv('newest_311.csv')"
   ]
  },
  {
   "cell_type": "code",
   "execution_count": 11,
   "metadata": {},
   "outputs": [
    {
     "name": "stdout",
     "output_type": "stream",
     "text": [
      "<class 'pandas.core.frame.DataFrame'>\n",
      "Int64Index: 356804 entries, 551 to 399979\n",
      "Data columns (total 38 columns):\n",
      " #   Column                    Non-Null Count   Dtype         \n",
      "---  ------                    --------------   -----         \n",
      " 0   open_date                 356804 non-null  datetime64[ns]\n",
      " 1   due_date                  356804 non-null  datetime64[ns]\n",
      " 2   closed_date               356804 non-null  datetime64[ns]\n",
      " 3   is_late                   356804 non-null  object        \n",
      " 4   dept                      356804 non-null  object        \n",
      " 5   call_reason               356804 non-null  object        \n",
      " 6   case_type                 356804 non-null  object        \n",
      " 7   case_status               356804 non-null  object        \n",
      " 8   source_id                 356804 non-null  object        \n",
      " 9   address                   356804 non-null  object        \n",
      " 10  council_district          356804 non-null  int64         \n",
      " 11  longitude                 356804 non-null  float64       \n",
      " 12  latitude                  356804 non-null  float64       \n",
      " 13  days_open                 356804 non-null  float64       \n",
      " 14  resolution_days_due       356804 non-null  int64         \n",
      " 15  days_before_or_after_due  356804 non-null  float64       \n",
      " 16  pct_time_of_used          356804 non-null  float64       \n",
      " 17  level_of_delay            356804 non-null  category      \n",
      " 18  district_1                356804 non-null  uint8         \n",
      " 19  district_2                356804 non-null  uint8         \n",
      " 20  district_3                356804 non-null  uint8         \n",
      " 21  district_4                356804 non-null  uint8         \n",
      " 22  district_5                356804 non-null  uint8         \n",
      " 23  district_6                356804 non-null  uint8         \n",
      " 24  district_7                356804 non-null  uint8         \n",
      " 25  district_8                356804 non-null  uint8         \n",
      " 26  district_9                356804 non-null  uint8         \n",
      " 27  district_10               356804 non-null  uint8         \n",
      " 28  voter_turnout_2019        356804 non-null  float64       \n",
      " 29  num_of_registered_voters  356804 non-null  int64         \n",
      " 30  zipcode                   356804 non-null  object        \n",
      " 31  open_month                356804 non-null  int64         \n",
      " 32  open_year                 356804 non-null  int64         \n",
      " 33  open_week                 356804 non-null  int64         \n",
      " 34  per_capita_income         356804 non-null  int64         \n",
      " 35  square_miles              356804 non-null  float64       \n",
      " 36  late                      356804 non-null  object        \n",
      " 37  regions                   356804 non-null  object        \n",
      "dtypes: category(1), datetime64[ns](3), float64(7), int64(7), object(10), uint8(10)\n",
      "memory usage: 80.0+ MB\n"
     ]
    }
   ],
   "source": [
    "df.info()"
   ]
  },
  {
   "cell_type": "code",
   "execution_count": 12,
   "metadata": {},
   "outputs": [
    {
     "data": {
      "text/plain": [
       "13836    50177\n",
       "19055    47176\n",
       "23967    46112\n",
       "18281    45902\n",
       "18500    34767\n",
       "25263    33596\n",
       "23437    30518\n",
       "30240    29531\n",
       "42559    19527\n",
       "35475    19498\n",
       "Name: per_capita_income, dtype: int64"
      ]
     },
     "execution_count": 12,
     "metadata": {},
     "output_type": "execute_result"
    }
   ],
   "source": [
    "df.per_capita_income.value_counts()"
   ]
  },
  {
   "cell_type": "code",
   "execution_count": null,
   "metadata": {},
   "outputs": [],
   "source": []
  },
  {
   "cell_type": "code",
   "execution_count": null,
   "metadata": {},
   "outputs": [],
   "source": []
  },
  {
   "cell_type": "code",
   "execution_count": null,
   "metadata": {},
   "outputs": [],
   "source": []
  },
  {
   "cell_type": "code",
   "execution_count": null,
   "metadata": {},
   "outputs": [],
   "source": [
    "#north = df[(df.council_district == 8) | (df.council_district == 9)]"
   ]
  },
  {
   "cell_type": "code",
   "execution_count": null,
   "metadata": {},
   "outputs": [],
   "source": [
    "#north.head()"
   ]
  },
  {
   "cell_type": "code",
   "execution_count": null,
   "metadata": {},
   "outputs": [],
   "source": [
    "north.council_district.value_counts()"
   ]
  },
  {
   "cell_type": "code",
   "execution_count": null,
   "metadata": {},
   "outputs": [],
   "source": [
    "avg_days_north = north.days_before_or_after_due.mean()"
   ]
  },
  {
   "cell_type": "code",
   "execution_count": null,
   "metadata": {},
   "outputs": [],
   "source": [
    "avg_days_south = south.days_before_or_after_due.mean()"
   ]
  },
  {
   "cell_type": "code",
   "execution_count": null,
   "metadata": {},
   "outputs": [],
   "source": [
    "avg_days_east = east.days_before_or_after_due.mean()"
   ]
  },
  {
   "cell_type": "code",
   "execution_count": null,
   "metadata": {},
   "outputs": [],
   "source": [
    "avg_days_west = west.days_before_or_after_due.mean()"
   ]
  },
  {
   "cell_type": "code",
   "execution_count": null,
   "metadata": {},
   "outputs": [],
   "source": [
    "avg_days_central = central.days_before_or_after_due.mean()"
   ]
  },
  {
   "cell_type": "code",
   "execution_count": null,
   "metadata": {},
   "outputs": [],
   "source": [
    "import scipy.stats as stats"
   ]
  },
  {
   "cell_type": "code",
   "execution_count": null,
   "metadata": {},
   "outputs": [],
   "source": [
    "null = 'there is no difference in the means'\n",
    "alt = 'there is a difference in the means'"
   ]
  },
  {
   "cell_type": "code",
   "execution_count": null,
   "metadata": {},
   "outputs": [],
   "source": [
    "print(avg_days_north, 'north')\n",
    "print(avg_days_south, 'south')\n",
    "print(avg_days_east, 'east')\n",
    "print(avg_days_west, 'west')\n",
    "print(avg_days_central, 'central')"
   ]
  },
  {
   "cell_type": "markdown",
   "metadata": {},
   "source": [
    "#### north statistical tests"
   ]
  },
  {
   "cell_type": "code",
   "execution_count": null,
   "metadata": {},
   "outputs": [],
   "source": [
    "# north and south\n",
    "t, p = stats.ttest_ind(north.days_before_or_after_due, south.days_before_or_after_due)\n",
    "t, p"
   ]
  },
  {
   "cell_type": "code",
   "execution_count": null,
   "metadata": {},
   "outputs": [],
   "source": [
    "# north and east\n",
    "t, p = stats.ttest_ind(north.days_before_or_after_due, east.days_before_or_after_due)\n",
    "t, p"
   ]
  },
  {
   "cell_type": "code",
   "execution_count": null,
   "metadata": {},
   "outputs": [],
   "source": [
    "# north and west\n",
    "t, p = stats.ttest_ind(north.days_before_or_after_due, west.days_before_or_after_due)\n",
    "t, p"
   ]
  },
  {
   "cell_type": "code",
   "execution_count": null,
   "metadata": {},
   "outputs": [],
   "source": [
    "# north and central\n",
    "t, p = stats.ttest_ind(north.days_before_or_after_due, central.days_before_or_after_due)\n",
    "t, p"
   ]
  },
  {
   "cell_type": "markdown",
   "metadata": {},
   "source": [
    "#### south statistical tests"
   ]
  },
  {
   "cell_type": "code",
   "execution_count": null,
   "metadata": {},
   "outputs": [],
   "source": [
    "# south and east\n",
    "t, p = stats.ttest_ind(east.days_before_or_after_due, south.days_before_or_after_due)\n",
    "t, p"
   ]
  },
  {
   "cell_type": "code",
   "execution_count": null,
   "metadata": {},
   "outputs": [],
   "source": [
    "# south and west\n",
    "t, p = stats.ttest_ind(west.days_before_or_after_due, south.days_before_or_after_due)\n",
    "t, p"
   ]
  },
  {
   "cell_type": "code",
   "execution_count": null,
   "metadata": {},
   "outputs": [],
   "source": [
    "# south and central\n",
    "t, p = stats.ttest_ind(central.days_before_or_after_due, south.days_before_or_after_due)\n",
    "t, p"
   ]
  },
  {
   "cell_type": "markdown",
   "metadata": {},
   "source": [
    "#### east statistical tests"
   ]
  },
  {
   "cell_type": "code",
   "execution_count": null,
   "metadata": {},
   "outputs": [],
   "source": [
    "# east and west\n",
    "t, p = stats.ttest_ind(east.days_before_or_after_due, west.days_before_or_after_due)\n",
    "t, p"
   ]
  },
  {
   "cell_type": "code",
   "execution_count": null,
   "metadata": {},
   "outputs": [],
   "source": [
    "# east and central\n",
    "t, p = stats.ttest_ind(east.days_before_or_after_due, central.days_before_or_after_due)\n",
    "t, p"
   ]
  },
  {
   "cell_type": "markdown",
   "metadata": {},
   "source": [
    "#### west statistical tests"
   ]
  },
  {
   "cell_type": "code",
   "execution_count": null,
   "metadata": {},
   "outputs": [],
   "source": [
    "# west and central\n",
    "t, p = stats.ttest_ind(central.days_before_or_after_due, west.days_before_or_after_due)\n",
    "t, p"
   ]
  },
  {
   "cell_type": "code",
   "execution_count": null,
   "metadata": {},
   "outputs": [],
   "source": [
    "import seaborn as sns"
   ]
  },
  {
   "cell_type": "code",
   "execution_count": null,
   "metadata": {},
   "outputs": [],
   "source": [
    "sns.distplot(df.days_before_or_after_due)"
   ]
  },
  {
   "cell_type": "code",
   "execution_count": null,
   "metadata": {},
   "outputs": [],
   "source": []
  }
 ],
 "metadata": {
  "kernelspec": {
   "display_name": "Python 3",
   "language": "python",
   "name": "python3"
  },
  "language_info": {
   "codemirror_mode": {
    "name": "ipython",
    "version": 3
   },
   "file_extension": ".py",
   "mimetype": "text/x-python",
   "name": "python",
   "nbconvert_exporter": "python",
   "pygments_lexer": "ipython3",
   "version": "3.8.5"
  }
 },
 "nbformat": 4,
 "nbformat_minor": 4
}
