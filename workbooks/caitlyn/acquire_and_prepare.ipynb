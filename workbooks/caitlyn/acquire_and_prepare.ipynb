{
 "cells": [
  {
   "cell_type": "code",
   "execution_count": 2,
   "metadata": {},
   "outputs": [],
   "source": [
    "import pandas as pd\n",
    "import numpy as np"
   ]
  },
  {
   "cell_type": "code",
   "execution_count": 3,
   "metadata": {},
   "outputs": [],
   "source": [
    "df = pd.read_csv('allservicecalls.csv')"
   ]
  },
  {
   "cell_type": "code",
   "execution_count": 7,
   "metadata": {},
   "outputs": [
    {
     "name": "stdout",
     "output_type": "stream",
     "text": [
      "<class 'pandas.core.frame.DataFrame'>\n",
      "RangeIndex: 495440 entries, 0 to 495439\n",
      "Data columns (total 17 columns):\n",
      " #   Column                Non-Null Count   Dtype  \n",
      "---  ------                --------------   -----  \n",
      " 0   Category              495440 non-null  object \n",
      " 1   CASEID                495440 non-null  int64  \n",
      " 2   OPENEDDATETIME        495440 non-null  object \n",
      " 3   SLA_Date              481300 non-null  object \n",
      " 4   CLOSEDDATETIME        441387 non-null  object \n",
      " 5   Late (Yes/No)         495440 non-null  object \n",
      " 6   Dept                  445141 non-null  object \n",
      " 7   REASONNAME            495440 non-null  object \n",
      " 8   TYPENAME              495440 non-null  object \n",
      " 9   CaseStatus            495440 non-null  object \n",
      " 10  SourceID              495440 non-null  object \n",
      " 11  OBJECTDESC            495440 non-null  object \n",
      " 12  Council District      495440 non-null  int64  \n",
      " 13  XCOORD                495345 non-null  float64\n",
      " 14  YCOORD                495345 non-null  float64\n",
      " 15  Report Starting Date  495440 non-null  object \n",
      " 16  Report Ending Date    495440 non-null  object \n",
      "dtypes: float64(2), int64(2), object(13)\n",
      "memory usage: 64.3+ MB\n"
     ]
    }
   ],
   "source": [
    "df.info()"
   ]
  },
  {
   "cell_type": "code",
   "execution_count": null,
   "metadata": {},
   "outputs": [],
   "source": []
  }
 ],
 "metadata": {
  "kernelspec": {
   "display_name": "Python 3",
   "language": "python",
   "name": "python3"
  },
  "language_info": {
   "codemirror_mode": {
    "name": "ipython",
    "version": 3
   },
   "file_extension": ".py",
   "mimetype": "text/x-python",
   "name": "python",
   "nbconvert_exporter": "python",
   "pygments_lexer": "ipython3",
   "version": "3.8.5"
  }
 },
 "nbformat": 4,
 "nbformat_minor": 4
}
