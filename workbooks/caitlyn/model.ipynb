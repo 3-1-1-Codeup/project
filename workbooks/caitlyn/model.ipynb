{
 "cells": [
  {
   "cell_type": "markdown",
   "metadata": {},
   "source": [
    "## What ot keep\n",
    "- Dept\n",
    "- Call_reason\n",
    "- Source_id\n",
    "- Council_district\n",
    "- resolution_days_due\n",
    "\n",
    "## What to drop ( will be dropping inprep durig second iteration)\n",
    "- case_status\n",
    "- case_id\n",
    "- address\n",
    "- zipcode\n",
    "- days_open\n",
    "- closed day\n",
    "- is_late\n",
    "- days_before_or_after_due\n",
    "- due_date\n",
    "- open_date\n",
    "- latitude\n",
    "- longitude"
   ]
  },
  {
   "cell_type": "code",
   "execution_count": 1,
   "metadata": {},
   "outputs": [],
   "source": [
    "#imports to be able to pull data and prepare it for us\n",
    "import wrangle\n",
    "\n",
    "#imports for needed libraries\n",
    "import pandas as pd\n",
    "import numpy as np\n",
    "import matplotlib.pyplot as plt\n",
    "import seaborn as sns\n",
    "\n",
    "from sklearn.model_selection import train_test_split\n",
    "from sklearn.metrics import classification_report\n",
    "from sklearn.metrics import confusion_matrix\n",
    "from sklearn.linear_model import SGDClassifier\n",
    "from sklearn import preprocessing"
   ]
  },
  {
   "cell_type": "markdown",
   "metadata": {},
   "source": [
    "# Acquire"
   ]
  },
  {
   "cell_type": "code",
   "execution_count": 2,
   "metadata": {},
   "outputs": [],
   "source": [
    "df = pd.read_csv('allservicecalls.csv')"
   ]
  },
  {
   "cell_type": "markdown",
   "metadata": {},
   "source": [
    "# Prepare"
   ]
  },
  {
   "cell_type": "code",
   "execution_count": 3,
   "metadata": {},
   "outputs": [],
   "source": [
    "df = wrangle.clean_311(df)"
   ]
  },
  {
   "cell_type": "code",
   "execution_count": 4,
   "metadata": {},
   "outputs": [
    {
     "name": "stdout",
     "output_type": "stream",
     "text": [
      "<class 'pandas.core.frame.DataFrame'>\n",
      "Int64Index: 428870 entries, 2497 to 495432\n",
      "Data columns (total 30 columns):\n",
      " #   Column                    Non-Null Count   Dtype         \n",
      "---  ------                    --------------   -----         \n",
      " 0   case_id                   428870 non-null  int64         \n",
      " 1   open_date                 428870 non-null  datetime64[ns]\n",
      " 2   due_date                  428870 non-null  datetime64[ns]\n",
      " 3   closed_date               428870 non-null  datetime64[ns]\n",
      " 4   is_late                   428870 non-null  object        \n",
      " 5   dept                      428870 non-null  object        \n",
      " 6   call_reason               428870 non-null  object        \n",
      " 7   case_type                 428870 non-null  object        \n",
      " 8   case_status               428870 non-null  object        \n",
      " 9   source_id                 428870 non-null  object        \n",
      " 10  address                   428870 non-null  object        \n",
      " 11  council_district          428870 non-null  int64         \n",
      " 12  longitude                 428870 non-null  float64       \n",
      " 13  latitude                  428870 non-null  float64       \n",
      " 14  days_open                 428870 non-null  float64       \n",
      " 15  resolution_days_due       428870 non-null  int64         \n",
      " 16  days_before_or_after_due  428870 non-null  float64       \n",
      " 17  level_of_delay            428870 non-null  category      \n",
      " 18  district_0                428870 non-null  uint8         \n",
      " 19  district_1                428870 non-null  uint8         \n",
      " 20  district_2                428870 non-null  uint8         \n",
      " 21  district_3                428870 non-null  uint8         \n",
      " 22  district_4                428870 non-null  uint8         \n",
      " 23  district_5                428870 non-null  uint8         \n",
      " 24  district_6                428870 non-null  uint8         \n",
      " 25  district_7                428870 non-null  uint8         \n",
      " 26  district_8                428870 non-null  uint8         \n",
      " 27  district_9                428870 non-null  uint8         \n",
      " 28  district_10               428870 non-null  uint8         \n",
      " 29  zipcode                   356715 non-null  object        \n",
      "dtypes: category(1), datetime64[ns](3), float64(4), int64(3), object(8), uint8(11)\n",
      "memory usage: 67.1+ MB\n"
     ]
    }
   ],
   "source": [
    "df.info()"
   ]
  },
  {
   "cell_type": "code",
   "execution_count": 27,
   "metadata": {},
   "outputs": [],
   "source": [
    "# dummy dept feature\n",
    "dummy_df =  pd.get_dummies(df['dept'])\n",
    "# Name the new columns\n",
    "dummy_df.columns = ['animal_care_services', 'code_enforcement_services', \n",
    "                    'customer_services', 'development_services', \n",
    "                    'metro_health', 'parks_and_rec',\n",
    "                    'solid_waste_management', 'trans_and_cap_improvements', \n",
    "                    'unknown_dept']\n",
    "# add the dummies to the data frame\n",
    "df = pd.concat([df, dummy_df], axis=1)"
   ]
  },
  {
   "cell_type": "code",
   "execution_count": 45,
   "metadata": {},
   "outputs": [],
   "source": [
    "# dummy dept feature\n",
    "dummy_df =  pd.get_dummies(df['call_reason'])\n",
    "# Name the new columns\n",
    "dummy_df.columns = ['buildings', 'business', 'cleanup', 'code',\n",
    "                    'customer_service', 'field', 'land',\n",
    "                    'license', 'misc', 'storm', 'streets', 'trades', \n",
    "                    'traffic', 'waste']\n",
    "# add the dummies to the data frame\n",
    "df = pd.concat([df, dummy_df], axis=1)"
   ]
  },
  {
   "cell_type": "code",
   "execution_count": 49,
   "metadata": {},
   "outputs": [
    {
     "data": {
      "text/plain": [
       "Web Portal                    354640\n",
       "311 Mobile App                 40620\n",
       "Constituent Call               33200\n",
       "Internal Services Requests       410\n",
       "Name: source_id, dtype: int64"
      ]
     },
     "execution_count": 49,
     "metadata": {},
     "output_type": "execute_result"
    }
   ],
   "source": [
    "df.source_id.value_counts()"
   ]
  },
  {
   "cell_type": "code",
   "execution_count": null,
   "metadata": {},
   "outputs": [],
   "source": []
  },
  {
   "cell_type": "code",
   "execution_count": null,
   "metadata": {},
   "outputs": [],
   "source": []
  },
  {
   "cell_type": "code",
   "execution_count": null,
   "metadata": {},
   "outputs": [],
   "source": []
  },
  {
   "cell_type": "code",
   "execution_count": null,
   "metadata": {},
   "outputs": [],
   "source": []
  },
  {
   "cell_type": "code",
   "execution_count": null,
   "metadata": {},
   "outputs": [],
   "source": [
    "train, validate, test, X_train, y_train, X_validate, y_validate, X_test, y_test, train_scaled, validate_scaled, test_scaled = split_separate_scale(df, stratify_by= None)"
   ]
  },
  {
   "cell_type": "code",
   "execution_count": 5,
   "metadata": {},
   "outputs": [
    {
     "ename": "NameError",
     "evalue": "name 'X_train' is not defined",
     "output_type": "error",
     "traceback": [
      "\u001b[0;31m--------------------\u001b[0m",
      "\u001b[0;31mNameError\u001b[0mTraceback (most recent call last)",
      "\u001b[0;32m<ipython-input-5-e188c6584ed7>\u001b[0m in \u001b[0;36m<module>\u001b[0;34m\u001b[0m\n\u001b[0;32m----> 1\u001b[0;31m \u001b[0mX_train\u001b[0m \u001b[0;34m=\u001b[0m \u001b[0mX_train\u001b[0m\u001b[0;34m.\u001b[0m\u001b[0mdrop\u001b[0m\u001b[0;34m(\u001b[0m\u001b[0mcolumns\u001b[0m \u001b[0;34m=\u001b[0m \u001b[0;34m[\u001b[0m\u001b[0;34m'closed_date'\u001b[0m\u001b[0;34m,\u001b[0m \u001b[0;34m'days_before_or_after_due'\u001b[0m\u001b[0;34m,\u001b[0m \u001b[0;34m'days_open'\u001b[0m\u001b[0;34m]\u001b[0m\u001b[0;34m)\u001b[0m\u001b[0;34m\u001b[0m\u001b[0;34m\u001b[0m\u001b[0m\n\u001b[0m",
      "\u001b[0;31mNameError\u001b[0m: name 'X_train' is not defined"
     ]
    }
   ],
   "source": [
    "X_train = X_train.drop(columns = ['closed_date', 'days_before_or_after_due', \n",
    "                                  'days_open', 'is_late'])"
   ]
  },
  {
   "cell_type": "markdown",
   "metadata": {},
   "source": [
    "# Baseline"
   ]
  },
  {
   "cell_type": "code",
   "execution_count": null,
   "metadata": {},
   "outputs": [],
   "source": [
    "y_train.value_counts()"
   ]
  },
  {
   "cell_type": "code",
   "execution_count": null,
   "metadata": {},
   "outputs": [],
   "source": [
    "baseline_accuracy = (train.level_of_delay == 'Early Response').mean()\n",
    "print(f'My baseline accuracy is: \\n', round(baseline_accuracy, 3))"
   ]
  },
  {
   "cell_type": "markdown",
   "metadata": {},
   "source": [
    "# SGD Classifier"
   ]
  },
  {
   "cell_type": "code",
   "execution_count": null,
   "metadata": {},
   "outputs": [],
   "source": [
    "X_train.head()"
   ]
  },
  {
   "cell_type": "code",
   "execution_count": null,
   "metadata": {},
   "outputs": [],
   "source": [
    "clf3 = SGDClassifier(max_iter=1000, tol=1e-3, random_state=123)"
   ]
  },
  {
   "cell_type": "code",
   "execution_count": null,
   "metadata": {},
   "outputs": [],
   "source": [
    "clf3.fit(X_train, y_train)"
   ]
  },
  {
   "cell_type": "code",
   "execution_count": null,
   "metadata": {},
   "outputs": [],
   "source": []
  }
 ],
 "metadata": {
  "kernelspec": {
   "display_name": "Python 3",
   "language": "python",
   "name": "python3"
  },
  "language_info": {
   "codemirror_mode": {
    "name": "ipython",
    "version": 3
   },
   "file_extension": ".py",
   "mimetype": "text/x-python",
   "name": "python",
   "nbconvert_exporter": "python",
   "pygments_lexer": "ipython3",
   "version": "3.8.5"
  }
 },
 "nbformat": 4,
 "nbformat_minor": 4
}
