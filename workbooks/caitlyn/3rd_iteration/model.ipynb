{
 "cells": [
  {
   "cell_type": "markdown",
   "metadata": {},
   "source": [
    "## What ot keep\n",
    "- Dept\n",
    "- Call_reason\n",
    "- Source_id\n",
    "- Council_district\n",
    "- resolution_days_due\n",
    "\n",
    "## What to drop ( will be dropping inprep durig second iteration)\n",
    "- case_status\n",
    "- case_id\n",
    "- address\n",
    "- zipcode\n",
    "- days_open\n",
    "- closed day\n",
    "- is_late\n",
    "- days_before_or_after_due\n",
    "- due_date\n",
    "- open_date\n",
    "- latitude\n",
    "- longitude"
   ]
  },
  {
   "cell_type": "code",
   "execution_count": 1,
   "metadata": {},
   "outputs": [],
   "source": [
    "#imports to be able to pull data and prepare it for us\n",
    "import wrangle\n",
    "import model\n",
    "\n",
    "#imports for needed libraries\n",
    "import pandas as pd\n",
    "import numpy as np\n",
    "import matplotlib.pyplot as plt\n",
    "import seaborn as sns\n",
    "\n",
    "from sklearn.model_selection import train_test_split\n",
    "from sklearn.metrics import classification_report\n",
    "from sklearn.metrics import confusion_matrix\n",
    "from sklearn.linear_model import SGDClassifier\n",
    "from sklearn.preprocessing import MinMaxScaler\n",
    "\n",
    "from sklearn.model_selection import train_test_split\n",
    "from sklearn.metrics import classification_report\n",
    "from sklearn.metrics import confusion_matrix\n",
    "from sklearn.linear_model import SGDClassifier\n",
    "from sklearn import preprocessing"
   ]
  },
  {
   "cell_type": "markdown",
   "metadata": {},
   "source": [
    "# Acquire"
   ]
  },
  {
   "cell_type": "code",
   "execution_count": 2,
   "metadata": {},
   "outputs": [],
   "source": [
    "df = pd.read_csv('service_calls.csv')"
   ]
  },
  {
   "cell_type": "markdown",
   "metadata": {},
   "source": [
    "# Prepare"
   ]
  },
  {
   "cell_type": "code",
   "execution_count": 3,
   "metadata": {},
   "outputs": [],
   "source": [
    "df = wrangle.clean_311(df)"
   ]
  },
  {
   "cell_type": "code",
   "execution_count": 4,
   "metadata": {},
   "outputs": [],
   "source": [
    "df = model.model_df()"
   ]
  },
  {
   "cell_type": "code",
   "execution_count": 5,
   "metadata": {},
   "outputs": [],
   "source": [
    "df = df.drop(columns = ['dept', 'call_reason', \n",
    "        'source_id', 'council_district'])"
   ]
  },
  {
   "cell_type": "code",
   "execution_count": 6,
   "metadata": {},
   "outputs": [],
   "source": [
    "train, validate, test, X_train, y_train, X_validate, y_validate, X_test, y_test, train_scaled, validate_scaled, test_scaled = model.split_separate_scale(df)"
   ]
  },
  {
   "cell_type": "code",
   "execution_count": 7,
   "metadata": {},
   "outputs": [
    {
     "data": {
      "text/html": [
       "<div>\n",
       "<style scoped>\n",
       "    .dataframe tbody tr th:only-of-type {\n",
       "        vertical-align: middle;\n",
       "    }\n",
       "\n",
       "    .dataframe tbody tr th {\n",
       "        vertical-align: top;\n",
       "    }\n",
       "\n",
       "    .dataframe thead th {\n",
       "        text-align: right;\n",
       "    }\n",
       "</style>\n",
       "<table border=\"1\" class=\"dataframe\">\n",
       "  <thead>\n",
       "    <tr style=\"text-align: right;\">\n",
       "      <th></th>\n",
       "      <th>resolution_days_due</th>\n",
       "      <th>level_of_delay</th>\n",
       "      <th>district_1</th>\n",
       "      <th>district_2</th>\n",
       "      <th>district_3</th>\n",
       "      <th>district_4</th>\n",
       "      <th>district_5</th>\n",
       "      <th>district_6</th>\n",
       "      <th>district_7</th>\n",
       "      <th>district_8</th>\n",
       "      <th>...</th>\n",
       "      <th>misc</th>\n",
       "      <th>storm</th>\n",
       "      <th>streets</th>\n",
       "      <th>trades</th>\n",
       "      <th>traffic</th>\n",
       "      <th>waste</th>\n",
       "      <th>web_portal</th>\n",
       "      <th>311_mobile_app</th>\n",
       "      <th>constituent_call</th>\n",
       "      <th>internal_services_requests</th>\n",
       "    </tr>\n",
       "  </thead>\n",
       "  <tbody>\n",
       "    <tr>\n",
       "      <th>196649</th>\n",
       "      <td>4</td>\n",
       "      <td>Early Response</td>\n",
       "      <td>0</td>\n",
       "      <td>0</td>\n",
       "      <td>0</td>\n",
       "      <td>0</td>\n",
       "      <td>1</td>\n",
       "      <td>0</td>\n",
       "      <td>0</td>\n",
       "      <td>0</td>\n",
       "      <td>...</td>\n",
       "      <td>0</td>\n",
       "      <td>0</td>\n",
       "      <td>0</td>\n",
       "      <td>0</td>\n",
       "      <td>0</td>\n",
       "      <td>1</td>\n",
       "      <td>0</td>\n",
       "      <td>0</td>\n",
       "      <td>0</td>\n",
       "      <td>1</td>\n",
       "    </tr>\n",
       "    <tr>\n",
       "      <th>192441</th>\n",
       "      <td>8</td>\n",
       "      <td>Very Early Response</td>\n",
       "      <td>0</td>\n",
       "      <td>0</td>\n",
       "      <td>0</td>\n",
       "      <td>0</td>\n",
       "      <td>0</td>\n",
       "      <td>0</td>\n",
       "      <td>0</td>\n",
       "      <td>0</td>\n",
       "      <td>...</td>\n",
       "      <td>0</td>\n",
       "      <td>0</td>\n",
       "      <td>0</td>\n",
       "      <td>0</td>\n",
       "      <td>0</td>\n",
       "      <td>0</td>\n",
       "      <td>0</td>\n",
       "      <td>0</td>\n",
       "      <td>0</td>\n",
       "      <td>1</td>\n",
       "    </tr>\n",
       "    <tr>\n",
       "      <th>119552</th>\n",
       "      <td>3</td>\n",
       "      <td>Very Early Response</td>\n",
       "      <td>0</td>\n",
       "      <td>0</td>\n",
       "      <td>0</td>\n",
       "      <td>0</td>\n",
       "      <td>0</td>\n",
       "      <td>1</td>\n",
       "      <td>0</td>\n",
       "      <td>0</td>\n",
       "      <td>...</td>\n",
       "      <td>1</td>\n",
       "      <td>0</td>\n",
       "      <td>0</td>\n",
       "      <td>0</td>\n",
       "      <td>0</td>\n",
       "      <td>0</td>\n",
       "      <td>0</td>\n",
       "      <td>0</td>\n",
       "      <td>0</td>\n",
       "      <td>1</td>\n",
       "    </tr>\n",
       "    <tr>\n",
       "      <th>336354</th>\n",
       "      <td>8</td>\n",
       "      <td>Early Response</td>\n",
       "      <td>0</td>\n",
       "      <td>0</td>\n",
       "      <td>0</td>\n",
       "      <td>0</td>\n",
       "      <td>0</td>\n",
       "      <td>0</td>\n",
       "      <td>0</td>\n",
       "      <td>0</td>\n",
       "      <td>...</td>\n",
       "      <td>0</td>\n",
       "      <td>0</td>\n",
       "      <td>0</td>\n",
       "      <td>0</td>\n",
       "      <td>0</td>\n",
       "      <td>1</td>\n",
       "      <td>0</td>\n",
       "      <td>0</td>\n",
       "      <td>0</td>\n",
       "      <td>1</td>\n",
       "    </tr>\n",
       "    <tr>\n",
       "      <th>59110</th>\n",
       "      <td>65</td>\n",
       "      <td>Late Response</td>\n",
       "      <td>0</td>\n",
       "      <td>0</td>\n",
       "      <td>0</td>\n",
       "      <td>0</td>\n",
       "      <td>0</td>\n",
       "      <td>0</td>\n",
       "      <td>0</td>\n",
       "      <td>0</td>\n",
       "      <td>...</td>\n",
       "      <td>0</td>\n",
       "      <td>0</td>\n",
       "      <td>0</td>\n",
       "      <td>0</td>\n",
       "      <td>0</td>\n",
       "      <td>0</td>\n",
       "      <td>0</td>\n",
       "      <td>1</td>\n",
       "      <td>0</td>\n",
       "      <td>0</td>\n",
       "    </tr>\n",
       "  </tbody>\n",
       "</table>\n",
       "<p>5 rows × 40 columns</p>\n",
       "</div>"
      ],
      "text/plain": [
       "        resolution_days_due       level_of_delay  district_1  district_2  \\\n",
       "196649                    4       Early Response           0           0   \n",
       "192441                    8  Very Early Response           0           0   \n",
       "119552                    3  Very Early Response           0           0   \n",
       "336354                    8       Early Response           0           0   \n",
       "59110                    65        Late Response           0           0   \n",
       "\n",
       "        district_3  district_4  district_5  district_6  district_7  \\\n",
       "196649           0           0           1           0           0   \n",
       "192441           0           0           0           0           0   \n",
       "119552           0           0           0           1           0   \n",
       "336354           0           0           0           0           0   \n",
       "59110            0           0           0           0           0   \n",
       "\n",
       "        district_8  ...  misc  storm  streets  trades  traffic  waste  \\\n",
       "196649           0  ...     0      0        0       0        0      1   \n",
       "192441           0  ...     0      0        0       0        0      0   \n",
       "119552           0  ...     1      0        0       0        0      0   \n",
       "336354           0  ...     0      0        0       0        0      1   \n",
       "59110            0  ...     0      0        0       0        0      0   \n",
       "\n",
       "        web_portal  311_mobile_app  constituent_call  \\\n",
       "196649           0               0                 0   \n",
       "192441           0               0                 0   \n",
       "119552           0               0                 0   \n",
       "336354           0               0                 0   \n",
       "59110            0               1                 0   \n",
       "\n",
       "        internal_services_requests  \n",
       "196649                           1  \n",
       "192441                           1  \n",
       "119552                           1  \n",
       "336354                           1  \n",
       "59110                            0  \n",
       "\n",
       "[5 rows x 40 columns]"
      ]
     },
     "execution_count": 7,
     "metadata": {},
     "output_type": "execute_result"
    }
   ],
   "source": [
    "train.head()"
   ]
  },
  {
   "cell_type": "markdown",
   "metadata": {},
   "source": [
    "# Baseline"
   ]
  },
  {
   "cell_type": "code",
   "execution_count": 8,
   "metadata": {},
   "outputs": [
    {
     "data": {
      "text/plain": [
       "Very Early Response    114280\n",
       "Early Response          36971\n",
       "Late Response           33599\n",
       "On Time Response        11753\n",
       "Very Late Response       3207\n",
       "Name: level_of_delay, dtype: int64"
      ]
     },
     "execution_count": 8,
     "metadata": {},
     "output_type": "execute_result"
    }
   ],
   "source": [
    "y_train.value_counts()"
   ]
  },
  {
   "cell_type": "code",
   "execution_count": 9,
   "metadata": {},
   "outputs": [
    {
     "name": "stdout",
     "output_type": "stream",
     "text": [
      "My baseline accuracy is: \n",
      " 57.199999999999996 %\n"
     ]
    }
   ],
   "source": [
    "baseline_accuracy = (train.level_of_delay == 'Very Early Response').mean()\n",
    "print(f'My baseline accuracy is: \\n', round(baseline_accuracy, 3)* 100, f'%') "
   ]
  },
  {
   "cell_type": "markdown",
   "metadata": {},
   "source": [
    "# SGD Classifier"
   ]
  },
  {
   "cell_type": "code",
   "execution_count": 10,
   "metadata": {},
   "outputs": [
    {
     "data": {
      "text/html": [
       "<div>\n",
       "<style scoped>\n",
       "    .dataframe tbody tr th:only-of-type {\n",
       "        vertical-align: middle;\n",
       "    }\n",
       "\n",
       "    .dataframe tbody tr th {\n",
       "        vertical-align: top;\n",
       "    }\n",
       "\n",
       "    .dataframe thead th {\n",
       "        text-align: right;\n",
       "    }\n",
       "</style>\n",
       "<table border=\"1\" class=\"dataframe\">\n",
       "  <thead>\n",
       "    <tr style=\"text-align: right;\">\n",
       "      <th></th>\n",
       "      <th>resolution_days_due</th>\n",
       "      <th>district_1</th>\n",
       "      <th>district_2</th>\n",
       "      <th>district_3</th>\n",
       "      <th>district_4</th>\n",
       "      <th>district_5</th>\n",
       "      <th>district_6</th>\n",
       "      <th>district_7</th>\n",
       "      <th>district_8</th>\n",
       "      <th>district_9</th>\n",
       "      <th>...</th>\n",
       "      <th>misc</th>\n",
       "      <th>storm</th>\n",
       "      <th>streets</th>\n",
       "      <th>trades</th>\n",
       "      <th>traffic</th>\n",
       "      <th>waste</th>\n",
       "      <th>web_portal</th>\n",
       "      <th>311_mobile_app</th>\n",
       "      <th>constituent_call</th>\n",
       "      <th>internal_services_requests</th>\n",
       "    </tr>\n",
       "  </thead>\n",
       "  <tbody>\n",
       "    <tr>\n",
       "      <th>196649</th>\n",
       "      <td>4</td>\n",
       "      <td>0</td>\n",
       "      <td>0</td>\n",
       "      <td>0</td>\n",
       "      <td>0</td>\n",
       "      <td>1</td>\n",
       "      <td>0</td>\n",
       "      <td>0</td>\n",
       "      <td>0</td>\n",
       "      <td>0</td>\n",
       "      <td>...</td>\n",
       "      <td>0</td>\n",
       "      <td>0</td>\n",
       "      <td>0</td>\n",
       "      <td>0</td>\n",
       "      <td>0</td>\n",
       "      <td>1</td>\n",
       "      <td>0</td>\n",
       "      <td>0</td>\n",
       "      <td>0</td>\n",
       "      <td>1</td>\n",
       "    </tr>\n",
       "    <tr>\n",
       "      <th>192441</th>\n",
       "      <td>8</td>\n",
       "      <td>0</td>\n",
       "      <td>0</td>\n",
       "      <td>0</td>\n",
       "      <td>0</td>\n",
       "      <td>0</td>\n",
       "      <td>0</td>\n",
       "      <td>0</td>\n",
       "      <td>0</td>\n",
       "      <td>0</td>\n",
       "      <td>...</td>\n",
       "      <td>0</td>\n",
       "      <td>0</td>\n",
       "      <td>0</td>\n",
       "      <td>0</td>\n",
       "      <td>0</td>\n",
       "      <td>0</td>\n",
       "      <td>0</td>\n",
       "      <td>0</td>\n",
       "      <td>0</td>\n",
       "      <td>1</td>\n",
       "    </tr>\n",
       "    <tr>\n",
       "      <th>119552</th>\n",
       "      <td>3</td>\n",
       "      <td>0</td>\n",
       "      <td>0</td>\n",
       "      <td>0</td>\n",
       "      <td>0</td>\n",
       "      <td>0</td>\n",
       "      <td>1</td>\n",
       "      <td>0</td>\n",
       "      <td>0</td>\n",
       "      <td>0</td>\n",
       "      <td>...</td>\n",
       "      <td>1</td>\n",
       "      <td>0</td>\n",
       "      <td>0</td>\n",
       "      <td>0</td>\n",
       "      <td>0</td>\n",
       "      <td>0</td>\n",
       "      <td>0</td>\n",
       "      <td>0</td>\n",
       "      <td>0</td>\n",
       "      <td>1</td>\n",
       "    </tr>\n",
       "    <tr>\n",
       "      <th>336354</th>\n",
       "      <td>8</td>\n",
       "      <td>0</td>\n",
       "      <td>0</td>\n",
       "      <td>0</td>\n",
       "      <td>0</td>\n",
       "      <td>0</td>\n",
       "      <td>0</td>\n",
       "      <td>0</td>\n",
       "      <td>0</td>\n",
       "      <td>0</td>\n",
       "      <td>...</td>\n",
       "      <td>0</td>\n",
       "      <td>0</td>\n",
       "      <td>0</td>\n",
       "      <td>0</td>\n",
       "      <td>0</td>\n",
       "      <td>1</td>\n",
       "      <td>0</td>\n",
       "      <td>0</td>\n",
       "      <td>0</td>\n",
       "      <td>1</td>\n",
       "    </tr>\n",
       "    <tr>\n",
       "      <th>59110</th>\n",
       "      <td>65</td>\n",
       "      <td>0</td>\n",
       "      <td>0</td>\n",
       "      <td>0</td>\n",
       "      <td>0</td>\n",
       "      <td>0</td>\n",
       "      <td>0</td>\n",
       "      <td>0</td>\n",
       "      <td>0</td>\n",
       "      <td>0</td>\n",
       "      <td>...</td>\n",
       "      <td>0</td>\n",
       "      <td>0</td>\n",
       "      <td>0</td>\n",
       "      <td>0</td>\n",
       "      <td>0</td>\n",
       "      <td>0</td>\n",
       "      <td>0</td>\n",
       "      <td>1</td>\n",
       "      <td>0</td>\n",
       "      <td>0</td>\n",
       "    </tr>\n",
       "  </tbody>\n",
       "</table>\n",
       "<p>5 rows × 39 columns</p>\n",
       "</div>"
      ],
      "text/plain": [
       "        resolution_days_due  district_1  district_2  district_3  district_4  \\\n",
       "196649                    4           0           0           0           0   \n",
       "192441                    8           0           0           0           0   \n",
       "119552                    3           0           0           0           0   \n",
       "336354                    8           0           0           0           0   \n",
       "59110                    65           0           0           0           0   \n",
       "\n",
       "        district_5  district_6  district_7  district_8  district_9  ...  misc  \\\n",
       "196649           1           0           0           0           0  ...     0   \n",
       "192441           0           0           0           0           0  ...     0   \n",
       "119552           0           1           0           0           0  ...     1   \n",
       "336354           0           0           0           0           0  ...     0   \n",
       "59110            0           0           0           0           0  ...     0   \n",
       "\n",
       "        storm  streets  trades  traffic  waste  web_portal  311_mobile_app  \\\n",
       "196649      0        0       0        0      1           0               0   \n",
       "192441      0        0       0        0      0           0               0   \n",
       "119552      0        0       0        0      0           0               0   \n",
       "336354      0        0       0        0      1           0               0   \n",
       "59110       0        0       0        0      0           0               1   \n",
       "\n",
       "        constituent_call  internal_services_requests  \n",
       "196649                 0                           1  \n",
       "192441                 0                           1  \n",
       "119552                 0                           1  \n",
       "336354                 0                           1  \n",
       "59110                  0                           0  \n",
       "\n",
       "[5 rows x 39 columns]"
      ]
     },
     "execution_count": 10,
     "metadata": {},
     "output_type": "execute_result"
    }
   ],
   "source": [
    "X_train.head()"
   ]
  },
  {
   "cell_type": "markdown",
   "metadata": {},
   "source": [
    "### Vanilla SGD Classifier"
   ]
  },
  {
   "cell_type": "code",
   "execution_count": 11,
   "metadata": {},
   "outputs": [
    {
     "name": "stdout",
     "output_type": "stream",
     "text": [
      "Accuracy of SGD classifier on training set: 0.23\n",
      "________________________________________________________________\n",
      "Accuracy of SGD classifier on validate set: 0.23\n"
     ]
    }
   ],
   "source": [
    "clf3 = SGDClassifier(max_iter=1000, tol=1e-3, random_state=123)\n",
    "\n",
    "clf3.fit(X_train, y_train)\n",
    "\n",
    "y_pred = clf3.predict(X_train)\n",
    "\n",
    "print('Accuracy of SGD classifier on training set:', round(clf3.score(X_train, y_train),2))\n",
    "print('________________________________________________________________')\n",
    "print('Accuracy of SGD classifier on validate set:', round(clf3.score(X_validate, y_validate),2))"
   ]
  },
  {
   "cell_type": "markdown",
   "metadata": {},
   "source": [
    "### l1 SGD Classifier"
   ]
  },
  {
   "cell_type": "code",
   "execution_count": 12,
   "metadata": {},
   "outputs": [
    {
     "name": "stdout",
     "output_type": "stream",
     "text": [
      "Accuracy of SGD classifier on training set: 0.56\n",
      "________________________________________________________________\n",
      "Accuracy of SGD classifier on validate set: 0.56\n"
     ]
    }
   ],
   "source": [
    "clf3 = SGDClassifier(max_iter=1000, tol=1e-3, random_state=123, penalty='l1')\n",
    "\n",
    "clf3.fit(X_train, y_train)\n",
    "\n",
    "y_pred = clf3.predict(X_train)\n",
    "\n",
    "print('Accuracy of SGD classifier on training set:', round(clf3.score(X_train, y_train),2))\n",
    "print('________________________________________________________________')\n",
    "print('Accuracy of SGD classifier on validate set:', round(clf3.score(X_validate, y_validate),2))"
   ]
  },
  {
   "cell_type": "markdown",
   "metadata": {},
   "source": [
    "### Optimal Learning SGD Classifier"
   ]
  },
  {
   "cell_type": "code",
   "execution_count": 13,
   "metadata": {},
   "outputs": [
    {
     "name": "stdout",
     "output_type": "stream",
     "text": [
      "Accuracy of SGD classifier on training set: 0.23\n",
      "________________________________________________________________\n",
      "Accuracy of SGD classifier on validate set: 0.23\n"
     ]
    }
   ],
   "source": [
    "clf3 = SGDClassifier(max_iter=1000, tol=1e-3, random_state=123, learning_rate='optimal')\n",
    "\n",
    "clf3.fit(X_train, y_train)\n",
    "\n",
    "y_pred = clf3.predict(X_train)\n",
    "\n",
    "print('Accuracy of SGD classifier on training set:', round(clf3.score(X_train, y_train),2))\n",
    "print('________________________________________________________________')\n",
    "print('Accuracy of SGD classifier on validate set:', round(clf3.score(X_validate, y_validate),2))"
   ]
  },
  {
   "cell_type": "markdown",
   "metadata": {},
   "source": [
    "### Balanced SGD Classifier"
   ]
  },
  {
   "cell_type": "code",
   "execution_count": 14,
   "metadata": {},
   "outputs": [
    {
     "name": "stdout",
     "output_type": "stream",
     "text": [
      "Accuracy of SGD classifier on training set: 0.35\n",
      "________________________________________________________________\n",
      "Accuracy of SGD classifier on validate set: 0.35\n"
     ]
    }
   ],
   "source": [
    "clf3 = SGDClassifier(max_iter=1000, tol=1e-3, random_state=123, class_weight='balanced')\n",
    "\n",
    "clf3.fit(X_train, y_train)\n",
    "\n",
    "y_pred = clf3.predict(X_train)\n",
    "\n",
    "print('Accuracy of SGD classifier on training set:', round(clf3.score(X_train, y_train),2))\n",
    "print('________________________________________________________________')\n",
    "print('Accuracy of SGD classifier on validate set:', round(clf3.score(X_validate, y_validate),2))"
   ]
  },
  {
   "cell_type": "markdown",
   "metadata": {},
   "source": [
    "### Elasticnet SGD Classifier"
   ]
  },
  {
   "cell_type": "code",
   "execution_count": 15,
   "metadata": {},
   "outputs": [
    {
     "name": "stdout",
     "output_type": "stream",
     "text": [
      "Accuracy of SGD classifier on training set: 0.33\n",
      "________________________________________________________________\n",
      "Accuracy of SGD classifier on validate set: 0.33\n"
     ]
    }
   ],
   "source": [
    "clf3 = SGDClassifier(max_iter=1000, tol=1e-3, random_state=123, penalty='elasticnet')\n",
    "\n",
    "clf3.fit(X_train, y_train)\n",
    "\n",
    "y_pred = clf3.predict(X_train)\n",
    "\n",
    "print('Accuracy of SGD classifier on training set:', round(clf3.score(X_train, y_train),2))\n",
    "print('________________________________________________________________')\n",
    "print('Accuracy of SGD classifier on validate set:', round(clf3.score(X_validate, y_validate),2))"
   ]
  },
  {
   "cell_type": "markdown",
   "metadata": {},
   "source": [
    "## Hinge SGD Classifier"
   ]
  },
  {
   "cell_type": "code",
   "execution_count": 16,
   "metadata": {},
   "outputs": [
    {
     "name": "stdout",
     "output_type": "stream",
     "text": [
      "Accuracy of SGD classifier on training set: 0.23\n",
      "________________________________________________________________\n",
      "Accuracy of SGD classifier on validate set: 0.23\n"
     ]
    }
   ],
   "source": [
    "clf3 = SGDClassifier(max_iter=1000, tol=1e-3, random_state=123, loss=\"hinge\")\n",
    "\n",
    "clf3.fit(X_train, y_train)\n",
    "\n",
    "y_pred = clf3.predict(X_train)\n",
    "\n",
    "print('Accuracy of SGD classifier on training set:', round(clf3.score(X_train, y_train),2))\n",
    "print('________________________________________________________________')\n",
    "print('Accuracy of SGD classifier on validate set:', round(clf3.score(X_validate, y_validate),2))"
   ]
  },
  {
   "cell_type": "code",
   "execution_count": null,
   "metadata": {},
   "outputs": [],
   "source": []
  },
  {
   "cell_type": "code",
   "execution_count": 17,
   "metadata": {},
   "outputs": [
    {
     "name": "stdout",
     "output_type": "stream",
     "text": [
      "Accuracy of SGD classifier on training set: 0.56\n",
      "________________________________________________________________\n",
      "Accuracy of SGD classifier on validate set: 0.56\n"
     ]
    }
   ],
   "source": [
    "clf3 = SGDClassifier(max_iter=1000, tol=1e-3, random_state=123, learning_rate='optimal', loss=\"hinge\", penalty='l1')\n",
    "\n",
    "clf3.fit(X_train, y_train)\n",
    "\n",
    "y_pred = clf3.predict(X_train)\n",
    "\n",
    "print('Accuracy of SGD classifier on training set:', round(clf3.score(X_train, y_train),2))\n",
    "print('________________________________________________________________')\n",
    "print('Accuracy of SGD classifier on validate set:', round(clf3.score(X_validate, y_validate),2))"
   ]
  },
  {
   "cell_type": "code",
   "execution_count": null,
   "metadata": {},
   "outputs": [],
   "source": []
  },
  {
   "cell_type": "code",
   "execution_count": null,
   "metadata": {},
   "outputs": [],
   "source": []
  }
 ],
 "metadata": {
  "kernelspec": {
   "display_name": "Python 3",
   "language": "python",
   "name": "python3"
  },
  "language_info": {
   "codemirror_mode": {
    "name": "ipython",
    "version": 3
   },
   "file_extension": ".py",
   "mimetype": "text/x-python",
   "name": "python",
   "nbconvert_exporter": "python",
   "pygments_lexer": "ipython3",
   "version": "3.8.5"
  }
 },
 "nbformat": 4,
 "nbformat_minor": 4
}
