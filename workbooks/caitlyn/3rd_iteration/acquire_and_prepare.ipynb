{
 "cells": [
  {
   "cell_type": "code",
   "execution_count": 85,
   "metadata": {},
   "outputs": [],
   "source": [
    "import pandas as pd"
   ]
  },
  {
   "cell_type": "code",
   "execution_count": 86,
   "metadata": {},
   "outputs": [],
   "source": [
    "import pandas as pd\n",
    "import numpy as np\n",
    "\n",
    "import seaborn as sns\n",
    "import matplotlib.pyplot as plt"
   ]
  },
  {
   "cell_type": "markdown",
   "metadata": {},
   "source": [
    "# Acquire the Data"
   ]
  },
  {
   "cell_type": "code",
   "execution_count": 87,
   "metadata": {},
   "outputs": [],
   "source": [
    "df = pd.read_csv('service_calls.csv')"
   ]
  },
  {
   "cell_type": "code",
   "execution_count": 88,
   "metadata": {},
   "outputs": [
    {
     "data": {
      "text/plain": [
       "(495440, 17)"
      ]
     },
     "execution_count": 88,
     "metadata": {},
     "output_type": "execute_result"
    }
   ],
   "source": [
    "df.shape"
   ]
  },
  {
   "cell_type": "markdown",
   "metadata": {},
   "source": [
    "___"
   ]
  },
  {
   "cell_type": "code",
   "execution_count": 89,
   "metadata": {},
   "outputs": [
    {
     "name": "stdout",
     "output_type": "stream",
     "text": [
      "<class 'pandas.core.frame.DataFrame'>\n",
      "RangeIndex: 495440 entries, 0 to 495439\n",
      "Data columns (total 17 columns):\n",
      " #   Column                Non-Null Count   Dtype  \n",
      "---  ------                --------------   -----  \n",
      " 0   Category              495440 non-null  object \n",
      " 1   CASEID                495440 non-null  int64  \n",
      " 2   OPENEDDATETIME        495440 non-null  object \n",
      " 3   SLA_Date              481300 non-null  object \n",
      " 4   CLOSEDDATETIME        441387 non-null  object \n",
      " 5   Late (Yes/No)         495440 non-null  object \n",
      " 6   Dept                  445141 non-null  object \n",
      " 7   REASONNAME            495440 non-null  object \n",
      " 8   TYPENAME              495440 non-null  object \n",
      " 9   CaseStatus            495440 non-null  object \n",
      " 10  SourceID              495440 non-null  object \n",
      " 11  OBJECTDESC            495440 non-null  object \n",
      " 12  Council District      495440 non-null  int64  \n",
      " 13  XCOORD                495345 non-null  float64\n",
      " 14  YCOORD                495345 non-null  float64\n",
      " 15  Report Starting Date  495440 non-null  object \n",
      " 16  Report Ending Date    495440 non-null  object \n",
      "dtypes: float64(2), int64(2), object(13)\n",
      "memory usage: 64.3+ MB\n"
     ]
    }
   ],
   "source": [
    "df.info()"
   ]
  },
  {
   "cell_type": "markdown",
   "metadata": {},
   "source": [
    "## Takeaways:\n",
    "- most of the features we have are are objects \n",
    "    - I think they may mostly be categories\n",
    "- I see that there are going to be a few nulls in some of these features"
   ]
  },
  {
   "cell_type": "markdown",
   "metadata": {},
   "source": [
    "___"
   ]
  },
  {
   "cell_type": "code",
   "execution_count": 90,
   "metadata": {},
   "outputs": [
    {
     "data": {
      "text/plain": [
       "Category                    0\n",
       "CASEID                      0\n",
       "OPENEDDATETIME              0\n",
       "SLA_Date                14140\n",
       "CLOSEDDATETIME          54053\n",
       "Late (Yes/No)               0\n",
       "Dept                    50299\n",
       "REASONNAME                  0\n",
       "TYPENAME                    0\n",
       "CaseStatus                  0\n",
       "SourceID                    0\n",
       "OBJECTDESC                  0\n",
       "Council District            0\n",
       "XCOORD                     95\n",
       "YCOORD                     95\n",
       "Report Starting Date        0\n",
       "Report Ending Date          0\n",
       "dtype: int64"
      ]
     },
     "execution_count": 90,
     "metadata": {},
     "output_type": "execute_result"
    }
   ],
   "source": [
    "df.isnull().sum()"
   ]
  },
  {
   "cell_type": "markdown",
   "metadata": {},
   "source": [
    "## Takeaways:\n",
    "- The following features contain null values\n",
    "    - SLA_Date\n",
    "    - CLOSEDDATETIME\n",
    "    - Dept\n",
    "    - XCOORD\n",
    "    - YCOORD\n",
    "- SLA_Date\n",
    "    - I feel that there are too many to drop but I would like to look further\n",
    "        - If we were to decide to drop these nulls we would be dropping 2.85% of our observations\n",
    "            - Hypothetically leaving us with 481,300 observations if we only dropped this column\n",
    "- CLOSEDDATETIME\n",
    "    - I feel as if there are far to many observations here to drop\n",
    "        - But I dont know how we would fill these null valiies\n",
    "            - If we dropped these nulls we would be dropping 10.91% of our observations\n",
    "                - this would leave us with 441,386 observations if we dropped ONLY this column\n",
    "- Dept\n",
    "    - I think this is again too many to drop, it makes up for 10.15% of our observations\n",
    "        - We could just fill this with \"Unknown\"\n",
    "- XCOORD\n",
    "    - I would feel safe droping these null values\n",
    "        - only 0.02% of the observations\n",
    "- YCOORD\n",
    "    - I would feel safe droping these null values\n",
    "        - only 0.02% of the observations\n",
    "            - probaby the same ones as XCOORD"
   ]
  },
  {
   "cell_type": "markdown",
   "metadata": {},
   "source": [
    "___"
   ]
  },
  {
   "cell_type": "markdown",
   "metadata": {},
   "source": [
    "## Department Data Info"
   ]
  },
  {
   "cell_type": "code",
   "execution_count": 91,
   "metadata": {},
   "outputs": [
    {
     "data": {
      "text/plain": [
       "Solid Waste Management       190658\n",
       "Development Services         132826\n",
       "Animal Care Services          75222\n",
       "Trans & Cap Improvements      33684\n",
       "Code Enforcement Services      5294\n",
       "Customer Service               4196\n",
       "Metro Health                   2827\n",
       "Parks and Recreation            433\n",
       "City Council                      1\n",
       "Name: Dept, dtype: int64"
      ]
     },
     "execution_count": 91,
     "metadata": {},
     "output_type": "execute_result"
    }
   ],
   "source": [
    "df.Dept.value_counts()"
   ]
  },
  {
   "cell_type": "code",
   "execution_count": 92,
   "metadata": {},
   "outputs": [],
   "source": [
    "#plt.figure(figsize=(16,8))\n",
    "#sns.set(style=\"dark\")\n",
    "#sns.histplot(df.Dept)\n",
    "#plt.xticks(rotation=90)\n",
    "#plt.show()"
   ]
  },
  {
   "cell_type": "markdown",
   "metadata": {},
   "source": [
    "## Takeaways:\n",
    "- Why is city council so low?\n",
    "- is city council the reason that Dept has so many null values?"
   ]
  },
  {
   "cell_type": "markdown",
   "metadata": {},
   "source": [
    "___"
   ]
  },
  {
   "cell_type": "markdown",
   "metadata": {},
   "source": [
    "## Category Data Info"
   ]
  },
  {
   "cell_type": "code",
   "execution_count": 93,
   "metadata": {},
   "outputs": [
    {
     "data": {
      "text/plain": [
       "No Category                  415187\n",
       "Solid Waste Services          63005\n",
       "Property Maintenance           5212\n",
       "Animals                        4754\n",
       "Information                    4197\n",
       "Scooters                       1008\n",
       "Graffiti                        820\n",
       "Parks                           496\n",
       "Traffic Signals and Signs       438\n",
       "Streets & Infrastructure        315\n",
       "Historic Preservation             8\n",
       "Name: Category, dtype: int64"
      ]
     },
     "execution_count": 93,
     "metadata": {},
     "output_type": "execute_result"
    }
   ],
   "source": [
    "df.Category.value_counts()"
   ]
  },
  {
   "cell_type": "code",
   "execution_count": 94,
   "metadata": {},
   "outputs": [
    {
     "data": {
      "image/png": "[encoded data removed]",
      "text/plain": [
       "<Figure size 936x432 with 1 Axes>"
      ]
     },
     "metadata": {},
     "output_type": "display_data"
    }
   ],
   "source": [
    "plt.figure(figsize=(13,6))\n",
    "sns.set(style=\"dark\")\n",
    "sns.histplot(df.Category, color='indianred', edgecolor='black')\n",
    "plt.xticks(rotation=90)\n",
    "plt.show()"
   ]
  },
  {
   "cell_type": "markdown",
   "metadata": {},
   "source": [
    "## Takeaways:\n",
    "- There are a lot of calls that have gone uncategorized.\n",
    "    - What is No Category?\n",
    "        - what kind of calls get put into this category?\n",
    "            - Maybe worth researching\n",
    "- I guess no one cares about history"
   ]
  },
  {
   "cell_type": "markdown",
   "metadata": {},
   "source": [
    "___"
   ]
  },
  {
   "cell_type": "markdown",
   "metadata": {},
   "source": [
    "## Late Data Info"
   ]
  },
  {
   "cell_type": "code",
   "execution_count": 95,
   "metadata": {},
   "outputs": [
    {
     "data": {
      "text/plain": [
       "NO     400740\n",
       "YES     94700\n",
       "Name: Late (Yes/No), dtype: int64"
      ]
     },
     "execution_count": 95,
     "metadata": {},
     "output_type": "execute_result"
    }
   ],
   "source": [
    "df['Late (Yes/No)'].value_counts()"
   ]
  },
  {
   "cell_type": "code",
   "execution_count": 96,
   "metadata": {},
   "outputs": [
    {
     "data": {
      "image/png": "[encoded data removed]",
      "text/plain": [
       "<Figure size 720x360 with 1 Axes>"
      ]
     },
     "metadata": {},
     "output_type": "display_data"
    }
   ],
   "source": [
    "plt.figure(figsize=(10,5))\n",
    "sns.set(style=\"dark\")\n",
    "sns.histplot(df['Late (Yes/No)'], color='indianred', edgecolor='black')\n",
    "plt.show()"
   ]
  },
  {
   "cell_type": "markdown",
   "metadata": {},
   "source": [
    "## Takeaways:\n",
    "- We should rename 'Late (Yes/No)' to just 'Late' to make coding easier\n",
    "- 80.89% of calls have been closed\n",
    "- 19.11% have not been closed\n",
    "    - What is causing these to not be closed?\n",
    "    - how long have they been open?"
   ]
  },
  {
   "cell_type": "markdown",
   "metadata": {},
   "source": [
    "___"
   ]
  },
  {
   "cell_type": "markdown",
   "metadata": {},
   "source": [
    "## Reason Name Data Info"
   ]
  },
  {
   "cell_type": "code",
   "execution_count": 97,
   "metadata": {},
   "outputs": [
    {
     "data": {
      "text/plain": [
       "Waste Collection                 152898\n",
       "Code Enforcement                 136050\n",
       "Field Operations                  75100\n",
       "Miscellaneous                     30407\n",
       "Traffic Operations                26148\n",
       "Streets                           25816\n",
       "Trades                             9590\n",
       "Stormwater                         6797\n",
       "Small Business                     6106\n",
       "Solid Waste                        5261\n",
       "Workforce Development              5250\n",
       "Customer Service                   4650\n",
       "311 Call Center                    4196\n",
       "Food Establishments                1610\n",
       "Land Development                   1094\n",
       "Facility License                    908\n",
       "Clean and Green                     758\n",
       "Dangerous Premise                   701\n",
       "Shops (Internal)                    385\n",
       "Vector                              243\n",
       "Historic Preservation               224\n",
       "Signals                             223\n",
       "Urban Forestry                      209\n",
       "Traffic Engineering Design          206\n",
       "Graffiti (IntExp)                   112\n",
       "Engineering Division                108\n",
       "Natural Resources                    84\n",
       "General Sanitation                   66\n",
       "Code Enforcement (Internal)          58\n",
       "Code Enforcement (IntExp)            45\n",
       "Park Projects                        37\n",
       "Storm Water                          28\n",
       "Signs and Markings                   22\n",
       "Tree Crew                            14\n",
       "Graffiti                             10\n",
       "Director's Office Horizontal         10\n",
       "Brush                                 9\n",
       "Storm Water Engineering               3\n",
       "Traffic Issue Investigation           1\n",
       "District 2                            1\n",
       "Clean and Green Natural Areas         1\n",
       "Shops                                 1\n",
       "Name: REASONNAME, dtype: int64"
      ]
     },
     "execution_count": 97,
     "metadata": {},
     "output_type": "execute_result"
    }
   ],
   "source": [
    "df.REASONNAME.value_counts()"
   ]
  },
  {
   "cell_type": "code",
   "execution_count": 98,
   "metadata": {},
   "outputs": [
    {
     "data": {
      "image/png": "[encoded data removed]",
      "text/plain": [
       "<Figure size 1152x576 with 1 Axes>"
      ]
     },
     "metadata": {},
     "output_type": "display_data"
    }
   ],
   "source": [
    "plt.figure(figsize=(16,8))\n",
    "sns.set(style=\"dark\")\n",
    "sns.histplot(df.REASONNAME, color='indianred', edgecolor='black')\n",
    "plt.xticks(rotation=90)\n",
    "plt.show()"
   ]
  },
  {
   "cell_type": "markdown",
   "metadata": {},
   "source": [
    "## Takeaways:\n",
    "- Maybe we could amke this easier to manage and combine some of these?\n",
    "    - Waste Collection + Solid Waste\n",
    "        - Into just 'Waste Management'\n",
    "    - Storm Water + Storm Water Engineering + Stormwater \n",
    "        - Into 'Storm Water Managemnt'\n",
    "    - Ect."
   ]
  },
  {
   "cell_type": "markdown",
   "metadata": {},
   "source": [
    "___"
   ]
  },
  {
   "cell_type": "markdown",
   "metadata": {},
   "source": [
    "## Case Status Data Info"
   ]
  },
  {
   "cell_type": "code",
   "execution_count": 99,
   "metadata": {},
   "outputs": [
    {
     "data": {
      "text/plain": [
       "Closed    441387\n",
       "Open       54053\n",
       "Name: CaseStatus, dtype: int64"
      ]
     },
     "execution_count": 99,
     "metadata": {},
     "output_type": "execute_result"
    }
   ],
   "source": [
    "df.CaseStatus.value_counts()"
   ]
  },
  {
   "cell_type": "code",
   "execution_count": 100,
   "metadata": {},
   "outputs": [
    {
     "data": {
      "image/png": "[encoded data removed]",
      "text/plain": [
       "<Figure size 720x432 with 1 Axes>"
      ]
     },
     "metadata": {},
     "output_type": "display_data"
    }
   ],
   "source": [
    "plt.figure(figsize=(10,6))\n",
    "sns.set(style=\"dark\")\n",
    "sns.histplot(df.CaseStatus, color='indianred', edgecolor='black')\n",
    "plt.show()"
   ]
  },
  {
   "cell_type": "markdown",
   "metadata": {},
   "source": [
    "## Takeaways:\n",
    "- 89.09% of cases are closed\n",
    "- 10.91% are open"
   ]
  },
  {
   "cell_type": "markdown",
   "metadata": {},
   "source": [
    "___"
   ]
  },
  {
   "cell_type": "markdown",
   "metadata": {},
   "source": [
    "## Source Data Info"
   ]
  },
  {
   "cell_type": "code",
   "execution_count": 101,
   "metadata": {},
   "outputs": [
    {
     "data": {
      "text/plain": [
       "Web Portal                    395339\n",
       "311 Mobile App                 55306\n",
       "Constituent Call               41340\n",
       "Internal Services Requests      3455\n",
       "Name: SourceID, dtype: int64"
      ]
     },
     "execution_count": 101,
     "metadata": {},
     "output_type": "execute_result"
    }
   ],
   "source": [
    "df.SourceID.value_counts()"
   ]
  },
  {
   "cell_type": "code",
   "execution_count": 102,
   "metadata": {},
   "outputs": [
    {
     "data": {
      "image/png": "[encoded data removed]",
      "text/plain": [
       "<Figure size 720x432 with 1 Axes>"
      ]
     },
     "metadata": {},
     "output_type": "display_data"
    }
   ],
   "source": [
    "plt.figure(figsize=(10,6))\n",
    "sns.set(style=\"dark\")\n",
    "sns.histplot(df.SourceID, color='indianred', edgecolor='black')\n",
    "plt.show()"
   ]
  },
  {
   "cell_type": "markdown",
   "metadata": {},
   "source": [
    "## Takeaways:\n",
    "- More people tend to use the Web Portal to report issues.\n",
    "- Is there a possible link to which form of reporting is responded to quickest and slowest?"
   ]
  },
  {
   "cell_type": "markdown",
   "metadata": {},
   "source": [
    "___"
   ]
  },
  {
   "cell_type": "markdown",
   "metadata": {},
   "source": [
    "## Council District Data Info"
   ]
  },
  {
   "cell_type": "code",
   "execution_count": 103,
   "metadata": {},
   "outputs": [
    {
     "data": {
      "text/plain": [
       "5     67022\n",
       "1     66543\n",
       "2     65327\n",
       "3     62330\n",
       "4     46830\n",
       "7     46377\n",
       "6     42719\n",
       "10    40062\n",
       "8     27924\n",
       "9     27473\n",
       "0      2833\n",
       "Name: Council District, dtype: int64"
      ]
     },
     "execution_count": 103,
     "metadata": {},
     "output_type": "execute_result"
    }
   ],
   "source": [
    "df['Council District'].value_counts()"
   ]
  },
  {
   "cell_type": "code",
   "execution_count": 104,
   "metadata": {},
   "outputs": [
    {
     "data": {
      "image/png": "[encoded data removed]",
      "text/plain": [
       "<Figure size 720x432 with 1 Axes>"
      ]
     },
     "metadata": {},
     "output_type": "display_data"
    }
   ],
   "source": [
    "plt.figure(figsize=(10,6))\n",
    "sns.set(style=\"dark\")\n",
    "sns.histplot(df['Council District'], color='indianred', edgecolor='black')\n",
    "plt.show()"
   ]
  },
  {
   "cell_type": "markdown",
   "metadata": {},
   "source": [
    "## Takeaways:\n",
    "- Districts 1, 2, 3, & 5 have higher reports\n",
    "- District 0 has nearly no reports in comparison to the others\n",
    "- 4, 6, 7, 8, 9, & 10 still have many reports but not as much as 1, 2, 3, and 5"
   ]
  },
  {
   "cell_type": "markdown",
   "metadata": {},
   "source": [
    "___"
   ]
  },
  {
   "cell_type": "markdown",
   "metadata": {},
   "source": [
    "## More info on my reasoning\n",
    "- I didnt look at the following features in depth\n",
    "    - Opened date and time\n",
    "    - sla date\n",
    "    - closed date time\n",
    "    - type name\n",
    "    - object decription\n",
    "    - x and y cordinates\n",
    "    - report start and end dates\n",
    "- The reason I didnt make univaraites for these is because There were so many different itterations that it became unruley"
   ]
  },
  {
   "cell_type": "code",
   "execution_count": 105,
   "metadata": {},
   "outputs": [
    {
     "name": "stdout",
     "output_type": "stream",
     "text": [
      "<class 'pandas.core.frame.DataFrame'>\n",
      "RangeIndex: 495440 entries, 0 to 495439\n",
      "Data columns (total 17 columns):\n",
      " #   Column                Non-Null Count   Dtype  \n",
      "---  ------                --------------   -----  \n",
      " 0   Category              495440 non-null  object \n",
      " 1   CASEID                495440 non-null  int64  \n",
      " 2   OPENEDDATETIME        495440 non-null  object \n",
      " 3   SLA_Date              481300 non-null  object \n",
      " 4   CLOSEDDATETIME        441387 non-null  object \n",
      " 5   Late (Yes/No)         495440 non-null  object \n",
      " 6   Dept                  445141 non-null  object \n",
      " 7   REASONNAME            495440 non-null  object \n",
      " 8   TYPENAME              495440 non-null  object \n",
      " 9   CaseStatus            495440 non-null  object \n",
      " 10  SourceID              495440 non-null  object \n",
      " 11  OBJECTDESC            495440 non-null  object \n",
      " 12  Council District      495440 non-null  int64  \n",
      " 13  XCOORD                495345 non-null  float64\n",
      " 14  YCOORD                495345 non-null  float64\n",
      " 15  Report Starting Date  495440 non-null  object \n",
      " 16  Report Ending Date    495440 non-null  object \n",
      "dtypes: float64(2), int64(2), object(13)\n",
      "memory usage: 64.3+ MB\n"
     ]
    }
   ],
   "source": [
    "df.info()"
   ]
  },
  {
   "cell_type": "markdown",
   "metadata": {},
   "source": [
    "___"
   ]
  },
  {
   "cell_type": "markdown",
   "metadata": {},
   "source": [
    "### Lori's Funcitons\n",
    "- square feet by days late"
   ]
  },
  {
   "cell_type": "markdown",
   "metadata": {},
   "source": [
    "### John Funcitons\n",
    "- Month of the case\n",
    "- Day of the week of the case\n",
    "- Year of the case"
   ]
  },
  {
   "cell_type": "markdown",
   "metadata": {},
   "source": [
    "### Sam Functions\n",
    "- Population density by district"
   ]
  },
  {
   "cell_type": "markdown",
   "metadata": {},
   "source": [
    "### Gabby Funcitons\n",
    "- Voter turnout by district"
   ]
  },
  {
   "cell_type": "markdown",
   "metadata": {},
   "source": [
    "### Caitlyn Functions\n",
    "- Make a new feature 'pct_of_time_used\"\n",
    "    - hold how from due date was the case closed\n",
    "- re-bin based on new feature"
   ]
  },
  {
   "cell_type": "markdown",
   "metadata": {},
   "source": [
    "___"
   ]
  },
  {
   "cell_type": "markdown",
   "metadata": {},
   "source": [
    "# Prepare"
   ]
  },
  {
   "cell_type": "markdown",
   "metadata": {},
   "source": [
    "### Caitlyn Functions\n",
    "- Make a new feature 'pct_of_time_used\"\n",
    "    - hold how from due date was the case closed\n",
    "- re-bin based on new feature\n",
    "        - Extremely early\n",
    "        - resolved very early\n",
    "        - resolved early\n",
    "        - resolved on time\n",
    "        - resolved late\n",
    "        - resolved very late\n",
    "        - Extremely late"
   ]
  },
  {
   "cell_type": "code",
   "execution_count": 106,
   "metadata": {},
   "outputs": [
    {
     "data": {
      "text/plain": [
       "(495440, 17)"
      ]
     },
     "execution_count": 106,
     "metadata": {},
     "output_type": "execute_result"
    }
   ],
   "source": [
    "df.shape\n",
    "# start 495k"
   ]
  },
  {
   "cell_type": "code",
   "execution_count": 107,
   "metadata": {},
   "outputs": [],
   "source": [
    "from datetime import date"
   ]
  },
  {
   "cell_type": "code",
   "execution_count": 108,
   "metadata": {},
   "outputs": [],
   "source": [
    "# make sure the open and closed date columns are formatted in datetime format\n",
    "df['OPENEDDATETIME'] = pd.to_datetime(df['OPENEDDATETIME'])\n",
    "df['CLOSEDDATETIME'] = pd.to_datetime(df['CLOSEDDATETIME'])\n",
    "df['SLA_Date'] = pd.to_datetime(df['SLA_Date'])"
   ]
  },
  {
   "cell_type": "code",
   "execution_count": 109,
   "metadata": {},
   "outputs": [
    {
     "data": {
      "text/plain": [
       "(495440, 17)"
      ]
     },
     "execution_count": 109,
     "metadata": {},
     "output_type": "execute_result"
    }
   ],
   "source": [
    "df.shape"
   ]
  },
  {
   "cell_type": "code",
   "execution_count": 110,
   "metadata": {},
   "outputs": [],
   "source": [
    "# create new number of days open feature\n",
    "df['days_open'] = df['CLOSEDDATETIME'] - df['OPENEDDATETIME']\n",
    "# Create new column to hold days before needed resolution\n",
    "df['resolution_days_due'] = df['SLA_Date'] - df['OPENEDDATETIME']"
   ]
  },
  {
   "cell_type": "code",
   "execution_count": 111,
   "metadata": {},
   "outputs": [
    {
     "data": {
      "text/plain": [
       "(495440, 19)"
      ]
     },
     "execution_count": 111,
     "metadata": {},
     "output_type": "execute_result"
    }
   ],
   "source": [
    "df.shape"
   ]
  },
  {
   "cell_type": "code",
   "execution_count": 112,
   "metadata": {},
   "outputs": [
    {
     "data": {
      "text/plain": [
       "Category                    0\n",
       "CASEID                      0\n",
       "OPENEDDATETIME              0\n",
       "SLA_Date                14140\n",
       "CLOSEDDATETIME          54053\n",
       "Late (Yes/No)               0\n",
       "Dept                    50299\n",
       "REASONNAME                  0\n",
       "TYPENAME                    0\n",
       "CaseStatus                  0\n",
       "SourceID                    0\n",
       "OBJECTDESC                  0\n",
       "Council District            0\n",
       "XCOORD                     95\n",
       "YCOORD                     95\n",
       "Report Starting Date        0\n",
       "Report Ending Date          0\n",
       "days_open               54053\n",
       "resolution_days_due     14140\n",
       "dtype: int64"
      ]
     },
     "execution_count": 112,
     "metadata": {},
     "output_type": "execute_result"
    }
   ],
   "source": [
    "df.isnull().sum()"
   ]
  },
  {
   "cell_type": "code",
   "execution_count": 113,
   "metadata": {},
   "outputs": [],
   "source": [
    "# Convert to string format insted of timedelta\n",
    "df['days_open'] = df.days_open // pd.Timedelta('1d')\n",
    "# Convert to string format insted of timedelta\n",
    "df['resolution_days_due'] = df.resolution_days_due // pd.Timedelta('1d')"
   ]
  },
  {
   "cell_type": "code",
   "execution_count": 114,
   "metadata": {},
   "outputs": [],
   "source": [
    "df['days_open'] = df['days_open'].fillna(0)"
   ]
  },
  {
   "cell_type": "code",
   "execution_count": 115,
   "metadata": {},
   "outputs": [
    {
     "data": {
      "text/plain": [
       "Category                    0\n",
       "CASEID                      0\n",
       "OPENEDDATETIME              0\n",
       "SLA_Date                14140\n",
       "CLOSEDDATETIME          54053\n",
       "Late (Yes/No)               0\n",
       "Dept                    50299\n",
       "REASONNAME                  0\n",
       "TYPENAME                    0\n",
       "CaseStatus                  0\n",
       "SourceID                    0\n",
       "OBJECTDESC                  0\n",
       "Council District            0\n",
       "XCOORD                     95\n",
       "YCOORD                     95\n",
       "Report Starting Date        0\n",
       "Report Ending Date          0\n",
       "days_open                   0\n",
       "resolution_days_due     14140\n",
       "dtype: int64"
      ]
     },
     "execution_count": 115,
     "metadata": {},
     "output_type": "execute_result"
    }
   ],
   "source": [
    "df.isnull().sum()"
   ]
  },
  {
   "cell_type": "code",
   "execution_count": 116,
   "metadata": {},
   "outputs": [],
   "source": [
    "df['resolution_days_due'] = df['resolution_days_due'] + 1"
   ]
  },
  {
   "cell_type": "code",
   "execution_count": 117,
   "metadata": {},
   "outputs": [
    {
     "data": {
      "text/plain": [
       "Category                    0\n",
       "CASEID                      0\n",
       "OPENEDDATETIME              0\n",
       "SLA_Date                14140\n",
       "CLOSEDDATETIME          54053\n",
       "Late (Yes/No)               0\n",
       "Dept                    50299\n",
       "REASONNAME                  0\n",
       "TYPENAME                    0\n",
       "CaseStatus                  0\n",
       "SourceID                    0\n",
       "OBJECTDESC                  0\n",
       "Council District            0\n",
       "XCOORD                     95\n",
       "YCOORD                     95\n",
       "Report Starting Date        0\n",
       "Report Ending Date          0\n",
       "days_open                   0\n",
       "resolution_days_due     14140\n",
       "dtype: int64"
      ]
     },
     "execution_count": 117,
     "metadata": {},
     "output_type": "execute_result"
    }
   ],
   "source": [
    "df.isnull().sum()"
   ]
  },
  {
   "cell_type": "code",
   "execution_count": 118,
   "metadata": {},
   "outputs": [
    {
     "data": {
      "text/html": [
       "<div>\n",
       "<style scoped>\n",
       "    .dataframe tbody tr th:only-of-type {\n",
       "        vertical-align: middle;\n",
       "    }\n",
       "\n",
       "    .dataframe tbody tr th {\n",
       "        vertical-align: top;\n",
       "    }\n",
       "\n",
       "    .dataframe thead th {\n",
       "        text-align: right;\n",
       "    }\n",
       "</style>\n",
       "<table border=\"1\" class=\"dataframe\">\n",
       "  <thead>\n",
       "    <tr style=\"text-align: right;\">\n",
       "      <th></th>\n",
       "      <th>Category</th>\n",
       "      <th>CASEID</th>\n",
       "      <th>OPENEDDATETIME</th>\n",
       "      <th>SLA_Date</th>\n",
       "      <th>CLOSEDDATETIME</th>\n",
       "      <th>Late (Yes/No)</th>\n",
       "      <th>Dept</th>\n",
       "      <th>REASONNAME</th>\n",
       "      <th>TYPENAME</th>\n",
       "      <th>CaseStatus</th>\n",
       "      <th>SourceID</th>\n",
       "      <th>OBJECTDESC</th>\n",
       "      <th>Council District</th>\n",
       "      <th>XCOORD</th>\n",
       "      <th>YCOORD</th>\n",
       "      <th>Report Starting Date</th>\n",
       "      <th>Report Ending Date</th>\n",
       "      <th>days_open</th>\n",
       "      <th>resolution_days_due</th>\n",
       "    </tr>\n",
       "  </thead>\n",
       "  <tbody>\n",
       "    <tr>\n",
       "      <th>306270</th>\n",
       "      <td>No Category</td>\n",
       "      <td>1016573532</td>\n",
       "      <td>2020-12-11</td>\n",
       "      <td>2020-12-17</td>\n",
       "      <td>2020-12-14</td>\n",
       "      <td>NO</td>\n",
       "      <td>Solid Waste Management</td>\n",
       "      <td>Miscellaneous</td>\n",
       "      <td>Illegal Dumping</td>\n",
       "      <td>Closed</td>\n",
       "      <td>Web Portal</td>\n",
       "      <td>FREDERICKSBURG RD and WEST DR</td>\n",
       "      <td>1</td>\n",
       "      <td>2121781.0</td>\n",
       "      <td>13713878.0</td>\n",
       "      <td>5/15/2020</td>\n",
       "      <td>5/15/2021</td>\n",
       "      <td>3.0</td>\n",
       "      <td>7.0</td>\n",
       "    </tr>\n",
       "  </tbody>\n",
       "</table>\n",
       "</div>"
      ],
      "text/plain": [
       "           Category      CASEID OPENEDDATETIME   SLA_Date CLOSEDDATETIME  \\\n",
       "306270  No Category  1016573532     2020-12-11 2020-12-17     2020-12-14   \n",
       "\n",
       "       Late (Yes/No)                    Dept     REASONNAME         TYPENAME  \\\n",
       "306270            NO  Solid Waste Management  Miscellaneous  Illegal Dumping   \n",
       "\n",
       "       CaseStatus    SourceID                     OBJECTDESC  \\\n",
       "306270     Closed  Web Portal  FREDERICKSBURG RD and WEST DR   \n",
       "\n",
       "        Council District     XCOORD      YCOORD Report Starting Date  \\\n",
       "306270                 1  2121781.0  13713878.0            5/15/2020   \n",
       "\n",
       "       Report Ending Date  days_open  resolution_days_due  \n",
       "306270          5/15/2021        3.0                  7.0  "
      ]
     },
     "execution_count": 118,
     "metadata": {},
     "output_type": "execute_result"
    }
   ],
   "source": [
    "# create new feature to show how long it took to resolve compared to resolution due date\n",
    "#df['days_before_or_after_due'] = df.resolution_days_due - df.days_open\n",
    "# postitive means before days before due data and negative means number of days after due\n",
    "df.sample(1)\n"
   ]
  },
  {
   "cell_type": "code",
   "execution_count": 119,
   "metadata": {},
   "outputs": [
    {
     "data": {
      "text/html": [
       "<div>\n",
       "<style scoped>\n",
       "    .dataframe tbody tr th:only-of-type {\n",
       "        vertical-align: middle;\n",
       "    }\n",
       "\n",
       "    .dataframe tbody tr th {\n",
       "        vertical-align: top;\n",
       "    }\n",
       "\n",
       "    .dataframe thead th {\n",
       "        text-align: right;\n",
       "    }\n",
       "</style>\n",
       "<table border=\"1\" class=\"dataframe\">\n",
       "  <thead>\n",
       "    <tr style=\"text-align: right;\">\n",
       "      <th></th>\n",
       "      <th>Category</th>\n",
       "      <th>CASEID</th>\n",
       "      <th>OPENEDDATETIME</th>\n",
       "      <th>SLA_Date</th>\n",
       "      <th>CLOSEDDATETIME</th>\n",
       "      <th>Late (Yes/No)</th>\n",
       "      <th>Dept</th>\n",
       "      <th>REASONNAME</th>\n",
       "      <th>TYPENAME</th>\n",
       "      <th>CaseStatus</th>\n",
       "      <th>SourceID</th>\n",
       "      <th>OBJECTDESC</th>\n",
       "      <th>Council District</th>\n",
       "      <th>XCOORD</th>\n",
       "      <th>YCOORD</th>\n",
       "      <th>Report Starting Date</th>\n",
       "      <th>Report Ending Date</th>\n",
       "      <th>days_open</th>\n",
       "      <th>resolution_days_due</th>\n",
       "      <th>pct_time_of_used</th>\n",
       "    </tr>\n",
       "  </thead>\n",
       "  <tbody>\n",
       "    <tr>\n",
       "      <th>103559</th>\n",
       "      <td>No Category</td>\n",
       "      <td>1016263333</td>\n",
       "      <td>2020-06-29</td>\n",
       "      <td>NaT</td>\n",
       "      <td>2020-06-29</td>\n",
       "      <td>NO</td>\n",
       "      <td>Development Services</td>\n",
       "      <td>Code Enforcement</td>\n",
       "      <td>Field Study Report</td>\n",
       "      <td>Closed</td>\n",
       "      <td>311 Mobile App</td>\n",
       "      <td>7439 FIELDGATE, SAN ANTONIO, 78227</td>\n",
       "      <td>6</td>\n",
       "      <td>2081603.0</td>\n",
       "      <td>13703477.0</td>\n",
       "      <td>5/15/2020</td>\n",
       "      <td>5/15/2021</td>\n",
       "      <td>0.0</td>\n",
       "      <td>NaN</td>\n",
       "      <td>NaN</td>\n",
       "    </tr>\n",
       "  </tbody>\n",
       "</table>\n",
       "</div>"
      ],
      "text/plain": [
       "           Category      CASEID OPENEDDATETIME SLA_Date CLOSEDDATETIME  \\\n",
       "103559  No Category  1016263333     2020-06-29      NaT     2020-06-29   \n",
       "\n",
       "       Late (Yes/No)                  Dept        REASONNAME  \\\n",
       "103559            NO  Development Services  Code Enforcement   \n",
       "\n",
       "                  TYPENAME CaseStatus        SourceID  \\\n",
       "103559  Field Study Report     Closed  311 Mobile App   \n",
       "\n",
       "                                 OBJECTDESC  Council District     XCOORD  \\\n",
       "103559   7439 FIELDGATE, SAN ANTONIO, 78227                 6  2081603.0   \n",
       "\n",
       "            YCOORD Report Starting Date Report Ending Date  days_open  \\\n",
       "103559  13703477.0            5/15/2020          5/15/2021        0.0   \n",
       "\n",
       "        resolution_days_due  pct_time_of_used  \n",
       "103559                  NaN               NaN  "
      ]
     },
     "execution_count": 119,
     "metadata": {},
     "output_type": "execute_result"
    }
   ],
   "source": [
    "# create new feature to show how long it took to resolve compared to resolution due date\n",
    "df['pct_time_of_used'] = df.days_open / df.resolution_days_due\n",
    "# postitive means before days before due data and negative means number of days after due\n",
    "df.sample(1)"
   ]
  },
  {
   "cell_type": "code",
   "execution_count": 120,
   "metadata": {},
   "outputs": [
    {
     "data": {
      "text/plain": [
       "Category                    0\n",
       "CASEID                      0\n",
       "OPENEDDATETIME              0\n",
       "SLA_Date                14140\n",
       "CLOSEDDATETIME          54053\n",
       "Late (Yes/No)               0\n",
       "Dept                    50299\n",
       "REASONNAME                  0\n",
       "TYPENAME                    0\n",
       "CaseStatus                  0\n",
       "SourceID                    0\n",
       "OBJECTDESC                  0\n",
       "Council District            0\n",
       "XCOORD                     95\n",
       "YCOORD                     95\n",
       "Report Starting Date        0\n",
       "Report Ending Date          0\n",
       "days_open                   0\n",
       "resolution_days_due     14140\n",
       "pct_time_of_used        14140\n",
       "dtype: int64"
      ]
     },
     "execution_count": 120,
     "metadata": {},
     "output_type": "execute_result"
    }
   ],
   "source": [
    "df.isnull().sum()"
   ]
  },
  {
   "cell_type": "code",
   "execution_count": 121,
   "metadata": {},
   "outputs": [
    {
     "data": {
      "text/html": [
       "<div>\n",
       "<style scoped>\n",
       "    .dataframe tbody tr th:only-of-type {\n",
       "        vertical-align: middle;\n",
       "    }\n",
       "\n",
       "    .dataframe tbody tr th {\n",
       "        vertical-align: top;\n",
       "    }\n",
       "\n",
       "    .dataframe thead th {\n",
       "        text-align: right;\n",
       "    }\n",
       "</style>\n",
       "<table border=\"1\" class=\"dataframe\">\n",
       "  <thead>\n",
       "    <tr style=\"text-align: right;\">\n",
       "      <th></th>\n",
       "      <th>Category</th>\n",
       "      <th>CASEID</th>\n",
       "      <th>OPENEDDATETIME</th>\n",
       "      <th>SLA_Date</th>\n",
       "      <th>CLOSEDDATETIME</th>\n",
       "      <th>Late (Yes/No)</th>\n",
       "      <th>Dept</th>\n",
       "      <th>REASONNAME</th>\n",
       "      <th>TYPENAME</th>\n",
       "      <th>CaseStatus</th>\n",
       "      <th>SourceID</th>\n",
       "      <th>OBJECTDESC</th>\n",
       "      <th>Council District</th>\n",
       "      <th>XCOORD</th>\n",
       "      <th>YCOORD</th>\n",
       "      <th>Report Starting Date</th>\n",
       "      <th>Report Ending Date</th>\n",
       "      <th>days_open</th>\n",
       "      <th>resolution_days_due</th>\n",
       "      <th>pct_time_of_used</th>\n",
       "    </tr>\n",
       "  </thead>\n",
       "  <tbody>\n",
       "    <tr>\n",
       "      <th>0</th>\n",
       "      <td>Graffiti</td>\n",
       "      <td>1010444245</td>\n",
       "      <td>2012-08-15</td>\n",
       "      <td>2012-08-30</td>\n",
       "      <td>NaT</td>\n",
       "      <td>YES</td>\n",
       "      <td>Code Enforcement Services</td>\n",
       "      <td>Graffiti</td>\n",
       "      <td>Graffiti Public Property</td>\n",
       "      <td>Open</td>\n",
       "      <td>Web Portal</td>\n",
       "      <td>600  NOGALITOS ST, San Antonio, 78204</td>\n",
       "      <td>5</td>\n",
       "      <td>2125683.0</td>\n",
       "      <td>13695548.0</td>\n",
       "      <td>5/15/2020</td>\n",
       "      <td>5/15/2021</td>\n",
       "      <td>0.0</td>\n",
       "      <td>16.0</td>\n",
       "      <td>0.0</td>\n",
       "    </tr>\n",
       "  </tbody>\n",
       "</table>\n",
       "</div>"
      ],
      "text/plain": [
       "   Category      CASEID OPENEDDATETIME   SLA_Date CLOSEDDATETIME  \\\n",
       "0  Graffiti  1010444245     2012-08-15 2012-08-30            NaT   \n",
       "\n",
       "  Late (Yes/No)                       Dept REASONNAME  \\\n",
       "0           YES  Code Enforcement Services   Graffiti   \n",
       "\n",
       "                   TYPENAME CaseStatus    SourceID  \\\n",
       "0  Graffiti Public Property       Open  Web Portal   \n",
       "\n",
       "                              OBJECTDESC  Council District     XCOORD  \\\n",
       "0  600  NOGALITOS ST, San Antonio, 78204                 5  2125683.0   \n",
       "\n",
       "       YCOORD Report Starting Date Report Ending Date  days_open  \\\n",
       "0  13695548.0            5/15/2020          5/15/2021        0.0   \n",
       "\n",
       "   resolution_days_due  pct_time_of_used  \n",
       "0                 16.0               0.0  "
      ]
     },
     "execution_count": 121,
     "metadata": {},
     "output_type": "execute_result"
    }
   ],
   "source": [
    "df.nsmallest(1, ['pct_time_of_used'])"
   ]
  },
  {
   "cell_type": "code",
   "execution_count": 122,
   "metadata": {},
   "outputs": [
    {
     "data": {
      "text/plain": [
       "(495440, 20)"
      ]
     },
     "execution_count": 122,
     "metadata": {},
     "output_type": "execute_result"
    }
   ],
   "source": [
    "df.shape"
   ]
  },
  {
   "cell_type": "code",
   "execution_count": 123,
   "metadata": {},
   "outputs": [
    {
     "data": {
      "text/html": [
       "<div>\n",
       "<style scoped>\n",
       "    .dataframe tbody tr th:only-of-type {\n",
       "        vertical-align: middle;\n",
       "    }\n",
       "\n",
       "    .dataframe tbody tr th {\n",
       "        vertical-align: top;\n",
       "    }\n",
       "\n",
       "    .dataframe thead th {\n",
       "        text-align: right;\n",
       "    }\n",
       "</style>\n",
       "<table border=\"1\" class=\"dataframe\">\n",
       "  <thead>\n",
       "    <tr style=\"text-align: right;\">\n",
       "      <th></th>\n",
       "      <th>Category</th>\n",
       "      <th>CASEID</th>\n",
       "      <th>OPENEDDATETIME</th>\n",
       "      <th>SLA_Date</th>\n",
       "      <th>CLOSEDDATETIME</th>\n",
       "      <th>Late (Yes/No)</th>\n",
       "      <th>Dept</th>\n",
       "      <th>REASONNAME</th>\n",
       "      <th>TYPENAME</th>\n",
       "      <th>CaseStatus</th>\n",
       "      <th>SourceID</th>\n",
       "      <th>OBJECTDESC</th>\n",
       "      <th>Council District</th>\n",
       "      <th>XCOORD</th>\n",
       "      <th>YCOORD</th>\n",
       "      <th>Report Starting Date</th>\n",
       "      <th>Report Ending Date</th>\n",
       "      <th>days_open</th>\n",
       "      <th>resolution_days_due</th>\n",
       "      <th>pct_time_of_used</th>\n",
       "    </tr>\n",
       "  </thead>\n",
       "  <tbody>\n",
       "    <tr>\n",
       "      <th>131</th>\n",
       "      <td>Information</td>\n",
       "      <td>1011173664</td>\n",
       "      <td>2013-12-16</td>\n",
       "      <td>2014-01-02</td>\n",
       "      <td>2020-11-04</td>\n",
       "      <td>YES</td>\n",
       "      <td>Customer Service</td>\n",
       "      <td>311 Call Center</td>\n",
       "      <td>Complaint</td>\n",
       "      <td>Closed</td>\n",
       "      <td>Constituent Call</td>\n",
       "      <td>314  HOLLYWOOD AV W, San Antonio, 78212</td>\n",
       "      <td>1</td>\n",
       "      <td>2128217.0</td>\n",
       "      <td>13716540.0</td>\n",
       "      <td>5/15/2020</td>\n",
       "      <td>5/15/2021</td>\n",
       "      <td>2515.0</td>\n",
       "      <td>18.0</td>\n",
       "      <td>139.722222</td>\n",
       "    </tr>\n",
       "    <tr>\n",
       "      <th>132</th>\n",
       "      <td>Information</td>\n",
       "      <td>1011175190</td>\n",
       "      <td>2013-12-17</td>\n",
       "      <td>2014-01-03</td>\n",
       "      <td>2020-11-04</td>\n",
       "      <td>YES</td>\n",
       "      <td>Customer Service</td>\n",
       "      <td>311 Call Center</td>\n",
       "      <td>Complaint</td>\n",
       "      <td>Closed</td>\n",
       "      <td>Constituent Call</td>\n",
       "      <td>12907  WAYNESBORO, San Antonio, 78233</td>\n",
       "      <td>10</td>\n",
       "      <td>2170381.0</td>\n",
       "      <td>13750902.0</td>\n",
       "      <td>5/15/2020</td>\n",
       "      <td>5/15/2021</td>\n",
       "      <td>2514.0</td>\n",
       "      <td>18.0</td>\n",
       "      <td>139.666667</td>\n",
       "    </tr>\n",
       "    <tr>\n",
       "      <th>133</th>\n",
       "      <td>Information</td>\n",
       "      <td>1011175611</td>\n",
       "      <td>2013-12-17</td>\n",
       "      <td>2014-01-03</td>\n",
       "      <td>2020-11-04</td>\n",
       "      <td>YES</td>\n",
       "      <td>Customer Service</td>\n",
       "      <td>311 Call Center</td>\n",
       "      <td>Complaint</td>\n",
       "      <td>Closed</td>\n",
       "      <td>Constituent Call</td>\n",
       "      <td>1906  INDIAN MEADOWS, San Antonio, 78230</td>\n",
       "      <td>8</td>\n",
       "      <td>2100026.0</td>\n",
       "      <td>13751158.0</td>\n",
       "      <td>5/15/2020</td>\n",
       "      <td>5/15/2021</td>\n",
       "      <td>2514.0</td>\n",
       "      <td>18.0</td>\n",
       "      <td>139.666667</td>\n",
       "    </tr>\n",
       "    <tr>\n",
       "      <th>136</th>\n",
       "      <td>Information</td>\n",
       "      <td>1011177202</td>\n",
       "      <td>2013-12-18</td>\n",
       "      <td>2014-01-06</td>\n",
       "      <td>2020-11-04</td>\n",
       "      <td>YES</td>\n",
       "      <td>Customer Service</td>\n",
       "      <td>311 Call Center</td>\n",
       "      <td>Complaint</td>\n",
       "      <td>Closed</td>\n",
       "      <td>Constituent Call</td>\n",
       "      <td>4702  BOHILL DR, San Antonio, 78217</td>\n",
       "      <td>10</td>\n",
       "      <td>2159251.0</td>\n",
       "      <td>13754284.0</td>\n",
       "      <td>5/15/2020</td>\n",
       "      <td>5/15/2021</td>\n",
       "      <td>2513.0</td>\n",
       "      <td>20.0</td>\n",
       "      <td>125.650000</td>\n",
       "    </tr>\n",
       "    <tr>\n",
       "      <th>137</th>\n",
       "      <td>Information</td>\n",
       "      <td>1011177202</td>\n",
       "      <td>2013-12-18</td>\n",
       "      <td>2014-01-06</td>\n",
       "      <td>2020-11-04</td>\n",
       "      <td>YES</td>\n",
       "      <td>Customer Service</td>\n",
       "      <td>311 Call Center</td>\n",
       "      <td>Complaint</td>\n",
       "      <td>Closed</td>\n",
       "      <td>Constituent Call</td>\n",
       "      <td>4702  BOHILL DR, San Antonio, 78217</td>\n",
       "      <td>10</td>\n",
       "      <td>2159251.0</td>\n",
       "      <td>13754284.0</td>\n",
       "      <td>5/15/2020</td>\n",
       "      <td>5/15/2021</td>\n",
       "      <td>2513.0</td>\n",
       "      <td>20.0</td>\n",
       "      <td>125.650000</td>\n",
       "    </tr>\n",
       "    <tr>\n",
       "      <th>...</th>\n",
       "      <td>...</td>\n",
       "      <td>...</td>\n",
       "      <td>...</td>\n",
       "      <td>...</td>\n",
       "      <td>...</td>\n",
       "      <td>...</td>\n",
       "      <td>...</td>\n",
       "      <td>...</td>\n",
       "      <td>...</td>\n",
       "      <td>...</td>\n",
       "      <td>...</td>\n",
       "      <td>...</td>\n",
       "      <td>...</td>\n",
       "      <td>...</td>\n",
       "      <td>...</td>\n",
       "      <td>...</td>\n",
       "      <td>...</td>\n",
       "      <td>...</td>\n",
       "      <td>...</td>\n",
       "      <td>...</td>\n",
       "    </tr>\n",
       "    <tr>\n",
       "      <th>266452</th>\n",
       "      <td>No Category</td>\n",
       "      <td>1016494753</td>\n",
       "      <td>2020-11-05</td>\n",
       "      <td>2020-11-05</td>\n",
       "      <td>2021-03-15</td>\n",
       "      <td>YES</td>\n",
       "      <td>Animal Care Services</td>\n",
       "      <td>Field Operations</td>\n",
       "      <td>Cruelty-Neglect(Animal Cruelty)</td>\n",
       "      <td>Closed</td>\n",
       "      <td>Web Portal</td>\n",
       "      <td>1531  S CALLAGHAN RD, SAN ANTONIO</td>\n",
       "      <td>6</td>\n",
       "      <td>2095856.0</td>\n",
       "      <td>13699633.0</td>\n",
       "      <td>5/15/2020</td>\n",
       "      <td>5/15/2021</td>\n",
       "      <td>130.0</td>\n",
       "      <td>1.0</td>\n",
       "      <td>130.000000</td>\n",
       "    </tr>\n",
       "    <tr>\n",
       "      <th>268247</th>\n",
       "      <td>No Category</td>\n",
       "      <td>1016498447</td>\n",
       "      <td>2020-11-06</td>\n",
       "      <td>2020-11-06</td>\n",
       "      <td>2021-04-16</td>\n",
       "      <td>YES</td>\n",
       "      <td>Animal Care Services</td>\n",
       "      <td>Field Operations</td>\n",
       "      <td>Cruelty-Neglect(Animal Cruelty)</td>\n",
       "      <td>Closed</td>\n",
       "      <td>Web Portal</td>\n",
       "      <td>2400 OAKHILL RD, SAN ANTONIO, 78238</td>\n",
       "      <td>6</td>\n",
       "      <td>2092919.0</td>\n",
       "      <td>13714779.0</td>\n",
       "      <td>5/15/2020</td>\n",
       "      <td>5/15/2021</td>\n",
       "      <td>161.0</td>\n",
       "      <td>1.0</td>\n",
       "      <td>161.000000</td>\n",
       "    </tr>\n",
       "    <tr>\n",
       "      <th>269186</th>\n",
       "      <td>No Category</td>\n",
       "      <td>1016500076</td>\n",
       "      <td>2020-11-08</td>\n",
       "      <td>2020-11-08</td>\n",
       "      <td>2021-03-23</td>\n",
       "      <td>YES</td>\n",
       "      <td>Animal Care Services</td>\n",
       "      <td>Field Operations</td>\n",
       "      <td>Cruelty-Neglect(Animal Cruelty)</td>\n",
       "      <td>Closed</td>\n",
       "      <td>Web Portal</td>\n",
       "      <td>5427 MIDDLEFIELD DR, SAN ANTONIO, 78242</td>\n",
       "      <td>4</td>\n",
       "      <td>2095080.0</td>\n",
       "      <td>13680312.0</td>\n",
       "      <td>5/15/2020</td>\n",
       "      <td>5/15/2021</td>\n",
       "      <td>135.0</td>\n",
       "      <td>1.0</td>\n",
       "      <td>135.000000</td>\n",
       "    </tr>\n",
       "    <tr>\n",
       "      <th>300789</th>\n",
       "      <td>No Category</td>\n",
       "      <td>1016562919</td>\n",
       "      <td>2020-12-06</td>\n",
       "      <td>2020-12-06</td>\n",
       "      <td>2021-05-04</td>\n",
       "      <td>YES</td>\n",
       "      <td>Animal Care Services</td>\n",
       "      <td>Field Operations</td>\n",
       "      <td>Cruelty-Neglect(Animal Cruelty)</td>\n",
       "      <td>Closed</td>\n",
       "      <td>Web Portal</td>\n",
       "      <td>213 COLFAX ST, SAN ANTONIO, 78228</td>\n",
       "      <td>7</td>\n",
       "      <td>2103204.0</td>\n",
       "      <td>13714930.0</td>\n",
       "      <td>5/15/2020</td>\n",
       "      <td>5/15/2021</td>\n",
       "      <td>149.0</td>\n",
       "      <td>1.0</td>\n",
       "      <td>149.000000</td>\n",
       "    </tr>\n",
       "    <tr>\n",
       "      <th>325813</th>\n",
       "      <td>No Category</td>\n",
       "      <td>1016611443</td>\n",
       "      <td>2021-01-02</td>\n",
       "      <td>2021-01-02</td>\n",
       "      <td>2021-04-21</td>\n",
       "      <td>YES</td>\n",
       "      <td>Animal Care Services</td>\n",
       "      <td>Field Operations</td>\n",
       "      <td>Animals(Animal Sales)</td>\n",
       "      <td>Closed</td>\n",
       "      <td>Web Portal</td>\n",
       "      <td>FM 2537 and PLEASANTON RD</td>\n",
       "      <td>3</td>\n",
       "      <td>2129858.0</td>\n",
       "      <td>13639994.0</td>\n",
       "      <td>5/15/2020</td>\n",
       "      <td>5/15/2021</td>\n",
       "      <td>109.0</td>\n",
       "      <td>1.0</td>\n",
       "      <td>109.000000</td>\n",
       "    </tr>\n",
       "  </tbody>\n",
       "</table>\n",
       "<p>1784 rows × 20 columns</p>\n",
       "</div>"
      ],
      "text/plain": [
       "           Category      CASEID OPENEDDATETIME   SLA_Date CLOSEDDATETIME  \\\n",
       "131     Information  1011173664     2013-12-16 2014-01-02     2020-11-04   \n",
       "132     Information  1011175190     2013-12-17 2014-01-03     2020-11-04   \n",
       "133     Information  1011175611     2013-12-17 2014-01-03     2020-11-04   \n",
       "136     Information  1011177202     2013-12-18 2014-01-06     2020-11-04   \n",
       "137     Information  1011177202     2013-12-18 2014-01-06     2020-11-04   \n",
       "...             ...         ...            ...        ...            ...   \n",
       "266452  No Category  1016494753     2020-11-05 2020-11-05     2021-03-15   \n",
       "268247  No Category  1016498447     2020-11-06 2020-11-06     2021-04-16   \n",
       "269186  No Category  1016500076     2020-11-08 2020-11-08     2021-03-23   \n",
       "300789  No Category  1016562919     2020-12-06 2020-12-06     2021-05-04   \n",
       "325813  No Category  1016611443     2021-01-02 2021-01-02     2021-04-21   \n",
       "\n",
       "       Late (Yes/No)                  Dept        REASONNAME  \\\n",
       "131              YES      Customer Service   311 Call Center   \n",
       "132              YES      Customer Service   311 Call Center   \n",
       "133              YES      Customer Service   311 Call Center   \n",
       "136              YES      Customer Service   311 Call Center   \n",
       "137              YES      Customer Service   311 Call Center   \n",
       "...              ...                   ...               ...   \n",
       "266452           YES  Animal Care Services  Field Operations   \n",
       "268247           YES  Animal Care Services  Field Operations   \n",
       "269186           YES  Animal Care Services  Field Operations   \n",
       "300789           YES  Animal Care Services  Field Operations   \n",
       "325813           YES  Animal Care Services  Field Operations   \n",
       "\n",
       "                               TYPENAME CaseStatus          SourceID  \\\n",
       "131                           Complaint     Closed  Constituent Call   \n",
       "132                           Complaint     Closed  Constituent Call   \n",
       "133                           Complaint     Closed  Constituent Call   \n",
       "136                           Complaint     Closed  Constituent Call   \n",
       "137                           Complaint     Closed  Constituent Call   \n",
       "...                                 ...        ...               ...   \n",
       "266452  Cruelty-Neglect(Animal Cruelty)     Closed        Web Portal   \n",
       "268247  Cruelty-Neglect(Animal Cruelty)     Closed        Web Portal   \n",
       "269186  Cruelty-Neglect(Animal Cruelty)     Closed        Web Portal   \n",
       "300789  Cruelty-Neglect(Animal Cruelty)     Closed        Web Portal   \n",
       "325813            Animals(Animal Sales)     Closed        Web Portal   \n",
       "\n",
       "                                      OBJECTDESC  Council District     XCOORD  \\\n",
       "131      314  HOLLYWOOD AV W, San Antonio, 78212                 1  2128217.0   \n",
       "132        12907  WAYNESBORO, San Antonio, 78233                10  2170381.0   \n",
       "133     1906  INDIAN MEADOWS, San Antonio, 78230                 8  2100026.0   \n",
       "136          4702  BOHILL DR, San Antonio, 78217                10  2159251.0   \n",
       "137          4702  BOHILL DR, San Antonio, 78217                10  2159251.0   \n",
       "...                                          ...               ...        ...   \n",
       "266452         1531  S CALLAGHAN RD, SAN ANTONIO                 6  2095856.0   \n",
       "268247       2400 OAKHILL RD, SAN ANTONIO, 78238                 6  2092919.0   \n",
       "269186   5427 MIDDLEFIELD DR, SAN ANTONIO, 78242                 4  2095080.0   \n",
       "300789         213 COLFAX ST, SAN ANTONIO, 78228                 7  2103204.0   \n",
       "325813                 FM 2537 and PLEASANTON RD                 3  2129858.0   \n",
       "\n",
       "            YCOORD Report Starting Date Report Ending Date  days_open  \\\n",
       "131     13716540.0            5/15/2020          5/15/2021     2515.0   \n",
       "132     13750902.0            5/15/2020          5/15/2021     2514.0   \n",
       "133     13751158.0            5/15/2020          5/15/2021     2514.0   \n",
       "136     13754284.0            5/15/2020          5/15/2021     2513.0   \n",
       "137     13754284.0            5/15/2020          5/15/2021     2513.0   \n",
       "...            ...                  ...                ...        ...   \n",
       "266452  13699633.0            5/15/2020          5/15/2021      130.0   \n",
       "268247  13714779.0            5/15/2020          5/15/2021      161.0   \n",
       "269186  13680312.0            5/15/2020          5/15/2021      135.0   \n",
       "300789  13714930.0            5/15/2020          5/15/2021      149.0   \n",
       "325813  13639994.0            5/15/2020          5/15/2021      109.0   \n",
       "\n",
       "        resolution_days_due  pct_time_of_used  \n",
       "131                    18.0        139.722222  \n",
       "132                    18.0        139.666667  \n",
       "133                    18.0        139.666667  \n",
       "136                    20.0        125.650000  \n",
       "137                    20.0        125.650000  \n",
       "...                     ...               ...  \n",
       "266452                  1.0        130.000000  \n",
       "268247                  1.0        161.000000  \n",
       "269186                  1.0        135.000000  \n",
       "300789                  1.0        149.000000  \n",
       "325813                  1.0        109.000000  \n",
       "\n",
       "[1784 rows x 20 columns]"
      ]
     },
     "execution_count": 123,
     "metadata": {},
     "output_type": "execute_result"
    }
   ],
   "source": [
    "df[(df['pct_time_of_used'] > 100.0) & (df['pct_time_of_used'] < 200.0)]"
   ]
  },
  {
   "cell_type": "code",
   "execution_count": 124,
   "metadata": {},
   "outputs": [],
   "source": [
    "    df['level_of_delay'] = pd.cut(df.pct_time_of_used, \n",
    "                            bins = [-20.0,0.5,0.75,1.0,15,800],\n",
    "                            labels = ['Very Early Response', \n",
    "                                      'Early Response', \"On Time Response\", \"Late Response\", \n",
    "                                      'Very Late Response'])"
   ]
  },
  {
   "cell_type": "code",
   "execution_count": 125,
   "metadata": {},
   "outputs": [
    {
     "data": {
      "text/plain": [
       "(495440, 21)"
      ]
     },
     "execution_count": 125,
     "metadata": {},
     "output_type": "execute_result"
    }
   ],
   "source": [
    "df.shape"
   ]
  },
  {
   "cell_type": "code",
   "execution_count": 42,
   "metadata": {},
   "outputs": [
    {
     "data": {
      "text/html": [
       "<div>\n",
       "<style scoped>\n",
       "    .dataframe tbody tr th:only-of-type {\n",
       "        vertical-align: middle;\n",
       "    }\n",
       "\n",
       "    .dataframe tbody tr th {\n",
       "        vertical-align: top;\n",
       "    }\n",
       "\n",
       "    .dataframe thead th {\n",
       "        text-align: right;\n",
       "    }\n",
       "</style>\n",
       "<table border=\"1\" class=\"dataframe\">\n",
       "  <thead>\n",
       "    <tr style=\"text-align: right;\">\n",
       "      <th></th>\n",
       "      <th>Category</th>\n",
       "      <th>CASEID</th>\n",
       "      <th>OPENEDDATETIME</th>\n",
       "      <th>SLA_Date</th>\n",
       "      <th>CLOSEDDATETIME</th>\n",
       "      <th>Late (Yes/No)</th>\n",
       "      <th>Dept</th>\n",
       "      <th>REASONNAME</th>\n",
       "      <th>TYPENAME</th>\n",
       "      <th>CaseStatus</th>\n",
       "      <th>...</th>\n",
       "      <th>OBJECTDESC</th>\n",
       "      <th>Council District</th>\n",
       "      <th>XCOORD</th>\n",
       "      <th>YCOORD</th>\n",
       "      <th>Report Starting Date</th>\n",
       "      <th>Report Ending Date</th>\n",
       "      <th>days_open</th>\n",
       "      <th>resolution_days_due</th>\n",
       "      <th>pct_time_of_used</th>\n",
       "      <th>level_of_delay</th>\n",
       "    </tr>\n",
       "  </thead>\n",
       "  <tbody>\n",
       "    <tr>\n",
       "      <th>344310</th>\n",
       "      <td>No Category</td>\n",
       "      <td>1016645363</td>\n",
       "      <td>2021-01-20</td>\n",
       "      <td>2021-01-25</td>\n",
       "      <td>NaT</td>\n",
       "      <td>YES</td>\n",
       "      <td>Development Services</td>\n",
       "      <td>Code Enforcement</td>\n",
       "      <td>Graffiti (Public Property)</td>\n",
       "      <td>Open</td>\n",
       "      <td>...</td>\n",
       "      <td>IH 10 W ACCESS RD and IH 35 N ACCESS RD</td>\n",
       "      <td>1</td>\n",
       "      <td>2127613.0</td>\n",
       "      <td>13704534.0</td>\n",
       "      <td>5/15/2020</td>\n",
       "      <td>5/15/2021</td>\n",
       "      <td>0.0</td>\n",
       "      <td>6.0</td>\n",
       "      <td>0.0</td>\n",
       "      <td>Extremely Early Response</td>\n",
       "    </tr>\n",
       "  </tbody>\n",
       "</table>\n",
       "<p>1 rows × 21 columns</p>\n",
       "</div>"
      ],
      "text/plain": [
       "           Category      CASEID OPENEDDATETIME   SLA_Date CLOSEDDATETIME  \\\n",
       "344310  No Category  1016645363     2021-01-20 2021-01-25            NaT   \n",
       "\n",
       "       Late (Yes/No)                  Dept        REASONNAME  \\\n",
       "344310           YES  Development Services  Code Enforcement   \n",
       "\n",
       "                          TYPENAME CaseStatus  ...  \\\n",
       "344310  Graffiti (Public Property)       Open  ...   \n",
       "\n",
       "                                     OBJECTDESC Council District     XCOORD  \\\n",
       "344310  IH 10 W ACCESS RD and IH 35 N ACCESS RD                1  2127613.0   \n",
       "\n",
       "            YCOORD  Report Starting Date Report Ending Date days_open  \\\n",
       "344310  13704534.0             5/15/2020          5/15/2021       0.0   \n",
       "\n",
       "        resolution_days_due  pct_time_of_used            level_of_delay  \n",
       "344310                  6.0               0.0  Extremely Early Response  \n",
       "\n",
       "[1 rows x 21 columns]"
      ]
     },
     "execution_count": 42,
     "metadata": {},
     "output_type": "execute_result"
    }
   ],
   "source": [
    "df.sample(1)"
   ]
  },
  {
   "cell_type": "code",
   "execution_count": 126,
   "metadata": {},
   "outputs": [
    {
     "data": {
      "text/plain": [
       "Category                    0\n",
       "CASEID                      0\n",
       "OPENEDDATETIME              0\n",
       "SLA_Date                14140\n",
       "CLOSEDDATETIME          54053\n",
       "Late (Yes/No)               0\n",
       "Dept                    50299\n",
       "REASONNAME                  0\n",
       "TYPENAME                    0\n",
       "CaseStatus                  0\n",
       "SourceID                    0\n",
       "OBJECTDESC                  0\n",
       "Council District            0\n",
       "XCOORD                     95\n",
       "YCOORD                     95\n",
       "Report Starting Date        0\n",
       "Report Ending Date          0\n",
       "days_open                   0\n",
       "resolution_days_due     14140\n",
       "pct_time_of_used        14140\n",
       "level_of_delay          14140\n",
       "dtype: int64"
      ]
     },
     "execution_count": 126,
     "metadata": {},
     "output_type": "execute_result"
    }
   ],
   "source": [
    "df.isnull().sum()"
   ]
  },
  {
   "cell_type": "code",
   "execution_count": 127,
   "metadata": {},
   "outputs": [
    {
     "data": {
      "text/plain": [
       "0         False\n",
       "1         False\n",
       "2         False\n",
       "3         False\n",
       "4         False\n",
       "          ...  \n",
       "495435    False\n",
       "495436    False\n",
       "495437    False\n",
       "495438    False\n",
       "495439    False\n",
       "Name: level_of_delay, Length: 495440, dtype: bool"
      ]
     },
     "execution_count": 127,
     "metadata": {},
     "output_type": "execute_result"
    }
   ],
   "source": [
    "df.level_of_delay.isnull()"
   ]
  },
  {
   "cell_type": "code",
   "execution_count": 128,
   "metadata": {},
   "outputs": [],
   "source": [
    "# drop nulls in these columns\n",
    "df.dropna(subset=['days_open'], how='all', inplace=True)"
   ]
  },
  {
   "cell_type": "code",
   "execution_count": 129,
   "metadata": {},
   "outputs": [
    {
     "data": {
      "text/plain": [
       "Category                    0\n",
       "CASEID                      0\n",
       "OPENEDDATETIME              0\n",
       "SLA_Date                14140\n",
       "CLOSEDDATETIME          54053\n",
       "Late (Yes/No)               0\n",
       "Dept                    50299\n",
       "REASONNAME                  0\n",
       "TYPENAME                    0\n",
       "CaseStatus                  0\n",
       "SourceID                    0\n",
       "OBJECTDESC                  0\n",
       "Council District            0\n",
       "XCOORD                     95\n",
       "YCOORD                     95\n",
       "Report Starting Date        0\n",
       "Report Ending Date          0\n",
       "days_open                   0\n",
       "resolution_days_due     14140\n",
       "pct_time_of_used        14140\n",
       "level_of_delay          14140\n",
       "dtype: int64"
      ]
     },
     "execution_count": 129,
     "metadata": {},
     "output_type": "execute_result"
    }
   ],
   "source": [
    "df.isnull().sum()"
   ]
  },
  {
   "cell_type": "code",
   "execution_count": 130,
   "metadata": {},
   "outputs": [
    {
     "data": {
      "text/plain": [
       "(495440, 21)"
      ]
     },
     "execution_count": 130,
     "metadata": {},
     "output_type": "execute_result"
    }
   ],
   "source": [
    "df.shape"
   ]
  },
  {
   "cell_type": "code",
   "execution_count": 131,
   "metadata": {},
   "outputs": [
    {
     "data": {
      "text/plain": [
       "Very Early Response    385998\n",
       "Late Response           35740\n",
       "Early Response          28246\n",
       "On Time Response        23550\n",
       "Very Late Response       7766\n",
       "Name: level_of_delay, dtype: int64"
      ]
     },
     "execution_count": 131,
     "metadata": {},
     "output_type": "execute_result"
    }
   ],
   "source": [
    "df.level_of_delay.value_counts()"
   ]
  },
  {
   "cell_type": "code",
   "execution_count": 132,
   "metadata": {},
   "outputs": [],
   "source": [
    "df.dropna(subset=['level_of_delay'], how='all', inplace=True)"
   ]
  },
  {
   "cell_type": "code",
   "execution_count": 133,
   "metadata": {},
   "outputs": [
    {
     "data": {
      "text/plain": [
       "(481300, 21)"
      ]
     },
     "execution_count": 133,
     "metadata": {},
     "output_type": "execute_result"
    }
   ],
   "source": [
    "df.shape"
   ]
  },
  {
   "cell_type": "code",
   "execution_count": 134,
   "metadata": {},
   "outputs": [
    {
     "data": {
      "text/plain": [
       "Very Early Response    385998\n",
       "Late Response           35740\n",
       "Early Response          28246\n",
       "On Time Response        23550\n",
       "Very Late Response       7766\n",
       "Name: level_of_delay, dtype: int64"
      ]
     },
     "execution_count": 134,
     "metadata": {},
     "output_type": "execute_result"
    }
   ],
   "source": [
    "df.level_of_delay.value_counts()"
   ]
  },
  {
   "cell_type": "code",
   "execution_count": 51,
   "metadata": {},
   "outputs": [],
   "source": [
    "# add a new category for level of delay\n",
    "#df[\"level_of_delay\"] = df['level_of_delay'].cat.add_categories('Still Open')"
   ]
  },
  {
   "cell_type": "code",
   "execution_count": 52,
   "metadata": {},
   "outputs": [
    {
     "data": {
      "text/html": [
       "<div>\n",
       "<style scoped>\n",
       "    .dataframe tbody tr th:only-of-type {\n",
       "        vertical-align: middle;\n",
       "    }\n",
       "\n",
       "    .dataframe tbody tr th {\n",
       "        vertical-align: top;\n",
       "    }\n",
       "\n",
       "    .dataframe thead th {\n",
       "        text-align: right;\n",
       "    }\n",
       "</style>\n",
       "<table border=\"1\" class=\"dataframe\">\n",
       "  <thead>\n",
       "    <tr style=\"text-align: right;\">\n",
       "      <th></th>\n",
       "      <th>Category</th>\n",
       "      <th>CASEID</th>\n",
       "      <th>OPENEDDATETIME</th>\n",
       "      <th>SLA_Date</th>\n",
       "      <th>CLOSEDDATETIME</th>\n",
       "      <th>Late (Yes/No)</th>\n",
       "      <th>Dept</th>\n",
       "      <th>REASONNAME</th>\n",
       "      <th>TYPENAME</th>\n",
       "      <th>CaseStatus</th>\n",
       "      <th>...</th>\n",
       "      <th>OBJECTDESC</th>\n",
       "      <th>Council District</th>\n",
       "      <th>XCOORD</th>\n",
       "      <th>YCOORD</th>\n",
       "      <th>Report Starting Date</th>\n",
       "      <th>Report Ending Date</th>\n",
       "      <th>days_open</th>\n",
       "      <th>resolution_days_due</th>\n",
       "      <th>pct_time_of_used</th>\n",
       "      <th>level_of_delay</th>\n",
       "    </tr>\n",
       "  </thead>\n",
       "  <tbody>\n",
       "    <tr>\n",
       "      <th>0</th>\n",
       "      <td>Graffiti</td>\n",
       "      <td>1010444245</td>\n",
       "      <td>2012-08-15</td>\n",
       "      <td>2012-08-30</td>\n",
       "      <td>NaT</td>\n",
       "      <td>YES</td>\n",
       "      <td>Code Enforcement Services</td>\n",
       "      <td>Graffiti</td>\n",
       "      <td>Graffiti Public Property</td>\n",
       "      <td>Open</td>\n",
       "      <td>...</td>\n",
       "      <td>600  NOGALITOS ST, San Antonio, 78204</td>\n",
       "      <td>5</td>\n",
       "      <td>2125683.0</td>\n",
       "      <td>13695548.0</td>\n",
       "      <td>5/15/2020</td>\n",
       "      <td>5/15/2021</td>\n",
       "      <td>0.0</td>\n",
       "      <td>16.0</td>\n",
       "      <td>0.0</td>\n",
       "      <td>Extremely Early Response</td>\n",
       "    </tr>\n",
       "    <tr>\n",
       "      <th>1</th>\n",
       "      <td>Property Maintenance</td>\n",
       "      <td>1010888252</td>\n",
       "      <td>2013-06-06</td>\n",
       "      <td>2013-08-09</td>\n",
       "      <td>NaT</td>\n",
       "      <td>YES</td>\n",
       "      <td>Code Enforcement Services</td>\n",
       "      <td>Code Enforcement (IntExp)</td>\n",
       "      <td>Alley-Way Maintenance</td>\n",
       "      <td>Open</td>\n",
       "      <td>...</td>\n",
       "      <td>6043  CASTLE QUEEN, San Antonio, 78218</td>\n",
       "      <td>2</td>\n",
       "      <td>2169702.0</td>\n",
       "      <td>13725769.0</td>\n",
       "      <td>5/15/2020</td>\n",
       "      <td>5/15/2021</td>\n",
       "      <td>0.0</td>\n",
       "      <td>65.0</td>\n",
       "      <td>0.0</td>\n",
       "      <td>Extremely Early Response</td>\n",
       "    </tr>\n",
       "    <tr>\n",
       "      <th>2</th>\n",
       "      <td>Property Maintenance</td>\n",
       "      <td>1010966128</td>\n",
       "      <td>2013-07-19</td>\n",
       "      <td>2013-09-23</td>\n",
       "      <td>NaT</td>\n",
       "      <td>YES</td>\n",
       "      <td>Code Enforcement Services</td>\n",
       "      <td>Code Enforcement (IntExp)</td>\n",
       "      <td>Junk Vehicle On Private Property</td>\n",
       "      <td>Open</td>\n",
       "      <td>...</td>\n",
       "      <td>842  KIRK PL, San Antonio, 78226</td>\n",
       "      <td>5</td>\n",
       "      <td>2116192.0</td>\n",
       "      <td>13692260.0</td>\n",
       "      <td>5/15/2020</td>\n",
       "      <td>5/15/2021</td>\n",
       "      <td>0.0</td>\n",
       "      <td>67.0</td>\n",
       "      <td>0.0</td>\n",
       "      <td>Extremely Early Response</td>\n",
       "    </tr>\n",
       "    <tr>\n",
       "      <th>3</th>\n",
       "      <td>Property Maintenance</td>\n",
       "      <td>1011052825</td>\n",
       "      <td>2013-09-16</td>\n",
       "      <td>2013-09-30</td>\n",
       "      <td>NaT</td>\n",
       "      <td>YES</td>\n",
       "      <td>Code Enforcement Services</td>\n",
       "      <td>Code Enforcement</td>\n",
       "      <td>Right Of Way/Sidewalk Obstruction</td>\n",
       "      <td>Open</td>\n",
       "      <td>...</td>\n",
       "      <td>54  KENROCK RIDGE, San Antonio, 78254</td>\n",
       "      <td>7</td>\n",
       "      <td>2082242.0</td>\n",
       "      <td>13737817.0</td>\n",
       "      <td>5/15/2020</td>\n",
       "      <td>5/15/2021</td>\n",
       "      <td>0.0</td>\n",
       "      <td>15.0</td>\n",
       "      <td>0.0</td>\n",
       "      <td>Extremely Early Response</td>\n",
       "    </tr>\n",
       "    <tr>\n",
       "      <th>4</th>\n",
       "      <td>Property Maintenance</td>\n",
       "      <td>1011052826</td>\n",
       "      <td>2013-09-16</td>\n",
       "      <td>2013-09-30</td>\n",
       "      <td>NaT</td>\n",
       "      <td>YES</td>\n",
       "      <td>Code Enforcement Services</td>\n",
       "      <td>Code Enforcement</td>\n",
       "      <td>Right Of Way/Sidewalk Obstruction</td>\n",
       "      <td>Open</td>\n",
       "      <td>...</td>\n",
       "      <td>74  KENROCK RIDGE, San Antonio, 78254</td>\n",
       "      <td>7</td>\n",
       "      <td>2082389.0</td>\n",
       "      <td>13737877.0</td>\n",
       "      <td>5/15/2020</td>\n",
       "      <td>5/15/2021</td>\n",
       "      <td>0.0</td>\n",
       "      <td>15.0</td>\n",
       "      <td>0.0</td>\n",
       "      <td>Extremely Early Response</td>\n",
       "    </tr>\n",
       "  </tbody>\n",
       "</table>\n",
       "<p>5 rows × 21 columns</p>\n",
       "</div>"
      ],
      "text/plain": [
       "               Category      CASEID OPENEDDATETIME   SLA_Date CLOSEDDATETIME  \\\n",
       "0              Graffiti  1010444245     2012-08-15 2012-08-30            NaT   \n",
       "1  Property Maintenance  1010888252     2013-06-06 2013-08-09            NaT   \n",
       "2  Property Maintenance  1010966128     2013-07-19 2013-09-23            NaT   \n",
       "3  Property Maintenance  1011052825     2013-09-16 2013-09-30            NaT   \n",
       "4  Property Maintenance  1011052826     2013-09-16 2013-09-30            NaT   \n",
       "\n",
       "  Late (Yes/No)                       Dept                 REASONNAME  \\\n",
       "0           YES  Code Enforcement Services                   Graffiti   \n",
       "1           YES  Code Enforcement Services  Code Enforcement (IntExp)   \n",
       "2           YES  Code Enforcement Services  Code Enforcement (IntExp)   \n",
       "3           YES  Code Enforcement Services           Code Enforcement   \n",
       "4           YES  Code Enforcement Services           Code Enforcement   \n",
       "\n",
       "                            TYPENAME CaseStatus  ...  \\\n",
       "0           Graffiti Public Property       Open  ...   \n",
       "1              Alley-Way Maintenance       Open  ...   \n",
       "2   Junk Vehicle On Private Property       Open  ...   \n",
       "3  Right Of Way/Sidewalk Obstruction       Open  ...   \n",
       "4  Right Of Way/Sidewalk Obstruction       Open  ...   \n",
       "\n",
       "                               OBJECTDESC Council District     XCOORD  \\\n",
       "0   600  NOGALITOS ST, San Antonio, 78204                5  2125683.0   \n",
       "1  6043  CASTLE QUEEN, San Antonio, 78218                2  2169702.0   \n",
       "2        842  KIRK PL, San Antonio, 78226                5  2116192.0   \n",
       "3   54  KENROCK RIDGE, San Antonio, 78254                7  2082242.0   \n",
       "4   74  KENROCK RIDGE, San Antonio, 78254                7  2082389.0   \n",
       "\n",
       "       YCOORD  Report Starting Date Report Ending Date days_open  \\\n",
       "0  13695548.0             5/15/2020          5/15/2021       0.0   \n",
       "1  13725769.0             5/15/2020          5/15/2021       0.0   \n",
       "2  13692260.0             5/15/2020          5/15/2021       0.0   \n",
       "3  13737817.0             5/15/2020          5/15/2021       0.0   \n",
       "4  13737877.0             5/15/2020          5/15/2021       0.0   \n",
       "\n",
       "   resolution_days_due  pct_time_of_used            level_of_delay  \n",
       "0                 16.0               0.0  Extremely Early Response  \n",
       "1                 65.0               0.0  Extremely Early Response  \n",
       "2                 67.0               0.0  Extremely Early Response  \n",
       "3                 15.0               0.0  Extremely Early Response  \n",
       "4                 15.0               0.0  Extremely Early Response  \n",
       "\n",
       "[5 rows x 21 columns]"
      ]
     },
     "execution_count": 52,
     "metadata": {},
     "output_type": "execute_result"
    }
   ],
   "source": [
    "df.head()"
   ]
  },
  {
   "cell_type": "code",
   "execution_count": 53,
   "metadata": {},
   "outputs": [
    {
     "data": {
      "text/html": [
       "<div>\n",
       "<style scoped>\n",
       "    .dataframe tbody tr th:only-of-type {\n",
       "        vertical-align: middle;\n",
       "    }\n",
       "\n",
       "    .dataframe tbody tr th {\n",
       "        vertical-align: top;\n",
       "    }\n",
       "\n",
       "    .dataframe thead th {\n",
       "        text-align: right;\n",
       "    }\n",
       "</style>\n",
       "<table border=\"1\" class=\"dataframe\">\n",
       "  <thead>\n",
       "    <tr style=\"text-align: right;\">\n",
       "      <th></th>\n",
       "      <th>Category</th>\n",
       "      <th>CASEID</th>\n",
       "      <th>OPENEDDATETIME</th>\n",
       "      <th>SLA_Date</th>\n",
       "      <th>CLOSEDDATETIME</th>\n",
       "      <th>Late (Yes/No)</th>\n",
       "      <th>Dept</th>\n",
       "      <th>REASONNAME</th>\n",
       "      <th>TYPENAME</th>\n",
       "      <th>CaseStatus</th>\n",
       "      <th>...</th>\n",
       "      <th>OBJECTDESC</th>\n",
       "      <th>Council District</th>\n",
       "      <th>XCOORD</th>\n",
       "      <th>YCOORD</th>\n",
       "      <th>Report Starting Date</th>\n",
       "      <th>Report Ending Date</th>\n",
       "      <th>days_open</th>\n",
       "      <th>resolution_days_due</th>\n",
       "      <th>pct_time_of_used</th>\n",
       "      <th>level_of_delay</th>\n",
       "    </tr>\n",
       "  </thead>\n",
       "  <tbody>\n",
       "    <tr>\n",
       "      <th>0</th>\n",
       "      <td>Graffiti</td>\n",
       "      <td>1010444245</td>\n",
       "      <td>2012-08-15</td>\n",
       "      <td>2012-08-30</td>\n",
       "      <td>NaT</td>\n",
       "      <td>YES</td>\n",
       "      <td>Code Enforcement Services</td>\n",
       "      <td>Graffiti</td>\n",
       "      <td>Graffiti Public Property</td>\n",
       "      <td>Open</td>\n",
       "      <td>...</td>\n",
       "      <td>600  NOGALITOS ST, San Antonio, 78204</td>\n",
       "      <td>5</td>\n",
       "      <td>2125683.0</td>\n",
       "      <td>13695548.0</td>\n",
       "      <td>5/15/2020</td>\n",
       "      <td>5/15/2021</td>\n",
       "      <td>0.0</td>\n",
       "      <td>16.0</td>\n",
       "      <td>0.0</td>\n",
       "      <td>Extremely Early Response</td>\n",
       "    </tr>\n",
       "    <tr>\n",
       "      <th>1</th>\n",
       "      <td>Property Maintenance</td>\n",
       "      <td>1010888252</td>\n",
       "      <td>2013-06-06</td>\n",
       "      <td>2013-08-09</td>\n",
       "      <td>NaT</td>\n",
       "      <td>YES</td>\n",
       "      <td>Code Enforcement Services</td>\n",
       "      <td>Code Enforcement (IntExp)</td>\n",
       "      <td>Alley-Way Maintenance</td>\n",
       "      <td>Open</td>\n",
       "      <td>...</td>\n",
       "      <td>6043  CASTLE QUEEN, San Antonio, 78218</td>\n",
       "      <td>2</td>\n",
       "      <td>2169702.0</td>\n",
       "      <td>13725769.0</td>\n",
       "      <td>5/15/2020</td>\n",
       "      <td>5/15/2021</td>\n",
       "      <td>0.0</td>\n",
       "      <td>65.0</td>\n",
       "      <td>0.0</td>\n",
       "      <td>Extremely Early Response</td>\n",
       "    </tr>\n",
       "    <tr>\n",
       "      <th>2</th>\n",
       "      <td>Property Maintenance</td>\n",
       "      <td>1010966128</td>\n",
       "      <td>2013-07-19</td>\n",
       "      <td>2013-09-23</td>\n",
       "      <td>NaT</td>\n",
       "      <td>YES</td>\n",
       "      <td>Code Enforcement Services</td>\n",
       "      <td>Code Enforcement (IntExp)</td>\n",
       "      <td>Junk Vehicle On Private Property</td>\n",
       "      <td>Open</td>\n",
       "      <td>...</td>\n",
       "      <td>842  KIRK PL, San Antonio, 78226</td>\n",
       "      <td>5</td>\n",
       "      <td>2116192.0</td>\n",
       "      <td>13692260.0</td>\n",
       "      <td>5/15/2020</td>\n",
       "      <td>5/15/2021</td>\n",
       "      <td>0.0</td>\n",
       "      <td>67.0</td>\n",
       "      <td>0.0</td>\n",
       "      <td>Extremely Early Response</td>\n",
       "    </tr>\n",
       "    <tr>\n",
       "      <th>3</th>\n",
       "      <td>Property Maintenance</td>\n",
       "      <td>1011052825</td>\n",
       "      <td>2013-09-16</td>\n",
       "      <td>2013-09-30</td>\n",
       "      <td>NaT</td>\n",
       "      <td>YES</td>\n",
       "      <td>Code Enforcement Services</td>\n",
       "      <td>Code Enforcement</td>\n",
       "      <td>Right Of Way/Sidewalk Obstruction</td>\n",
       "      <td>Open</td>\n",
       "      <td>...</td>\n",
       "      <td>54  KENROCK RIDGE, San Antonio, 78254</td>\n",
       "      <td>7</td>\n",
       "      <td>2082242.0</td>\n",
       "      <td>13737817.0</td>\n",
       "      <td>5/15/2020</td>\n",
       "      <td>5/15/2021</td>\n",
       "      <td>0.0</td>\n",
       "      <td>15.0</td>\n",
       "      <td>0.0</td>\n",
       "      <td>Extremely Early Response</td>\n",
       "    </tr>\n",
       "    <tr>\n",
       "      <th>4</th>\n",
       "      <td>Property Maintenance</td>\n",
       "      <td>1011052826</td>\n",
       "      <td>2013-09-16</td>\n",
       "      <td>2013-09-30</td>\n",
       "      <td>NaT</td>\n",
       "      <td>YES</td>\n",
       "      <td>Code Enforcement Services</td>\n",
       "      <td>Code Enforcement</td>\n",
       "      <td>Right Of Way/Sidewalk Obstruction</td>\n",
       "      <td>Open</td>\n",
       "      <td>...</td>\n",
       "      <td>74  KENROCK RIDGE, San Antonio, 78254</td>\n",
       "      <td>7</td>\n",
       "      <td>2082389.0</td>\n",
       "      <td>13737877.0</td>\n",
       "      <td>5/15/2020</td>\n",
       "      <td>5/15/2021</td>\n",
       "      <td>0.0</td>\n",
       "      <td>15.0</td>\n",
       "      <td>0.0</td>\n",
       "      <td>Extremely Early Response</td>\n",
       "    </tr>\n",
       "  </tbody>\n",
       "</table>\n",
       "<p>5 rows × 21 columns</p>\n",
       "</div>"
      ],
      "text/plain": [
       "               Category      CASEID OPENEDDATETIME   SLA_Date CLOSEDDATETIME  \\\n",
       "0              Graffiti  1010444245     2012-08-15 2012-08-30            NaT   \n",
       "1  Property Maintenance  1010888252     2013-06-06 2013-08-09            NaT   \n",
       "2  Property Maintenance  1010966128     2013-07-19 2013-09-23            NaT   \n",
       "3  Property Maintenance  1011052825     2013-09-16 2013-09-30            NaT   \n",
       "4  Property Maintenance  1011052826     2013-09-16 2013-09-30            NaT   \n",
       "\n",
       "  Late (Yes/No)                       Dept                 REASONNAME  \\\n",
       "0           YES  Code Enforcement Services                   Graffiti   \n",
       "1           YES  Code Enforcement Services  Code Enforcement (IntExp)   \n",
       "2           YES  Code Enforcement Services  Code Enforcement (IntExp)   \n",
       "3           YES  Code Enforcement Services           Code Enforcement   \n",
       "4           YES  Code Enforcement Services           Code Enforcement   \n",
       "\n",
       "                            TYPENAME CaseStatus  ...  \\\n",
       "0           Graffiti Public Property       Open  ...   \n",
       "1              Alley-Way Maintenance       Open  ...   \n",
       "2   Junk Vehicle On Private Property       Open  ...   \n",
       "3  Right Of Way/Sidewalk Obstruction       Open  ...   \n",
       "4  Right Of Way/Sidewalk Obstruction       Open  ...   \n",
       "\n",
       "                               OBJECTDESC Council District     XCOORD  \\\n",
       "0   600  NOGALITOS ST, San Antonio, 78204                5  2125683.0   \n",
       "1  6043  CASTLE QUEEN, San Antonio, 78218                2  2169702.0   \n",
       "2        842  KIRK PL, San Antonio, 78226                5  2116192.0   \n",
       "3   54  KENROCK RIDGE, San Antonio, 78254                7  2082242.0   \n",
       "4   74  KENROCK RIDGE, San Antonio, 78254                7  2082389.0   \n",
       "\n",
       "       YCOORD  Report Starting Date Report Ending Date days_open  \\\n",
       "0  13695548.0             5/15/2020          5/15/2021       0.0   \n",
       "1  13725769.0             5/15/2020          5/15/2021       0.0   \n",
       "2  13692260.0             5/15/2020          5/15/2021       0.0   \n",
       "3  13737817.0             5/15/2020          5/15/2021       0.0   \n",
       "4  13737877.0             5/15/2020          5/15/2021       0.0   \n",
       "\n",
       "   resolution_days_due  pct_time_of_used            level_of_delay  \n",
       "0                 16.0               0.0  Extremely Early Response  \n",
       "1                 65.0               0.0  Extremely Early Response  \n",
       "2                 67.0               0.0  Extremely Early Response  \n",
       "3                 15.0               0.0  Extremely Early Response  \n",
       "4                 15.0               0.0  Extremely Early Response  \n",
       "\n",
       "[5 rows x 21 columns]"
      ]
     },
     "execution_count": 53,
     "metadata": {},
     "output_type": "execute_result"
    }
   ],
   "source": [
    "# replace nulls in level of delay with \"Still Open\"\n",
    "#df[\"level_of_delay\"].fillna(\"Still Open\", inplace=True)\n",
    "df.head()"
   ]
  },
  {
   "cell_type": "markdown",
   "metadata": {},
   "source": [
    "___"
   ]
  },
  {
   "cell_type": "markdown",
   "metadata": {},
   "source": [
    "## Put it all into a function"
   ]
  },
  {
   "cell_type": "code",
   "execution_count": 54,
   "metadata": {},
   "outputs": [],
   "source": [
    "df = pd.read_csv('service_calls.csv')"
   ]
  },
  {
   "cell_type": "code",
   "execution_count": 55,
   "metadata": {},
   "outputs": [
    {
     "data": {
      "text/plain": [
       "(495440, 17)"
      ]
     },
     "execution_count": 55,
     "metadata": {},
     "output_type": "execute_result"
    }
   ],
   "source": [
    "df.shape"
   ]
  },
  {
   "cell_type": "code",
   "execution_count": 56,
   "metadata": {},
   "outputs": [
    {
     "data": {
      "text/plain": [
       "Category                    0\n",
       "CASEID                      0\n",
       "OPENEDDATETIME              0\n",
       "SLA_Date                14140\n",
       "CLOSEDDATETIME          54053\n",
       "Late (Yes/No)               0\n",
       "Dept                    50299\n",
       "REASONNAME                  0\n",
       "TYPENAME                    0\n",
       "CaseStatus                  0\n",
       "SourceID                    0\n",
       "OBJECTDESC                  0\n",
       "Council District            0\n",
       "XCOORD                     95\n",
       "YCOORD                     95\n",
       "Report Starting Date        0\n",
       "Report Ending Date          0\n",
       "dtype: int64"
      ]
     },
     "execution_count": 56,
     "metadata": {},
     "output_type": "execute_result"
    }
   ],
   "source": [
    "df.isnull().sum()"
   ]
  },
  {
   "cell_type": "code",
   "execution_count": 57,
   "metadata": {},
   "outputs": [],
   "source": [
    "def drop_and_index(df):\n",
    "    \"\"\"\n",
    "    This function will take in one positional argurment:\n",
    "    1.  311 df\n",
    "    This function will perform the following operations to the df:\n",
    "    1.  Drop category, drop report starting date, and drop report\n",
    "    ending date\n",
    "    2.  Set CASEID as the index\n",
    "    \"\"\"\n",
    "    # Drop category, report starting date, and report ending date\n",
    "    df.drop(columns=['Category', \n",
    "                 'Report Starting Date', \n",
    "                 'Report Ending Date' ], inplace=True)\n",
    "    # Set index to case id\n",
    "    df.set_index('CASEID', inplace=True)\n",
    "    return df"
   ]
  },
  {
   "cell_type": "code",
   "execution_count": 58,
   "metadata": {},
   "outputs": [],
   "source": [
    "df = drop_and_index(df)"
   ]
  },
  {
   "cell_type": "code",
   "execution_count": 59,
   "metadata": {},
   "outputs": [
    {
     "data": {
      "text/plain": [
       "OPENEDDATETIME          0\n",
       "SLA_Date            14140\n",
       "CLOSEDDATETIME      54053\n",
       "Late (Yes/No)           0\n",
       "Dept                50299\n",
       "REASONNAME              0\n",
       "TYPENAME                0\n",
       "CaseStatus              0\n",
       "SourceID                0\n",
       "OBJECTDESC              0\n",
       "Council District        0\n",
       "XCOORD                 95\n",
       "YCOORD                 95\n",
       "dtype: int64"
      ]
     },
     "execution_count": 59,
     "metadata": {},
     "output_type": "execute_result"
    }
   ],
   "source": [
    "df.isnull().sum()"
   ]
  },
  {
   "cell_type": "code",
   "execution_count": 60,
   "metadata": {},
   "outputs": [
    {
     "data": {
      "text/plain": [
       "(495440, 13)"
      ]
     },
     "execution_count": 60,
     "metadata": {},
     "output_type": "execute_result"
    }
   ],
   "source": [
    "df.shape"
   ]
  },
  {
   "cell_type": "code",
   "execution_count": 61,
   "metadata": {},
   "outputs": [],
   "source": [
    "def handle_nulls(df):\n",
    "    '''This funciton takes in data frame\n",
    "    drops nulls for specified features\n",
    "    replaces nulls with \"Unknown\" for specific feature\n",
    "    removes observations where City Council is the Department'''\n",
    "    # drop null values\n",
    "    df.dropna(subset = ['SLA_Date', 'XCOORD', 'YCOORD'], inplace = True)\n",
    "    # replace null values\n",
    "    df.fillna({'Dept': 'Unknown'}, inplace = True)\n",
    "    # remove city council department\n",
    "    df = df[df.Dept != 'City Council']\n",
    "    # return df\n",
    "    return df"
   ]
  },
  {
   "cell_type": "code",
   "execution_count": 62,
   "metadata": {},
   "outputs": [],
   "source": [
    "df = handle_nulls(df)\n"
   ]
  },
  {
   "cell_type": "code",
   "execution_count": 63,
   "metadata": {},
   "outputs": [
    {
     "data": {
      "text/plain": [
       "OPENEDDATETIME          0\n",
       "SLA_Date                0\n",
       "CLOSEDDATETIME      49509\n",
       "Late (Yes/No)           0\n",
       "Dept                    0\n",
       "REASONNAME              0\n",
       "TYPENAME                0\n",
       "CaseStatus              0\n",
       "SourceID                0\n",
       "OBJECTDESC              0\n",
       "Council District        0\n",
       "XCOORD                  0\n",
       "YCOORD                  0\n",
       "dtype: int64"
      ]
     },
     "execution_count": 63,
     "metadata": {},
     "output_type": "execute_result"
    }
   ],
   "source": [
    "df.isnull().sum()"
   ]
  },
  {
   "cell_type": "code",
   "execution_count": 64,
   "metadata": {},
   "outputs": [
    {
     "data": {
      "text/plain": [
       "(481205, 13)"
      ]
     },
     "execution_count": 64,
     "metadata": {},
     "output_type": "execute_result"
    }
   ],
   "source": [
    "df.shape"
   ]
  },
  {
   "cell_type": "code",
   "execution_count": 65,
   "metadata": {},
   "outputs": [],
   "source": [
    "def create_delay_columns(df):\n",
    "    '''This funciton takes in the dataframe\n",
    "    reformats specified columns into datetime format\n",
    "    create 2 columns to see time a case was open \n",
    "    and the time it was given for a resolution to be found\n",
    "    create another feature for how long it took \n",
    "        compare to due date for a resolution to be found\n",
    "    bin how long it took compared to due date\n",
    "    fill nulls with \"Still Open\"\n",
    "    return df\n",
    "    '''\n",
    "    # make sure the open and closed date columns are formatted in datetime format\n",
    "    df['OPENEDDATETIME'] = pd.to_datetime(df['OPENEDDATETIME'])\n",
    "    df['CLOSEDDATETIME'] = pd.to_datetime(df['CLOSEDDATETIME'])\n",
    "    df['SLA_Date'] = pd.to_datetime(df['SLA_Date'])\n",
    "    # create new number of days open feature\n",
    "    df['days_open'] = df['CLOSEDDATETIME'] - df['OPENEDDATETIME']\n",
    "    # Create new column to hold days before needed resolution\n",
    "    df['resolution_days_due'] = df['SLA_Date'] - df['OPENEDDATETIME']\n",
    "    # Convert to string format insted of timedelta\n",
    "    df['days_open'] = df.days_open // pd.Timedelta('1d')\n",
    "    # Convert to string format insted of timedelta\n",
    "    df['resolution_days_due'] = df.resolution_days_due // pd.Timedelta('1d')\n",
    "    # create new feature to show how long it took to resolve compared to resolution due date\n",
    "    df['days_before_or_after_due'] = df.resolution_days_due - df.days_open\n",
    "    # replace null values in days open with 0\n",
    "    df['days_open'] = df['days_open'].fillna(0)\n",
    "    # add 1 to resolution days to offset future issues with upcoming feature\n",
    "    df['resolution_days_due'] = df['resolution_days_due'] + 1\n",
    "    # create new feature to show how long it took to resolve compared to resolution due date\n",
    "    df['pct_time_of_used'] = df.days_open / df.resolution_days_due\n",
    "    # bin the new feature\n",
    "    df['level_of_delay'] = pd.cut(df.pct_time_of_used, \n",
    "                            bins = [-20.0,0.25,0.5,0.75,1.0,15,100,800],\n",
    "                            labels = ['Extremely Early Response', 'Very Early Response', \n",
    "                                      'Early Response', \"On Time Response\", \"Late Response\", \n",
    "                                      'Very Late Response', 'Extremely Late Response'])\n",
    "    # drop nulls in these columns\n",
    "    df.dropna(subset=['days_open'], how='all', inplace=True)\n",
    "    df.dropna(subset=['level_of_delay'], how='all', inplace=True)\n",
    "    # return df\n",
    "    return df"
   ]
  },
  {
   "cell_type": "code",
   "execution_count": 66,
   "metadata": {},
   "outputs": [],
   "source": [
    "df = create_delay_columns(df)"
   ]
  },
  {
   "cell_type": "code",
   "execution_count": 67,
   "metadata": {},
   "outputs": [
    {
     "data": {
      "text/plain": [
       "OPENEDDATETIME                  0\n",
       "SLA_Date                        0\n",
       "CLOSEDDATETIME              49509\n",
       "Late (Yes/No)                   0\n",
       "Dept                            0\n",
       "REASONNAME                      0\n",
       "TYPENAME                        0\n",
       "CaseStatus                      0\n",
       "SourceID                        0\n",
       "OBJECTDESC                      0\n",
       "Council District                0\n",
       "XCOORD                          0\n",
       "YCOORD                          0\n",
       "days_open                       0\n",
       "resolution_days_due             0\n",
       "days_before_or_after_due    49509\n",
       "pct_time_of_used                0\n",
       "level_of_delay                  0\n",
       "dtype: int64"
      ]
     },
     "execution_count": 67,
     "metadata": {},
     "output_type": "execute_result"
    }
   ],
   "source": [
    "df.isnull().sum()"
   ]
  },
  {
   "cell_type": "code",
   "execution_count": 68,
   "metadata": {},
   "outputs": [
    {
     "data": {
      "text/plain": [
       "(481205, 18)"
      ]
     },
     "execution_count": 68,
     "metadata": {},
     "output_type": "execute_result"
    }
   ],
   "source": [
    "df.shape"
   ]
  },
  {
   "cell_type": "code",
   "execution_count": 69,
   "metadata": {},
   "outputs": [],
   "source": [
    "def handle_outliers(df):\n",
    "    '''removes outiers from df'''\n",
    "    # remove outliers from days_open\n",
    "    df = df[df.days_open < 1400]\n",
    "    # return df\n",
    "    return df"
   ]
  },
  {
   "cell_type": "code",
   "execution_count": 70,
   "metadata": {},
   "outputs": [],
   "source": [
    "df = handle_outliers(df)"
   ]
  },
  {
   "cell_type": "code",
   "execution_count": 71,
   "metadata": {},
   "outputs": [
    {
     "data": {
      "text/plain": [
       "OPENEDDATETIME                  0\n",
       "SLA_Date                        0\n",
       "CLOSEDDATETIME              49509\n",
       "Late (Yes/No)                   0\n",
       "Dept                            0\n",
       "REASONNAME                      0\n",
       "TYPENAME                        0\n",
       "CaseStatus                      0\n",
       "SourceID                        0\n",
       "OBJECTDESC                      0\n",
       "Council District                0\n",
       "XCOORD                          0\n",
       "YCOORD                          0\n",
       "days_open                       0\n",
       "resolution_days_due             0\n",
       "days_before_or_after_due    49509\n",
       "pct_time_of_used                0\n",
       "level_of_delay                  0\n",
       "dtype: int64"
      ]
     },
     "execution_count": 71,
     "metadata": {},
     "output_type": "execute_result"
    }
   ],
   "source": [
    "df.isnull().sum()"
   ]
  },
  {
   "cell_type": "code",
   "execution_count": 72,
   "metadata": {},
   "outputs": [
    {
     "data": {
      "text/plain": [
       "(480129, 18)"
      ]
     },
     "execution_count": 72,
     "metadata": {},
     "output_type": "execute_result"
    }
   ],
   "source": [
    "df.shape"
   ]
  },
  {
   "cell_type": "code",
   "execution_count": 73,
   "metadata": {},
   "outputs": [],
   "source": [
    "def create_dummies(df):\n",
    "    '''This function creates dummy variables for Council Districts'''\n",
    "    # Drop district 0\n",
    "    df = df[df['Council District'] != 0]\n",
    "    # set what we are going to create these dummies from\n",
    "    dummy_df =  pd.get_dummies(df['Council District'])\n",
    "    # Name the new columns\n",
    "    dummy_df.columns = ['district_1', 'district_2', \n",
    "                        'district_3', 'district_4', 'district_5',\n",
    "                        'district_6', 'district_7', 'district_8',\n",
    "                        'district_9', 'district_10']\n",
    "    # add the dummies to the data frame\n",
    "    df = pd.concat([df, dummy_df], axis=1)\n",
    "    return df"
   ]
  },
  {
   "cell_type": "code",
   "execution_count": 74,
   "metadata": {},
   "outputs": [],
   "source": [
    "df = create_dummies(df)"
   ]
  },
  {
   "cell_type": "code",
   "execution_count": 75,
   "metadata": {},
   "outputs": [
    {
     "data": {
      "text/plain": [
       "OPENEDDATETIME                  0\n",
       "SLA_Date                        0\n",
       "CLOSEDDATETIME              49293\n",
       "Late (Yes/No)                   0\n",
       "Dept                            0\n",
       "REASONNAME                      0\n",
       "TYPENAME                        0\n",
       "CaseStatus                      0\n",
       "SourceID                        0\n",
       "OBJECTDESC                      0\n",
       "Council District                0\n",
       "XCOORD                          0\n",
       "YCOORD                          0\n",
       "days_open                       0\n",
       "resolution_days_due             0\n",
       "days_before_or_after_due    49293\n",
       "pct_time_of_used                0\n",
       "level_of_delay                  0\n",
       "district_1                      0\n",
       "district_2                      0\n",
       "district_3                      0\n",
       "district_4                      0\n",
       "district_5                      0\n",
       "district_6                      0\n",
       "district_7                      0\n",
       "district_8                      0\n",
       "district_9                      0\n",
       "district_10                     0\n",
       "dtype: int64"
      ]
     },
     "execution_count": 75,
     "metadata": {},
     "output_type": "execute_result"
    }
   ],
   "source": [
    "df.isnull().sum()"
   ]
  },
  {
   "cell_type": "code",
   "execution_count": 76,
   "metadata": {},
   "outputs": [
    {
     "data": {
      "text/plain": [
       "(477550, 28)"
      ]
     },
     "execution_count": 76,
     "metadata": {},
     "output_type": "execute_result"
    }
   ],
   "source": [
    "df.shape"
   ]
  },
  {
   "cell_type": "code",
   "execution_count": 77,
   "metadata": {},
   "outputs": [],
   "source": [
    "def clean_reason(df):\n",
    "    '''\n",
    "    This function will take in the service call df and replace the content of REASONNAME column with condensed names\n",
    "    '''\n",
    "    # replace with waste\n",
    "    df['REASONNAME'] = df['REASONNAME'].replace(['Waste Collection', 'Solid Waste', 'Brush'], 'waste')\n",
    "    # replace with code\n",
    "    df['REASONNAME'] = df['REASONNAME'].replace(['Code Enforcement', 'Code Enforcement (Internal)', 'Code Enforcement (IntExp)'], 'code')\n",
    "    # replace with\n",
    "    df['REASONNAME'] = df['REASONNAME'].replace(['Field Operations', 'Vector'], 'field')\n",
    "    # replace with\n",
    "    df['REASONNAME'] = df['REASONNAME'].replace('Miscellaneous', 'misc')\n",
    "    # replace with\n",
    "    df['REASONNAME'] = df['REASONNAME'].replace(['Traffic Operations', 'Traffic Engineering Design', 'Traffic Issue Investigation'], 'traffic')\n",
    "    # replace with\n",
    "    df['REASONNAME'] = df['REASONNAME'].replace(['Streets', 'Signals', 'Signs and Markings'], 'streets')\n",
    "    # replace with\n",
    "    df['REASONNAME'] = df['REASONNAME'].replace('Trades', 'trades')\n",
    "    # replace with\n",
    "    df['REASONNAME'] = df['REASONNAME'].replace(['Stormwater', 'Storm Water', 'Storm Water Engineering'], 'storm')\n",
    "    # replace with\n",
    "    df['REASONNAME'] = df['REASONNAME'].replace(['Small Business', 'Food Establishments', 'Shops (Internal)', 'Shops'], 'business')\n",
    "    # replace with\n",
    "    df['REASONNAME'] = df['REASONNAME'].replace('Workforce Development', 'workforce')\n",
    "    # replace with\n",
    "    df['REASONNAME'] = df['REASONNAME'].replace(['Customer Service', '311 Call Center', 'Director\\'s Office Horizontal'], 'customer_service')\n",
    "    # replace with\n",
    "    df['REASONNAME'] = df['REASONNAME'].replace(['Land Development', 'Clean and Green', 'Urban Forestry', 'Natural Resources', 'Park Projects', 'Tree Crew', 'District 2', 'Clean and Green Natural Areas'], 'land')\n",
    "    # replace with\n",
    "    df['REASONNAME'] = df['REASONNAME'].replace('Facility License', 'license')\n",
    "    # replace with\n",
    "    df['REASONNAME'] = df['REASONNAME'].replace(['Dangerous Premise','Historic Preservation', 'Engineering Division'], 'buildings')\n",
    "    # replace with\n",
    "    df['REASONNAME'] = df['REASONNAME'].replace(['Graffiti (IntExp)', 'General Sanitation', 'Graffiti'], 'cleanup')\n",
    "    # replace with\n",
    "    df['REASONNAME'] = df['REASONNAME'].replace(['Waste Collection', 'Solid Waste'], 'waste')\n",
    "    # replace with\n",
    "    df['REASONNAME'] = df['REASONNAME'].replace(['Waste Collection', 'Solid Waste'], 'waste')\n",
    "    return df"
   ]
  },
  {
   "cell_type": "code",
   "execution_count": 78,
   "metadata": {},
   "outputs": [],
   "source": [
    "df = clean_reason(df)"
   ]
  },
  {
   "cell_type": "code",
   "execution_count": 79,
   "metadata": {},
   "outputs": [
    {
     "data": {
      "text/plain": [
       "OPENEDDATETIME                  0\n",
       "SLA_Date                        0\n",
       "CLOSEDDATETIME              49293\n",
       "Late (Yes/No)                   0\n",
       "Dept                            0\n",
       "REASONNAME                      0\n",
       "TYPENAME                        0\n",
       "CaseStatus                      0\n",
       "SourceID                        0\n",
       "OBJECTDESC                      0\n",
       "Council District                0\n",
       "XCOORD                          0\n",
       "YCOORD                          0\n",
       "days_open                       0\n",
       "resolution_days_due             0\n",
       "days_before_or_after_due    49293\n",
       "pct_time_of_used                0\n",
       "level_of_delay                  0\n",
       "district_1                      0\n",
       "district_2                      0\n",
       "district_3                      0\n",
       "district_4                      0\n",
       "district_5                      0\n",
       "district_6                      0\n",
       "district_7                      0\n",
       "district_8                      0\n",
       "district_9                      0\n",
       "district_10                     0\n",
       "dtype: int64"
      ]
     },
     "execution_count": 79,
     "metadata": {},
     "output_type": "execute_result"
    }
   ],
   "source": [
    "df.isnull().sum()"
   ]
  },
  {
   "cell_type": "code",
   "execution_count": 80,
   "metadata": {},
   "outputs": [
    {
     "data": {
      "text/plain": [
       "(477550, 28)"
      ]
     },
     "execution_count": 80,
     "metadata": {},
     "output_type": "execute_result"
    }
   ],
   "source": [
    "df.shape"
   ]
  },
  {
   "cell_type": "code",
   "execution_count": 81,
   "metadata": {},
   "outputs": [],
   "source": [
    "def clean_column_names(df):\n",
    "    '''This function reads in a dataframe as a positional argument, makes the column names easier to call and\n",
    "    more python friendly. It also extracts the zip code from the address column. It then returns a cleaned data \n",
    "    frame.'''\n",
    "    df= df.rename(columns={\n",
    "                    'Category':'category', 'OPENEDDATETIME':'open_date', 'Dept': 'dept',\n",
    "                    'SLA_Date':'due_date', 'CLOSEDDATETIME': 'closed_date', 'Late (Yes/No)': 'is_late',\n",
    "                    'OBJECTDESC': 'address', 'REASONNAME': 'call_reason', 'TYPENAME': 'case_type', \n",
    "                    'Council District': 'council_district', 'CASEID': 'case_id',\n",
    "                    'CaseStatus': 'case_status', 'SourceID':'source_id', 'XCOORD': 'longitude', 'YCOORD': 'latitude',\n",
    "                    'Report Starting Date': 'report_start_date', 'Report Ending Date': 'report_end_date'\n",
    "                      })\n",
    "    df['zipcode'] = df['address'].str.extract(r'.*(\\d{5}?)$')  \n",
    "    #drop zipcode nulls after obtaining zipcode\n",
    "    df.dropna(subset=['zipcode'], how='all', inplace=True)\n",
    "    return df"
   ]
  },
  {
   "cell_type": "code",
   "execution_count": 82,
   "metadata": {},
   "outputs": [],
   "source": [
    "df = clean_column_names(df)"
   ]
  },
  {
   "cell_type": "code",
   "execution_count": 83,
   "metadata": {},
   "outputs": [
    {
     "data": {
      "text/plain": [
       "open_date                       0\n",
       "due_date                        0\n",
       "closed_date                 43182\n",
       "is_late                         0\n",
       "dept                            0\n",
       "call_reason                     0\n",
       "case_type                       0\n",
       "case_status                     0\n",
       "source_id                       0\n",
       "address                         0\n",
       "council_district                0\n",
       "longitude                       0\n",
       "latitude                        0\n",
       "days_open                       0\n",
       "resolution_days_due             0\n",
       "days_before_or_after_due    43182\n",
       "pct_time_of_used                0\n",
       "level_of_delay                  0\n",
       "district_1                      0\n",
       "district_2                      0\n",
       "district_3                      0\n",
       "district_4                      0\n",
       "district_5                      0\n",
       "district_6                      0\n",
       "district_7                      0\n",
       "district_8                      0\n",
       "district_9                      0\n",
       "district_10                     0\n",
       "zipcode                         0\n",
       "dtype: int64"
      ]
     },
     "execution_count": 83,
     "metadata": {},
     "output_type": "execute_result"
    }
   ],
   "source": [
    "df.isnull().sum()"
   ]
  },
  {
   "cell_type": "code",
   "execution_count": 84,
   "metadata": {},
   "outputs": [
    {
     "data": {
      "text/plain": [
       "(399986, 29)"
      ]
     },
     "execution_count": 84,
     "metadata": {},
     "output_type": "execute_result"
    }
   ],
   "source": [
    "df.shape"
   ]
  },
  {
   "cell_type": "code",
   "execution_count": null,
   "metadata": {},
   "outputs": [],
   "source": []
  }
 ],
 "metadata": {
  "kernelspec": {
   "display_name": "Python 3",
   "language": "python",
   "name": "python3"
  },
  "language_info": {
   "codemirror_mode": {
    "name": "ipython",
    "version": 3
   },
   "file_extension": ".py",
   "mimetype": "text/x-python",
   "name": "python",
   "nbconvert_exporter": "python",
   "pygments_lexer": "ipython3",
   "version": "3.8.5"
  }
 },
 "nbformat": 4,
 "nbformat_minor": 4
}
