{
 "cells": [
  {
   "cell_type": "code",
   "execution_count": 1,
   "metadata": {},
   "outputs": [],
   "source": [
    "import pandas as pd\n",
    "import numpy as np\n",
    "\n",
    "import seaborn as sns\n",
    "import matplotlib.pyplot as plt\n",
    "\n",
    "import wrangle"
   ]
  },
  {
   "cell_type": "markdown",
   "metadata": {},
   "source": [
    "# Acquire"
   ]
  },
  {
   "cell_type": "code",
   "execution_count": 12,
   "metadata": {},
   "outputs": [],
   "source": [
    "df = pd.read_csv('allservicecalls.csv')"
   ]
  },
  {
   "cell_type": "code",
   "execution_count": 14,
   "metadata": {},
   "outputs": [
    {
     "data": {
      "text/plain": [
       "(495440, 17)"
      ]
     },
     "execution_count": 14,
     "metadata": {},
     "output_type": "execute_result"
    }
   ],
   "source": [
    "df.shape"
   ]
  },
  {
   "cell_type": "code",
   "execution_count": null,
   "metadata": {},
   "outputs": [],
   "source": []
  },
  {
   "cell_type": "markdown",
   "metadata": {},
   "source": [
    "# Prepare"
   ]
  },
  {
   "cell_type": "code",
   "execution_count": 16,
   "metadata": {},
   "outputs": [
    {
     "data": {
      "text/html": [
       "<div>\n",
       "<style scoped>\n",
       "    .dataframe tbody tr th:only-of-type {\n",
       "        vertical-align: middle;\n",
       "    }\n",
       "\n",
       "    .dataframe tbody tr th {\n",
       "        vertical-align: top;\n",
       "    }\n",
       "\n",
       "    .dataframe thead th {\n",
       "        text-align: right;\n",
       "    }\n",
       "</style>\n",
       "<table border=\"1\" class=\"dataframe\">\n",
       "  <thead>\n",
       "    <tr style=\"text-align: right;\">\n",
       "      <th></th>\n",
       "      <th>case_id</th>\n",
       "      <th>open_date</th>\n",
       "      <th>due_date</th>\n",
       "      <th>closed_date</th>\n",
       "      <th>is_late</th>\n",
       "      <th>dept</th>\n",
       "      <th>call_reason</th>\n",
       "      <th>case_type</th>\n",
       "      <th>case_status</th>\n",
       "      <th>source_id</th>\n",
       "      <th>address</th>\n",
       "      <th>council_district</th>\n",
       "      <th>longitude</th>\n",
       "      <th>latitude</th>\n",
       "      <th>days_open</th>\n",
       "      <th>resolution_days_due</th>\n",
       "      <th>days_before_or_after_due</th>\n",
       "      <th>level_of_delay</th>\n",
       "      <th>zipcode</th>\n",
       "    </tr>\n",
       "  </thead>\n",
       "  <tbody>\n",
       "    <tr>\n",
       "      <th>1207</th>\n",
       "      <td>1012676462</td>\n",
       "      <td>2016-03-25</td>\n",
       "      <td>2020-11-05</td>\n",
       "      <td>2020-10-05</td>\n",
       "      <td>NO</td>\n",
       "      <td>Development Services</td>\n",
       "      <td>buildings</td>\n",
       "      <td>Street Light Existing Res Sub Div</td>\n",
       "      <td>Closed</td>\n",
       "      <td>Constituent Call</td>\n",
       "      <td>1136  KAYTON AVE, San Antonio, 78210</td>\n",
       "      <td>3</td>\n",
       "      <td>2143337.0</td>\n",
       "      <td>13692343.0</td>\n",
       "      <td>1655.0</td>\n",
       "      <td>1686</td>\n",
       "      <td>31.0</td>\n",
       "      <td>Early Response</td>\n",
       "      <td>78210</td>\n",
       "    </tr>\n",
       "    <tr>\n",
       "      <th>2497</th>\n",
       "      <td>1014281655</td>\n",
       "      <td>2018-02-28</td>\n",
       "      <td>2018-07-09</td>\n",
       "      <td>2020-06-06</td>\n",
       "      <td>YES</td>\n",
       "      <td>Code Enforcement Services</td>\n",
       "      <td>code</td>\n",
       "      <td>Certificates of Occupancy</td>\n",
       "      <td>Closed</td>\n",
       "      <td>Internal Services Requests</td>\n",
       "      <td>5550  EASTERLING, San Antonio, 78251</td>\n",
       "      <td>6</td>\n",
       "      <td>2067118.0</td>\n",
       "      <td>13723868.0</td>\n",
       "      <td>829.0</td>\n",
       "      <td>131</td>\n",
       "      <td>-698.0</td>\n",
       "      <td>Extremely Late Response</td>\n",
       "      <td>78251</td>\n",
       "    </tr>\n",
       "    <tr>\n",
       "      <th>2498</th>\n",
       "      <td>1014281665</td>\n",
       "      <td>2018-02-28</td>\n",
       "      <td>2018-07-09</td>\n",
       "      <td>2020-06-06</td>\n",
       "      <td>YES</td>\n",
       "      <td>Code Enforcement Services</td>\n",
       "      <td>code</td>\n",
       "      <td>Zoning: District Requirement</td>\n",
       "      <td>Closed</td>\n",
       "      <td>Internal Services Requests</td>\n",
       "      <td>5550  EASTERLING, San Antonio, 78251</td>\n",
       "      <td>6</td>\n",
       "      <td>2067118.0</td>\n",
       "      <td>13723868.0</td>\n",
       "      <td>829.0</td>\n",
       "      <td>131</td>\n",
       "      <td>-698.0</td>\n",
       "      <td>Extremely Late Response</td>\n",
       "      <td>78251</td>\n",
       "    </tr>\n",
       "    <tr>\n",
       "      <th>2499</th>\n",
       "      <td>1014281677</td>\n",
       "      <td>2018-02-28</td>\n",
       "      <td>2018-07-09</td>\n",
       "      <td>2020-06-06</td>\n",
       "      <td>YES</td>\n",
       "      <td>Code Enforcement Services</td>\n",
       "      <td>code</td>\n",
       "      <td>Certificates of Occupancy</td>\n",
       "      <td>Closed</td>\n",
       "      <td>Internal Services Requests</td>\n",
       "      <td>5550  EASTERLING, San Antonio, 78251</td>\n",
       "      <td>6</td>\n",
       "      <td>2067118.0</td>\n",
       "      <td>13723868.0</td>\n",
       "      <td>829.0</td>\n",
       "      <td>131</td>\n",
       "      <td>-698.0</td>\n",
       "      <td>Extremely Late Response</td>\n",
       "      <td>78251</td>\n",
       "    </tr>\n",
       "    <tr>\n",
       "      <th>2556</th>\n",
       "      <td>1014300321</td>\n",
       "      <td>2018-03-06</td>\n",
       "      <td>2020-09-24</td>\n",
       "      <td>2020-05-18</td>\n",
       "      <td>NO</td>\n",
       "      <td>Development Services</td>\n",
       "      <td>buildings</td>\n",
       "      <td>Street Light Existing Res Sub Div</td>\n",
       "      <td>Closed</td>\n",
       "      <td>Constituent Call</td>\n",
       "      <td>1018  KING AVE, San Antonio, 78211</td>\n",
       "      <td>4</td>\n",
       "      <td>2108015.0</td>\n",
       "      <td>13680344.0</td>\n",
       "      <td>804.0</td>\n",
       "      <td>933</td>\n",
       "      <td>129.0</td>\n",
       "      <td>Very Early Response</td>\n",
       "      <td>78211</td>\n",
       "    </tr>\n",
       "  </tbody>\n",
       "</table>\n",
       "</div>"
      ],
      "text/plain": [
       "         case_id  open_date   due_date closed_date is_late  \\\n",
       "1207  1012676462 2016-03-25 2020-11-05  2020-10-05      NO   \n",
       "2497  1014281655 2018-02-28 2018-07-09  2020-06-06     YES   \n",
       "2498  1014281665 2018-02-28 2018-07-09  2020-06-06     YES   \n",
       "2499  1014281677 2018-02-28 2018-07-09  2020-06-06     YES   \n",
       "2556  1014300321 2018-03-06 2020-09-24  2020-05-18      NO   \n",
       "\n",
       "                           dept call_reason  \\\n",
       "1207       Development Services   buildings   \n",
       "2497  Code Enforcement Services        code   \n",
       "2498  Code Enforcement Services        code   \n",
       "2499  Code Enforcement Services        code   \n",
       "2556       Development Services   buildings   \n",
       "\n",
       "                              case_type case_status  \\\n",
       "1207  Street Light Existing Res Sub Div      Closed   \n",
       "2497          Certificates of Occupancy      Closed   \n",
       "2498       Zoning: District Requirement      Closed   \n",
       "2499          Certificates of Occupancy      Closed   \n",
       "2556  Street Light Existing Res Sub Div      Closed   \n",
       "\n",
       "                       source_id                               address  \\\n",
       "1207            Constituent Call  1136  KAYTON AVE, San Antonio, 78210   \n",
       "2497  Internal Services Requests  5550  EASTERLING, San Antonio, 78251   \n",
       "2498  Internal Services Requests  5550  EASTERLING, San Antonio, 78251   \n",
       "2499  Internal Services Requests  5550  EASTERLING, San Antonio, 78251   \n",
       "2556            Constituent Call    1018  KING AVE, San Antonio, 78211   \n",
       "\n",
       "      council_district  longitude    latitude  days_open  resolution_days_due  \\\n",
       "1207                 3  2143337.0  13692343.0     1655.0                 1686   \n",
       "2497                 6  2067118.0  13723868.0      829.0                  131   \n",
       "2498                 6  2067118.0  13723868.0      829.0                  131   \n",
       "2499                 6  2067118.0  13723868.0      829.0                  131   \n",
       "2556                 4  2108015.0  13680344.0      804.0                  933   \n",
       "\n",
       "      days_before_or_after_due           level_of_delay zipcode  \n",
       "1207                      31.0           Early Response   78210  \n",
       "2497                    -698.0  Extremely Late Response   78251  \n",
       "2498                    -698.0  Extremely Late Response   78251  \n",
       "2499                    -698.0  Extremely Late Response   78251  \n",
       "2556                     129.0      Very Early Response   78211  "
      ]
     },
     "execution_count": 16,
     "metadata": {},
     "output_type": "execute_result"
    }
   ],
   "source": [
    "df = wrangle.clean_311(df)\n",
    "df.head()"
   ]
  },
  {
   "cell_type": "markdown",
   "metadata": {},
   "source": [
    "# Plan Out Explore"
   ]
  },
  {
   "cell_type": "markdown",
   "metadata": {},
   "source": [
    "## Questions we want to answer"
   ]
  },
  {
   "cell_type": "markdown",
   "metadata": {},
   "source": [
    "1. Is there a link to which form of reporting is responded to quickest and slowest?\n",
    "2. Is the average number of calls in an area affect the response time?\n",
    "3. Does the type of call in an area effect the level of delay? (Loose dog on the south side vs loose dog on the north side)\n",
    "4. Does the specific location effect the delay time?\n",
    "5. Does category/department affect response time?\n",
    "6. Is response time for issue X different between geographical location Y when compared to the average response time? (or other geographical location?)\n",
    "7. late_status and open_days by: zip code, department, source_id (Do different areas get better general service? Do different areas get better service depending on the department/issue?)Average resolution days due by: department, reason_type (Are different departments/issues expected to take longer?)\n",
    "8. Average resolution days due by: department, reason_type (Are different departments/issues expected to take longer?)\n",
    "9. Is there a difference in response time between districts?\n",
    "10. What months or quarters of the year have the higherst volumn of calls? Does this impact how fast they respond?"
   ]
  },
  {
   "cell_type": "markdown",
   "metadata": {},
   "source": [
    "### Lori's Questions\n",
    "1. Is there a link to which form of reporting is responded to quickest and slowest?\n",
    "3. Does the type of call in an area effect the level of delay? (Loose dog on the south side vs loose dog on the north side)"
   ]
  },
  {
   "cell_type": "markdown",
   "metadata": {},
   "source": [
    "### Gabby's Questions\n",
    "5. Does category/department affect response time?\n",
    "6. Is response time for issue X different between geographical location Y when compared to the average response time? (or other geographical location?)"
   ]
  },
  {
   "cell_type": "markdown",
   "metadata": {},
   "source": [
    "### Sam's Questions\n",
    "7. late_status and open_days by: zip code, department, source_id (Do different areas get better general service? Do different areas get better service depending on the department/issue?)Average resolution days due by: department, reason_type (Are different departments/issues expected to take longer?)\n",
    "8. Average resolution days due by: department, reason_type (Are different departments/issues expected to take longer?)"
   ]
  },
  {
   "cell_type": "markdown",
   "metadata": {},
   "source": [
    "### John's Questions\n",
    "9. Is there a difference in response time between districts?\n",
    "10. What months or quarters of the year have the higherst volumn of calls? Does this impact how fast they respond?"
   ]
  },
  {
   "cell_type": "markdown",
   "metadata": {},
   "source": [
    "### Caitlyn's Questions\n",
    "2. Is the average number of calls in an area affect the response time?\n",
    "4. Does the specific location effect the delay time?"
   ]
  },
  {
   "cell_type": "markdown",
   "metadata": {},
   "source": [
    "___"
   ]
  },
  {
   "cell_type": "markdown",
   "metadata": {},
   "source": [
    "# Start Exploring"
   ]
  },
  {
   "cell_type": "markdown",
   "metadata": {},
   "source": [
    "___"
   ]
  },
  {
   "cell_type": "markdown",
   "metadata": {},
   "source": [
    "## Is the average number of calls in an area affect the response time?"
   ]
  },
  {
   "cell_type": "markdown",
   "metadata": {},
   "source": [
    "### Game plan\n",
    "- Use the following features in this exploratory analysis\n",
    "    - zip code\n",
    "    - council district\n",
    "    - days_open\n",
    "    - resolution_days_due\n",
    "    - days_before_or_after_due\n",
    "    - level_of_delay\n",
    "- Look at the Univariate of each\n",
    "    - Jot down thoughts, questions, and take aways\n",
    "- Create bivariate plots seeing how each one plays into one anohter\n",
    "- Create multivariate  plots"
   ]
  },
  {
   "cell_type": "markdown",
   "metadata": {},
   "source": [
    "___"
   ]
  },
  {
   "cell_type": "markdown",
   "metadata": {},
   "source": [
    "## Univariate"
   ]
  },
  {
   "cell_type": "markdown",
   "metadata": {},
   "source": [
    "#### Zipcode"
   ]
  },
  {
   "cell_type": "code",
   "execution_count": null,
   "metadata": {},
   "outputs": [],
   "source": []
  },
  {
   "cell_type": "markdown",
   "metadata": {},
   "source": [
    "___"
   ]
  },
  {
   "cell_type": "markdown",
   "metadata": {},
   "source": [
    "#### Council District"
   ]
  },
  {
   "cell_type": "code",
   "execution_count": 4,
   "metadata": {},
   "outputs": [
    {
     "data": {
      "text/plain": [
       "<AxesSubplot:>"
      ]
     },
     "execution_count": 4,
     "metadata": {},
     "output_type": "execute_result"
    },
    {
     "data": {
      "image/png": "[encoded data removed]",
      "text/plain": [
       "<Figure size 864x432 with 1 Axes>"
      ]
     },
     "metadata": {
      "needs_background": "light"
     },
     "output_type": "display_data"
    }
   ],
   "source": [
    "plt.figure(figsize=(12,6))\n",
    "df['council_district'].value_counts().plot.bar(color='indianred', edgecolor='black')"
   ]
  },
  {
   "cell_type": "markdown",
   "metadata": {},
   "source": [
    "### Takwaways:\n",
    "- Districts 1, 2, 3, & 5 have higher reports\n",
    "- District 0 has nearly no reports in comparison to the others\n",
    "- 4, 6, 7, 8, 9, & 10 still have many reports but not as much as 1, 2, 3, and 5"
   ]
  },
  {
   "cell_type": "markdown",
   "metadata": {},
   "source": [
    "___"
   ]
  },
  {
   "cell_type": "markdown",
   "metadata": {},
   "source": [
    "#### Days Open"
   ]
  },
  {
   "cell_type": "code",
   "execution_count": 20,
   "metadata": {},
   "outputs": [
    {
     "name": "stderr",
     "output_type": "stream",
     "text": [
      "/usr/local/anaconda3/lib/python3.8/site-packages/seaborn/distributions.py:2551: FutureWarning: `distplot` is a deprecated function and will be removed in a future version. Please adapt your code to use either `displot` (a figure-level function with similar flexibility) or `histplot` (an axes-level function for histograms).\n",
      "  warnings.warn(msg, FutureWarning)\n"
     ]
    },
    {
     "data": {
      "text/plain": [
       "<AxesSubplot:xlabel='days_open', ylabel='Density'>"
      ]
     },
     "execution_count": 20,
     "metadata": {},
     "output_type": "execute_result"
    },
    {
     "data": {
      "image/png": "[encoded data removed]",
      "text/plain": [
       "<Figure size 1152x576 with 1 Axes>"
      ]
     },
     "metadata": {
      "needs_background": "light"
     },
     "output_type": "display_data"
    }
   ],
   "source": [
    "plt.figure(figsize=(16,8))\n",
    "sns.distplot(df.days_open)"
   ]
  },
  {
   "cell_type": "code",
   "execution_count": 6,
   "metadata": {},
   "outputs": [
    {
     "data": {
      "text/plain": [
       "(428871, 19)"
      ]
     },
     "execution_count": 6,
     "metadata": {},
     "output_type": "execute_result"
    }
   ],
   "source": [
    "df.shape"
   ]
  },
  {
   "cell_type": "code",
   "execution_count": 7,
   "metadata": {},
   "outputs": [
    {
     "data": {
      "text/plain": [
       "Early Response              323409\n",
       "On Time Response             59291\n",
       "Very Early Response          30855\n",
       "Late Response                10426\n",
       "Very Late Response            3609\n",
       "Extremely Late Response       1134\n",
       "Extremely Early Response       147\n",
       "Name: level_of_delay, dtype: int64"
      ]
     },
     "execution_count": 7,
     "metadata": {},
     "output_type": "execute_result"
    }
   ],
   "source": [
    "df.level_of_delay.value_counts()"
   ]
  },
  {
   "cell_type": "code",
   "execution_count": 17,
   "metadata": {},
   "outputs": [],
   "source": [
    "df = df[df.days_open < 1400]"
   ]
  },
  {
   "cell_type": "code",
   "execution_count": 18,
   "metadata": {},
   "outputs": [
    {
     "data": {
      "text/plain": [
       "(428870, 19)"
      ]
     },
     "execution_count": 18,
     "metadata": {},
     "output_type": "execute_result"
    }
   ],
   "source": [
    "df.shape"
   ]
  },
  {
   "cell_type": "code",
   "execution_count": 19,
   "metadata": {},
   "outputs": [
    {
     "data": {
      "text/plain": [
       "Early Response              323408\n",
       "On Time Response             59291\n",
       "Very Early Response          30855\n",
       "Late Response                10426\n",
       "Very Late Response            3609\n",
       "Extremely Late Response       1134\n",
       "Extremely Early Response       147\n",
       "Name: level_of_delay, dtype: int64"
      ]
     },
     "execution_count": 19,
     "metadata": {},
     "output_type": "execute_result"
    }
   ],
   "source": [
    "df.level_of_delay.value_counts()"
   ]
  },
  {
   "cell_type": "markdown",
   "metadata": {},
   "source": [
    "___"
   ]
  },
  {
   "cell_type": "markdown",
   "metadata": {},
   "source": [
    "#### Days Until Resolution is Due"
   ]
  },
  {
   "cell_type": "code",
   "execution_count": null,
   "metadata": {},
   "outputs": [],
   "source": []
  },
  {
   "cell_type": "code",
   "execution_count": null,
   "metadata": {},
   "outputs": [],
   "source": []
  },
  {
   "cell_type": "code",
   "execution_count": null,
   "metadata": {},
   "outputs": [],
   "source": []
  },
  {
   "cell_type": "markdown",
   "metadata": {},
   "source": [
    "___"
   ]
  },
  {
   "cell_type": "markdown",
   "metadata": {},
   "source": [
    "#### Days Before or After Due Date the Resolution was Made"
   ]
  },
  {
   "cell_type": "code",
   "execution_count": null,
   "metadata": {},
   "outputs": [],
   "source": []
  },
  {
   "cell_type": "code",
   "execution_count": null,
   "metadata": {},
   "outputs": [],
   "source": []
  },
  {
   "cell_type": "code",
   "execution_count": null,
   "metadata": {},
   "outputs": [],
   "source": []
  },
  {
   "cell_type": "code",
   "execution_count": null,
   "metadata": {},
   "outputs": [],
   "source": []
  },
  {
   "cell_type": "markdown",
   "metadata": {},
   "source": [
    "___"
   ]
  },
  {
   "cell_type": "code",
   "execution_count": 11,
   "metadata": {},
   "outputs": [
    {
     "name": "stdout",
     "output_type": "stream",
     "text": [
      "<class 'pandas.core.frame.DataFrame'>\n",
      "Int64Index: 428871 entries, 1207 to 495432\n",
      "Data columns (total 19 columns):\n",
      " #   Column                    Non-Null Count   Dtype         \n",
      "---  ------                    --------------   -----         \n",
      " 0   case_id                   428871 non-null  int64         \n",
      " 1   open_date                 428871 non-null  datetime64[ns]\n",
      " 2   due_date                  428871 non-null  datetime64[ns]\n",
      " 3   closed_date               428871 non-null  datetime64[ns]\n",
      " 4   is_late                   428871 non-null  object        \n",
      " 5   dept                      428871 non-null  object        \n",
      " 6   call_reason               428871 non-null  object        \n",
      " 7   case_type                 428871 non-null  object        \n",
      " 8   case_status               428871 non-null  object        \n",
      " 9   source_id                 428871 non-null  object        \n",
      " 10  address                   428871 non-null  object        \n",
      " 11  council_district          428871 non-null  int64         \n",
      " 12  longitude                 428871 non-null  float64       \n",
      " 13  latitude                  428871 non-null  float64       \n",
      " 14  days_open                 428871 non-null  float64       \n",
      " 15  resolution_days_due       428871 non-null  int64         \n",
      " 16  days_before_or_after_due  428871 non-null  float64       \n",
      " 17  level_of_delay            428871 non-null  category      \n",
      " 18  zipcode                   359052 non-null  object        \n",
      "dtypes: category(1), datetime64[ns](3), float64(4), int64(3), object(8)\n",
      "memory usage: 62.6+ MB\n"
     ]
    }
   ],
   "source": [
    "df.info()"
   ]
  },
  {
   "cell_type": "code",
   "execution_count": null,
   "metadata": {},
   "outputs": [],
   "source": []
  }
 ],
 "metadata": {
  "kernelspec": {
   "display_name": "Python 3",
   "language": "python",
   "name": "python3"
  },
  "language_info": {
   "codemirror_mode": {
    "name": "ipython",
    "version": 3
   },
   "file_extension": ".py",
   "mimetype": "text/x-python",
   "name": "python",
   "nbconvert_exporter": "python",
   "pygments_lexer": "ipython3",
   "version": "3.8.5"
  }
 },
 "nbformat": 4,
 "nbformat_minor": 4
}
