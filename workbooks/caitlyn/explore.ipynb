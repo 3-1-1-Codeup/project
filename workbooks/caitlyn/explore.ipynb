{
 "cells": [
  {
   "cell_type": "code",
   "execution_count": 7,
   "metadata": {},
   "outputs": [],
   "source": [
    "import pandas as pd\n",
    "import numpy as np\n",
    "\n",
    "import seaborn as sns\n",
    "import matplotlib.pyplot as plt\n",
    "\n",
    "import wrangle"
   ]
  },
  {
   "cell_type": "markdown",
   "metadata": {},
   "source": [
    "# Acquire"
   ]
  },
  {
   "cell_type": "code",
   "execution_count": 2,
   "metadata": {},
   "outputs": [],
   "source": [
    "df = pd.read_csv('allservicecalls.csv')"
   ]
  },
  {
   "cell_type": "markdown",
   "metadata": {},
   "source": [
    "# Prepare"
   ]
  },
  {
   "cell_type": "code",
   "execution_count": 3,
   "metadata": {},
   "outputs": [
    {
     "data": {
      "text/html": [
       "<div>\n",
       "<style scoped>\n",
       "    .dataframe tbody tr th:only-of-type {\n",
       "        vertical-align: middle;\n",
       "    }\n",
       "\n",
       "    .dataframe tbody tr th {\n",
       "        vertical-align: top;\n",
       "    }\n",
       "\n",
       "    .dataframe thead th {\n",
       "        text-align: right;\n",
       "    }\n",
       "</style>\n",
       "<table border=\"1\" class=\"dataframe\">\n",
       "  <thead>\n",
       "    <tr style=\"text-align: right;\">\n",
       "      <th></th>\n",
       "      <th>case_id</th>\n",
       "      <th>open_date</th>\n",
       "      <th>due_date</th>\n",
       "      <th>closed_date</th>\n",
       "      <th>is_late</th>\n",
       "      <th>dept</th>\n",
       "      <th>call_reason</th>\n",
       "      <th>case_type</th>\n",
       "      <th>case_status</th>\n",
       "      <th>source_id</th>\n",
       "      <th>address</th>\n",
       "      <th>council_district</th>\n",
       "      <th>longitude</th>\n",
       "      <th>latitude</th>\n",
       "      <th>days_open</th>\n",
       "      <th>resolution_days_due</th>\n",
       "      <th>days_before_or_after_due</th>\n",
       "      <th>level_of_delay</th>\n",
       "      <th>zipcode</th>\n",
       "    </tr>\n",
       "  </thead>\n",
       "  <tbody>\n",
       "    <tr>\n",
       "      <th>0</th>\n",
       "      <td>1010444245</td>\n",
       "      <td>2012-08-15</td>\n",
       "      <td>2012-08-30</td>\n",
       "      <td>NaT</td>\n",
       "      <td>YES</td>\n",
       "      <td>Code Enforcement Services</td>\n",
       "      <td>cleanup</td>\n",
       "      <td>Graffiti Public Property</td>\n",
       "      <td>Open</td>\n",
       "      <td>Web Portal</td>\n",
       "      <td>600  NOGALITOS ST, San Antonio, 78204</td>\n",
       "      <td>5</td>\n",
       "      <td>2125683.0</td>\n",
       "      <td>13695548.0</td>\n",
       "      <td>NaN</td>\n",
       "      <td>15</td>\n",
       "      <td>NaN</td>\n",
       "      <td>Still Open</td>\n",
       "      <td>78204</td>\n",
       "    </tr>\n",
       "    <tr>\n",
       "      <th>1</th>\n",
       "      <td>1010888252</td>\n",
       "      <td>2013-06-06</td>\n",
       "      <td>2013-08-09</td>\n",
       "      <td>NaT</td>\n",
       "      <td>YES</td>\n",
       "      <td>Code Enforcement Services</td>\n",
       "      <td>code</td>\n",
       "      <td>Alley-Way Maintenance</td>\n",
       "      <td>Open</td>\n",
       "      <td>Web Portal</td>\n",
       "      <td>6043  CASTLE QUEEN, San Antonio, 78218</td>\n",
       "      <td>2</td>\n",
       "      <td>2169702.0</td>\n",
       "      <td>13725769.0</td>\n",
       "      <td>NaN</td>\n",
       "      <td>64</td>\n",
       "      <td>NaN</td>\n",
       "      <td>Still Open</td>\n",
       "      <td>78218</td>\n",
       "    </tr>\n",
       "    <tr>\n",
       "      <th>2</th>\n",
       "      <td>1010966128</td>\n",
       "      <td>2013-07-19</td>\n",
       "      <td>2013-09-23</td>\n",
       "      <td>NaT</td>\n",
       "      <td>YES</td>\n",
       "      <td>Code Enforcement Services</td>\n",
       "      <td>code</td>\n",
       "      <td>Junk Vehicle On Private Property</td>\n",
       "      <td>Open</td>\n",
       "      <td>Web Portal</td>\n",
       "      <td>842  KIRK PL, San Antonio, 78226</td>\n",
       "      <td>5</td>\n",
       "      <td>2116192.0</td>\n",
       "      <td>13692260.0</td>\n",
       "      <td>NaN</td>\n",
       "      <td>66</td>\n",
       "      <td>NaN</td>\n",
       "      <td>Still Open</td>\n",
       "      <td>78226</td>\n",
       "    </tr>\n",
       "    <tr>\n",
       "      <th>3</th>\n",
       "      <td>1011052825</td>\n",
       "      <td>2013-09-16</td>\n",
       "      <td>2013-09-30</td>\n",
       "      <td>NaT</td>\n",
       "      <td>YES</td>\n",
       "      <td>Code Enforcement Services</td>\n",
       "      <td>code</td>\n",
       "      <td>Right Of Way/Sidewalk Obstruction</td>\n",
       "      <td>Open</td>\n",
       "      <td>Internal Services Requests</td>\n",
       "      <td>54  KENROCK RIDGE, San Antonio, 78254</td>\n",
       "      <td>7</td>\n",
       "      <td>2082242.0</td>\n",
       "      <td>13737817.0</td>\n",
       "      <td>NaN</td>\n",
       "      <td>14</td>\n",
       "      <td>NaN</td>\n",
       "      <td>Still Open</td>\n",
       "      <td>78254</td>\n",
       "    </tr>\n",
       "    <tr>\n",
       "      <th>4</th>\n",
       "      <td>1011052826</td>\n",
       "      <td>2013-09-16</td>\n",
       "      <td>2013-09-30</td>\n",
       "      <td>NaT</td>\n",
       "      <td>YES</td>\n",
       "      <td>Code Enforcement Services</td>\n",
       "      <td>code</td>\n",
       "      <td>Right Of Way/Sidewalk Obstruction</td>\n",
       "      <td>Open</td>\n",
       "      <td>Internal Services Requests</td>\n",
       "      <td>74  KENROCK RIDGE, San Antonio, 78254</td>\n",
       "      <td>7</td>\n",
       "      <td>2082389.0</td>\n",
       "      <td>13737877.0</td>\n",
       "      <td>NaN</td>\n",
       "      <td>14</td>\n",
       "      <td>NaN</td>\n",
       "      <td>Still Open</td>\n",
       "      <td>78254</td>\n",
       "    </tr>\n",
       "  </tbody>\n",
       "</table>\n",
       "</div>"
      ],
      "text/plain": [
       "      case_id  open_date   due_date closed_date is_late  \\\n",
       "0  1010444245 2012-08-15 2012-08-30         NaT     YES   \n",
       "1  1010888252 2013-06-06 2013-08-09         NaT     YES   \n",
       "2  1010966128 2013-07-19 2013-09-23         NaT     YES   \n",
       "3  1011052825 2013-09-16 2013-09-30         NaT     YES   \n",
       "4  1011052826 2013-09-16 2013-09-30         NaT     YES   \n",
       "\n",
       "                        dept call_reason                          case_type  \\\n",
       "0  Code Enforcement Services     cleanup           Graffiti Public Property   \n",
       "1  Code Enforcement Services        code              Alley-Way Maintenance   \n",
       "2  Code Enforcement Services        code   Junk Vehicle On Private Property   \n",
       "3  Code Enforcement Services        code  Right Of Way/Sidewalk Obstruction   \n",
       "4  Code Enforcement Services        code  Right Of Way/Sidewalk Obstruction   \n",
       "\n",
       "  case_status                   source_id  \\\n",
       "0        Open                  Web Portal   \n",
       "1        Open                  Web Portal   \n",
       "2        Open                  Web Portal   \n",
       "3        Open  Internal Services Requests   \n",
       "4        Open  Internal Services Requests   \n",
       "\n",
       "                                  address  council_district  longitude  \\\n",
       "0   600  NOGALITOS ST, San Antonio, 78204                 5  2125683.0   \n",
       "1  6043  CASTLE QUEEN, San Antonio, 78218                 2  2169702.0   \n",
       "2        842  KIRK PL, San Antonio, 78226                 5  2116192.0   \n",
       "3   54  KENROCK RIDGE, San Antonio, 78254                 7  2082242.0   \n",
       "4   74  KENROCK RIDGE, San Antonio, 78254                 7  2082389.0   \n",
       "\n",
       "     latitude  days_open  resolution_days_due  days_before_or_after_due  \\\n",
       "0  13695548.0        NaN                   15                       NaN   \n",
       "1  13725769.0        NaN                   64                       NaN   \n",
       "2  13692260.0        NaN                   66                       NaN   \n",
       "3  13737817.0        NaN                   14                       NaN   \n",
       "4  13737877.0        NaN                   14                       NaN   \n",
       "\n",
       "  level_of_delay zipcode  \n",
       "0     Still Open   78204  \n",
       "1     Still Open   78218  \n",
       "2     Still Open   78226  \n",
       "3     Still Open   78254  \n",
       "4     Still Open   78254  "
      ]
     },
     "execution_count": 3,
     "metadata": {},
     "output_type": "execute_result"
    }
   ],
   "source": [
    "df = wrangle.clean_311(df)\n",
    "df.head()"
   ]
  },
  {
   "cell_type": "markdown",
   "metadata": {},
   "source": [
    "# Plan Out Explore"
   ]
  },
  {
   "cell_type": "markdown",
   "metadata": {},
   "source": [
    "## Questions we want to answer"
   ]
  },
  {
   "cell_type": "markdown",
   "metadata": {},
   "source": [
    "1. Is there a link to which form of reporting is responded to quickest and slowest?\n",
    "2. Is the average number of calls in an area affect the response time?\n",
    "3. Does the type of call in an area effect the level of delay? (Loose dog on the south side vs loose dog on the north side)\n",
    "4. Does the specific location effect the delay time?\n",
    "5. Does category/department affect response time?\n",
    "6. Is response time for issue X different between geographical location Y when compared to the average response time? (or other geographical location?)\n",
    "7. late_status and open_days by: zip code, department, source_id (Do different areas get better general service? Do different areas get better service depending on the department/issue?)Average resolution days due by: department, reason_type (Are different departments/issues expected to take longer?)\n",
    "8. Average resolution days due by: department, reason_type (Are different departments/issues expected to take longer?)\n",
    "9. Is there a difference in response time between districts?\n",
    "10. What months or quarters of the year have the higherst volumn of calls? Does this impact how fast they respond?"
   ]
  },
  {
   "cell_type": "markdown",
   "metadata": {},
   "source": [
    "### Lori's Questions\n",
    "1. Is there a link to which form of reporting is responded to quickest and slowest?\n",
    "3. Does the type of call in an area effect the level of delay? (Loose dog on the south side vs loose dog on the north side)"
   ]
  },
  {
   "cell_type": "markdown",
   "metadata": {},
   "source": [
    "### Gabby's Questions\n",
    "5. Does category/department affect response time?\n",
    "6. Is response time for issue X different between geographical location Y when compared to the average response time? (or other geographical location?)"
   ]
  },
  {
   "cell_type": "markdown",
   "metadata": {},
   "source": [
    "### Sam's Questions\n",
    "7. late_status and open_days by: zip code, department, source_id (Do different areas get better general service? Do different areas get better service depending on the department/issue?)Average resolution days due by: department, reason_type (Are different departments/issues expected to take longer?)\n",
    "8. Average resolution days due by: department, reason_type (Are different departments/issues expected to take longer?)"
   ]
  },
  {
   "cell_type": "markdown",
   "metadata": {},
   "source": [
    "### John's Questions\n",
    "9. Is there a difference in response time between districts?\n",
    "10. What months or quarters of the year have the higherst volumn of calls? Does this impact how fast they respond?"
   ]
  },
  {
   "cell_type": "markdown",
   "metadata": {},
   "source": [
    "### Caitlyn's Questions\n",
    "2. Is the average number of calls in an area affect the response time?\n",
    "4. Does the specific location effect the delay time?"
   ]
  },
  {
   "cell_type": "markdown",
   "metadata": {},
   "source": [
    "___"
   ]
  },
  {
   "cell_type": "markdown",
   "metadata": {},
   "source": [
    "# Start Exploring"
   ]
  },
  {
   "cell_type": "markdown",
   "metadata": {},
   "source": [
    "___"
   ]
  },
  {
   "cell_type": "markdown",
   "metadata": {},
   "source": [
    "## Is the average number of calls in an area affect the response time?"
   ]
  },
  {
   "cell_type": "markdown",
   "metadata": {},
   "source": [
    "### Game plan\n",
    "- Use the following features in this exploratory analysis\n",
    "    - zip code\n",
    "    - council district\n",
    "    - days_open\n",
    "    - resolution_days_due\n",
    "    - days_before_or_after_due\n",
    "    - level_of_delay\n",
    "- Look at the Univariate of each\n",
    "    - Jot down thoughts, questions, and take aways\n",
    "- Create bivariate plots seeing how each one plays into one anohter\n",
    "- Create multivariate  plots"
   ]
  },
  {
   "cell_type": "markdown",
   "metadata": {},
   "source": [
    "___"
   ]
  },
  {
   "cell_type": "markdown",
   "metadata": {},
   "source": [
    "## Univariate"
   ]
  },
  {
   "cell_type": "markdown",
   "metadata": {},
   "source": [
    "#### Zipcode"
   ]
  },
  {
   "cell_type": "code",
   "execution_count": null,
   "metadata": {},
   "outputs": [],
   "source": []
  },
  {
   "cell_type": "markdown",
   "metadata": {},
   "source": [
    "___"
   ]
  },
  {
   "cell_type": "markdown",
   "metadata": {},
   "source": [
    "#### Council District"
   ]
  },
  {
   "cell_type": "code",
   "execution_count": 51,
   "metadata": {},
   "outputs": [
    {
     "data": {
      "text/plain": [
       "<AxesSubplot:>"
      ]
     },
     "execution_count": 51,
     "metadata": {},
     "output_type": "execute_result"
    },
    {
     "data": {
      "image/png": "[encoded data removed]",
      "text/plain": [
       "<Figure size 432x288 with 1 Axes>"
      ]
     },
     "metadata": {
      "needs_background": "light"
     },
     "output_type": "display_data"
    }
   ],
   "source": [
    "df['council_district'].value_counts().plot.bar(color='indianred', edgecolor='black')"
   ]
  },
  {
   "cell_type": "code",
   "execution_count": 41,
   "metadata": {},
   "outputs": [
    {
     "data": {
      "image/png": "[encoded data removed]",
      "text/plain": [
       "<Figure size 864x432 with 1 Axes>"
      ]
     },
     "metadata": {
      "needs_background": "light"
     },
     "output_type": "display_data"
    }
   ],
   "source": [
    "plt.figure(figsize=(12,6))\n",
    "sns.histplot(df.council_district, color='indianred', edgecolor='black')\n",
    "plt.show()"
   ]
  },
  {
   "cell_type": "code",
   "execution_count": 48,
   "metadata": {},
   "outputs": [
    {
     "name": "stderr",
     "output_type": "stream",
     "text": [
      "/usr/local/anaconda3/lib/python3.8/site-packages/seaborn/_decorators.py:36: FutureWarning: Pass the following variable as a keyword arg: x. From version 0.12, the only valid positional argument will be `data`, and passing other arguments without an explicit keyword will result in an error or misinterpretation.\n",
      "  warnings.warn(\n"
     ]
    },
    {
     "data": {
      "image/png": "[encoded data removed]",
      "text/plain": [
       "<Figure size 864x432 with 1 Axes>"
      ]
     },
     "metadata": {
      "needs_background": "light"
     },
     "output_type": "display_data"
    }
   ],
   "source": [
    "plt.figure(figsize=(12,6))\n",
    "sns.lineplot(df.council_district, color='indianred')\n",
    "plt.show()"
   ]
  },
  {
   "cell_type": "markdown",
   "metadata": {},
   "source": [
    "___"
   ]
  },
  {
   "cell_type": "markdown",
   "metadata": {},
   "source": [
    "#### Days Open"
   ]
  },
  {
   "cell_type": "code",
   "execution_count": null,
   "metadata": {},
   "outputs": [],
   "source": []
  },
  {
   "cell_type": "code",
   "execution_count": null,
   "metadata": {},
   "outputs": [],
   "source": []
  },
  {
   "cell_type": "code",
   "execution_count": null,
   "metadata": {},
   "outputs": [],
   "source": []
  },
  {
   "cell_type": "markdown",
   "metadata": {},
   "source": [
    "___"
   ]
  },
  {
   "cell_type": "markdown",
   "metadata": {},
   "source": [
    "#### Days Until Resolution is Due"
   ]
  },
  {
   "cell_type": "code",
   "execution_count": null,
   "metadata": {},
   "outputs": [],
   "source": []
  },
  {
   "cell_type": "code",
   "execution_count": null,
   "metadata": {},
   "outputs": [],
   "source": []
  },
  {
   "cell_type": "code",
   "execution_count": null,
   "metadata": {},
   "outputs": [],
   "source": []
  },
  {
   "cell_type": "markdown",
   "metadata": {},
   "source": [
    "___"
   ]
  },
  {
   "cell_type": "markdown",
   "metadata": {},
   "source": [
    "#### Days Before or After Due Date the Resolution was Made"
   ]
  },
  {
   "cell_type": "code",
   "execution_count": null,
   "metadata": {},
   "outputs": [],
   "source": []
  },
  {
   "cell_type": "code",
   "execution_count": null,
   "metadata": {},
   "outputs": [],
   "source": []
  },
  {
   "cell_type": "code",
   "execution_count": null,
   "metadata": {},
   "outputs": [],
   "source": []
  },
  {
   "cell_type": "code",
   "execution_count": null,
   "metadata": {},
   "outputs": [],
   "source": []
  },
  {
   "cell_type": "markdown",
   "metadata": {},
   "source": [
    "___"
   ]
  },
  {
   "cell_type": "code",
   "execution_count": 5,
   "metadata": {},
   "outputs": [
    {
     "name": "stdout",
     "output_type": "stream",
     "text": [
      "<class 'pandas.core.frame.DataFrame'>\n",
      "Int64Index: 481205 entries, 0 to 495439\n",
      "Data columns (total 19 columns):\n",
      " #   Column                    Non-Null Count   Dtype         \n",
      "---  ------                    --------------   -----         \n",
      " 0   case_id                   481205 non-null  int64         \n",
      " 1   open_date                 481205 non-null  datetime64[ns]\n",
      " 2   due_date                  481205 non-null  datetime64[ns]\n",
      " 3   closed_date               431696 non-null  datetime64[ns]\n",
      " 4   is_late                   481205 non-null  object        \n",
      " 5   dept                      481205 non-null  object        \n",
      " 6   call_reason               481205 non-null  object        \n",
      " 7   case_type                 481205 non-null  object        \n",
      " 8   case_status               481205 non-null  object        \n",
      " 9   source_id                 481205 non-null  object        \n",
      " 10  address                   481205 non-null  object        \n",
      " 11  council_district          481205 non-null  int64         \n",
      " 12  longitude                 481205 non-null  float64       \n",
      " 13  latitude                  481205 non-null  float64       \n",
      " 14  days_open                 431696 non-null  float64       \n",
      " 15  resolution_days_due       481205 non-null  int64         \n",
      " 16  days_before_or_after_due  431696 non-null  float64       \n",
      " 17  level_of_delay            481205 non-null  category      \n",
      " 18  zipcode                   405139 non-null  object        \n",
      "dtypes: category(1), datetime64[ns](3), float64(4), int64(3), object(8)\n",
      "memory usage: 70.2+ MB\n"
     ]
    }
   ],
   "source": [
    "df.info()"
   ]
  },
  {
   "cell_type": "code",
   "execution_count": null,
   "metadata": {},
   "outputs": [],
   "source": []
  }
 ],
 "metadata": {
  "kernelspec": {
   "display_name": "Python 3",
   "language": "python",
   "name": "python3"
  },
  "language_info": {
   "codemirror_mode": {
    "name": "ipython",
    "version": 3
   },
   "file_extension": ".py",
   "mimetype": "text/x-python",
   "name": "python",
   "nbconvert_exporter": "python",
   "pygments_lexer": "ipython3",
   "version": "3.8.5"
  }
 },
 "nbformat": 4,
 "nbformat_minor": 4
}
